{
 "cells": [
  {
   "cell_type": "markdown",
   "metadata": {},
   "source": [
    "# Oracles Tutorial\n",
    "\n",
    "1) Motivation of the tutorial\n",
    "\n",
    "2) Outline of the tutorial and what it sets out to accomplish\n",
    "\n",
    "    Definitions of Quantum Oracles, including types of oracles\n",
    "    \n",
    "    Mathematical properties of Quantum Oracles\n",
    "    https://github.com/microsoft/QuantumKatas/tree/main/tutorials/LinearAlgebra\n",
    "    \n",
    "    Demos of different quantum oracles\n",
    "    \n",
    "    phase kickback:\n",
    "    https://quantumcomputing.stackexchange.com/questions/14206/should-c-not-gate-affect-input-qubit-or-not/14207#14207\n",
    "    https://qiskit.org/textbook/ch-gates/phase-kickback.html\n",
    "    \n",
    "    Exercises to implement your own quantum oracles\n",
    "    \n",
    "    Final exercise to implement a more complex oracle as well as write tests for that oracle\n",
    "    \n",
    "3) Suggested tutorials or topics to be completed or familiar with before this tutorial – The Qubit (Tutorial), Linear Algebra (Tutorial), Basic Quantum Computing Gates (Tutorial), Superposition\n"
   ]
  },
  {
   "cell_type": "markdown",
   "metadata": {},
   "source": [
    "# Part I - Introduction to Quantum Oracles\n",
    "\n",
    "## Classical Oracles\n",
    "In classical computing, the idea of white box versus black box testing is leveraged.  In white box testing, the implementation of the function, say to factor a number, is visable to the tester.  Thus the tester can test specific expectaions such as runtime or memory complexity.  However, in black box testing, the tester can only test the functionality and expected behavior of the function - the implementation has been abstracted away.\n",
    "\n",
    "Generally, most functions and data structures that we use while programming are a black box in our eyes - we are not worried with how an linked list is implemented, we only care about the functionality that it provides.  \n",
    "\n",
    "Suppose I provided you the following function:\n",
    "the function takes two parameters as input, two lists, where these lists represent the availability during the week of two different employees at a company.  The function returns if true if there is a day (Monday, Tuesday, Wednesday, Thursday, or Friday) for which they are both free and could schedule a meeting, if no such date exists then the function returns false.\n",
    "\n",
    "The previous proposition is an example of a **classical oracle** because when interacting with this function, you are not worried with *how* the function determines the answer, you only care about *what* the answer is when provided a specific input.\n",
    "\n",
    "Formally, a **classical oracle** is a function for which when provided some input, it produces a specific *deterministic* output.  Hence the same input *always* results in the same output.\n",
    "\n",
    "#### <span style=\"color:blue\">Exercise 1</span>: Implement a classical oracle\n",
    "Implement the following classical oracle:\n",
    "* f(x) = 1 (True) if x = 7\n",
    "* f(x) = 0 (False) otherwise\n",
    "* provided that x is a binary string. Note, $x = 0101 = 5$, $x = 0110 = 6$, $x = 10001 = 17$"
   ]
  },
  {
   "cell_type": "code",
   "execution_count": 1,
   "metadata": {},
   "outputs": [
    {
     "data": {
      "application/json": "\"Success!\"",
      "text/plain": [
       "Success!"
      ]
     },
     "execution_count": 1,
     "metadata": {},
     "output_type": "execute_result"
    }
   ],
   "source": [
    "%kata E1_Classical_Oracle\n",
    "\n",
    "function Is_Seven(x : String) : Bool {\n",
    "    // ...\n",
    "    return false;\n",
    "}"
   ]
  },
  {
   "cell_type": "markdown",
   "metadata": {},
   "source": [
    "## Quantum Oracles\n",
    "\n",
    "An oracle in the quantum world is a black box operation that is utilized during an algorithm.  These **quantum oracles** are passed as input to quantum algorithms and they themselves require inputs to operate on.  A quantum oracle implements some function $f: \\{0,1\\}^n \\rightarrow \\{0,1\\}^m$ where $x$ is the input state of the form $|x\\rangle = |x_0\\rangle \\otimes |x_1\\rangle \\otimes ... \\otimes |x_{n-1}\\rangle$ There are two types of quantum oracles: phase oracles and marking oracles.  Each of these types oracles are defined based on their operations on their basis states, where these basis states are always $|0\\rangle$ and $|1\\rangle$.  Oracles must be unitary as well as not change the input if that input is a basis state of the oracle.  Oracles also follow the same rules of linear algebra as normal matricies as they themselves are matricies, refer to the intro to review some of the properties of quantum operators (matricies).\n",
    "\n",
    "### Phase Oracles\n",
    "A phase oracle $U_{phase}$ is an oracle that when provided some state $|x\\rangle$ it flips the sign of that state if $f(x)=1$.  Thus:\n",
    "\n",
    "$$U_{phase} |x\\rangle = (-1)^{f(|x\\rangle)}|x\\rangle$$\n",
    "\n",
    "#### <span style=\"color:blue\">Demo 1</span>: Simple phase quantum oracle - the AND oracle!\n",
    "Consider the following phase oracle $U_{AND,phase}$:\n",
    "* $U_{AND,phase} |x\\rangle = (-1)^{f(x)}|x\\rangle$\n",
    "* $f(x) = 1$ if $|x\\rangle = |111\\rangle$\n",
    "* $f(x) = 0$ otherwise\n",
    "* $|x\\rangle$ is composed of 3 qubits\n"
   ]
  },
  {
   "cell_type": "code",
   "execution_count": null,
   "metadata": {},
   "outputs": [],
   "source": [
    "open Microsoft.Quantum.Canon;\n",
    "open Microsoft.Quantum.Intrinsic;\n",
    "open Microsoft.Quantum.Diagnostics;\n",
    "\n",
    "operation PhaseOracle_Demo () : Unit {\n",
    "    let divider = \"--------------------------------------------------------------------------------------------------\";\n",
    "\n",
    "    // allocate the |000⟩ state\n",
    "    using(q = Qubit[3]) { \n",
    "        // Print out that we currently have the |000⟩ state\n",
    "        // Notice that the phase of the state is positive\n",
    "        Message(\"State |000⟩:\");\n",
    "        DumpMachine();\n",
    "        Message(divider);\n",
    "\n",
    "        // Convet the state to represet the number 4\n",
    "        X(q[2]);\n",
    "\n",
    "        // Print out that we currently have the |100⟩ state\n",
    "        // Notice that the phase of the state is positive\n",
    "        Message(\"State |100⟩:\");\n",
    "        DumpMachine();\n",
    "        Message(divider);\n",
    "\n",
    "        // Apply the AND phase oracle to to the state\n",
    "        using(minus = Qubit()) {\n",
    "            X(minus);\n",
    "            Controlled Z(q, minus);\n",
    "            Reset(minus);\n",
    "        }\n",
    "        // Print out that we currently have the |100⟩ state\n",
    "        // Notice that the phase of the state is still positive\n",
    "        Message(\"State |100⟩ after AND phase oracle:\");\n",
    "        DumpMachine();\n",
    "        Message(divider);\n",
    "\n",
    "        // Now lets switch to the state where f(x) = 1\n",
    "        X(q[1]);\n",
    "        X(q[0]);\n",
    "\n",
    "        // Print out that we currently have the |111⟩ state\n",
    "        // Notice that the phase of the state is positive\n",
    "        Message(\"State |111⟩:\");\n",
    "        DumpMachine();\n",
    "        Message(divider);\n",
    "\n",
    "        // Let us apply the AND phase oracle\n",
    "        using(minus = Qubit()) {\n",
    "            X(minus);\n",
    "            Controlled Z(q, minus);\n",
    "            Reset(minus);\n",
    "        }\n",
    "        // Print out that we currently have the |111⟩ state\n",
    "        // Notice that the phase of the state is now negative\n",
    "        Message(\"State |111⟩ after AND phase oracle:\");\n",
    "        DumpMachine();\n",
    "        Message(divider);\n",
    "        \n",
    "        // Return all of the qubits back to |0⟩ so they can be deallocated safely\n",
    "        ResetAll(q);\n",
    "    }\n",
    "}"
   ]
  },
  {
   "cell_type": "code",
   "execution_count": null,
   "metadata": {
    "scrolled": false
   },
   "outputs": [],
   "source": [
    "%simulate PhaseOracle_Demo"
   ]
  },
  {
   "cell_type": "markdown",
   "metadata": {},
   "source": [
    "Now you will implement the same classical oracle that you implemented in <span style=\"color:blue\">Exercise 1</span> as a quantum phase oracle.\n",
    "\n",
    "#### <span style=\"color:blue\">Exercise 2</span>: Implement a phase quantum oracle\n",
    "Implement the following quantum oracle $U_{7,phase}$:\n",
    "* $U_{7,phase} |x\\rangle = (-1)^{f(x)}|x\\rangle$\n",
    "* $f(x) = 1$ if $x = 7$\n",
    "* $f(x) = 0$ otherwise\n",
    "* $|x\\rangle$ is a state composted of $3$ qubits\n",
    "\n",
    "<br/>\n",
    "<details>\n",
    "  <summary><b>Need a hint? Click here</b></summary>\n",
    "  What internal state can you prepare such that $X|\\psi\\rangle = -|\\psi\\rangle$ or $Z|\\psi\\rangle = -|\\psi\\rangle$?  Finally use this internal state to flip the sign of the input state $|x\\rangle$.\n",
    "</details>"
   ]
  },
  {
   "cell_type": "code",
   "execution_count": 2,
   "metadata": {},
   "outputs": [
    {
     "name": "stderr",
     "output_type": "stream",
     "text": [
      "C:\\snippet_.qs(1,1): error QS3001: Syntax does not match any known patterns.\r\n"
     ]
    }
   ],
   "source": [
    "%kata E2_Phase_Quantum_Oracle \n",
    "\n",
    "operation Phase_7_Oracle (x : Qubit[]) : Unit \n",
    "is Adj {\n",
    "    // ...\n",
    "}"
   ]
  },
  {
   "cell_type": "markdown",
   "metadata": {},
   "source": [
    "#### Mathematical properties\n",
    "\n",
    "Consider how the oracle from <span style=\"color:blue\">Exercise 2</span> acts on its basis states:\n",
    "$$U_{7,phase} |111\\rangle = -|111\\rangle$$\n",
    "$$U_{7,phase} |110\\rangle = |110\\rangle$$\n",
    "\n",
    "This follows the requirement that a $U_{7,phase}$ does not change the input if it's a basis state as well as the fact that $U_{7,phase}$ does not change the norm of the state ($U_{7,phase}$ is unitary).  However, consider if we were provided a state in superposition instead, what might that look like?\n",
    "\n",
    "Suppose that $|\\beta\\rangle$ is an equal super position of the $6$ and $7$ state: \n",
    "$$|\\beta\\rangle = \\frac{1}{\\sqrt{2}} \\big(|110\\rangle + |111\\rangle\\big) = |11\\rangle \\otimes \\frac{1}{\\sqrt{2}} \\big(|0\\rangle + |1\\rangle\\big) = |11\\rangle \\otimes |+\\rangle = |11+\\rangle$$\n",
    "\n",
    "Lets consider how our operator acts on this new state:\n",
    "$$U_{7,phase} |\\beta\\rangle = U_{7,phase} \\Big[\\frac{1}{\\sqrt{2}} \\big(|110\\rangle + |111\\rangle\\big)\\Big] = \\frac{1}{\\sqrt{2}} \\big(U_{7,phase} |110\\rangle + U_{7,phase} |111\\rangle\\big) = \\frac{1}{\\sqrt{2}} \\big(|110\\rangle - |111\\rangle\\big) := |\\gamma\\rangle$$\n",
    "\n",
    "Now the question is if our input state was modified during this operation, lets simplify $|\\gamma\\rangle$:\n",
    "$$|\\gamma\\rangle = \\frac{1}{\\sqrt{2}} \\big(|110\\rangle - |111\\rangle\\big) = |11\\rangle \\otimes \\frac{1}{\\sqrt{2}} \\big(|0\\rangle - |1\\rangle\\big) = |11\\rangle \\otimes |-\\rangle = |11-\\rangle \\neq |\\beta\\rangle$$\n",
    "\n",
    "Here we see that the oracle modifies the input.  This is conditioned on the input state being a *superposition* of the basis states of the oracle - as a phase oracle will only modify the sign of its basis states.\n",
    "\n",
    "> It is also worth noting that while the oracle modified the input when provided a superposition state, it did *not* modify the norm of that state.  As an exercise, you can verify this yourself by taking the norm of $|\\beta\\rangle$ and $|\\gamma\\rangle$, which both will result in a value of $1$.\n",
    ">\n",
    ">\n",
    "> As another exercise, consider how you could distinguish between the input and output state programatrically?  Is there an operation that you could apply to the initial state $|\\beta\\rangle$ and the final state $|\\gamma\\rangle$ to show that the two states are not equivalent?\n"
   ]
  },
  {
   "cell_type": "markdown",
   "metadata": {},
   "source": [
    "### Marking Oracles\n",
    "\n",
    "A marking oracle $U_{mark}$ is an oracle that when provided some state $|x\\rangle$ and some qubit $y$ preforms addition modulo 2 between $f(x)$ and $y$.  Hence $U_{mark}$ is an operator that preforms the following operation:\n",
    "\n",
    "$$U_{mark}|x\\rangle |y\\rangle = U_{mark}\\big(|x\\rangle \\otimes |y\\rangle\\big) = |x\\rangle \\otimes |y \\oplus f(x)\\rangle = |x\\rangle |y \\oplus f(x)\\rangle$$\n",
    "\n",
    "#### <span style=\"color:blue\">Demo 2</span>: Simple marking quantum oracle - the AND oracle!\n",
    "Consider the following marking oracle $U_{AND,mark}$:\n",
    "* $U_{AND,mark} |x\\rangle|y\\rangle = |x\\rangle|y\\oplus f(x)\\rangle$\n",
    "* $f(x) = 1$ if $x = |11...1\\rangle$\n",
    "* $f(x) = 0$ otherwise\n",
    "* $|x\\rangle$ is a state composted of $3$ qubits\n",
    "* $|y\\rangle$ is a single qubit\n"
   ]
  },
  {
   "cell_type": "code",
   "execution_count": 3,
   "metadata": {},
   "outputs": [
    {
     "data": {
      "application/json": "[\"SimpleMarkingOracle_Demo\"]",
      "text/html": [
       "<ul><li>SimpleMarkingOracle_Demo</li></ul>"
      ],
      "text/plain": [
       "SimpleMarkingOracle_Demo"
      ]
     },
     "execution_count": 3,
     "metadata": {},
     "output_type": "execute_result"
    }
   ],
   "source": [
    "open Microsoft.Quantum.Canon;\n",
    "open Microsoft.Quantum.Intrinsic;\n",
    "open Microsoft.Quantum.Diagnostics;\n",
    "\n",
    "operation SimpleMarkingOracle_Demo() : Unit {\n",
    "    let divider = \"--------------------------------------------------------------------------------------------------\";\n",
    "\n",
    "    // allocate |y⟩\n",
    "    using (y = Qubit()) {\n",
    "        // Lets see the initial state of |y⟩\n",
    "        Message(\"Initial |y⟩:\");\n",
    "        DumpMachine();\n",
    "        Message(divider);\n",
    "        \n",
    "        // Lets see the result of feeding |000⟩ into our AND marking oracle with |y⟩ = |0⟩\n",
    "        using (x = Qubit[3]) {\n",
    "            Controlled X(x, y);\n",
    "        }\n",
    "        Message(\"Applying the AND oracle with |x⟩ = |000⟩, |y⟩ = |0⟩:\");\n",
    "        DumpMachine();\n",
    "        Message(divider);\n",
    "        \n",
    "        // Lets see the result of feeding |100⟩ into our AND marking oracle with |y⟩ = |0⟩\n",
    "        using (x = Qubit[3]) {\n",
    "            X(x[2]);\n",
    "            Controlled X(x, y);\n",
    "            ResetAll(x);\n",
    "        }\n",
    "        Message(\"Applying the AND oracle with |x⟩ = |100⟩, |y⟩ = |0⟩:\");\n",
    "        DumpMachine();\n",
    "        Message(divider);\n",
    "        \n",
    "        // Lets see the result of feeding |111⟩ into our AND marking oracle with |y⟩ = |0⟩\n",
    "        using (x = Qubit[3]) {\n",
    "            X(x[0]);\n",
    "            X(x[1]);\n",
    "            X(x[2]);\n",
    "            Controlled X(x, y);\n",
    "            ResetAll(x);\n",
    "        }\n",
    "        Message(\"Applying the AND oracle with |x⟩ = |111⟩, |y⟩ = |0⟩:\");\n",
    "        DumpMachine();\n",
    "        Message(divider);\n",
    "        \n",
    "        // Lets see the result of feeding |011⟩ into our AND marking oracle with |y⟩ = |1⟩\n",
    "        using (x = Qubit[3]) {\n",
    "            X(x[0]);\n",
    "            X(x[1]);\n",
    "            Controlled X(x, y);\n",
    "            ResetAll(x);\n",
    "        }\n",
    "        Message(\"Applying the AND oracle with |x⟩ = |011⟩, |y⟩ = |1⟩:\");\n",
    "        DumpMachine();\n",
    "        Message(divider);\n",
    "        \n",
    "        Reset(y);\n",
    "    }\n",
    "}"
   ]
  },
  {
   "cell_type": "code",
   "execution_count": 4,
   "metadata": {},
   "outputs": [
    {
     "name": "stdout",
     "output_type": "stream",
     "text": [
      "Initial |y⟩:\r\n"
     ]
    },
    {
     "data": {
      "application/json": "{\"div_id\":\"dump-machine-div-4e10b534-6547-4200-bdae-c945f8dcb264\",\"qubit_ids\":[0],\"n_qubits\":1,\"amplitudes\":[{\"Real\":1.0,\"Imaginary\":0.0,\"Magnitude\":1.0,\"Phase\":0.0},{\"Real\":0.0,\"Imaginary\":0.0,\"Magnitude\":0.0,\"Phase\":0.0}]}",
      "text/html": [
       "\r\n",
       "                    <table style=\"table-layout: fixed; width: 100%\">\r\n",
       "                        <thead>\r\n",
       "                            \r\n",
       "                        <tr>\r\n",
       "                            <th>Qubit IDs</th>\r\n",
       "                            <td span=\"3\">0</td>\r\n",
       "                        </tr>\r\n",
       "                    \r\n",
       "                            <tr>\r\n",
       "                                <th style=\"width: 20ch)\">Basis state (little endian)</th>\r\n",
       "                                <th style=\"width: 20ch\">Amplitude</th><th style=\"width: calc(100% - 26ch - 20ch)\">Meas. Pr.</th><th style=\"width: 6ch\">Phase</th>\r\n",
       "                            </tr>\r\n",
       "                        </thead>\r\n",
       "                        <tbody>\r\n",
       "                        \r\n",
       "                            <tr>\r\n",
       "                                <td>$\\left|0\\right\\rangle$</td>\r\n",
       "                                <td>$1.0000 + 0.0000 i$</td>\r\n",
       "                                \r\n",
       "                                <td>\r\n",
       "                                    <progress\r\n",
       "                                        max=\"100\"\r\n",
       "                                        value=\"100\"\r\n",
       "                                        style=\"width: 100%;\"\r\n",
       "                                    > \r\n",
       "                                    <td>\r\n",
       "                                    <p id=\"round-6d15a1ca-844b-4b88-832c-de85a0d9d28b\"> \r\n",
       "                                    <script>\r\n",
       "                                    var num = 100;\r\n",
       "                                    num = num.toFixed(4);\r\n",
       "                                    var num_string = num + \"%\";\r\n",
       "                                     document.getElementById(\"round-6d15a1ca-844b-4b88-832c-de85a0d9d28b\").innerHTML = num_string;\r\n",
       "                                    </script> </p>\r\n",
       "                                    </td>\r\n",
       "                                </td>\r\n",
       "                            \r\n",
       "                                \r\n",
       "                                <td style=\"transform: rotate(0deg);\r\n",
       "                   text-align: center;\">\r\n",
       "                                 ↑\r\n",
       "                                </td>\r\n",
       "                            \r\n",
       "                            </tr>\r\n",
       "                        \n",
       "\r\n",
       "                            <tr>\r\n",
       "                                <td>$\\left|1\\right\\rangle$</td>\r\n",
       "                                <td>$0.0000 + 0.0000 i$</td>\r\n",
       "                                \r\n",
       "                                <td>\r\n",
       "                                    <progress\r\n",
       "                                        max=\"100\"\r\n",
       "                                        value=\"0\"\r\n",
       "                                        style=\"width: 100%;\"\r\n",
       "                                    > \r\n",
       "                                    <td>\r\n",
       "                                    <p id=\"round-babc8c92-1017-448f-87e6-233af192e872\"> \r\n",
       "                                    <script>\r\n",
       "                                    var num = 0;\r\n",
       "                                    num = num.toFixed(4);\r\n",
       "                                    var num_string = num + \"%\";\r\n",
       "                                     document.getElementById(\"round-babc8c92-1017-448f-87e6-233af192e872\").innerHTML = num_string;\r\n",
       "                                    </script> </p>\r\n",
       "                                    </td>\r\n",
       "                                </td>\r\n",
       "                            \r\n",
       "                                \r\n",
       "                                <td style=\"transform: rotate(0deg);\r\n",
       "                   text-align: center;\">\r\n",
       "                                 ↑\r\n",
       "                                </td>\r\n",
       "                            \r\n",
       "                            </tr>\r\n",
       "                        \r\n",
       "                        </tbody>\r\n",
       "                    </table>"
      ],
      "text/plain": [
       "|0⟩\t1 + 0𝑖\n",
       "|1⟩\t0 + 0𝑖"
      ]
     },
     "metadata": {},
     "output_type": "display_data"
    },
    {
     "name": "stdout",
     "output_type": "stream",
     "text": [
      "--------------------------------------------------------------------------------------------------\n",
      "Applying the AND oracle with |x⟩ = |000⟩, |y⟩ = |0⟩:\n"
     ]
    },
    {
     "data": {
      "application/json": "{\"div_id\":\"dump-machine-div-f9cf52da-6657-4223-b969-4dca9aaccdc0\",\"qubit_ids\":[0],\"n_qubits\":1,\"amplitudes\":[{\"Real\":1.0,\"Imaginary\":0.0,\"Magnitude\":1.0,\"Phase\":0.0},{\"Real\":0.0,\"Imaginary\":0.0,\"Magnitude\":0.0,\"Phase\":0.0}]}",
      "text/html": [
       "\r\n",
       "                    <table style=\"table-layout: fixed; width: 100%\">\r\n",
       "                        <thead>\r\n",
       "                            \r\n",
       "                        <tr>\r\n",
       "                            <th>Qubit IDs</th>\r\n",
       "                            <td span=\"3\">0</td>\r\n",
       "                        </tr>\r\n",
       "                    \r\n",
       "                            <tr>\r\n",
       "                                <th style=\"width: 20ch)\">Basis state (little endian)</th>\r\n",
       "                                <th style=\"width: 20ch\">Amplitude</th><th style=\"width: calc(100% - 26ch - 20ch)\">Meas. Pr.</th><th style=\"width: 6ch\">Phase</th>\r\n",
       "                            </tr>\r\n",
       "                        </thead>\r\n",
       "                        <tbody>\r\n",
       "                        \r\n",
       "                            <tr>\r\n",
       "                                <td>$\\left|0\\right\\rangle$</td>\r\n",
       "                                <td>$1.0000 + 0.0000 i$</td>\r\n",
       "                                \r\n",
       "                                <td>\r\n",
       "                                    <progress\r\n",
       "                                        max=\"100\"\r\n",
       "                                        value=\"100\"\r\n",
       "                                        style=\"width: 100%;\"\r\n",
       "                                    > \r\n",
       "                                    <td>\r\n",
       "                                    <p id=\"round-78cef3bb-64c1-4b1a-9268-59fe9f158ad5\"> \r\n",
       "                                    <script>\r\n",
       "                                    var num = 100;\r\n",
       "                                    num = num.toFixed(4);\r\n",
       "                                    var num_string = num + \"%\";\r\n",
       "                                     document.getElementById(\"round-78cef3bb-64c1-4b1a-9268-59fe9f158ad5\").innerHTML = num_string;\r\n",
       "                                    </script> </p>\r\n",
       "                                    </td>\r\n",
       "                                </td>\r\n",
       "                            \r\n",
       "                                \r\n",
       "                                <td style=\"transform: rotate(0deg);\r\n",
       "                   text-align: center;\">\r\n",
       "                                 ↑\r\n",
       "                                </td>\r\n",
       "                            \r\n",
       "                            </tr>\r\n",
       "                        \n",
       "\r\n",
       "                            <tr>\r\n",
       "                                <td>$\\left|1\\right\\rangle$</td>\r\n",
       "                                <td>$0.0000 + 0.0000 i$</td>\r\n",
       "                                \r\n",
       "                                <td>\r\n",
       "                                    <progress\r\n",
       "                                        max=\"100\"\r\n",
       "                                        value=\"0\"\r\n",
       "                                        style=\"width: 100%;\"\r\n",
       "                                    > \r\n",
       "                                    <td>\r\n",
       "                                    <p id=\"round-019cec8c-bdb0-436f-8019-f52cab1136ea\"> \r\n",
       "                                    <script>\r\n",
       "                                    var num = 0;\r\n",
       "                                    num = num.toFixed(4);\r\n",
       "                                    var num_string = num + \"%\";\r\n",
       "                                     document.getElementById(\"round-019cec8c-bdb0-436f-8019-f52cab1136ea\").innerHTML = num_string;\r\n",
       "                                    </script> </p>\r\n",
       "                                    </td>\r\n",
       "                                </td>\r\n",
       "                            \r\n",
       "                                \r\n",
       "                                <td style=\"transform: rotate(0deg);\r\n",
       "                   text-align: center;\">\r\n",
       "                                 ↑\r\n",
       "                                </td>\r\n",
       "                            \r\n",
       "                            </tr>\r\n",
       "                        \r\n",
       "                        </tbody>\r\n",
       "                    </table>"
      ],
      "text/plain": [
       "|0⟩\t1 + 0𝑖\n",
       "|1⟩\t0 + 0𝑖"
      ]
     },
     "metadata": {},
     "output_type": "display_data"
    },
    {
     "name": "stdout",
     "output_type": "stream",
     "text": [
      "--------------------------------------------------------------------------------------------------\n",
      "Applying the AND oracle with |x⟩ = |100⟩, |y⟩ = |0⟩:\n"
     ]
    },
    {
     "data": {
      "application/json": "{\"div_id\":\"dump-machine-div-0fd2d8b0-8811-4d89-9ce0-00b7229ebf97\",\"qubit_ids\":[0],\"n_qubits\":1,\"amplitudes\":[{\"Real\":1.0,\"Imaginary\":0.0,\"Magnitude\":1.0,\"Phase\":0.0},{\"Real\":0.0,\"Imaginary\":0.0,\"Magnitude\":0.0,\"Phase\":0.0}]}",
      "text/html": [
       "\r\n",
       "                    <table style=\"table-layout: fixed; width: 100%\">\r\n",
       "                        <thead>\r\n",
       "                            \r\n",
       "                        <tr>\r\n",
       "                            <th>Qubit IDs</th>\r\n",
       "                            <td span=\"3\">0</td>\r\n",
       "                        </tr>\r\n",
       "                    \r\n",
       "                            <tr>\r\n",
       "                                <th style=\"width: 20ch)\">Basis state (little endian)</th>\r\n",
       "                                <th style=\"width: 20ch\">Amplitude</th><th style=\"width: calc(100% - 26ch - 20ch)\">Meas. Pr.</th><th style=\"width: 6ch\">Phase</th>\r\n",
       "                            </tr>\r\n",
       "                        </thead>\r\n",
       "                        <tbody>\r\n",
       "                        \r\n",
       "                            <tr>\r\n",
       "                                <td>$\\left|0\\right\\rangle$</td>\r\n",
       "                                <td>$1.0000 + 0.0000 i$</td>\r\n",
       "                                \r\n",
       "                                <td>\r\n",
       "                                    <progress\r\n",
       "                                        max=\"100\"\r\n",
       "                                        value=\"100\"\r\n",
       "                                        style=\"width: 100%;\"\r\n",
       "                                    > \r\n",
       "                                    <td>\r\n",
       "                                    <p id=\"round-cf261097-d833-4437-8ccb-f6f1adc68322\"> \r\n",
       "                                    <script>\r\n",
       "                                    var num = 100;\r\n",
       "                                    num = num.toFixed(4);\r\n",
       "                                    var num_string = num + \"%\";\r\n",
       "                                     document.getElementById(\"round-cf261097-d833-4437-8ccb-f6f1adc68322\").innerHTML = num_string;\r\n",
       "                                    </script> </p>\r\n",
       "                                    </td>\r\n",
       "                                </td>\r\n",
       "                            \r\n",
       "                                \r\n",
       "                                <td style=\"transform: rotate(0deg);\r\n",
       "                   text-align: center;\">\r\n",
       "                                 ↑\r\n",
       "                                </td>\r\n",
       "                            \r\n",
       "                            </tr>\r\n",
       "                        \n",
       "\r\n",
       "                            <tr>\r\n",
       "                                <td>$\\left|1\\right\\rangle$</td>\r\n",
       "                                <td>$0.0000 + 0.0000 i$</td>\r\n",
       "                                \r\n",
       "                                <td>\r\n",
       "                                    <progress\r\n",
       "                                        max=\"100\"\r\n",
       "                                        value=\"0\"\r\n",
       "                                        style=\"width: 100%;\"\r\n",
       "                                    > \r\n",
       "                                    <td>\r\n",
       "                                    <p id=\"round-d89e5c0f-a59d-4f88-935e-6a28c618d1c8\"> \r\n",
       "                                    <script>\r\n",
       "                                    var num = 0;\r\n",
       "                                    num = num.toFixed(4);\r\n",
       "                                    var num_string = num + \"%\";\r\n",
       "                                     document.getElementById(\"round-d89e5c0f-a59d-4f88-935e-6a28c618d1c8\").innerHTML = num_string;\r\n",
       "                                    </script> </p>\r\n",
       "                                    </td>\r\n",
       "                                </td>\r\n",
       "                            \r\n",
       "                                \r\n",
       "                                <td style=\"transform: rotate(0deg);\r\n",
       "                   text-align: center;\">\r\n",
       "                                 ↑\r\n",
       "                                </td>\r\n",
       "                            \r\n",
       "                            </tr>\r\n",
       "                        \r\n",
       "                        </tbody>\r\n",
       "                    </table>"
      ],
      "text/plain": [
       "|0⟩\t1 + 0𝑖\n",
       "|1⟩\t0 + 0𝑖"
      ]
     },
     "metadata": {},
     "output_type": "display_data"
    },
    {
     "name": "stdout",
     "output_type": "stream",
     "text": [
      "--------------------------------------------------------------------------------------------------\n",
      "Applying the AND oracle with |x⟩ = |111⟩, |y⟩ = |0⟩:\n"
     ]
    },
    {
     "data": {
      "application/json": "{\"div_id\":\"dump-machine-div-9cd6286d-589e-4acc-b592-0f827a0e988d\",\"qubit_ids\":[0],\"n_qubits\":1,\"amplitudes\":[{\"Real\":0.0,\"Imaginary\":0.0,\"Magnitude\":0.0,\"Phase\":0.0},{\"Real\":1.0,\"Imaginary\":0.0,\"Magnitude\":1.0,\"Phase\":0.0}]}",
      "text/html": [
       "\r\n",
       "                    <table style=\"table-layout: fixed; width: 100%\">\r\n",
       "                        <thead>\r\n",
       "                            \r\n",
       "                        <tr>\r\n",
       "                            <th>Qubit IDs</th>\r\n",
       "                            <td span=\"3\">0</td>\r\n",
       "                        </tr>\r\n",
       "                    \r\n",
       "                            <tr>\r\n",
       "                                <th style=\"width: 20ch)\">Basis state (little endian)</th>\r\n",
       "                                <th style=\"width: 20ch\">Amplitude</th><th style=\"width: calc(100% - 26ch - 20ch)\">Meas. Pr.</th><th style=\"width: 6ch\">Phase</th>\r\n",
       "                            </tr>\r\n",
       "                        </thead>\r\n",
       "                        <tbody>\r\n",
       "                        \r\n",
       "                            <tr>\r\n",
       "                                <td>$\\left|0\\right\\rangle$</td>\r\n",
       "                                <td>$0.0000 + 0.0000 i$</td>\r\n",
       "                                \r\n",
       "                                <td>\r\n",
       "                                    <progress\r\n",
       "                                        max=\"100\"\r\n",
       "                                        value=\"0\"\r\n",
       "                                        style=\"width: 100%;\"\r\n",
       "                                    > \r\n",
       "                                    <td>\r\n",
       "                                    <p id=\"round-8e939405-66ef-4208-b87b-7d8ae6c47e56\"> \r\n",
       "                                    <script>\r\n",
       "                                    var num = 0;\r\n",
       "                                    num = num.toFixed(4);\r\n",
       "                                    var num_string = num + \"%\";\r\n",
       "                                     document.getElementById(\"round-8e939405-66ef-4208-b87b-7d8ae6c47e56\").innerHTML = num_string;\r\n",
       "                                    </script> </p>\r\n",
       "                                    </td>\r\n",
       "                                </td>\r\n",
       "                            \r\n",
       "                                \r\n",
       "                                <td style=\"transform: rotate(0deg);\r\n",
       "                   text-align: center;\">\r\n",
       "                                 ↑\r\n",
       "                                </td>\r\n",
       "                            \r\n",
       "                            </tr>\r\n",
       "                        \n",
       "\r\n",
       "                            <tr>\r\n",
       "                                <td>$\\left|1\\right\\rangle$</td>\r\n",
       "                                <td>$1.0000 + 0.0000 i$</td>\r\n",
       "                                \r\n",
       "                                <td>\r\n",
       "                                    <progress\r\n",
       "                                        max=\"100\"\r\n",
       "                                        value=\"100\"\r\n",
       "                                        style=\"width: 100%;\"\r\n",
       "                                    > \r\n",
       "                                    <td>\r\n",
       "                                    <p id=\"round-c31929aa-796a-4d44-b4e3-759dbdb210f5\"> \r\n",
       "                                    <script>\r\n",
       "                                    var num = 100;\r\n",
       "                                    num = num.toFixed(4);\r\n",
       "                                    var num_string = num + \"%\";\r\n",
       "                                     document.getElementById(\"round-c31929aa-796a-4d44-b4e3-759dbdb210f5\").innerHTML = num_string;\r\n",
       "                                    </script> </p>\r\n",
       "                                    </td>\r\n",
       "                                </td>\r\n",
       "                            \r\n",
       "                                \r\n",
       "                                <td style=\"transform: rotate(0deg);\r\n",
       "                   text-align: center;\">\r\n",
       "                                 ↑\r\n",
       "                                </td>\r\n",
       "                            \r\n",
       "                            </tr>\r\n",
       "                        \r\n",
       "                        </tbody>\r\n",
       "                    </table>"
      ],
      "text/plain": [
       "|0⟩\t0 + 0𝑖\n",
       "|1⟩\t1 + 0𝑖"
      ]
     },
     "metadata": {},
     "output_type": "display_data"
    },
    {
     "name": "stdout",
     "output_type": "stream",
     "text": [
      "--------------------------------------------------------------------------------------------------\n",
      "Applying the AND oracle with |x⟩ = |011⟩, |y⟩ = |1⟩:\n"
     ]
    },
    {
     "data": {
      "application/json": "{\"div_id\":\"dump-machine-div-a1d0ebbb-bc19-4dfb-b43c-e03b3bf84a80\",\"qubit_ids\":[0],\"n_qubits\":1,\"amplitudes\":[{\"Real\":0.0,\"Imaginary\":0.0,\"Magnitude\":0.0,\"Phase\":0.0},{\"Real\":1.0,\"Imaginary\":0.0,\"Magnitude\":1.0,\"Phase\":0.0}]}",
      "text/html": [
       "\r\n",
       "                    <table style=\"table-layout: fixed; width: 100%\">\r\n",
       "                        <thead>\r\n",
       "                            \r\n",
       "                        <tr>\r\n",
       "                            <th>Qubit IDs</th>\r\n",
       "                            <td span=\"3\">0</td>\r\n",
       "                        </tr>\r\n",
       "                    \r\n",
       "                            <tr>\r\n",
       "                                <th style=\"width: 20ch)\">Basis state (little endian)</th>\r\n",
       "                                <th style=\"width: 20ch\">Amplitude</th><th style=\"width: calc(100% - 26ch - 20ch)\">Meas. Pr.</th><th style=\"width: 6ch\">Phase</th>\r\n",
       "                            </tr>\r\n",
       "                        </thead>\r\n",
       "                        <tbody>\r\n",
       "                        \r\n",
       "                            <tr>\r\n",
       "                                <td>$\\left|0\\right\\rangle$</td>\r\n",
       "                                <td>$0.0000 + 0.0000 i$</td>\r\n",
       "                                \r\n",
       "                                <td>\r\n",
       "                                    <progress\r\n",
       "                                        max=\"100\"\r\n",
       "                                        value=\"0\"\r\n",
       "                                        style=\"width: 100%;\"\r\n",
       "                                    > \r\n",
       "                                    <td>\r\n",
       "                                    <p id=\"round-f4b52c30-7726-4a18-a0c3-dce2459702db\"> \r\n",
       "                                    <script>\r\n",
       "                                    var num = 0;\r\n",
       "                                    num = num.toFixed(4);\r\n",
       "                                    var num_string = num + \"%\";\r\n",
       "                                     document.getElementById(\"round-f4b52c30-7726-4a18-a0c3-dce2459702db\").innerHTML = num_string;\r\n",
       "                                    </script> </p>\r\n",
       "                                    </td>\r\n",
       "                                </td>\r\n",
       "                            \r\n",
       "                                \r\n",
       "                                <td style=\"transform: rotate(0deg);\r\n",
       "                   text-align: center;\">\r\n",
       "                                 ↑\r\n",
       "                                </td>\r\n",
       "                            \r\n",
       "                            </tr>\r\n",
       "                        \n",
       "\r\n",
       "                            <tr>\r\n",
       "                                <td>$\\left|1\\right\\rangle$</td>\r\n",
       "                                <td>$1.0000 + 0.0000 i$</td>\r\n",
       "                                \r\n",
       "                                <td>\r\n",
       "                                    <progress\r\n",
       "                                        max=\"100\"\r\n",
       "                                        value=\"100\"\r\n",
       "                                        style=\"width: 100%;\"\r\n",
       "                                    > \r\n",
       "                                    <td>\r\n",
       "                                    <p id=\"round-6fddd0e5-c396-444f-b240-1cbbe9b16467\"> \r\n",
       "                                    <script>\r\n",
       "                                    var num = 100;\r\n",
       "                                    num = num.toFixed(4);\r\n",
       "                                    var num_string = num + \"%\";\r\n",
       "                                     document.getElementById(\"round-6fddd0e5-c396-444f-b240-1cbbe9b16467\").innerHTML = num_string;\r\n",
       "                                    </script> </p>\r\n",
       "                                    </td>\r\n",
       "                                </td>\r\n",
       "                            \r\n",
       "                                \r\n",
       "                                <td style=\"transform: rotate(0deg);\r\n",
       "                   text-align: center;\">\r\n",
       "                                 ↑\r\n",
       "                                </td>\r\n",
       "                            \r\n",
       "                            </tr>\r\n",
       "                        \r\n",
       "                        </tbody>\r\n",
       "                    </table>"
      ],
      "text/plain": [
       "|0⟩\t0 + 0𝑖\n",
       "|1⟩\t1 + 0𝑖"
      ]
     },
     "metadata": {},
     "output_type": "display_data"
    },
    {
     "name": "stdout",
     "output_type": "stream",
     "text": [
      "--------------------------------------------------------------------------------------------------\r\n"
     ]
    },
    {
     "data": {
      "application/json": "{\"@type\":\"tuple\"}",
      "text/plain": [
       "()"
      ]
     },
     "execution_count": 4,
     "metadata": {},
     "output_type": "execute_result"
    }
   ],
   "source": [
    "%simulate SimpleMarkingOracle_Demo"
   ]
  },
  {
   "cell_type": "markdown",
   "metadata": {},
   "source": [
    "Now you will implement the same quantum oracle that you implemented in <span style=\"color:blue\">Exercise 2</span> but this time as a marking oracle instead.\n",
    "\n",
    "#### <span style=\"color:blue\">Exercise 3</span>: Implement a marking quantum oracle\n",
    "Implement the following quantum oracle $U_{7,mark}$:\n",
    "* $U_{7,mark} |x\\rangle |y\\rangle = |x\\rangle |y \\oplus f(x)\\rangle$\n",
    "* $f(x) = 1$ if $x = 7$\n",
    "* $f(x) = 0$ otherwise\n",
    "* $|x\\rangle$ is a state composted of $3$ qubits\n",
    "* $|y\\rangle$ is a single qubit"
   ]
  },
  {
   "cell_type": "code",
   "execution_count": 5,
   "metadata": {},
   "outputs": [
    {
     "name": "stderr",
     "output_type": "stream",
     "text": [
      "C:\\snippet_.qs(1,1): error QS3001: Syntax does not match any known patterns.\r\n"
     ]
    }
   ],
   "source": [
    "%kata E3_Marking_Quantum_Oracle \n",
    "\n",
    "operation Marking_7_Oracle(x: Qubit[], y: Qubit) : Unit\n",
    "is Adj {\n",
    "    // ...\n",
    "}"
   ]
  },
  {
   "cell_type": "markdown",
   "metadata": {},
   "source": [
    "#### Mathematical Properties\n",
    "\n",
    "Again, let us consider how the marking oracle that you just implemented in <span style=\"color:blue\">Exercise 3</span> affects the input when the input is the oracles basis states opposed to a superposition state.\n",
    "$$U_{7,mark} |111\\rangle |0\\rangle = |111\\rangle |0 \\oplus f(111)\\rangle = |111\\rangle |0 \\oplus 1\\rangle = |111\\rangle |1\\rangle$$\n",
    "$$U_{7,mark} |111\\rangle |1\\rangle = |111\\rangle |1 \\oplus f(111)\\rangle = |111\\rangle |1 \\oplus 1\\rangle = |111\\rangle |0\\rangle$$\n",
    "\n",
    "$$U_{7,mark} |110\\rangle |0\\rangle = |110\\rangle |0 \\oplus f(110)\\rangle = |110\\rangle |0 \\oplus 0\\rangle = |110\\rangle |0\\rangle$$\n",
    "$$U_{7,mark} |110\\rangle |1\\rangle = |110\\rangle |1 \\oplus f(110)\\rangle = |110\\rangle |1 \\oplus 0\\rangle = |110\\rangle |1\\rangle$$\n",
    "\n",
    "In the previous examples, all of the input $|x\\rangle$ and $|y\\rangle$ are in basis states of the oracle $U_{mark}^7$, however we see that even when providing input states, if $f(x)=1$ we will change the value of our input $|y\\rangle$.  However, if $f(x)=0$ then neither the input $|x\\rangle$ or $|y\\rangle$ will be modified by the oracle.  By definition, if the marking oracle evaluates to one for some input, hence if $f(x)=1$ for some $x$, then the input state $|y\\rangle$ will be changed.  Specifically, $|y\\rangle$ will be flipped.\n",
    "\n",
    "Now let us define a state $|\\alpha\\rangle$ such that $|x\\rangle$ is a superposition of the $6$ and $7$ basis states and $|y\\rangle = |0\\rangle$:\n",
    "$$|\\alpha\\rangle = \\frac{1}{\\sqrt{2}}\\big(|110\\rangle |0\\rangle + |111\\rangle |0\\rangle\\big) = |11\\rangle \\otimes \\frac{1}{\\sqrt{2}} \\big(|0\\rangle + |1\\rangle\\big) \\otimes |0\\rangle = |11+\\rangle |0\\rangle$$\n",
    "\n",
    "How does our marking oracle $U_{7,mark}$ act on our state $|\\alpha\\rangle$?\n",
    "> Recall that oracles are simply operators and operators are linear thus they can be distrubuted to each term individually.\n",
    "\n",
    "$$U_{7,mark} |\\alpha\\rangle = \\frac{1}{\\sqrt{2}} \\big(U_{7,mark}|110\\rangle |0\\rangle + U_{7,mark}|111\\rangle |0\\rangle\\big) = \\frac{1}{\\sqrt{2}} \\big(|110\\rangle |0\\rangle + |111\\rangle |1\\rangle\\big) := |\\epsilon\\rangle$$\n",
    "\n",
    "Now we would like to observe how our input state $|\\alpha\\rangle$ was modified by the oracle.  Let's simplify the resulting state from the oracle, $|\\epsilon\\rangle$:\n",
    "$$|\\epsilon\\rangle = \\frac{1}{\\sqrt{2}} \\big(|110\\rangle |0\\rangle + |111\\rangle |1\\rangle\\big) = |11\\rangle \\otimes \\frac{1}{\\sqrt{2}} \\big(|0\\rangle |0\\rangle + |1\\rangle |1\\rangle\\big) = |11\\rangle \\otimes \\frac{1}{\\sqrt{2}} \\big(|00\\rangle + |11\\rangle\\big) = |11\\rangle \\otimes |\\Phi^+\\rangle = |11\\Phi^+\\rangle$$\n",
    "\n",
    "Here we see that we have now entangled our input states $|x\\rangle$ and $|y\\rangle$!  This is a common occurance for marking oracles when the input is a superposition of basis states: after applying the oracle, the input $|x\\rangle$ will become entangled with $|y\\rangle$.  Here we see that the result is the bell state $|\\Phi^+\\rangle$.\n",
    "\n",
    ">As an exercise, what entangled state would we get in the previous example if $|y\\rangle = |1\\rangle$ instead of $|y\\rangle = |0\\rangle$?\n",
    ">\n",
    "> <br/>\n",
    "> <details>\n",
    ">   <summary><b>Click here for the answer!</b></summary>\n",
    ">   The entangled state that is produced would be $|\\Psi^+\\rangle = \\frac{1}{\\sqrt{2}}(|01\\rangle + |10\\rangle)$.  Overall, we would get the following: $U_{mark}^7 |011+\\rangle |1\\rangle = |011\\rangle |\\Psi^+\\rangle$\n",
    "> </details>\n",
    "\n",
    "How might the above derivation differ if both $|x\\rangle$ and $|y\\rangle$ are in superposition states?  We will consider this example once again with $|x\\rangle$ as a superposition of the $6$ and $7$ states and we will now use $|y\\rangle=|-\\rangle$:\n",
    "$$|\\eta\\rangle = \\Big[\\frac{1}{\\sqrt{2}}\\big(|110\\rangle + |111\\rangle\\big)\\Big] \\otimes \\frac{1}{\\sqrt{2}}\\big(|0\\rangle - |1\\rangle\\big) = \\frac{1}{2} \\big(|110\\rangle|0\\rangle + |111\\rangle|0\\rangle - |110\\rangle|1\\rangle - |111\\rangle|1\\rangle\\big)$$\n",
    "\n",
    "How does $U_{7,mark}$ act on our state $|\\eta\\rangle$?\n",
    "$$U_{7,mark}|\\eta\\rangle = U_{7,mark} \\frac{1}{2} \\big(|110\\rangle|0\\rangle + |111\\rangle|0\\rangle - |110\\rangle|1\\rangle - |111\\rangle|1\\rangle \\big)$$\n",
    "$$= \\frac{1}{2} \\big( U_{7,mark}|110\\rangle|0\\rangle + U_{7,mark}|111\\rangle|0\\rangle - U_{7,mark}|110\\rangle|1\\rangle - U_{7,mark}|111\\rangle|1\\rangle \\big) = \\frac{1}{2} \\big(|110\\rangle|0\\rangle + |111\\rangle|1\\rangle - |110\\rangle|1\\rangle - |111\\rangle|0\\rangle \\big) := |\\xi\\rangle$$\n",
    "\n",
    "Now we would like to observe how our input state $|\\eta\\rangle$ was modified by the oracle.  Let's simplify the resulting state from the oracle, $|\\xi\\rangle$:\n",
    "$$|\\xi\\rangle = \\frac{1}{2} \\big(|110\\rangle|0\\rangle + |111\\rangle|1\\rangle - |110\\rangle|1\\rangle - |111\\rangle|0\\rangle\\big) = \\frac{1}{2} \\big(|110\\rangle|0\\rangle - |110\\rangle|1\\rangle - |111\\rangle|0\\rangle + |111\\rangle|1\\rangle \\big)$$\n",
    "$$= \\frac{1}{2} \\Big[|110\\rangle \\otimes \\big(|0\\rangle - |1\\rangle \\big) + |111\\rangle \\otimes \\big(|1\\rangle - |0\\rangle\\big)\\Big] = \\Big[\\frac{1}{\\sqrt{2}} \\big( |110\\rangle - |111\\rangle \\big) \\Big] \\otimes \\Big[ \\frac{1}{\\sqrt{2}} \\big( |0\\rangle - |1\\rangle \\big) \\Big] = \\Big[\\frac{1}{\\sqrt{2}} \\big( |110\\rangle - |111\\rangle \\big) \\Big] \\otimes |-\\rangle$$\n",
    "\n",
    "Now we can compare $|\\eta\\rangle$ and $|\\xi\\rangle$ directly, below we will repeat the final equations:\n",
    "$$|\\eta\\rangle = \\Big[\\frac{1}{\\sqrt{2}}\\big(|110\\rangle + |111\\rangle\\big)\\Big] \\otimes |-\\rangle$$\n",
    "$$|\\xi\\rangle = \\Big[\\frac{1}{\\sqrt{2}}\\big(|110\\rangle - |111\\rangle\\big)\\Big] \\otimes |-\\rangle$$\n",
    "\n",
    "We can see that these two equations are identical except for the phase on the $|111\\rangle$ basis state (representing $7$).  The result of this phenomena is refered to as **phase kickback** because the phase from $|y\\rangle$ has \"kicked back\" and now appears in the $|x\\rangle$ aswell.  Phase kickback will be discussed in more detail in the next section."
   ]
  },
  {
   "cell_type": "markdown",
   "metadata": {},
   "source": [
    "# Part II: Phase Kickback\n",
    "\n",
    "As explored in the previous section, sometimes when providing input to an oracle, **phase kickback** will occur.  Phase kickback is a very important occurance and is used in plenty of quantum algorithms to compute a function.  Generally, there are operations like $X$ and $Z$ which preserve input states in their basis - up to a phase:\n",
    "$$X|+\\rangle=|+\\rangle, \\ X|-\\rangle=-|-\\rangle$$\n",
    "$$Z|0\\rangle=|0\\rangle, \\ Z|1\\rangle=-|1\\rangle$$\n",
    "\n",
    "When we begin to consider controlled operations is when phase kickback comes more into play.  So far in this tutorial, you have implemented two controlled operaitons - $U_{7,phase}$ and $U_{7,mark}$.  These operations are considered controlled because the form of the output state is *controlled* by the form of the input state.  Specifically, for $U_{7,phase}$ we implemented that when $|x\\rangle=|111\\rangle$ then a global phase would be applied to the output state.  Likewise with $U_{7,mark}$ we *controlled* the value of the input state $|y\\rangle$ based on the value of the input state $|x\\rangle$ to produce some output state.  As we saw in the most recent example for $U_{7,mark}$ where we had an input state $|x\\rangle=\\frac{1}{\\sqrt{2}} \\big( |110\\rangle + |111\\rangle \\big)$ and $|y\\rangle = |-\\rangle$ phase kickback occured.  Phase kickback generally only occurs when your control state *and* input state are both superpositions states - it occurs in other situations as well but this is the one situation where the kickback of the phase is *observable*.  Recall that we can only observe our states via measurement, DumpMachine is a useful tool for us to see the states but really the states are acting in a probabalistic mannor.\n",
    "\n",
    "Say that we wanted to see if phase kickback had occured.  Lets take the previous example with $U_{7,mark}$ and see how we could determine wether or not phase kickback occured.\n",
    "$$|\\eta\\rangle = \\Big[\\frac{1}{\\sqrt{2}}\\big(|110\\rangle + |111\\rangle\\big)\\Big] \\otimes |-\\rangle = |11\\rangle \\otimes \\frac{1}{\\sqrt{2}}\\big( |0\\rangle + |1\\rangle \\big) = |11+\\rangle$$\n",
    "$$|\\xi\\rangle = \\Big[\\frac{1}{\\sqrt{2}}\\big(|110\\rangle - |111\\rangle\\big)\\Big] \\otimes |-\\rangle = |11\\rangle \\otimes \\frac{1}{\\sqrt{2}}\\big( |0\\rangle - |1\\rangle \\big) = |11-\\rangle$$\n",
    "\n",
    "<br/>\n",
    "<details>\n",
    "  <summary><b>Now how could we differentiate between the state $|11+\\rangle$ and $|11-\\rangle$?  Take a moment to think, then click here to see if you were correct!</b></summary>\n",
    "  \n",
    "    That's right!  If we apply a Hadamard operator to the third qubit, we will be able to distinguish between the input state and the output state.\n",
    "    \n",
    "    $$(I\\otimes I \\otimes H)|11+\\rangle = |110\\rangle$$\n",
    "    $$(I\\otimes I \\otimes H)|11-\\rangle = |111\\rangle$$\n",
    "    \n",
    "    Now if we were to measure the input state versus the output state we would detect that the phase from $|y\\rangle=|-\\rangle$ was kicked back into our input state $|x\\rangle$!\n",
    "</details>\n",
    "\n",
    "One important application of phase kickback is that it allows us to convert a marking oracle into a phase oracle.\n",
    "\n",
    "#### <span style=\"color:blue\">Exercise 4</span>: Implement an oracle converter\n",
    "* **Input:** a marking oracle\n",
    "* **Output:** a phase oracle that takes a state $|x\\rangle$ and flips the phase of that state subject to the condition of the marking oracle.\n",
    "\n",
    "> A oracle converter is useful because many quantum algorithms rely on a phase oracle, such as Grover's algorithm, however it is often easier to implement a marking oracle.  This converter will provide us a way to convert a marking oracle we are interested in into a phase oracle; which could then be leveraged in a quantum algorithm such as Grover's algorithm.\n",
    "\n",
    "<br/>\n",
    "<details>\n",
    "  <summary><b>If you're stuck on where to begin, click here!</b></summary>\n",
    "    Recall that you can allocate extra qubits to assist in any operation.  Is there a state that you could prepare with an auxiliary qubit which would enable you to flip the phase of the input state $|x\\rangle$ subject to the function $f(x)$ for the marking oracle?  Also recall that qubits can only be allocated in operations, not in functions.\n",
    "</details>"
   ]
  },
  {
   "cell_type": "code",
   "execution_count": 6,
   "metadata": {},
   "outputs": [
    {
     "name": "stderr",
     "output_type": "stream",
     "text": [
      "C:\\snippet_.qs(1,1): error QS3001: Syntax does not match any known patterns.\n",
      "C:\\snippet_.qs(3,1): error QS6307: Not all code paths return a value.\n"
     ]
    }
   ],
   "source": [
    "%kata E4_Oracle_Converter\n",
    "\n",
    "function Oracle_Converter(markingOracle: ((Qubit[], Qubit) => Unit is Adj)) : (Qubit[] => Unit is Adj) {\n",
    "    // ...\n",
    "}"
   ]
  },
  {
   "cell_type": "markdown",
   "metadata": {},
   "source": [
    "# Part III: Implementing Quantum Oracles\n",
    "\n",
    "In this section you will implement a few quantum oracles of your own - each representing a specified function.  If you observe the operation declarations below, you will see that there is a requirement for the adjoint of the operation to be valid - the operation preformed in reverse order must be valid.  This is common practice: when we write quantum oracles, we want to undo any operations we may have performed on the input to achive the result in order to ensure that the oracle does not change the input if that input is a basis state of the oracle.\n",
    "\n",
    "#### <span style=\"color:blue\">Exercise 5</span>: Implement the alternating oracle\n",
    "Implement the following quantum oracle $U_{alt,1}$:\n",
    "* $U_{alt,1} |x\\rangle |y\\rangle = |x\\rangle |y \\oplus f(x)\\rangle$\n",
    "* $f(x) = 1$ if $|x\\rangle=|101010...10\\rangle$ OR $|x\\rangle=|101010...01\\rangle$\n",
    "* $f(x) = 0$ otherwise\n",
    "* $|x\\rangle$ is a state composted of $n$ qubits\n",
    "* $|y\\rangle$ is a single qubit\n",
    "\n",
    "<br/>\n",
    "<details>\n",
    "  <summary><b>Before implementing this oracle, answer the following question: are you implmenting a marking or a phase oracle?  Click here for the answer!</b></summary>\n",
    "    Correct!  This is a marking oracle because we are flipping the value of some target qubit $|y\\rangle$ based on the value of the other input $|x\\rangle$\n",
    "</details>"
   ]
  },
  {
   "cell_type": "code",
   "execution_count": 7,
   "metadata": {},
   "outputs": [
    {
     "name": "stderr",
     "output_type": "stream",
     "text": [
      "C:\\snippet_.qs(1,1): error QS3001: Syntax does not match any known patterns.\r\n"
     ]
    }
   ],
   "source": [
    "$kata E5_Alternating_1_Oracle\n",
    "\n",
    "operation Alternating_1_Oracle(x: Qubit[], y: Qubit) : Unit\n",
    "is Adj {\n",
    "    // ...\n",
    "}"
   ]
  },
  {
   "cell_type": "markdown",
   "metadata": {},
   "source": [
    "#### <span style=\"color:blue\">Exercise 6</span>: Implement the kth spin-up oracle:\n",
    "Implement the following quantum oracle $U_{k,spinup}$:\n",
    "* $U_{k,spinup} |x\\rangle = (-1)^{f(x)}|x\\rangle$\n",
    "* $f(x) = 1$ if the $k$th qubit in $|x\\rangle$ is a $1$ $\\big(\\text{if } |x\\rangle_k=|1\\rangle \\big)$\n",
    "* $f(x) = 0$ otherwise\n",
    "* $|x\\rangle$ is a state composted of $n$ qubits\n",
    "* $k$ is an integer with $k\\in \\{0, ..., n-1 \\}$\n",
    "\n",
    "<br/>\n",
    "<details>\n",
    "  <summary><b>Before implementing this oracle, answer the following question: are you implmenting a marking or a phase oracle?  Click here for the answer!</b></summary>\n",
    "    Correct!  This is a phase oracle because we are applying a phase to the input state $|x\\rangle$ based on the evaluation of the function $f(x)$.\n",
    "</details>\n",
    "\n",
    "> Can you implement this function without using auxiliary qubits?"
   ]
  },
  {
   "cell_type": "code",
   "execution_count": 6,
   "metadata": {},
   "outputs": [
    {
     "name": "stderr",
     "output_type": "stream",
     "text": [
      "C:\\snippet_.qs(1,1): error QS3001: Syntax does not match any known patterns.\r\n"
     ]
    }
   ],
   "source": [
    "%kata E6_kth_Spin_Up\n",
    "\n",
    "operation kth_Spin_Up(x: Qubit[], k: Int) : Unit \n",
    "is Adj {\n",
    "    // ...\n",
    "}"
   ]
  },
  {
   "cell_type": "markdown",
   "metadata": {},
   "source": [
    "As you noticed in the previous exericse, undoing operations preformed on the input is essential to ensure that we are implementing oracles that follow the requirements of an oracle - oracles are unitary and they do not change the input if that input is a basis state.  Another key tool to have when implementing quantum oracles is allocation of auxiliary qubits to assist in a computation.  Below are a some exercises where you will practice allocating extra qubits to assist with the computation of $f(x)$. \n",
    "\n",
    "#### <span style=\"color:blue\">Exercise 7</span>: Implement the alternating oracle\n",
    "Implement the following quantum oracle $U_{alt,2}$:\n",
    "* $U_{alt,2} |x\\rangle = (-1)^{f(x)}|x\\rangle$\n",
    "* $f(x) = 1$ if $|x\\rangle=|101010...10\\rangle$ OR $|x\\rangle=|101010...01\\rangle$\n",
    "* $f(x) = 0$ otherwise\n",
    "* $|x\\rangle$ is a state composted of $n$ qubits\n",
    "\n",
    "<br/>\n",
    "<details>\n",
    "  <summary><b>Before implementing this oracle, answer the following question: are you implmenting a marking or a phase oracle?  Click here for the answer!</b></summary>\n",
    "    Correct!  This is a phase oracle because we are applying a phase to the input state $|x\\rangle$ based on the evaluation of the function $f(x)$.\n",
    "</details>"
   ]
  },
  {
   "cell_type": "code",
   "execution_count": null,
   "metadata": {},
   "outputs": [],
   "source": [
    "$kata E7_Alternating_2_Oracle\n",
    "\n",
    "operation Alternating_2_Oracle(x: Qubit[]) : Unit\n",
    "is Adj {\n",
    "    // ...\n",
    "}"
   ]
  },
  {
   "cell_type": "markdown",
   "metadata": {},
   "source": [
    "#### <span style=\"color:blue\">Exercise 8</span>: Implement the OR oracle\n",
    "Implement the following quantum oracle $U_{or}$:\n",
    "* $U_{or} |x\\rangle |y\\rangle = |x\\rangle |y \\oplus f(x)\\rangle$\n",
    "* $f(x) = 0$ if $|x\\rangle=|000...0\\rangle$ (all zeros)\n",
    "* $f(x) = 1$ otherwise\n",
    "* $|x\\rangle$ is a state composted of $n$ qubits\n",
    "* $|y\\rangle$ is a single qubit\n",
    "\n",
    "<br/>\n",
    "<details>\n",
    "  <summary><b>Before implementing this oracle, answer the following question: are you implmenting a marking or a phase oracle?  Click here for the answer!</b></summary>\n",
    "    Correct!  This is a marking oracle because we are flipping the value of some target qubit $|y\\rangle$ based on the value of the other input $|x\\rangle$\n",
    "</details>"
   ]
  },
  {
   "cell_type": "code",
   "execution_count": null,
   "metadata": {},
   "outputs": [],
   "source": [
    "$kata E8_Or_Oracle\n",
    "\n",
    "operation Or_Oracle(x: Qubit[], y: Qubit) : Unit\n",
    "is Adj {\n",
    "    // ...\n",
    "}"
   ]
  },
  {
   "cell_type": "markdown",
   "metadata": {},
   "source": [
    "consider your implemntations of the marking and phase oracle this shows that they are identical via demo 3"
   ]
  },
  {
   "cell_type": "code",
   "execution_count": null,
   "metadata": {},
   "outputs": [],
   "source": [
    "// demo this\n",
    "\n",
    "// write test cases for the alternating phase oracle\n",
    "// compare this implementation with the oracle produced when \n",
    "// providing the marking oracle as input to the oracle converter \n",
    "// so the learner can convince themselves of their oracle converter\n",
    "// implementation"
   ]
  },
  {
   "cell_type": "markdown",
   "metadata": {},
   "source": [
    "# Part IV: More Oracles!  Implementation and Testing:\n",
    "\n",
    "teach them to allocate aux qubits for computation"
   ]
  },
  {
   "cell_type": "code",
   "execution_count": null,
   "metadata": {},
   "outputs": [],
   "source": [
    "// exercise to determine if two people can meet during the week for a meeting (SAT oracle)\n",
    "\n",
    "// provide a demo of how you could test the oracle"
   ]
  },
  {
   "cell_type": "code",
   "execution_count": null,
   "metadata": {},
   "outputs": [],
   "source": [
    "// exercise to generalize previous result to see if m people can meet during a 2 week timeframe\n",
    "\n",
    "// provide a demo of how you could test the oracle\n",
    "// so that they know how they could test their code in industry"
   ]
  },
  {
   "cell_type": "markdown",
   "metadata": {},
   "source": [
    "# Part V: What's next?"
   ]
  },
  {
   "cell_type": "code",
   "execution_count": null,
   "metadata": {},
   "outputs": [],
   "source": []
  },
  {
   "cell_type": "code",
   "execution_count": null,
   "metadata": {},
   "outputs": [],
   "source": []
  },
  {
   "cell_type": "code",
   "execution_count": null,
   "metadata": {},
   "outputs": [],
   "source": []
  },
  {
   "cell_type": "code",
   "execution_count": null,
   "metadata": {},
   "outputs": [],
   "source": []
  },
  {
   "cell_type": "code",
   "execution_count": null,
   "metadata": {},
   "outputs": [],
   "source": []
  }
 ],
 "metadata": {
  "kernelspec": {
   "display_name": "Q#",
   "language": "qsharp",
   "name": "iqsharp"
  },
  "language_info": {
   "file_extension": ".qs",
   "mimetype": "text/x-qsharp",
   "name": "qsharp",
   "version": "0.12"
  }
 },
 "nbformat": 4,
 "nbformat_minor": 4
}
