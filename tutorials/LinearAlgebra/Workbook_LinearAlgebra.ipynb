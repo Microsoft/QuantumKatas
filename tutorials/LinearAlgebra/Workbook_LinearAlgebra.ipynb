{
 "cells": [
  {
   "cell_type": "markdown",
   "metadata": {},
   "source": [
    "# Linear Algebra Kata Workbook\n",
    "\n",
    "**What is this workbook?**\n",
    "A workbook is a collection of problems, accompanied by solutions to them. \n",
    "The explanations focus on the logical steps required to solve a problem; they illustrate the concepts that need to be applied to come up with a solution to the problem, explaining the mathematical steps required. \n",
    "\n",
    "Note that a workbook should not be the primary source of knowledge on the subject matter; it assumes that you've already read a tutorial or a textbook and that you are now seeking to improve your problem-solving skills. You should attempt solving the tasks of the respective kata first, and turn to the workbook only if stuck. While a textbook emphasizes knowledge acquisition, a workbook emphasizes skill acquisition.\n",
    "\n",
    "This workbook describes the solutions to the problems offered in the [linear Algebra kata](./LinearAlgebra.ipynb). \n",
    "Since the tasks are offered as programming problems, the explanations also cover some elements of Python that might be non-obvious for a first-time user.\n",
    "\n",
    "**What you should know for this workbook**\n",
    "\n",
    "1. Complex Arithmetic\n",
    "2. Basic Python knowledge is usefull but not needed\n",
    "\n",
    "If you need to look up some formulas quickly, you can find them in [this cheatsheet](https://github.com/microsoft/QuantumKatas/blob/master/quickref/qsharp-quick-reference.pdf).\n"
   ]
  },
  {
   "cell_type": "markdown",
   "metadata": {},
   "source": [
    "This notebook has several tasks that require you to write Python code to test your understanding of the concepts. If you are not familiar with Python, [here](https://docs.python.org/3/tutorial/index.html) is a good introductory tutorial for it.\n",
    "\n",
    "\n",
    "Let's start by importing some useful mathematical functions and constants, and setting up a few things necessary for testing the exercises. **Do not skip this step.**\n",
    "\n",
    "Click the cell with code below this block of text and press `Ctrl+Enter` (`⌘+Enter` on Mac)."
   ]
  },
  {
   "cell_type": "code",
   "execution_count": 2,
   "metadata": {},
   "outputs": [
    {
     "name": "stdout",
     "output_type": "stream",
     "text": [
      "Success!\n"
     ]
    }
   ],
   "source": [
    "# Run this cell using Ctrl+Enter (⌘+Enter on Mac).\n",
    "from testing import exercise, create_empty_matrix\n",
    "from typing import List\n",
    "\n",
    "import math, cmath\n",
    "\n",
    "Matrix = List[List[complex]]"
   ]
  },
  {
   "cell_type": "markdown",
   "metadata": {},
   "source": [
    "# Part I. Matrices and Basic Operations\n",
    "\n"
   ]
  },
  {
   "cell_type": "markdown",
   "metadata": {},
   "source": [
    "### <span style=\"color:blue\">Exercise 1</span>: Matrix addition.\n",
    "\n",
    "**Inputs:**\n",
    "\n",
    "1. An $n \\times m$ matrix $A$, represented as a two-dimensional list.\n",
    "2. An $n \\times m$ matrix $B$, represented as a two-dimensional list.\n",
    "\n",
    "**Output:** Return the sum of the matrices $A + B$ - an $n \\times m$ matrix, represented as a two-dimensional list."
   ]
  },
  {
   "cell_type": "markdown",
   "metadata": {},
   "source": [
    "### Solution\n",
    "\n",
    "$Z = A + B$\n",
    "\n",
    "$$ Z =\\begin{bmatrix} a & b \\\\ c & d \\end{bmatrix} + \\begin{bmatrix} e & f \\\\ g & h \\end{bmatrix} = \\begin{bmatrix} a + e & b + f \\\\ c + g & d + h \\end{bmatrix}$$\n",
    "\n",
    ">*Python note:* In this workbook we will be using a lot of loop statements in Python. So, let's walk through the working of these statements first.\n",
    ">\n",
    ">Lets start with `range(x)` this will create a range of numbers which you can integrate trough with `x` amount of items. For example `range(5)` will create a range with these items: `[0, 1, 2, 3, 4]`, this will be very useful for loops.  \n",
    ">\n",
    ">We can use the `for` function to iterate trough a range. The syntax for the `for` function is: ` for 'newVariableName' in 'range':`.  \n",
    "Assume we want to iterate trough 5 items and print all the values we can use the following code:\n",
    ">```python\n",
    ">\n",
    ">for i in range(5):\n",
    ">    print(i)\n",
    ">    \n",
    ">```\n",
    ">\n",
    ">This will print: `[0, 1, 2, 3, 4]`\n",
    ">\n",
    ">**For loops in matrices**: Matrices can be represented as 2d arrays, this comes down to embedding arrays within an array. For example take this matrix:\n",
    ">\n",
    ">$$\\begin{bmatrix} 1 & 2 & 3 \\\\ 4 & 5 & 6 \\end{bmatrix} $$\n",
    ">\n",
    ">To express this in python we could use: `[[1,2,3],[4,5,6]]`. To print each of these elements we will need to use 2 for loops, 1 for the rows and 1 for the columns.   \n",
    ">\n",
    ">If you want to access a specific element in the matrix you can use the index of that element in the array. If you want to access a specific element if this example array: `array = [0, 4, 3, 7]` you can use `array[index]` so if you want the `4` (2nd element) you can use `array[1]`, **index counting start form 0**.  \n",
    ">When using a matrix you can use a similar approach for example `matrix[0][2]` would access the first row and 3rd column.  \n",
    ">The example below shows how to initialize the above matrix and loop trough each element to print each value.\n",
    ">\n",
    ">```Python\n",
    ">\n",
    ">matrix = [[1,2,3],[4,5,6]]\n",
    ">\n",
    ">numberOfRows = len(matrix)\n",
    ">\n",
    ">numberOfColumns = len(matrix[0])\n",
    ">\n",
    ">for row in range(numberOfRows):\n",
    ">    for column in range(numberOfColumns):\n",
    ">        print(matrix[row][column])\n",
    ">\n",
    ">```\n",
    ">In the code above the `len()` function is used, this can be used to get the number of items in an array. So looking at the code above `len(matrix)` will give 2 as there are 2 rows in the matrix. However if we do `len(matrix[0])` we are looking at the number of elements in the first array of the main array, this will give 3 as we have 3 columns. \n",
    ">\n",
    ">Lastly, in most exercises a function named `create_empty_matrix(n, m)` is used, this is a custom function which gives you a matrix with size n x m will al 0's as values. This function is not a base function in Python so you have to create it yourself, in this notebook we defined the function as follows:\n",
    ">\n",
    ">```Python\n",
    ">def create_empty_matrix(n, m):\n",
    ">    #Create new matrix\n",
    ">    ans = []\n",
    ">    #Loop trough each row of the matrix\n",
    ">    for i in range(n):\n",
    ">        #This will create an array with only 0's with the length m.\n",
    ">        newRow = [0] * m\n",
    ">        #We will now append this newly created row to the main matrix\n",
    ">        ans.append(newRow)\n",
    ">    return ans\n",
    ">```"
   ]
  },
  {
   "cell_type": "code",
   "execution_count": 6,
   "metadata": {},
   "outputs": [
    {
     "name": "stdout",
     "output_type": "stream",
     "text": [
      "Success!\n"
     ]
    }
   ],
   "source": [
    "@exercise\n",
    "def matrix_add(a : Matrix, b : Matrix) -> Matrix:\n",
    "    # You can get the size of a matrix like this:\n",
    "    n = len(a) #This gives the number of rows of the a matrix\n",
    "    m = len(a[0]) #This gives the number of columns for the \n",
    "    \n",
    "    # You can use the following function to initialize an n×m matrix filled with 0s to store your answer\n",
    "    c = create_empty_matrix(n, m)\n",
    "        \n",
    "    # You can use a for loop to execute its body several times;\n",
    "    # in this loop variable i will take on each value from 0 to n-1, inclusive\n",
    "    for i in range(n):\n",
    "        # Loops can be nested\n",
    "        for j in range(m):\n",
    "            # You can access elements of a matrix like this:\n",
    "            x = a[i][j]\n",
    "            y = b[i][j]\n",
    "            \n",
    "            # You can modify the elements of a matrix like this:\n",
    "            c[i][j] = a[i][j]+b[i][j]\n",
    "    \n",
    "    return c"
   ]
  },
  {
   "cell_type": "markdown",
   "metadata": {},
   "source": [
    "[Return to task 1 of the Linear Algebra kata.](./LinearAlgebra.ipynb#Exercise-1:-Matrix-addition.)"
   ]
  },
  {
   "cell_type": "markdown",
   "metadata": {},
   "source": [
    "### <span style=\"color:blue\">Exercise 2</span>: Scalar multiplication.\n",
    "\n",
    "**Inputs:**\n",
    "\n",
    "1. A scalar $x$.\n",
    "2. An $n \\times m$ matrix $A$.\n",
    "\n",
    "**Output:** Return the $n \\times m$ matrix $x \\cdot A$."
   ]
  },
  {
   "cell_type": "markdown",
   "metadata": {},
   "source": [
    "### Solution\n",
    "\n",
    "$$z = x \\cdot A = x \\cdot \\begin{bmatrix} a & b \\\\ c & d \\end{bmatrix} = \\begin{bmatrix} x \\cdot a & x \\cdot b \\\\ x \\cdot c & x \\cdot d \\end{bmatrix}  $$ \n",
    "\n",
    ">*Python note:* We have to multiply each element in the matrix with a specific scalar $x$. To do so we will again loop trough each element with 2 `for` loops and multiply each specific element with scalar $x$, the result of each multiplication will be stored in a newly created matrix. "
   ]
  },
  {
   "cell_type": "code",
   "execution_count": null,
   "metadata": {},
   "outputs": [],
   "source": [
    "@exercise\n",
    "def scalar_mult(x : complex, a : Matrix) -> Matrix:\n",
    "    n = len(a)\n",
    "    m = len(a[0])\n",
    "    \n",
    "    # You can use the following function to initialize an n×m matrix filled with 0s to store your answer\n",
    "    c = create_empty_matrix(n, m)\n",
    "    \n",
    "    # You can use a for loop to execute its body several times;\n",
    "    # in this loop variable i will take on each value from 0 to n-1, inclusive\n",
    "    for i in range(n):\n",
    "        # Loops can be nested\n",
    "        for j in range(m):\n",
    "            # You can access elements of a matrix like this:\n",
    "            currentElement = a[i][j]\n",
    "            \n",
    "            # You can modify the elements of a matrix like this:\n",
    "            c[i][j] = currentElement * x\n",
    "    \n",
    "    return c"
   ]
  },
  {
   "cell_type": "markdown",
   "metadata": {},
   "source": [
    "[Return to task 2 of the Linear Algebra kata.](./LinearAlgebra.ipynb#Exercise-2:-Scalar-multiplication.)"
   ]
  },
  {
   "cell_type": "markdown",
   "metadata": {},
   "source": [
    "### <span style=\"color:blue\">Exercise 3</span>: Matrix multiplication.\n",
    "\n",
    "**Inputs:**\n",
    "\n",
    "1. An $n \\times m$ matrix $A$.\n",
    "2. An $m \\times k$ matrix $B$.\n",
    "\n",
    "**Output:** Return the $n \\times k$ matrix equal to the matrix product $AB$."
   ]
  },
  {
   "cell_type": "markdown",
   "metadata": {},
   "source": [
    "### Solution\n",
    "\n",
    "$$ z = A \\cdot B =\\begin{bmatrix} a & b & c \\\\ d & e & f \\end{bmatrix} \\cdot \\begin{bmatrix} h & i \\\\ j & k \\\\ l & m \\end{bmatrix} = \\begin{bmatrix} a \\cdot h + b \\cdot j + c \\cdot l & a \\cdot i + b \\cdot k + c \\cdot m \\\\ \n",
    "d \\cdot h + e \\cdot j + f \\cdot l & d \\cdot i + e \\cdot k + f \\cdot m \\end{bmatrix} $$\n",
    "\n",
    ">*Python note*: To complete this assignment we need an extra iteration of within our loop.  \n",
    ">\n",
    ">We again create an empty matrix with the proper size, namely the number of rows of the left matrix and the number of columns for the right matrix.  \n",
    ">We will loop trough the rows and columns similarly as with the previous exercises however we will add a loop which handles the dot product.   \n",
    ">\n",
    ">The addition of the dot products is done with the `+=` operator in the code below, this is a neat little short hand in Python. For example if you want to add 3 to a current variable you could do `variable = variable + 3`, this could be replaced by `variable += 3` a more neat way to write the same thing."
   ]
  },
  {
   "cell_type": "code",
   "execution_count": 7,
   "metadata": {},
   "outputs": [
    {
     "name": "stdout",
     "output_type": "stream",
     "text": [
      "Success!\n"
     ]
    }
   ],
   "source": [
    "@exercise\n",
    "def matrix_mult(a : Matrix, b : Matrix) -> Matrix:\n",
    "    \n",
    "    rows = len(a) # the number of row of the left matrix\n",
    "    common = len(a[0]) # = len(b)\n",
    "    columns = len(b[0]) # the number of columns of the right matrix\n",
    "    \n",
    "    #Create an empty matrix with the proper size and 0 values\n",
    "    ans = create_empty_matrix(rows, columns)\n",
    "    \n",
    "    \n",
    "    for currentRow in range(rows):\n",
    "        for currentColumn in range(columns):\n",
    "            for k in range(common):\n",
    "                ans[currentRow][currentColumn] += a[currentRow][k] * b[k][currentColumn]\n",
    "                \n",
    "    return ans"
   ]
  },
  {
   "cell_type": "markdown",
   "metadata": {},
   "source": [
    "[Return to task 3 of the Linear Algebra kata.](./LinearAlgebra.ipynb#Exercise-3:-Matrix-multiplication.)"
   ]
  },
  {
   "cell_type": "markdown",
   "metadata": {},
   "source": [
    "### <span style=\"color:blue\">Exercise 4</span>: Matrix Inversion.\n",
    "\n",
    "**Input:** An invertible $2 \\times 2$ matrix $A$.\n",
    "\n",
    "**Output:** Return the inverse of $A$, a $2 \\times 2$ matrix $A^{-1}$."
   ]
  },
  {
   "cell_type": "markdown",
   "metadata": {},
   "source": [
    "### Solution\n",
    "\n",
    "$$ A = \\begin{bmatrix} a & b \\\\ c & d \\end{bmatrix} $$\n",
    "\n",
    "$$ |A| = a \\cdot d - b \\cdot c $$\n",
    "\n",
    "$$A^{-1} = \\frac{1}{|A|} \\cdot \\begin{bmatrix} d & -b \\\\ -c & a \\end{bmatrix} = \\begin{bmatrix} \\frac{d}{|A|} & \\frac{-b}{|A|} \\\\ \\frac{-c}{|A|} & \\frac{a}{|A|} \\end{bmatrix} $$\n",
    "\n",
    ">Because we only need to inverse a 2x2 matrix we will not make a solution here which can be used for larger matrices.  \n",
    ">As you can see below, we take each element of the matrix and manually put it in the right order in the new matrix, we also divide it by the determinant and change sign where needed.  \n",
    ">\n",
    ">If you would like to make a more generic function which could handle also other sizes, a different approach would be needed."
   ]
  },
  {
   "cell_type": "code",
   "execution_count": 8,
   "metadata": {},
   "outputs": [
    {
     "name": "stdout",
     "output_type": "stream",
     "text": [
      "Success!\n"
     ]
    }
   ],
   "source": [
    "@exercise\n",
    "def matrix_inverse(m : Matrix) -> Matrix:\n",
    "    \n",
    "    #Take each element of the array \n",
    "    a = m[0][0]\n",
    "    b = m[0][1]\n",
    "    c = m[1][0]\n",
    "    d = m[1][1]\n",
    "    \n",
    "    # Calculate the determinant and store the result to reuse later\n",
    "    determinant = (a * d) - (b * c)\n",
    "    \n",
    "    # create a new matrix with the new postion for each element, divide each element with the determinant \n",
    "    # and finaly flip the sign for each element where needed. \n",
    "    ans = [[d / determinant, -b / determinant], [-c / determinant, a / determinant]]\n",
    "    \n",
    "\n",
    "    return ans"
   ]
  },
  {
   "cell_type": "markdown",
   "metadata": {},
   "source": [
    "[Return to task 4 of the Linear Algebra kata.](./LinearAlgebra.ipynb#Exercise-4:-Matrix-Inversion.)"
   ]
  },
  {
   "cell_type": "markdown",
   "metadata": {},
   "source": [
    "### <span style=\"color:blue\">Exercise 5</span>: Transpose.\n",
    "\n",
    "**Input:** An $n \\times m$ matrix $A$.\n",
    "\n",
    "**Output:** Return an $m \\times n$ matrix $A^T$, the transpose of $A$."
   ]
  },
  {
   "cell_type": "markdown",
   "metadata": {},
   "source": [
    "### Soltuion\n",
    "\n",
    "$$\\begin{bmatrix}\n",
    "    a & b \\\\\n",
    "    c & d \\\\\n",
    "    e & f\n",
    "\\end{bmatrix}^T\n",
    "=\n",
    "\\begin{bmatrix}\n",
    "    a & c & e \\\\\n",
    "    b & d & f\n",
    "\\end{bmatrix}$$\n",
    "\n",
    ">*Python note:*  We transpose the matrix by changing the index of each element. As you can see in the loop we flip rows and columns by changing the index."
   ]
  },
  {
   "cell_type": "code",
   "execution_count": 9,
   "metadata": {},
   "outputs": [
    {
     "name": "stdout",
     "output_type": "stream",
     "text": [
      "Success!\n"
     ]
    }
   ],
   "source": [
    "@exercise\n",
    "def transpose(a : Matrix) -> Matrix:\n",
    "    \n",
    "    n = len(a) #Get the lenght of the input matrix\n",
    "    m = len(a[0]) #Get the width of the input matrix\n",
    "    \n",
    "    # You can use the following function to initialize an n×m matrix filled with 0s to store your answer\n",
    "    ans = create_empty_matrix(m, n)\n",
    "    \n",
    "    for i in range(n):\n",
    "        for j in range(m):\n",
    "            ans[j][i] = a[i][j]\n",
    "                \n",
    "    return ans"
   ]
  },
  {
   "cell_type": "markdown",
   "metadata": {},
   "source": [
    "[Return to task 5 of the Linear Algebra kata.](./LinearAlgebra.ipynb#Exercise-5:-Transpose.)"
   ]
  },
  {
   "cell_type": "markdown",
   "metadata": {},
   "source": [
    "### <span style=\"color:blue\">Exercise 6</span>: Conjugate.\n",
    "\n",
    "**Input:** An $n \\times m$ matrix $A$.\n",
    "\n",
    "**Output:** Return an $n \\times m$ matrix $\\overline{A}$, the conjugate of $A$.\n",
    "\n"
   ]
  },
  {
   "cell_type": "markdown",
   "metadata": {},
   "source": [
    "### Solutions\n",
    "\n",
    "The get the cojugate of a matrix you take the conjugate of each specific element:\n",
    "\n",
    "$$A =\n",
    "\\begin{bmatrix}\n",
    "    x_{0,0} & x_{0,1} & \\dotsb & x_{0,m-1} \\\\\n",
    "    x_{1,0} & x_{1,1} & \\dotsb & x_{1,m-1} \\\\\n",
    "    \\vdots & \\vdots & \\ddots & \\vdots \\\\\n",
    "    x_{n-1,0} & x_{n-1,1} & \\dotsb & x_{n-1,m-1}\n",
    "\\end{bmatrix} \\quad\n",
    "\\overline{A} =\n",
    "\\begin{bmatrix}\n",
    "    \\overline{x}_{0,0} & \\overline{x}_{0,1} & \\dotsb & \\overline{x}_{0,m-1} \\\\\n",
    "    \\overline{x}_{1,0} & \\overline{x}_{1,1} & \\dotsb & \\overline{x}_{1,m-1} \\\\\n",
    "    \\vdots & \\vdots & \\ddots & \\vdots \\\\\n",
    "    \\overline{x}_{n-1,0} & \\overline{x}_{n-1,1} & \\dotsb & \\overline{x}_{n-1,m-1}\n",
    "\\end{bmatrix}$$\n",
    "\n",
    "To calculate the conjugate of a matrix take the conjugate of each element, check the [complex arithmetic tutorial](../ComplexArithmetic/ComplexArithmetic.ipynb#Exercise-4:-Complex-conjugate.) to see how to calculate the conjugate of a complex number.\n",
    "\n",
    ">*Python note*: In the previous notebook about [complex arithmetic](./ComplexArithmetic/ComplexArithmetic.ipynb) complex numbers where discussed and used for calculation. To represent a complex number we used tuples like these: `(real,imaginary)`, this was great to learn how to use complex numbers. However Python also has a native `complex` number data type, for more information [here](https://docs.python.org/3.8/library/functions.html#complex) is the official documentation. Next to the data type Python also has the [cmath library](https://docs.python.org/3.8/library/cmath.html), which has a lot of useful function to perform on complex numbers.\n",
    ">\n",
    ">Using the `complex` data type is very intuitive, here we will give an example. The code below creates a new complex number with real and imaginary part and then return the polar representation of that number and print it. The code also shows how you could get the real and imaginary part of a complex number.\n",
    ">\n",
    ">```Python\n",
    ">#Import the cmath library which has the complex number functions.\n",
    ">import cmath\n",
    ">\n",
    ">#Set the real and imaginary part of the complex number\n",
    ">real = 5\n",
    ">imaginary = 3\n",
    ">\n",
    ">#Create a new complex number with the real and imaginary part\n",
    ">complexNumber = complex(real, imaginary)\n",
    ">\n",
    ">#Get the real part of the complex number and prints this (result: 5)\n",
    ">print(complexNumber.real) \n",
    ">\n",
    ">#Get the imaginary part of the complex number and prints this (result: 3)\n",
    ">print(complexNumber.imag)\n",
    ">\n",
    ">#Convert the complex number to polar representation, using the cmath libary\n",
    ">polar = cmath.polar(complexNumber)\n",
    ">\n",
    ">print(polar) #This prints: (5.830951894845301, 0.5404195002705842)\n",
    ">```\n",
    ">\n",
    ">To create the complex conjugate matrix we loop trough each element of the matrix and flip the sign for each of the imaginary parts of all elements. "
   ]
  },
  {
   "cell_type": "code",
   "execution_count": 10,
   "metadata": {},
   "outputs": [
    {
     "name": "stdout",
     "output_type": "stream",
     "text": [
      "Success!\n"
     ]
    }
   ],
   "source": [
    "@exercise\n",
    "def conjugate(a : Matrix) -> Matrix:\n",
    "    n = len(a)\n",
    "    m = len(a[0])\n",
    "    \n",
    "    # You can use the following function to initialize an n×m matrix filled with 0s to store your answer\n",
    "    ans = create_empty_matrix(n, m)\n",
    "    \n",
    "    for i in range(n):\n",
    "        for j in range(m):\n",
    "            #Create complex number for each element in the matrix, notice the - sign at the imaginary part of the number.\n",
    "            ans[i][j] = complex(a[i][j].real,-a[i][j].imag)\n",
    "            \n",
    "    return ans"
   ]
  },
  {
   "cell_type": "markdown",
   "metadata": {},
   "source": [
    "[Return to task 6 of the Linear Algebra kata.](./LinearAlgebra.ipynb#Exercise-6:-Conjugate.)"
   ]
  },
  {
   "cell_type": "markdown",
   "metadata": {},
   "source": [
    "### <span style=\"color:blue\">Exercise 7</span>: Adjoint.\n",
    "\n",
    "**Input:** An $n \\times m$ matrix $A$.\n",
    "\n",
    "**Output:** Return an $m \\times n$ matrix $A^\\dagger$, the adjoint of $A$.\n",
    "\n"
   ]
  },
  {
   "cell_type": "markdown",
   "metadata": {},
   "source": [
    "### Solution\n",
    "\n",
    "To get the adjoint we perform a **transpose** and **conjugate** operation on the input matrix.  \n",
    "We can write the whole procedure, like we have done below, but we could also leverage the answers we created above. In python the `def` word defines a function, which could be reused anywhere in the code.  "
   ]
  },
  {
   "cell_type": "code",
   "execution_count": 11,
   "metadata": {},
   "outputs": [
    {
     "name": "stdout",
     "output_type": "stream",
     "text": [
      "Success!\n"
     ]
    }
   ],
   "source": [
    "@exercise\n",
    "def adjoint(a : Matrix) -> Matrix:\n",
    "    \n",
    "    #Call the transpose function with the input matrix a, and store the result in a new matrix named ans.\n",
    "    ans = transpose(a)\n",
    "    \n",
    "    #Call the cojugate function with the previous transposed matrix as input and store the result in the ans matrix, \n",
    "    #this will overwrite the previous matrix in the ans variable.\n",
    "    ans = conjugate(ans)\n",
    "    \n",
    "    return ans"
   ]
  },
  {
   "cell_type": "markdown",
   "metadata": {},
   "source": [
    "[Return to task 7 of the Linear Algebra kata.](./LinearAlgebra.ipynb#Exercise-7:-Adjoint.)"
   ]
  },
  {
   "cell_type": "markdown",
   "metadata": {},
   "source": [
    "### <span style=\"color:blue\">Exercise 8</span>: Unitary Verification.\n",
    "\n",
    "**Input:** An $n \\times n$ matrix $A$.\n",
    "\n",
    "**Output:** Check if the matrix is unitary and return `True` if it is, or `False` if it isn't."
   ]
  },
  {
   "cell_type": "markdown",
   "metadata": {},
   "source": [
    "### Solution\n",
    "\n",
    "A matrix is unitary if this holds true:  $UU^\\dagger = U^\\dagger U = I_n$.\n",
    "\n",
    "To check if the input matrix is unitary we will walk trough these steps:\n",
    "1. Create the adjoint of the input matrix.\n",
    "2. Multiply the transpose matrix with the input matrix.\n",
    "3. Check if the multiplied matrix equals to an identity matrix. \n",
    "\n",
    ">*Python note:* To start we will leverage the `adjoint` and the `matrix_mult` functions what we have created above.\n",
    ">When we have the multiplied matrix we will loop trough all the cells and check if these equal the identity matrix.  \n",
    ">To freshen up what is an identity matrix? This is a matrix with all 0's except for the diagonal line from top left to bottom right, like this:\n",
    ">$$ I_n = \\begin{bmatrix}\n",
    "1 & 0  & \\cdots & 0 \\\\\n",
    "0 & 1  & \\cdots & 0 \\\\\n",
    "\\vdots & \\vdots & \\ddots & \\vdots \\\\\n",
    "0 & 0  & \\cdots & 1 \\end{bmatrix} $$\n",
    ">Because of inaccuracy when dealing with floating point numbers on a computer (rounding errors), you won't always get the exact result you are expecting from a long series of calculations. To get around this, Python has a function `approx` which can be used to check if two numbers are \"close enough:\" `a == approx(b)`."
   ]
  },
  {
   "cell_type": "code",
   "execution_count": 14,
   "metadata": {},
   "outputs": [
    {
     "name": "stdout",
     "output_type": "stream",
     "text": [
      "Success!\n"
     ]
    }
   ],
   "source": [
    "from pytest import approx\n",
    "\n",
    "@exercise\n",
    "def is_matrix_unitary(a : Matrix) -> bool:\n",
    "    \n",
    "    n = len(a)\n",
    "    \n",
    "    #Create the adjoint matrix with the use of the previous created function\n",
    "    adjointMatrix = adjoint(a)\n",
    "    \n",
    "    #Multiply the adjoint matrix with the input matrx\n",
    "    multipliedMatrix = matrix_mult(a,adjointMatrix)\n",
    "    \n",
    "    #Loop trough the multiplied matrix\n",
    "    for i in range(n):\n",
    "        for j in range(n):\n",
    "            #An identity matrix has 1's on all the places where the row index and column index are equal\n",
    "            if i == j :\n",
    "                #Check if the values for the multiplied matrix are approxamately 1 for the diagonal \n",
    "                #in de identity matrix\n",
    "                if multipliedMatrix[i][j] != approx(1): \n",
    "                    #If the value is not approxamately 1, stop the excicution of the function and return false, \n",
    "                    #indicating that the input matrix in not unitary\n",
    "                    return False\n",
    "            #This part of the code will be reached when we are at an element in the matrix \n",
    "            #where the row index and column index are not equal\n",
    "            else:\n",
    "                #Check if the values are approxamately 0 \n",
    "                if multipliedMatrix[i][j] != approx(0):\n",
    "                    #If the values are not 0 terminate function and return false.\n",
    "                    return False\n",
    "                    \n",
    "    \n",
    "    return True"
   ]
  },
  {
   "cell_type": "markdown",
   "metadata": {},
   "source": [
    "[Return to task 8 of the Linear Algebra kata.](./LinearAlgebra.ipynb#Exercise-8:-Unitary-Verification.)"
   ]
  },
  {
   "cell_type": "markdown",
   "metadata": {},
   "source": [
    "### <span style=\"color:blue\">Exercise 9</span>: Inner product.\n",
    "\n",
    "**Inputs:**\n",
    "\n",
    "1. An $n \\times 1$ vector $V$.\n",
    "2. An $n \\times 1$ vector $W$.\n",
    "\n",
    "**Output:** Return a complex number - the inner product $\\langle V , W \\rangle$."
   ]
  },
  {
   "cell_type": "markdown",
   "metadata": {},
   "source": [
    "### Solution\n",
    "\n",
    "Inner products of two vectors can be calculated as follows:\n",
    "\n",
    "$$\\langle\n",
    "\\begin{bmatrix}\n",
    "    a \\\\\n",
    "    b\n",
    "\\end{bmatrix}\n",
    ",\n",
    "\\begin{bmatrix}\n",
    "    c \\\\\n",
    "    d\n",
    "\\end{bmatrix}\n",
    "\\rangle =\n",
    "\\begin{bmatrix}\n",
    "    a \\\\\n",
    "    b\n",
    "\\end{bmatrix}^\\dagger\n",
    "\\begin{bmatrix}\n",
    "    c \\\\\n",
    "    c\n",
    "\\end{bmatrix}\n",
    "=\n",
    "\\begin{bmatrix} \\overline{a} & \\overline{b} \\end{bmatrix}\n",
    "\\begin{bmatrix}\n",
    "    c \\\\\n",
    "    d\n",
    "\\end{bmatrix}\n",
    "= \\overline{a} \\cdot c + \\overline{b} \\cdot d$$\n",
    "\n",
    ">*Python note:* We will again use the functions that we have defined earlier so we do not have to rewrite functions.  \n",
    ">The operation it self does not introduce new things however we keep in mind to return a complex number and not a matrix, which is the result of the multiplication. Therefore at the end we extract the first element of the `resultMatrix`, and return only that specific element."
   ]
  },
  {
   "cell_type": "code",
   "execution_count": 15,
   "metadata": {},
   "outputs": [
    {
     "name": "stdout",
     "output_type": "stream",
     "text": [
      "Success!\n"
     ]
    }
   ],
   "source": [
    "@exercise\n",
    "def inner_prod(v : Matrix, w : Matrix) -> complex:\n",
    "    \n",
    "    #Get the adjoint of the v matrix\n",
    "    adjointMatrix = adjoint(v)\n",
    "    \n",
    "    #Multiply the adjoint matrix and w matrix. The result will be a matrix with only one element.\n",
    "    resultMatrix = matrix_mult(adjointMatrix,w)\n",
    "    \n",
    "    #To get the actual complex numver we have to take this from the multiplied matrix.\n",
    "    ans = resultMatrix[0][0]\n",
    "\n",
    "    return ans"
   ]
  },
  {
   "cell_type": "markdown",
   "metadata": {},
   "source": [
    "[Return to task 9 of the Complex Arithmetic kata.](./LinearAlgebra.ipynb#Exercise-9:-Inner-product.)"
   ]
  },
  {
   "cell_type": "markdown",
   "metadata": {},
   "source": [
    "### <span style=\"color:blue\">Exercise 10</span>: Normalized vectors.\n",
    "\n",
    "**Input:** A non-zero $n \\times 1$ vector $V$.\n",
    "\n",
    "**Output:** Return an $n \\times 1$ vector $\\frac{V}{||V||}$ - the normalized version of the vector $V$."
   ]
  },
  {
   "cell_type": "markdown",
   "metadata": {},
   "source": [
    "### Solution \n",
    "\n",
    "Vector $V = \\begin{bmatrix}a & b & c \\end{bmatrix}$\n",
    "\n",
    "Normalized vector $V$:\n",
    "\n",
    "$$ ||V|| = \\sqrt{|a|^2 + |b|^2 + |c|^2} $$\n",
    "$$ \\text{Normalized } V = \\begin{bmatrix}\\frac{a}{||V||} & \\frac{b}{||V||} & \\frac{c}{||V||}  \\end{bmatrix} $$\n"
   ]
  },
  {
   "cell_type": "code",
   "execution_count": 32,
   "metadata": {},
   "outputs": [
    {
     "name": "stdout",
     "output_type": "stream",
     "text": [
      "Success!\n"
     ]
    }
   ],
   "source": [
    "@exercise\n",
    "def normalize(v : Matrix) -> Matrix:\n",
    "\n",
    "    n = len(v)\n",
    "    \n",
    "    #Temporary variable to store the result for the loop\n",
    "    denominatorSum = 0\n",
    "    for i in range(n):\n",
    "        denominatorSum += abs(v[i][0])**2\n",
    "\n",
    "    constant = math.sqrt(denominatorSum.real)\n",
    "    \n",
    "    c = create_empty_matrix(n, 1)\n",
    "    \n",
    "    #Devide each element of the vector with the constant\n",
    "    for i in range(n):\n",
    "        c[i][0] = v[i][0] / constant\n",
    "        \n",
    "    return c"
   ]
  },
  {
   "cell_type": "markdown",
   "metadata": {},
   "source": [
    "[Return to task 10 of the Linear Algebra kata.](./LinearAlgebra.ipynb#Exercise-10:-Normalized-vectors.)"
   ]
  },
  {
   "cell_type": "markdown",
   "metadata": {},
   "source": [
    "### <span style=\"color:blue\">Exercise 11</span>: Outer product.\n",
    "\n",
    "**Inputs:**\n",
    "\n",
    "1. An $n \\times 1$ vector $V$.\n",
    "2. An $m \\times 1$ vector $W$.\n",
    "\n",
    "**Output:** Return an $n \\times m$ matrix that represents the outer product of $V$ and $W$."
   ]
  },
  {
   "cell_type": "markdown",
   "metadata": {},
   "source": [
    "### Solution\n",
    "\n",
    "The goal is to calcualte the outer product of  $\\begin{bmatrix} -3i \\\\ 9 \\end{bmatrix}$ and $\\begin{bmatrix} 9i \\\\ 2 \\\\ 7 \\end{bmatrix}$ this gives:\n",
    "\n",
    "$$\\begin{bmatrix} a \\\\ b \\end{bmatrix}\n",
    "\\begin{bmatrix} c \\\\ d \\\\ e\\end{bmatrix}^\\dagger\n",
    "=\n",
    "\\begin{bmatrix} a \\\\ b \\end{bmatrix}\n",
    "\\begin{bmatrix} \\overline{c} & \\overline{d}  & \\overline{e} \\end{bmatrix}\n",
    "=\n",
    "\\begin{bmatrix}\n",
    "    a \\cdot \\overline{c} & a \\cdot \\overline{d} & a \\cdot \\overline{e} \\\\\n",
    "    b \\cdot \\overline{c} & b \\cdot \\overline{d} & b \\cdot \\overline{e}\n",
    "\\end{bmatrix}\n",
    "$$\n",
    "\n",
    ">*Python note:* We do a similar aproach as with the inner product, except here we do not return a specific number but the whole matrix. "
   ]
  },
  {
   "cell_type": "code",
   "execution_count": 33,
   "metadata": {},
   "outputs": [
    {
     "name": "stdout",
     "output_type": "stream",
     "text": [
      "Success!\n"
     ]
    }
   ],
   "source": [
    "@exercise\n",
    "def outer_prod(v : Matrix, w : Matrix) -> Matrix:\n",
    "    \n",
    "    #Ajoint of the right matrix\n",
    "    adjointMatrix = adjoint(w)\n",
    "    \n",
    "    #Multiply the left matrix with the adjoint right matrix and store this in the ans variable\n",
    "    ans = matrix_mult(v,adjointMatrix)\n",
    "    \n",
    "    return ans"
   ]
  },
  {
   "cell_type": "markdown",
   "metadata": {},
   "source": [
    "[Return to task 11 of the Linear Algebra kata.](./LinearAlgebra.ipynb#Exercise-11:-Outer-product.)"
   ]
  },
  {
   "cell_type": "markdown",
   "metadata": {},
   "source": [
    "### <span style=\"color:blue\">Exercise 12</span>*: Tensor Product.\n",
    "\n",
    "**Inputs:**\n",
    "\n",
    "1. An $n \\times m$ matrix $A$.\n",
    "2. A $k \\times l$ matrix $B$.\n",
    "\n",
    "**Output:** Return an $(n \\cdot k) \\times (m \\cdot l)$ matrix $A \\otimes B$, the tensor product of $A$ and $B$."
   ]
  },
  {
   "cell_type": "markdown",
   "metadata": {},
   "source": [
    "### Solution\n",
    "\n",
    "$$\\begin{bmatrix} a & b \\\\ c & d \\end{bmatrix} \\otimes \\begin{bmatrix} e & f \\\\ g & h \\end{bmatrix} =\n",
    "\\begin{bmatrix}\n",
    "    a \\cdot \\begin{bmatrix} e & f \\\\ g & h \\end{bmatrix} & b \\cdot \\begin{bmatrix} e & f \\\\ g & h \\end{bmatrix} \\\\\n",
    "    c \\cdot \\begin{bmatrix} e & f \\\\ g & h \\end{bmatrix} & d \\cdot \\begin{bmatrix} e & f \\\\ g & h \\end{bmatrix}\n",
    "\\end{bmatrix}\n",
    "=\n",
    "\\begin{bmatrix}\n",
    "    a \\cdot e & a \\cdot f & b \\cdot e & b \\cdot f \\\\\n",
    "    a \\cdot g & a \\cdot h & b \\cdot g & b \\cdot h \\\\\n",
    "    c \\cdot e & c \\cdot f & d \\cdot e & d \\cdot f \\\\\n",
    "    c \\cdot g & c \\cdot h & d \\cdot g & d \\cdot h\n",
    "\\end{bmatrix}\n",
    "$$\n",
    "\n",
    "\n",
    ">*Python note:* To calculate the tensor product we are using 4 loops"
   ]
  },
  {
   "cell_type": "code",
   "execution_count": 34,
   "metadata": {},
   "outputs": [
    {
     "name": "stdout",
     "output_type": "stream",
     "text": [
      "Success!\n"
     ]
    }
   ],
   "source": [
    "@exercise\n",
    "def tensor_product(a : Matrix, b : Matrix) -> Matrix:\n",
    "    \n",
    "    aRows = len(a) # number of rows for matrix a\n",
    "    aColumns = len(a[0]) # number of columns for matrix a\n",
    "    bRows = len(b) # number of rows for matrix b\n",
    "    bColumns = len(b[0]) # number of columns for matrix b\n",
    "    \n",
    "    #Create a new matrix with the needed size, with all 0 values\n",
    "    ans = create_empty_matrix(aRows * bRows, aColumns *  bColumns)\n",
    "    \n",
    "    #Outer loop, loops troug the rows of the left matrix\n",
    "    for i in range(aRows):\n",
    "        for j in range(aColumns):\n",
    "            for o in range(bRows):\n",
    "                for p in range(bColumns):\n",
    "                    #Asign the new values to the proper index in the new matrix\n",
    "                    ans[i * bRows + o][j * bColumns + p] = a[i][j] * b[o][p]\n",
    "    \n",
    "    return ans"
   ]
  },
  {
   "cell_type": "markdown",
   "metadata": {},
   "source": [
    "[Return to task 12 of the Complex Arithmetic kata.](./LinearAlgebra.ipynb#Exercise-12*:-Tensor-Product.)"
   ]
  },
  {
   "cell_type": "markdown",
   "metadata": {},
   "source": [
    "### <span style=\"color:blue\">Exercise 13</span>: Finding an eigenvalue.\n",
    "\n",
    "**Inputs:**\n",
    "\n",
    "1. An $n \\times n$ matrix $A$.\n",
    "2. An eigenvector $V$ of matrix $A$.\n",
    "\n",
    "**Output:** Return a real number - the eigenvalue of $A$ that is associated with the given eigenvector.\n",
    "\n",
    "> Note that in this task the matrices are real-valued.\n",
    "\n",
    "<br/>\n",
    "<details>\n",
    "    <summary><strong>Need a hint? Click here</strong></summary>\n",
    "    Multiply the matrix by the vector, then divide elements of the result by elements of the original vector. Don't forget though, some elements of the vector may be $0$.\n",
    "</details>"
   ]
  },
  {
   "cell_type": "markdown",
   "metadata": {},
   "source": [
    "### Solution\n",
    "\n",
    "Possible eigenvalue given the eigenvector:\n",
    "\n",
    "$$ A \\cdot V = \\begin{bmatrix} a & b & c \\\\ d & e & f \\\\ g & h & i \\end{bmatrix} \\cdot \\begin{bmatrix}j \\\\ k \\\\ l \\end{bmatrix} = \\begin{bmatrix} m & n & o \\end{bmatrix}$$\n",
    "There could be multiple Eigenvalues, calcualting the first could be done like this:\n",
    "$$ e_1 = \\frac{m}{a} $$\n",
    "\n",
    ">*Python note*:  In the code below we use a `try ... except` statement, an `if` statement could also be used here but we wanted to show how this could work with `try ... except`. A `try` statement allows you to run code which might fail, like in this case dividing by 0 and handle what happens when such an error happens. In this case when a 0 division is made it will reach the `except` part of the code and print that you can not divide those number, this part will only be reached when there is a divison error. "
   ]
  },
  {
   "cell_type": "code",
   "execution_count": 38,
   "metadata": {},
   "outputs": [
    {
     "name": "stdout",
     "output_type": "stream",
     "text": [
      "Can not divide\n",
      "Can not divide\n",
      "Can not divide\n",
      "Success!\n"
     ]
    }
   ],
   "source": [
    "@exercise\n",
    "def find_eigenvalue(a : Matrix, v : Matrix) -> float:\n",
    "\n",
    "    #Lenght of vector v\n",
    "    n = len(v)\n",
    "    \n",
    "    #Multiply matrix a and vector v, useing previous defined functions \n",
    "    multiplied = matrix_mult(a,v)\n",
    "\n",
    "    #Initialize a variable with 0 which can be used later to store the division result\n",
    "    ans = 0\n",
    "    \n",
    "    #Loop trough vector v and divide the multiplied matrix with the vector.\n",
    "    for i in range(n):\n",
    "        #Wrap the division in a try block to catch division errors\n",
    "        try:\n",
    "            #Try to divide the row of the multiplied matrix with the corrensponding row in the vector.\n",
    "            ans = multiplied[i][0] / v[i][0]\n",
    "        except:\n",
    "            #When the division could not be performed print out an message\n",
    "            print('Can not divide')\n",
    "    \n",
    "    return ans"
   ]
  },
  {
   "cell_type": "markdown",
   "metadata": {},
   "source": [
    "[Return to task 13 of the Linear Algebra kata.](/LinearAlgebra.ipynb#Exercise-13:-Finding-an-eigenvalue.)"
   ]
  },
  {
   "cell_type": "markdown",
   "metadata": {},
   "source": [
    "### <span style=\"color:blue\">Exercise 14</span>**: Finding an eigenvector.\n",
    "\n",
    "**Inputs:**\n",
    "\n",
    "1. A $2 \\times 2$ matrix $A$.\n",
    "2. An eigenvalue $x$ of matrix $A$.\n",
    "\n",
    "\n",
    "**Output:** Return any non-zero eigenvector of $A$ that is associated with $x$.\n",
    "\n",
    "<br/>\n",
    "<details>\n",
    "    <summary><strong>Need a hint? Click here</strong></summary>\n",
    "    A matrix and an eigenvalue will have multiple eigenvectors (infinitely many, in fact), but you only need to find one.<br/>\n",
    "    Try treating the elements of the vector as variables in a system of two equations. Watch out for division by $0$! \n",
    "</details>"
   ]
  },
  {
   "cell_type": "markdown",
   "metadata": {},
   "source": [
    "### Solution\n",
    "\n",
    "Searching for an eigenvector given a specific eigenvalue ($x$) asks for solving the following equation:\n",
    "\n",
    "$$ A - (x \\cdot I_n) \\cdot V = 0 $$\n",
    "\n",
    "In words the followings happens: \n",
    "1. Multiply the eigenvalue with an identity matrix of 2x2 \n",
    "2. Subtract this new matrix from the given matrix $A$\n",
    "3. Find vector to multiply this newly subtracted matrix with which will result in a 0 vector\n",
    "\n",
    "This gives the following:\n",
    "\n",
    "1. $$ x \\cdot \\begin{bmatrix} 1 & 0 \\\\ 0 & 1 \\end{bmatrix} = \\begin{bmatrix} x & 0 \\\\ 0 & x \\end{bmatrix} $$\n",
    "\n",
    "\n",
    "2. $$ \\begin{bmatrix} a & b \\\\ c & d \\end{bmatrix} - \\begin{bmatrix} x & 0 \\\\ 0 & x \\end{bmatrix} = \\begin{bmatrix} a -x & b \\\\ c & d -x \\end{bmatrix} $$ \n",
    "\n",
    "\n",
    "3. $$ \\begin{bmatrix} a - x & b \\\\ c & d - x \\end{bmatrix} \\cdot \\begin{bmatrix} v_1 \\\\ v_2 \\end{bmatrix} = \\begin{bmatrix} 0 \\\\ 0 \\end{bmatrix}$$\n",
    "\n",
    "this can be solved with the following equations:\n",
    "\n",
    "$$ (a - x) \\cdot v_1 + b \\cdot v_2 = 0  $$\n",
    "$$ c \\cdot v_1 + (d - x) \\cdot v_2 = 0  $$\n",
    "\n",
    "This gives a huge possibility in possible eigenvectors, in our solution code we therefore always $x_1 = 1$ if this is possible.\n",
    "\n",
    ">Mostly the eigenvalue is represented as $\\lambda$ not as $x$ as we use here"
   ]
  },
  {
   "cell_type": "code",
   "execution_count": 4,
   "metadata": {},
   "outputs": [
    {
     "name": "stdout",
     "output_type": "stream",
     "text": [
      "Success!\n"
     ]
    }
   ],
   "source": [
    "@exercise\n",
    "def find_eigenvector(a : Matrix, x : float) -> Matrix:\n",
    "    \n",
    "    #This if partion looks for possible edge cased which would result in zero division\n",
    "    if (a[0][1] == 0):\n",
    "        if (a[0][0] - x == 0):\n",
    "            return [[1], [0]]\n",
    "        else:\n",
    "            return [[0], [1]]\n",
    "    \n",
    "    #As discussed in the solution text we set x1 to 1, because of the huge ammount possiblities\n",
    "    x1 = 1\n",
    "    \n",
    "    #When we set x1 to 1 we can calculate x2 like this\n",
    "    x2 =(a[0][0] - x) / (-a[0][1])\n",
    "    \n",
    "    resultVector = [[x1], [x2]]\n",
    "    \n",
    "    return resultVector"
   ]
  },
  {
   "cell_type": "markdown",
   "metadata": {},
   "source": [
    "[Return to task 14 of the Linear Algebra kata.](./LinearAlgebra.ipynb#Exercise-14**:-Finding-an-eigenvector.)"
   ]
  }
 ],
 "metadata": {
  "kernelspec": {
   "display_name": "Python 3",
   "language": "python",
   "name": "python3"
  },
  "language_info": {
   "codemirror_mode": {
    "name": "ipython",
    "version": 3
   },
   "file_extension": ".py",
   "mimetype": "text/x-python",
   "name": "python",
   "nbconvert_exporter": "python",
   "pygments_lexer": "ipython3",
   "version": "3.7.3"
  }
 },
 "nbformat": 4,
 "nbformat_minor": 2
}
