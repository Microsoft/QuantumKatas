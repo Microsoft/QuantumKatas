{
 "cells": [
  {
   "cell_type": "markdown",
   "metadata": {},
   "source": [
    "# Multi-qubit Gates\n",
    "\n",
    "This tutorial is designed to introduce you to applying gates to multi-qubit systems. If you aren't familiar with how those systems are represented, you should review the [relevant tutorial](../MultiQubitSystems/MultiQubitSystems.ipynb).\n",
    "\n",
    "This tutorial covers the following topics:\n",
    "\n",
    "- Applying gates to part of the system\n",
    "- CNOT Gate\n",
    "- SWAP Gate\n",
    "- Controlled gates\n",
    "- Anti-controls"
   ]
  },
  {
   "cell_type": "markdown",
   "metadata": {},
   "source": [
    "To begin, first prepare this notebook for execution (if you skip this step, you'll get \"Syntax does not match any known patterns\" error when you try to execute Q# code in the next cells):"
   ]
  },
  {
   "cell_type": "code",
   "execution_count": null,
   "metadata": {},
   "outputs": [],
   "source": [
    "%package Microsoft.Quantum.Katas::0.10.1910.3107"
   ]
  },
  {
   "cell_type": "markdown",
   "metadata": {},
   "source": [
    "> The package versions in the output of the cell above should always match. If you are running the Notebooks locally and the versions do not match, please install the IQ# version that matches the version of the `Microsoft.Quantum.Katas` package.\n",
    "> <details>\n",
    "> <summary><u>How to install the right IQ# version</u></summary>\n",
    "> For example, if the version of `Microsoft.Quantum.Katas` package above is 0.1.2.3, the installation steps are as follows:\n",
    ">\n",
    "> 1. Stop the kernel.\n",
    "> 2. Uninstall the existing version of IQ#:\n",
    ">        dotnet tool uninstall microsoft.quantum.iqsharp -g\n",
    "> 3. Install the matching version:\n",
    ">        dotnet tool install microsoft.quantum.iqsharp -g --version 0.1.2.3\n",
    "> 4. Reinstall the kernel:\n",
    ">        dotnet iqsharp install\n",
    "> 5. Restart the Notebook.\n",
    "> </details>\n"
   ]
  },
  {
   "cell_type": "markdown",
   "metadata": {},
   "source": [
    "## The Basics\n",
    "\n",
    "Single-qubit gates are represented by $2\\times2$ unitary matrices to be multiplied by the state vector of the qubit the gate is being applied to. Similarly, multi-qubit gates are represented by $2^N\\times2^N$ matrices, where $N$ is the number of qubits the gate is acting on. To apply this gate, you multiply the matrix by the state vector of the quantum system."
   ]
  },
  {
   "cell_type": "markdown",
   "metadata": {},
   "source": [
    "## Changing Part of the System\n",
    "\n",
    "The simplest thing we can do with multi-qubit systems is to apply gates to only part of the system. To demonstrate this, we will be applying single-qubit gates to a two-qubit system.\n",
    "\n",
    "Similar to constructing multi-qubit systems out of tensor products of single qubits, you can construct compound gates out of tensor products of the underlying gates. For example, applying the $X$ gate to the first qubit and the $H$ gate to the second qubit would have the following matrix:\n",
    "\n",
    "$$X \\otimes H =\n",
    "\\begin{bmatrix} 0 & 1 \\\\ 1 & 0 \\end{bmatrix} \\otimes \\frac{1}{\\sqrt{2}}\\begin{bmatrix} 1 & 1 \\\\ 1 & -1 \\end{bmatrix} =\n",
    "\\frac{1}{\\sqrt{2}}\\begin{bmatrix}\n",
    "    0 & 0 & 1 & 1 \\\\\n",
    "    0 & 0 & 1 & -1 \\\\\n",
    "    1 & 1 & 0 & 0 \\\\\n",
    "    1 & -1 & 0 & 0\n",
    "\\end{bmatrix}$$\n",
    "\n",
    "Leaving a qubit unchanged is the same as applying the identity gate, so to apply a gate to only one qubit in the system, and leave the other unchanged, you can use the above method, and apply the identity gate to the unchanged qubit.\n",
    "\n",
    "This generalizes to larger systems and larger gates. To calculate the matrix of a compound gate, take the tensor product of the gates you are applying in the same order as the qubits you are applying them to."
   ]
  },
  {
   "cell_type": "markdown",
   "metadata": {},
   "source": [
    "### <span style=\"color:blue\">Exercise 1</span>: Compound Gate\n",
    "\n",
    "**Inputs:** A $3$ qubit system in an arbitrary state $|\\psi\\rangle$.\n",
    "\n",
    "**Goal:** Apply the following matrix to the system. This matrix is a combination of $3$ single qubit gates.\n",
    "\n",
    "$$\\begin{bmatrix}\n",
    "    0 & -i & 0 & 0 & 0 & 0 & 0 & 0 \\\\\n",
    "    i & 0 & 0 & 0 & 0 & 0 & 0 & 0 \\\\\n",
    "    0 & 0 & 0 & -i & 0 & 0 & 0 & 0 \\\\\n",
    "    0 & 0 & i & 0 & 0 & 0 & 0 & 0 \\\\\n",
    "    0 & 0 & 0 & 0 & 0 & 1 & 0 & 0 \\\\\n",
    "    0 & 0 & 0 & 0 & -1 & 0 & 0 & 0 \\\\\n",
    "    0 & 0 & 0 & 0 & 0 & 0 & 0 & 1 \\\\\n",
    "    0 & 0 & 0 & 0 & 0 & 0 & -1 & 0\n",
    "\\end{bmatrix}$$\n",
    "\n",
    "> It would be very helpful to keep a list of common quantum gates on hand, such as [the one on Wikipedia](https://en.wikipedia.org/wiki/Quantum_logic_gate) or [our tutorial on them](../SingleQubitGates/SingleQubitGates.ipynb)."
   ]
  },
  {
   "cell_type": "code",
   "execution_count": null,
   "metadata": {},
   "outputs": [],
   "source": [
    "%kata T1_CompoundGate_Test\n",
    "\n",
    "operation CompoundGate (q1 : Qubit, q2 : Qubit, q3 : Qubit) : Unit is Adj {\n",
    "    // ...\n",
    "}"
   ]
  },
  {
   "cell_type": "markdown",
   "metadata": {},
   "source": [
    "## CNOT Gate\n",
    "\n",
    "Our first proper multi-qubit gate is the $\\text{CNOT}$ (\"controlled NOT\") gate. The $\\text{CNOT}$ gate acts on two qubits, and acts as a conditional gate of sorts. The first qubit is referred to as the **control** qubit, and the second as the **target** qubit. If the control qubit is in state $|1\\rangle$, it applies the $X$ gate to the target qubit. If the system is in a superposition of several states, the gate will act separately on each of those states.\n",
    "\n",
    "<table>\n",
    "    <col width=50>\n",
    "    <col width=50>\n",
    "    <col width=300>\n",
    "    <col width=150>\n",
    "    <col width=50>\n",
    "    <tr>\n",
    "        <th style=\"text-align:center; border:1px solid\">Gate</th>\n",
    "        <th style=\"text-align:center; border:1px solid\">Matrix</th>\n",
    "        <th style=\"text-align:center; border:1px solid\">Applying to $|\\psi\\rangle$</th>\n",
    "        <th style=\"text-align:center; border:1px solid\">Applying to basis states</th>\n",
    "        <th style=\"text-align:center; border:1px solid\">Q# Documentation</th>\n",
    "    </tr>\n",
    "    <tr>\n",
    "        <td style=\"text-align:center; border:1px solid\">$\\text{CNOT}$</td>\n",
    "        <td style=\"text-align:center; border:1px solid\">$\\begin{bmatrix} 1 & 0 & 0 & 0 \\\\ 0 & 1 & 0 & 0 \\\\ 0 & 0 & 0 & 1 \\\\ 0 & 0 & 1 & 0 \\end{bmatrix}$</td>\n",
    "        <td style=\"text-align:center; border:1px solid\">$\\text{CNOT}|\\psi\\rangle = \\alpha|00\\rangle + \\beta|01\\rangle + \\delta|10\\rangle + \\gamma|11\\rangle$</td>\n",
    "        <td style=\"text-align:center; border:1px solid\">$\\text{CNOT}|00\\rangle = |00\\rangle \\\\\n",
    "        \\text{CNOT}|01\\rangle = |01\\rangle \\\\\n",
    "        \\text{CNOT}|10\\rangle = |11\\rangle \\\\\n",
    "        \\text{CNOT}|11\\rangle = |10\\rangle$</td>\n",
    "        <td style=\"text-align:center; border:1px solid\"><a href=https://docs.microsoft.com/en-us/qsharp/api/qsharp/microsoft.quantum.intrinsic.cnot?view=qsharp-preview>CNOT</a></td>\n",
    "    </tr>\n",
    "</table>\n",
    "\n",
    "What makes the $\\text{CNOT}$ gate so special is its usefulness in creating entangled systems. Consider the following system:\n",
    "\n",
    "$$\\big(\\alpha|0\\rangle + \\beta|1\\rangle\\big) \\otimes |0\\rangle = \\alpha|00\\rangle + \\beta|10\\rangle$$\n",
    "\n",
    "If we apply the $\\text{CNOT}$ gate to it, with the first qubit as the control, and the second as the target, we get the following:\n",
    "\n",
    "$$\\alpha|00\\rangle + \\beta|11\\rangle$$\n",
    "\n",
    "This entangles the target qubit with the control qubit.\n",
    "\n",
    "The $\\text{CNOT}$ gate is self-adjoint. Applying it a second time reverses its effect."
   ]
  },
  {
   "cell_type": "markdown",
   "metadata": {},
   "source": [
    "### <span style=\"color:blue\">Exercise 2</span>: Preparing a Bell State\n",
    "\n",
    "**Input:** Two qubits in state $|0\\rangle$.\n",
    "\n",
    "**Goal:** Transform the system into the state $\\frac{1}{\\sqrt{2}}\\big(|00\\rangle + |11\\rangle\\big)$.\n",
    "\n",
    "> This is known as a **bell state** $\\Phi^+$."
   ]
  },
  {
   "cell_type": "code",
   "execution_count": null,
   "metadata": {},
   "outputs": [],
   "source": [
    "%kata T2_BellState_Test\n",
    "\n",
    "operation BellState (q1 : Qubit, q2 : Qubit) : Unit is Adj {\n",
    "    // ...\n",
    "}"
   ]
  },
  {
   "cell_type": "markdown",
   "metadata": {},
   "source": [
    "## SWAP Gate\n",
    "\n",
    "The next gate we should cover is the $\\text{SWAP}$ gate. The $\\text{SWAP}$ gate acts on two qubits, and, as the name implies, swaps their quantum states.\n",
    "\n",
    "<table style=\"border:1px solid\">\n",
    "    <col width=50>\n",
    "    <col width=50>\n",
    "    <col width=300>\n",
    "    <col width=150>\n",
    "    <tr>\n",
    "        <th style=\"text-align:center; border:1px solid\">Gate</th>\n",
    "        <th style=\"text-align:center; border:1px solid\">Matrix</th>\n",
    "        <th style=\"text-align:center; border:1px solid\">Applying to $|\\psi\\rangle$</th>\n",
    "        <th style=\"text-align:center; border:1px solid\">Applying to basis states</th>\n",
    "        <th style=\"text-align:center; border:1px solid\">Q# Documentation</th>\n",
    "    </tr>\n",
    "    <tr>\n",
    "        <td style=\"text-align:center; border:1px solid\">$\\text{SWAP}$</td>\n",
    "        <td style=\"text-align:center; border:1px solid\">$\\begin{bmatrix} 1 & 0 & 0 & 0 \\\\ 0 & 0 & 1 & 0 \\\\ 0 & 1 & 0 & 0 \\\\ 0 & 0 & 0 & 1 \\end{bmatrix}$</td>\n",
    "        <td style=\"text-align:center; border:1px solid\">$\\text{SWAP}|\\psi\\rangle = \\alpha|00\\rangle + \\gamma|01\\rangle + \\beta|10\\rangle + \\delta|11\\rangle$</td>\n",
    "        <td style=\"text-align:center; border:1px solid\">$\\text{SWAP}|00\\rangle = |00\\rangle \\\\\n",
    "        \\text{SWAP}|01\\rangle = |10\\rangle \\\\\n",
    "        \\text{SWAP}|10\\rangle = |01\\rangle \\\\\n",
    "        \\text{SWAP}|11\\rangle = |11\\rangle$</td>\n",
    "        <td style=\"text-align:center; border:1px solid\"><a href=https://docs.microsoft.com/en-us/qsharp/api/qsharp/microsoft.quantum.intrinsic.swap?view=qsharp-preview>SWAP</a></td>\n",
    "    </tr>\n",
    "</table>"
   ]
  },
  {
   "cell_type": "markdown",
   "metadata": {},
   "source": [
    "### <span style=\"color:blue\">Exercise 3</span>: Swapping two qubits\n",
    "\n",
    "**Inputs:**\n",
    "\n",
    "1. A register of $N$ qubits in an arbitrary state $|\\psi\\rangle$.\n",
    "2. An integer `index1` between $0$ and $N-1$: $0 \\leq \\text{index1} < N-1$.\n",
    "3. An integer `index2` between `index1` and $N$: $\\text{index1} < \\text{index2} < N$.\n",
    "\n",
    "**Goal:** Apply the swap gate to the qubits at the indices given."
   ]
  },
  {
   "cell_type": "code",
   "execution_count": null,
   "metadata": {},
   "outputs": [],
   "source": [
    "%kata T3_QubitSwap_Test\n",
    "\n",
    "operation QubitSwap (qs : Qubit[], index1 : Int, index2 : Int) : Unit is Adj {\n",
    "    // ...\n",
    "}"
   ]
  },
  {
   "cell_type": "markdown",
   "metadata": {},
   "source": [
    "## Controlled Gates\n",
    "\n",
    "There is a class of gates known as **controlled gates**. The $\\text{CNOT}$ gate is one such gate, which is why it is also known as the controlled NOT or controlled $X$ gate.\n",
    "\n",
    "Controlled gates act on a control qubit and a target qubit, just like the $\\text{CNOT}$ gate. A controlled $U$ gate applies the $U$ gate to the target qubit if the control qubit is in state $|1\\rangle$.\n",
    "\n",
    "Given a gate $U$ with the following matrix:\n",
    "\n",
    "$$U = \\begin{bmatrix} \\alpha & \\beta \\\\ \\gamma & \\delta \\end{bmatrix}$$\n",
    "\n",
    "Its controlled version would look like this:\n",
    "\n",
    "<table style=\"border:1px solid\">\n",
    "    <col width=50>\n",
    "    <col width=50>\n",
    "    <col width=150>\n",
    "    <tr>\n",
    "        <th style=\"text-align:center; border:1px solid\">Gate</th>\n",
    "        <th style=\"text-align:center; border:1px solid\">Matrix</th>\n",
    "        <th style=\"text-align:center; border:1px solid\">Q# Documentation</th>\n",
    "    </tr>\n",
    "    <tr>\n",
    "        <td style=\"text-align:center; border:1px solid\">$\\text{Controlled U}$</td>\n",
    "        <td style=\"text-align:center; border:1px solid\">$\\begin{bmatrix}\n",
    "        1 & 0 & 0 & 0 \\\\\n",
    "        0 & 1 & 0 & 0 \\\\\n",
    "        0 & 0 & \\alpha & \\beta \\\\\n",
    "        0 & 0 & \\gamma & \\delta\n",
    "        \\end{bmatrix}$</td>\n",
    "        <td style=\"text-align:center; border:1px solid\"><a href=https://docs.microsoft.com/en-us/quantum/language/type-model?view=qsharp-preview#controlled>Controlled functor</a></td>\n",
    "    </tr>\n",
    "</table>\n",
    "\n",
    "This generalizes beyond controlling single qubit gates. For any multi-qubit gate, its controlled matrix will have an identity matrix in the top left quadrant, the gate itself in the bottom right, and $0$ everywhere else. Here, for example, is the $\\text{Controlled SWAP}$, or **Fredkin** gate, with the identity matrix highlighted in red, and the $\\text{SWAP}$ gate in blue:\n",
    "\n",
    "$$\\begin{bmatrix}\n",
    "    \\color{red} 1 & \\color{red} 0 & \\color{red} 0 & \\color{red} 0 & 0 & 0 & 0 & 0 \\\\\n",
    "    \\color{red} 0 & \\color{red} 1 & \\color{red} 0 & \\color{red} 0 & 0 & 0 & 0 & 0 \\\\\n",
    "    \\color{red} 0 & \\color{red} 0 & \\color{red} 1 & \\color{red} 0 & 0 & 0 & 0 & 0 \\\\\n",
    "    \\color{red} 0 & \\color{red} 0 & \\color{red} 0 & \\color{red} 1 & 0 & 0 & 0 & 0 \\\\\n",
    "    0 & 0 & 0 & 0 & \\color{blue} 1 & \\color{blue} 0 & \\color{blue} 0 & \\color{blue} 0 \\\\\n",
    "    0 & 0 & 0 & 0 & \\color{blue} 0 & \\color{blue} 0 & \\color{blue} 1 & \\color{blue} 0 \\\\\n",
    "    0 & 0 & 0 & 0 & \\color{blue} 0 & \\color{blue} 1 & \\color{blue} 0 & \\color{blue} 0 \\\\\n",
    "    0 & 0 & 0 & 0 & \\color{blue} 0 & \\color{blue} 0 & \\color{blue} 0 & \\color{blue} 1\n",
    "\\end{bmatrix}$$\n",
    "\n",
    "In Q#, controlled gates are applied using the [`Controlled`](https://docs.microsoft.com/en-us/quantum/language/type-model?view=qsharp-preview#controlled) functor. The controlled version of a gate accepts an array of control qubits, followed by the arguments to the original gate. For example, these two lines are equivalent:\n",
    "\n",
    "```C#\n",
    "Controlled X([q1], q2);\n",
    "CNOT(q1, q2);\n",
    "```\n",
    "\n",
    "In order to be able to use the controlled version of a Q# operation, that operation must have a controlled version defined. In most cases, the Q# compiler will automatically generate a controlled version if you put `is Ctl` after the operation's return type."
   ]
  },
  {
   "cell_type": "markdown",
   "metadata": {},
   "source": [
    "### <span style=\"color:blue\">Exercise 4</span>: Controlled Rotation\n",
    "\n",
    "**Inputs:**\n",
    "\n",
    "1. A control qubit in an arbitrary state $|\\phi\\rangle$.\n",
    "2. A target qubit in an arbitrary state $|\\psi\\rangle$.\n",
    "3. An angle $\\theta$: $-pi < \\theta \\leq \\pi$.\n",
    "\n",
    "**Goal:** Apply a controlled $R_x$ gate to the target qubit, controlled on the control qubit, with $\\theta$ as the angle argument for the gate.\n",
    "\n",
    "> When an operation takes multiple inputs, its controlled version takes a tuple of the inputs of the original gate. For example:\n",
    ">\n",
    "> ```C#\n",
    "> Controlled CNOT([control], (q1, q2));\n",
    "> ```"
   ]
  },
  {
   "cell_type": "code",
   "execution_count": null,
   "metadata": {},
   "outputs": [],
   "source": [
    "%kata T4_ControlledRotation_Test\n",
    "\n",
    "operation ControlledRotation (control : Qubit, target : Qubit, theta : Double) : Unit is Adj {\n",
    "    // ...\n",
    "}"
   ]
  },
  {
   "cell_type": "markdown",
   "metadata": {},
   "source": [
    "## Multi-controlled Gates\n",
    "\n",
    "It is possible to have more than one control qubit in a controlled gate by applying a control to a gate that is already controlled. The simplest example of this is the **Toffoli**, or $\\text{CCNOT}$ (controlled $\\text{CNOT}$) gate:\n",
    "\n",
    "$$\\begin{bmatrix}\n",
    "    \\color{red} 1 & \\color{red} 0 & \\color{red} 0 & \\color{red} 0 & 0 & 0 & 0 & 0 \\\\\n",
    "    \\color{red} 0 & \\color{red} 1 & \\color{red} 0 & \\color{red} 0 & 0 & 0 & 0 & 0 \\\\\n",
    "    \\color{red} 0 & \\color{red} 0 & \\color{red} 1 & \\color{red} 0 & 0 & 0 & 0 & 0 \\\\\n",
    "    \\color{red} 0 & \\color{red} 0 & \\color{red} 0 & \\color{red} 1 & 0 & 0 & 0 & 0 \\\\\n",
    "    0 & 0 & 0 & 0 & \\color{blue} 1 & \\color{blue} 0 & \\color{blue} 0 & \\color{blue} 0 \\\\\n",
    "    0 & 0 & 0 & 0 & \\color{blue} 0 & \\color{blue} 1 & \\color{blue} 0 & \\color{blue} 0 \\\\\n",
    "    0 & 0 & 0 & 0 & \\color{blue} 0 & \\color{blue} 0 & \\color{blue} 0 & \\color{blue} 1 \\\\\n",
    "    0 & 0 & 0 & 0 & \\color{blue} 0 & \\color{blue} 0 & \\color{blue} 1 & \\color{blue} 0\n",
    "\\end{bmatrix}$$\n",
    "\n",
    "In Q#, the controlled version of an operation may have multiple control qubits, all of which must be passed in the array that is the first argument."
   ]
  },
  {
   "cell_type": "markdown",
   "metadata": {},
   "source": [
    "## Other Controls\n",
    "\n",
    "There are variants of controlled gates controlling on different states. For example, an **anti-control** applies a gate only if the control qubit is in state $|0\\rangle$. It is also possible to have controls in other bases, such as applying the gate if the control qubit is in the $|+\\rangle$ state. In fact, it is possible to control for any state of the control qubits.\n",
    "\n",
    "All such controls, however, can be expressed in terms of the controls described in previous sections. By applying an operation to the control qubits that transforms the state you are looking for (and only that state) into the $|1...1\\rangle$ state, then applying the regular control, and then undoing that transformation, you can control for any arbitrary state.\n",
    "\n",
    "Q# Provides some tools to do this automatically in the [Canon](https://docs.microsoft.com/en-us/qsharp/api/qsharp/microsoft.quantum.canon?view=qsharp-preview) namespace."
   ]
  },
  {
   "cell_type": "markdown",
   "metadata": {},
   "source": [
    "### <span style=\"color:blue\">Exercise 5</span>: Arbitrary controls\n",
    "\n",
    "**Input:**\n",
    "\n",
    "1. A register of $N$ control qubits in an arbitrary state $|\\phi\\rangle$.\n",
    "2. A target qubit in an arbitrary state $|\\psi\\rangle$.\n",
    "3. An array of $N$ booleans, specifying what state each control qubit should be in order to apply the gate.\n",
    "\n",
    "**Goal:** Apply the $X$ Gate to the target qubit controlled on the state specified by the array of booleans. If the boolean is `true`, its corresponding qubit is a regular control (should be in state $|1\\rangle$), and if it is `false`, the corresponding qubit is an anti-control (should be in state $|0\\rangle$).\n",
    "\n",
    "> For example, if the array of booleans is `[true, false, true]`, the $X$ gate should only be applied if the control qubits are in state $|101\\rangle$.\n",
    "\n",
    "<br/>\n",
    "<details>\n",
    "    <summary><strong>Need a hint? Click here</strong></summary>\n",
    "    Don't forget to reset the qubits back to the state they were originally in.\n",
    "</details>"
   ]
  },
  {
   "cell_type": "code",
   "execution_count": null,
   "metadata": {},
   "outputs": [],
   "source": [
    "%kata T5_MultiControls_Test\n",
    "\n",
    "operation MultiControls (controls : Qubit[], target : Qubit, controlBits : Bool[]) : Unit is Adj {\n",
    "    // ...\n",
    "}"
   ]
  },
  {
   "cell_type": "markdown",
   "metadata": {},
   "source": [
    "## Conclusion\n",
    "\n",
    "You should now understand enough about quantum computing to start working through the katas. You should start with the [Basic Gates](../../BasicGates/BasicGates.ipynb) and [Superposition](../../Superposition/Superposition.ipynb) katas, and from there, go on to the rest of the katas."
   ]
  }
 ],
 "metadata": {
  "kernelspec": {
   "display_name": "Q#",
   "language": "qsharp",
   "name": "iqsharp"
  },
  "language_info": {
   "file_extension": ".qs",
   "mimetype": "text/x-qsharp",
   "name": "qsharp",
   "version": "0.4"
  }
 },
 "nbformat": 4,
 "nbformat_minor": 2
}
