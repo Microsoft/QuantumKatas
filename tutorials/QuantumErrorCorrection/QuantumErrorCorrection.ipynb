{
 "cells": [
  {
   "cell_type": "markdown",
   "metadata": {},
   "source": [
    "# Quantum Error Correction\n",
    "\n",
    "**Quantum error correction (QEC)** is used in quantum computing to protect quantum information from errors due to decoherence and other quantum noise. Quantum error correction is *essential* if one is to achieve fault-tolerant quantum computation that can deal not only with noise on stored quantum information, but also with faulty quantum gates, faulty quantum preparation, and faulty measurements.\n",
    "\n",
    "(You can read more about it [here]( https://en.wikipedia.org/wiki/Quantum_error_correction).) \n",
    "\n",
    "Classical error correction employs redundancy. The simplest way to reliably store information is to store it multiple times and if in future due to an unknown error it conflicst - just take a majority vote. However copying quantum information is not possible due to the [*no-cloning theorem*](https://en.wikipedia.org/wiki/No-cloning_theorem). The no-cloning theorem states that there is no Unitary Operation $U$ such that $\\forall |\\phi\\rangle$ $U|\\psi\\rangle|\\phi\\rangle = |\\phi\\rangle|\\phi\\rangle$. \n",
    "In simpler terms it in impossible to create independent copies of an unknown quantum state. \n",
    "\n",
    "However the central idea of classical error correction which is to encode few logical bits of data into greater number of physical bits is still applicable in Quantum Computing and is the cornerstone of Quantum Error Correction.\n",
    "\n",
    "In this tutorial you will learn about:\n",
    "* encoding one logical qubit into multiple physical qubits.\n",
    "* guarding against a single bit flip error\n",
    "* guarding against a single sign flip error\n",
    "* implementing Shor's 9 qubit Error Correcting Code.\n",
    "\n",
    "Let's go!"
   ]
  },
  {
   "cell_type": "markdown",
   "metadata": {},
   "source": [
    "To begin, first prepare this notebook for execution (if you skip the first step, you'll get \"Syntax does not match any known patterns\" error when you try to execute Q# code in the next cells; if you skip the second step, you'll get \"Invalid test name\" error):"
   ]
  },
  {
   "cell_type": "code",
   "execution_count": null,
   "metadata": {},
   "outputs": [],
   "source": [
    "%package Microsoft.Quantum.Katas::0.12.20070124"
   ]
  },
  {
   "cell_type": "markdown",
   "metadata": {},
   "source": [
    "> The package versions in the output of the cell above should always match. If you are running the Notebooks locally and the versions do not match, please install the IQ# version that matches the version of the `Microsoft.Quantum.Katas` package.\n",
    "> <details>\n",
    "> <summary><u>How to install the right IQ# version</u></summary>\n",
    "> For example, if the version of `Microsoft.Quantum.Katas` package above is 0.1.2.3, the installation steps are as follows:\n",
    ">\n",
    "> 1. Stop the kernel.\n",
    "> 2. Uninstall the existing version of IQ#:\n",
    ">        dotnet tool uninstall microsoft.quantum.iqsharp -g\n",
    "> 3. Install the matching version:\n",
    ">        dotnet tool install microsoft.quantum.iqsharp -g --version 0.1.2.3\n",
    "> 4. Reinstall the kernel:\n",
    ">        dotnet iqsharp install\n",
    "> 5. Restart the Notebook.\n",
    "> </details>\n"
   ]
  },
  {
   "cell_type": "code",
   "execution_count": null,
   "metadata": {},
   "outputs": [],
   "source": [
    "%workspace reload"
   ]
  },
  {
   "cell_type": "markdown",
   "metadata": {},
   "source": [
    "## The Basics:\n",
    "\n",
    "The following section provides a brief Introduction of the Basics of Quantum Error Correction - the notation, basic ideas and error correction schemes."
   ]
  },
  {
   "cell_type": "markdown",
   "metadata": {},
   "source": [
    "## Encoding Logical Qubits into Physical Qubits\n",
    "\n",
    "In classical computing, the bit can only be in the states $0$ and $1$. These states form the 2 logical states for classical computation. Error Correction involves duplicating these logical bits into multiple physical bits in order to make classical computing more fault-tolerant. In classical error correction $k$ physical bits can be used to represent $n$ logical bits where $k\\geq n$. A famous example of such an encoding scheme is the [Hamming(7,4) Scheme](https://en.wikipedia.org/wiki/Hamming(7,4)) where 7 bits are used to encode 4 logical bits.\n",
    "\n",
    "The *no cloning theorem* prevent the duplication of qubit. However we can store a logical qubit using multiple physical qubits. Henceforth we shall denote a logical qubit with the subscript $_L$. Thus the computational basis states of a single logical qubits would be denotes as $|0\\rangle_L$ and $|1\\rangle_L$. \n",
    "\n",
    "The **encoding scheme** is thus a *mapping* from logical qubits to physical qubits. \n",
    "$$E: |\\psi_i\\rangle_L \\rightarrow |\\phi_i\\rangle$$ \n",
    "The mapping encoding $n$ logical qubits into $k$ physical qubits, is a linear transformation $T: \\{0,1\\}_L^n \\rightarrow \\{0,1\\}^k$. It is a mapping from a subspace of dimension $2^n$ to a subspace of dimension $2^k$. \n",
    "\n",
    "This encoding is a quantum channel which is realised using $k-n$ ancillary qubits. The Unitary Operation is \n",
    "$$U_E: |\\psi_i\\rangle_L|0...0\\rangle \\rightarrow |\\phi_i\\rangle$$ or in vector space terms - $U_T: \\{0,1\\}_L^n\\{0\\}^{k-n} \\rightarrow \\{0,1\\}^k$."
   ]
  },
  {
   "cell_type": "markdown",
   "metadata": {},
   "source": [
    "## Types of Error\n",
    "\n",
    "In Classical Bits the only possible states are $0$ and $1$. Hence the only kind of error is a bit flip error. This error involves a bit randomly flipping: $0 \\rightarrow 1$ or $1 \\rightarrow 0$. Such an error can be modelled by randomly applying a $NOT$ gate to a bit. Classically these errors are often detected and corrected by introducing duplication of data and parity check bits. \n",
    "\n",
    "In Quantum Computing, the possible errors are not limited to bit flips, but also include sign flips (or phase flips). The most general error can be thought of as a Unitary $E$ applied to a qubit. \n",
    "\n",
    "A single qubit Unitary $U$ can be represented as a linear combination of the *Pauli Matrices* $\\{\\sigma_I,\\sigma_X,\\sigma_Y,\\sigma_Z\\}$. \n",
    "\n",
    "$$U = c_I\\sigma_I + c_X\\sigma_X + c_Y\\sigma_Y + c_Z\\sigma_Z$$\n",
    "\n",
    "where the coefficients $c_I,c_X,c_Y,c_Z$ are complex numbers satisfying the following conditions:\n",
    "$$|c_I|^2+|c_X|^2+|c_Y|^2+|c_Z|^2,$$\n",
    "$$\\mathcal{R}(c_Ic_X*) + \\mathcal{I}(c_Yc_Z*) = 0,$$\n",
    "$$\\mathcal{R}(c_Ic_Y*) + \\mathcal{I}(c_Xc_Z*) = 0,$$\n",
    "$$\\mathcal{R}(c_Ic_Z*) + \\mathcal{I}(c_Xc_Y*) = 0,$$\n",
    "where $\\mathcal{R},\\mathcal{I}$ are the Real and Imaginary Components respectively. \n",
    "\n",
    "$\\sigma_Y$ can also be represnted in terms of $\\sigma_X$ and $\\sigma_Z$, since $\\sigma_Y = i\\sigma_X\\sigma_Z$. Hence we can rewrite the Unitary $U$ as $c_I\\sigma_I + c_X\\sigma_X + c_Z\\sigma_Z + ic_Y\\sigma_X\\sigma_Z$. A circuit which can correct all errors in the following group $\\{I,X,Z,XZ\\}$ can correct any single qubit error due to linearity."
   ]
  },
  {
   "cell_type": "markdown",
   "metadata": {},
   "source": [
    "## <span style=\"color:blue\">Exercise 1</span>: Untitled\n",
    "\n",
    "**Input:** None.\n",
    "\n",
    "**Goal:** Unknown\n",
    "\n",
    "<details>\n",
    "    <summary><strong>Need a hint? Click here</strong></summary>\n",
    "    Mention some hint here\n",
    "</details>"
   ]
  },
  {
   "cell_type": "code",
   "execution_count": null,
   "metadata": {},
   "outputs": [],
   "source": [
    "%kata T1_Untitled_Test\n",
    "\n",
    "operation Untitled () : Int {\n",
    "    return 0;\n",
    "}"
   ]
  },
  {
   "cell_type": "markdown",
   "metadata": {},
   "source": [
    "## Part 1: Correcting Bit Flip Errors\n",
    "\n"
   ]
  },
  {
   "cell_type": "markdown",
   "metadata": {},
   "source": [
    "## Part 2: Correcting Sign Flip Errors\n"
   ]
  },
  {
   "cell_type": "markdown",
   "metadata": {},
   "source": [
    "## Part 3: Correcting Arbitrary One Qubit Errors\n",
    "\n"
   ]
  },
  {
   "cell_type": "markdown",
   "metadata": {},
   "source": [
    "## Conclusion\n",
    "\n",
    "Congratulations on completing the Quantum Error Correction Kata! We hope you enjoyed this tutorial on quantum error correction ! If you're looking to learn more about quantum computing and Q# checkout other Katas.\n",
    "\n",
    "The [Quantum Katas](https://github.com/microsoft/QuantumKatas/) are sets of programming exercises on quantum computing that can be solved using Q#. They cover a variety of topics, from the basics like the concepts of superposition and measurements to more interesting algorithms like Grover's search."
   ]
  }
 ],
 "metadata": {
  "kernelspec": {
   "display_name": "Q#",
   "language": "qsharp",
   "name": "iqsharp"
  },
  "language_info": {
   "file_extension": ".qs",
   "mimetype": "text/x-qsharp",
   "name": "qsharp",
   "version": "0.12"
  }
 },
 "nbformat": 4,
 "nbformat_minor": 2
}
