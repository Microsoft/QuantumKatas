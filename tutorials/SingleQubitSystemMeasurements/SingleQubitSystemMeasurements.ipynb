{
 "cells": [
  {
   "cell_type": "markdown",
   "metadata": {},
   "source": [
    "# Measurements for single qubit systems\n",
    "\n",
    "<!-- The **Measurements** quantum kata is a series of exercises designed\n",
    "to get you familiar with the concept of measurements and with programming in Q#.\n",
    "It covers the following topics:\n",
    "* single-qubit measurements,\n",
    "* discriminating orthogonal and nonorthogonal states.\n",
    " -->\n",
    "<!-- Each task is wrapped in one operation preceded by the description of the task.\n",
    "Your goal is to fill in the blank (marked with `// ...` comments)\n",
    "with some Q# code that solves the task. To verify your answer, run the cell using Ctrl+Enter (⌘+Enter on macOS). -->\n",
    "\n",
    "<!-- The tasks are given in approximate order of increasing difficulty; harder ones are marked with asterisks. -->\n",
    "\n",
    "This tutorial introduces you to measurements done on single-qubit systems. The concept of a measurement is a central part of quantum mechanics, as well as quantum algorithms. Single-qubit measurements, as their name implies are measurements on single qubits. The outcomes of a measurement in quantum mechanics are probabilistic, and in general, change the state of the qubit depending on the outcome of the measurement. \n",
    "\n",
    "We recommend to go through the [tutorial that introduces single qubit gates](../SingleQubitGates/SingleQubitGates.ipynb) before starting this one.\n",
    "\n",
    "This tutorial covers the following topics for single qubit systems:\n",
    "\n",
    "* Computational basis measurements\n",
    "* Pauli basis measurements\n",
    "* Measurements in arbitrary orthogonal bases\n",
    "\n"
   ]
  },
  {
   "cell_type": "markdown",
   "metadata": {},
   "source": [
    "$\\newcommand{\\ket}[1]{\\left|#1\\right>}$\n",
    "$\\newcommand{\\bra}[1]{\\left<#1\\right|}$\n",
    "# The Basics\n",
    "In this section, we will discuss the basics of qubit measurements, starting with measurements in the computational basis.\n",
    "\n",
    "The state $\\ket{\\psi}$ of a single qubit can always be expressed in [Dirac notation](../Qubit/Qubit.ipynb#Dirac-Notation) as \n",
    "\\begin{align*}\n",
    "    \\ket{\\psi} = \\alpha \\ket{0} + \\beta \\ket{1},\n",
    "\\end{align*}\n",
    "where $\\alpha$ and $\\beta$ are complex numbers, and the state is assumed to be normalized, so that $|\\alpha|^2 + |\\beta|^2 = 1$. Then, the outcome of a measurement done in the computational basis can either be $0$, or $1$. The probabilities of the measurement outcomes being $0$ and $1$ are $|\\alpha|^2$ and $|\\beta|^2$ respectively. Additionally, the state of the qubit is modified by the measurement. If the outcome of the measurement is $0$, then the post-measurement state of the qubit is $\\ket{0}$ (and similarly for $1$). In quantum mechanics, this is referred to as the [collapse of a wavefunction](https://en.wikipedia.org/wiki/Wave_function_collapse).\n",
    "\n",
    "Computational basis measurement outcomes and their probabilites are summarized in the table below:\n",
    "<table style=\"border:1px solid\">\n",
    "    <col width=150>\n",
    "    <col width=150>\n",
    "    <col width=150>\n",
    "    <tr>\n",
    "        <th style=\"text-align:center; border:1px solid\">Measurement Outcome</th>\n",
    "        <th style=\"text-align:center; border:1px solid\">Probability of outcome</th>\n",
    "        <th style=\"text-align:center; border:1px solid\"> Wavefunction after measurement</th>\n",
    "    </tr>\n",
    "    <tr>\n",
    "        <td style=\"text-align:center; border:1px solid\">$0$</td>\n",
    "        <td style=\"text-align:center; border:1px solid\">$|\\alpha|^2$</td>\n",
    "        <td style=\"text-align:center; border:1px solid\">$\\ket 0$</td>\n",
    "    </tr>\n",
    "    <tr>\n",
    "        <td style=\"text-align:center; border:1px solid\">$1$</td>\n",
    "        <td style=\"text-align:center; border:1px solid\">$|\\beta|^2$</td>\n",
    "        <td style=\"text-align:center; border:1px solid\">$\\ket 1$</td>\n",
    "    </tr>\n",
    "    \n",
    "</table>\n",
    "\n",
    "> Unlike quantum gates which are unitary and reversible operations, in general, measurements in quantum mechanics are neither unitary nor reversible. Since outcomes of a measurement are probabilistic, any two isolated qubits which are initially prepared in identical superposition states are in general not guaranteed to have the same measurement outcomes after each qubit has been measured separately. As we will see below, measurements are modelled by projection operators instead of unitary operators.\n",
    ">\n",
    "> Additionally, the assumption of the wavefunction being **normalized** is important for the applicablility of the statements above. This is because the probability outcomes must sum up to $1$. If the wavefunction is not normalized, it is important to first normalize it first, in order to obtain the measurement probabilities.\n"
   ]
  },
  {
   "cell_type": "markdown",
   "metadata": {},
   "source": [
    "### <span style=\"color:blue\">Exercise 1</span>: Obtain the probability outcomes for a specific state\n",
    "\n",
    "Suppose that a qubit is known to be in the following state:\n",
    "$$\\ket \\psi = 0.6 \\ket 0 + 0.8 \\ket 1 \\equiv \\begin{bmatrix} 0.6 \\\\ 0.8\\end{bmatrix}.$$\n",
    "\n",
    "If the qubit is measured in the computational basis, what are the outcome probabilities?\n",
    "\n",
    "*Can't come up with a solution? See the explained solution in the [Single Qubit System Measurements Tutorial Workbook](./Workbook_SingleQubitSystemMeasurements.ipynb#Exercise-1:-Obtain-the-probability-outcomes-for-a-specific-state).*\n"
   ]
  },
  {
   "cell_type": "markdown",
   "metadata": {},
   "source": [
    "### <span style=\"color:blue\">Demo: Measurement using the M operation</span>\n",
    "\n",
    "\n",
    "In this demo, we first prepare a qubit in the state corresponding to Exercise 1, and measure the qubit in the computational (or Pauli Z) basis. In Q#, single qubit measurements in the computational (i.e. the Pauli Z) basis can be implemented by using the [M operation](https://docs.microsoft.com/en-us/qsharp/api/qsharp/microsoft.quantum.intrinsic.m). \n"
   ]
  },
  {
   "cell_type": "code",
   "execution_count": null,
   "metadata": {},
   "outputs": [],
   "source": [
    "// Run this cell using Ctrl+Enter (⌘+Enter on Mac)\n",
    "// Run the next cell to see the output\n",
    "\n",
    "open Microsoft.Quantum.Diagnostics;\n",
    "open Microsoft.Quantum.Math;\n",
    "\n",
    "\n",
    "operation M_Measurement_Demo () : Unit {\n",
    "    let divider = \"--------------------------------------------------------------------------------------------------\";\n",
    "    using (q = Qubit()) {\n",
    "        \n",
    "        // This will put the qubit into an the superposition state |𝜓❭\n",
    "        // with |𝜓❭ = 0.6 |0❭ + 0.8 |1❭\n",
    "        Ry(2.0 * ArcTan2(0.8, 0.6), q);\n",
    "\n",
    "        Message(\"Qubit in state |𝜓❭:\");\n",
    "        DumpMachine();\n",
    "        Message(divider);\n",
    "        \n",
    "        // Let us measure the qubit in the PauliZ basis\n",
    "        mutable outcome = 1;\n",
    "        if (M(q) == One){\n",
    "            set outcome = 1;\n",
    "        } else {\n",
    "        set outcome = 0;\n",
    "        }\n",
    "\n",
    "        Message($\"The measurement outcome is {outcome}.\");\n",
    "        Message(\"Post-measurement state of the qubit:\");\n",
    "        DumpMachine();\n",
    "        Message(divider);\n",
    "        \n",
    "        // This returns the qubit into state |0❭\n",
    "        Reset(q);\n",
    "    }\n",
    "}\n"
   ]
  },
  {
   "cell_type": "code",
   "execution_count": null,
   "metadata": {},
   "outputs": [],
   "source": [
    "%simulate M_Measurement_Demo"
   ]
  },
  {
   "cell_type": "markdown",
   "metadata": {},
   "source": [
    "> If you run the cell above multiple times, you will notice that whenever the measurement outcome is $1$, the post-measurement state of the qubit also corresponds to $\\ket 1$, and similarly for $0$. This is in line with our expectation that the wavefunction 'collapses' after a measurement to the corresponding state."
   ]
  },
  {
   "cell_type": "markdown",
   "metadata": {},
   "source": [
    "### <span style=\"color:blue\">Demo: Measurement statistics</span>\n",
    "\n",
    "The following cell contains code demonstrating that the theoretical and experimental values of the probability outcomes indeed match with each other. To that end, we prepare the state $\\ket \\psi = 0.6 \\ket 0 + 0.8 \\ket 1$ and measure it in the computational basis $100$ times. At the end, we expect $0$ to be measured approximately $36$ times, and $1$ to be measured approximately $64$ times. Note that since measurements are probabilistic, we do not expect the results to match exactly with these values."
   ]
  },
  {
   "cell_type": "code",
   "execution_count": null,
   "metadata": {},
   "outputs": [],
   "source": [
    "open Microsoft.Quantum.Diagnostics;\n",
    "open Microsoft.Quantum.Math;\n",
    "\n",
    "operation M_statistics_Demo () : Unit {\n",
    "    \n",
    "    // Set countZero and countOne to 0.\n",
    "    mutable countZero = 0;\n",
    "    let numRuns = 100; // measure 100 times\n",
    "    using (q = Qubit()) {\n",
    "    \n",
    "        for (i in 1 .. numRuns) {\n",
    "        \n",
    "            // This will put the qubit into an the superposition state |𝜓❭\n",
    "            // with |𝜓❭ = 0.6 |0❭ + 0.8 |1❭\n",
    "            Ry(2.0 * ArcTan2(0.8, 0.6), q);\n",
    "            \n",
    "            \n",
    "            // Measure in the computational basis, and update the counts according to the outcomes\n",
    "            \n",
    "            if (M(q) == Zero) {\n",
    "                set countZero += 1;\n",
    "            } \n",
    "            // Reset the qubit for use in the next iteration\n",
    "            Reset(q);\n",
    "        }\n",
    "    }\n",
    "    let countOne = numRuns - countZero;\n",
    "    \n",
    "    Message($\"Simulated probability of measuring 0 is 0.{countZero}.\");\n",
    "    Message($\"Theoretical probabilty of measuring 0 is 0.36\");\n",
    "    \n",
    "    \n",
    "    Message($\"Simulated probability of measuring 1 is 0.{countOne}.\");\n",
    "    Message($\"Theoretical probabilty of measuring 0 is 0.64\");\n",
    "}\n",
    "\n"
   ]
  },
  {
   "cell_type": "code",
   "execution_count": null,
   "metadata": {},
   "outputs": [],
   "source": [
    "%simulate M_statistics_Demo"
   ]
  },
  {
   "cell_type": "markdown",
   "metadata": {},
   "source": [
    "Measurements can be used to distinguish between orthogonal states. We start with an exercise for distinguishing between the computational basis states, and discuss the general case of arbitrary basis measurements later in the tutorial.\n",
    "\n",
    "### <span style=\"color:blue\">Exercise 2</span>: Distinguish $|0\\rangle$ and $|1\\rangle$\n",
    "\n",
    "**Input:** A qubit is known to be in either the $|0\\rangle$ or the $|1\\rangle$ state.\n",
    "\n",
    "**Output:**  `true` if the qubit was in the $|0\\rangle$ state, or `false` if it was in the $|1\\rangle$ state. The state of the qubit at the end of the operation does not matter."
   ]
  },
  {
   "cell_type": "code",
   "execution_count": null,
   "metadata": {},
   "outputs": [],
   "source": [
    "%kata T2_IsQubitZero\n",
    "\n",
    "operation IsQubitZero (q : Qubit) : Bool {\n",
    "    // The operation M will measure a qubit in the Z basis (|0⟩ and |1⟩ basis)\n",
    "    // and return Zero if the observed state was |0⟩ or One if the state was |1⟩.\n",
    "    // To answer the question, you need to perform the measurement and check whether the result\n",
    "    // equals One - either directly or using library function IsResultOne.\n",
    "    //\n",
    "    // Type the following: return M(q) == Zero;\n",
    "    // Then run the cell using Ctrl+Enter (⌘+Enter on macOS).\n",
    "\n",
    "    // ...\n",
    "}"
   ]
  },
  {
   "cell_type": "markdown",
   "metadata": {},
   "source": [
    "*Can't come up with a solution? See the explained solution in the [Single Qubit System Measurements Tutorial Workbook](./Workbook_SingleQubitSystemMeasurements.ipynb#Exercise-2:-Distinguish-$|0\\rangle$-and-$|1\\rangle$).*"
   ]
  },
  {
   "cell_type": "markdown",
   "metadata": {},
   "source": [
    "## Measurements in other Pauli bases\n",
    "So far, we have discussed measurements done in the computational basis, i.e. the $\\{ \\ket 0, \\ket 1\\}$ basis. It is also possible to implement measurements in other orthogonal bases, such as the [Pauli-X basis](../SingleQubitGates/SingleQubitGates.ipynb#Pauli-Gates), which consists of the two vectors $\\ket + = \\frac{\\ket 0 +\\ket 1}{\\sqrt{2}}$, and $\\ket - = \\frac{\\ket 0 - \\ket 1}{\\sqrt{2}}$. Q# has an inbuilt operation called [Measure](https://docs.microsoft.com/en-us/qsharp/api/qsharp/microsoft.quantum.intrinsic.measure) for measurements in the Pauli bases. The `Measure` operation can be used for measuring multiple qubits simultaneously in a multi-qubit system; however, here we only consider measurements for single qubit systems.\n",
    "\n",
    "The eigenvalues of a Pauli matrix are $\\pm 1$, with one eigenvector corresponding to each eigenvalue. For any chosen Pauli basis, the `Measure` operation returns `Zero` if the measurement outcome corresponds to the eigenvalue $+1$, and returns `One` if the measurement outcome corresponds to the eigenvalue $-1$. As in the case of the Pauli-Z measurements, the wavefunction of the qubit collapses to the corresponding state after the measurement is executed. \n"
   ]
  },
  {
   "cell_type": "markdown",
   "metadata": {},
   "source": [
    "### <span style=\"color:blue\">Exercise 3</span>: Distinguish $|+\\rangle$ and $|-\\rangle$ using the `Measure` operation\n",
    "\n",
    "**Input**: A qubit which is known to be in either the $\\ket +$ state, or the $\\ket -$ state.\n",
    "\n",
    "**Output**: `true` if the qubit is in the $\\ket -$ state, or `false` if it was in the $\\ket +$ state. Obtain the output by using the `Measure` operation.\n"
   ]
  },
  {
   "cell_type": "code",
   "execution_count": null,
   "metadata": {},
   "outputs": [],
   "source": [
    "%kata T3_IsQubitMinus\n",
    "\n",
    "operation IsQubitMinus (q : Qubit) : Bool {\n",
    "    // The operation Measure measures a qubit in the X, Y or Z basis,\n",
    "    // and returns Zero if the observed state corresponds to an eigenvalue of $+1$,\n",
    "    // and returns One if it corresponds to an eigenvalue of $-1$.\n",
    "    // ...\n",
    "}"
   ]
  },
  {
   "cell_type": "markdown",
   "metadata": {},
   "source": [
    "*Can't come up with a solution? See the explained solution in the [Single Qubit System Measurements Tutorial Workbook](./Workbook_SingleQubitSystemMeasurements.ipynb#Exercise-3:-Distinguish-$|+\\rangle$-and-$|-\\rangle$-using-the-Measure-operation).*"
   ]
  },
  {
   "cell_type": "markdown",
   "metadata": {},
   "source": [
    "## Measurements in arbitrary orthogonal bases\n",
    "It is possible to measure a qubit in orthogonal bases other than the Pauli bases. Suppose one wants to measure a qubit in an orthonormal basis $\\ket b_0$ and $\\ket b_1$. Let the state of the qubit be represented by the normalized vector $\\ket \\psi$. Then, one can always express the state in terms of the basis vectors $\\ket{b_0}$ and $\\ket{b_1}$, i.e. there exist complex numbers $c_0, c_1$, such that \n",
    "$$\n",
    "\\ket \\psi = c_0 \\ket {b_0} + c_1 \\ket {b_1}.\n",
    "$$\n",
    "The rule for obtaining the probabilities of measurement outcomes are similar to those for the computation basis. Specifically, for a measurement in a $\\{ b_0, b_1\\}$ basis, we have\n",
    "- Outcome $b_0$ with probability $|c_0|^2$, and the post-measurement state of the qubit being $\\ket {b_0}$;\n",
    "- Outcome $b_1$ with probability $|c_1|^2$, and the post-measurement state of the qubit being $\\ket {b_1}$.\n",
    "\n",
    "This can be summarized in the following table:\n",
    "<table style=\"border:1px solid\">\n",
    "    <col width=150>\n",
    "    <col width=150>\n",
    "    <col width=150>\n",
    "    <tr>\n",
    "        <th style=\"text-align:center; border:1px solid\">Measurement Outcome</th>\n",
    "        <th style=\"text-align:center; border:1px solid\">Probability of outcome</th>\n",
    "        <th style=\"text-align:center; border:1px solid\"> Wavefunction after measurement</th>\n",
    "    </tr>\n",
    "    <tr>\n",
    "        <td style=\"text-align:center; border:1px solid\">$b_0$</td>\n",
    "        <td style=\"text-align:center; border:1px solid\">$|c_0|^2$</td>\n",
    "        <td style=\"text-align:center; border:1px solid\">$\\ket{b_0}$</td>\n",
    "    </tr>\n",
    "    <tr>\n",
    "        <td style=\"text-align:center; border:1px solid\">$b_1$</td>\n",
    "        <td style=\"text-align:center; border:1px solid\">$|c_1|^2$</td>\n",
    "        <td style=\"text-align:center; border:1px solid\">$\\ket{b_1}$</td>\n",
    "    </tr>\n",
    "    \n",
    "</table>\n",
    "\n",
    "As before, the assumption of $\\ket \\psi$ being normalized is important, since it guarantees that the two probabilities add to one.\n",
    "\n",
    "\n",
    "> As you may recall, a [global phase](../Qubit/Qubit.ipynb#Relative-and-Global-Phase) is said to be hidden or unobservalble. This is also consistent with the fact that global phases have no consequences on quantum measurements. For example, consider two isolated qubits which are in (normalized) states $\\ket \\psi$ and $e^{i\\theta}\\ket \\psi$. If both are measured in an orthogonal basis $\\{ \\ket{b_0},\\ket{b_1}\\}$, the probabilities of measuring $b_0$ or $b_1$ are identical in both cases, since $|\\bra{b_i}\\ket{\\psi}|^2 = |\\bra{b_i}e^{i\\theta}\\ket{\\psi}|^2  $. Similarly, for either qubit, if $b_i$ is the measurement outcome, the post-measurement state of the qubit is $\\ket{b_i}$ for both qubits. Hence, the measurements are independent of the gloabl phase $\\theta$.\n",
    "\n",
    "### Measurements as projection operations\n",
    " Measurements done in orthogonal bases are modelled by orthogonal projection operators. An orthogonal projection operator (i.e. a matrix) $P$ satisfies the following property:\n",
    "$$\n",
    "P^2 = P^\\dagger = P.\n",
    "$$\n",
    "(As usual, the $\\dagger$ symbol denotes conjugate transposition.) Using the [ket-bra representation](../SingleQubitGates/SingleQubitGates.ipynb#Ket-bra-Representation), one can represent a projection matrix in the Dirac notation.\n",
    "For example, one may construct a projector onto the $\\ket{0}$ subspace as:\n",
    "$$\n",
    "P = \\ket 0 \\bra 0 \\equiv \\begin{bmatrix} 1 & 0 \\\\ 0 & 0\\end{bmatrix}.\n",
    "$$\n",
    "\n",
    "A measurement in an orthogonal basis $\\{ \\ket{b_0}, \\ket{b_1}\\}$ is described by a pair of projectors $\\ket{b_0}\\bra{b_0}$, and $\\ket{b_1}\\bra{b_1}$. Let us denote these projectors by $P_0$ and $P_1$ respectively. Since $\\ket{b_0}$ and $\\ket{b_1}$ are mutually orthogonal, their projectors are also mutually orthogonal, i.e. $P_0 P_1 = P_1 P_0 = 0$. The rules for measurements in this basis can then be summarized as follows: \n",
    "- Measuring a qubit which is in a state $\\ket \\psi$ is done by picking one of these projection operators at random.\n",
    "- Projection $P_0$ is chosen with a probability of $|P_0 \\ket{\\psi}|^2$, while the projector $P_1$ is chosen with a probability of $|P_1\\ket{\\psi}|^2$.\n",
    "- If projector $P_0$ is chosen, the post-measurement state of the qubit is given by\n",
    "$$\n",
    "\\frac{P_0 \\ket\\psi}{|P_0 \\ket{\\psi}|},\n",
    "$$\n",
    "and similarly for $P_1$.\n",
    "\n",
    "Although this formalism might appear to be different than from the previous section, it is in fact equivalent to it. This can be seen by noting that with $\\ket \\psi = c_0 \\ket{b_0} + c_1 \\ket{b_1}$, we have \n",
    "\\begin{align}\n",
    "P_0 \\ket \\psi &= c_0 \\ket{b_0}, \\\\\n",
    "\\text{so that } | P_0\\ket \\psi|  &= c_0,\n",
    "\\end{align}\n",
    "and similarly, \n",
    "\\begin{align}\n",
    "P_1 \\ket \\psi &= c_1 \\ket{b_1}, \\\\\n",
    "\\text{so that } |P_1\\ket \\psi|  &= c_1.\n",
    "\\end{align}\n",
    "Thus, as before the probability of measuring $b_0$ is $|P_0\\ket\\psi|^2 = |c_0|^2$, and the probability of measuring $b_1$ is $|P_1\\ket\\psi|^2 = |c_1|^2$. Similarly, one can verify that the post-measurement outcomes are also $\\ket{b_0}$ and $\\ket{b_1}$ respectively (upto unphysical global phases).\n",
    "\n",
    "Although the projecor formalism for single qubit systems may seem superfluous, it's importance will become clear while studying mesaurements for multi-qubit systems.\n",
    "\n",
    "\n",
    "### Arbitrary Basis Measurement Implementation using gates and computational basis measurements\n",
    "In a previous section, we discussed measurements in Pauli bases using the `Measure` operation. We will now show that using just unitary rotation matrices and computation basis measurements (i.e. using the `M` operation), it is always possible to measure a qubit not only in the Pauli bases, but in any orthogonal basis. \n",
    "\n",
    "Consider a state $ \\ket \\psi = c_0 \\ket {b_0} + c_1 \\ket {b_1} $ which we would like to measure in an orthonormal basis $\\{ \\ket{b_0}, \\ket{b_1}\\}$. First, we construct a unitary matrix $U$, using\n",
    "$$\n",
    "U = \\ket{0} \\bra{b_0} + \\ket{1} \\bra{b_1}.\n",
    "$$\n",
    "\n",
    "The Hermitian conjugate of this unitary is the operator \n",
    "$$\n",
    "U^\\dagger = \\ket{b_0} \\bra{0} + \\ket{b_1} \\bra{1}.\n",
    "$$\n",
    "\n",
    "One may verify that $U$ is indeed a unitary matrix, by checking that $U^\\dagger U = U U^\\dagger = 1_{2}$. First, we note that the action of these matrices on the two bases is the following:\n",
    "\\begin{align}\n",
    "U\\ket{b_0} &= \\ket{0}; & U\\ket{b_1} &= \\ket{1}\\\\\n",
    "\\text{while }U^\\dagger \\ket{0} &= \\ket{b_0}; & U^\\dagger \\ket 1 &= \\ket{b_1}.\n",
    "\\end{align}\n",
    "\n",
    "In order to implement a measurement in the $\\{ \\ket{b_0}, \\ket{b_1}\\}$ basis, we do the following:\n",
    "\n",
    "1. Operate $U$ on $\\ket \\psi$. (The resultant state is $U\\ket \\psi = c_0 \\ket 0 + c_1 \\ket 1 $).\n",
    "2. Measure the state $U\\ket{\\psi}$ in the computational basis. (The outcomes 0 and 1 occur with probabilities $|c_0|^2$ and $|c_1|^2$.)\n",
    "3. Operate $U^\\dagger$ on the measured state. (This transforms the states $\\ket 0$ and $\\ket 1$ to the states $\\ket{b_0}$ and $\\ket{b_1}$ respectively.\n",
    "\n",
    "Thus, $b_0$ and $b_1$ are measured with probabilities $|c_0|^2$ and $|c_1|^2$ respectively, with the end state being $\\ket{b_0}$ and $\\ket{b_1}$ as desired. \n",
    "\n",
    "This procedure can be used to distinguish arbitrary orthogonal states using the `M` operation in conjunction with the appropriate quantum gates, as will become clear from the following exercises."
   ]
  },
  {
   "cell_type": "markdown",
   "metadata": {},
   "source": [
    "### <span style=\"color:blue\">Exercise 4</span>: Obtain the probability outcomes for a measurement in a specified basis\n",
    "<ol>\n",
    "<li>Suppose that a qubit is known to be in the state $\\ket{0}$. If the qubit is measured in the Pauli X basis, i.e. the $\\{ \\ket +, \\ket -\\}$ basis, what are the outcome probabilities?\n",
    "</li>\n",
    "<li>Suppose that a qubit is known to be in the state $0.6\\ket{0} + 0.8 \\ket{1}$. If the qubit is measured in the Pauli Y basis, i.e. the $\\{ \\ket i, \\ket{-i}\\}$ basis, what are the outcome probabilities?</li>\n",
    "</ol> \n",
    "\n",
    "*Can't come up with a solution? See the explained solution in the [Single Qubit Measurement Tutorial Workbook](./Workbook_SingleQubitSystemMeasurements.ipynb#Exercise-4:-Obtain-the-probability-outcomes-for-a-measurement-in-a-specified-basis).*"
   ]
  },
  {
   "cell_type": "markdown",
   "metadata": {},
   "source": [
    "### <span style=\"color:blue\">Exercise 5</span>: Distinguishing specific orthogonal states\n",
    "\n",
    "**Inputs:** A qubit which is guaranteed to be in either the $\\ket {\\psi_+}$ or the $\\ket{\\psi_-} $ state, where $\\ket {\\psi_+} = 0.6\\ket 0 + 0.8 \\ket 1 $ and $\\ket {\\psi_-} = -0.8\\ket 0 + 0.6 \\ket 1$.\n",
    "\n",
    "**Output:** `true` if the qubit was in the $\\ket {\\psi_+}$ state, or `false` if it was in the $\\ket{\\psi_-} $ state. The state of the qubit at the end of the operation does not matter.\n",
    "\n",
    "<br/>\n",
    "<details>\n",
    "    <summary><strong>Need a hint? Click here</strong></summary>\n",
    "    A suitable <a href=\"../SingleQubitGates/SingleQubitGates.ipynb#Rotation-Gates\">$R_y$ rotation</a> can be used to go from the computational basis $\\{ \\ket 0, \\ket 1 \\}$ to the $\\{ \\ket{\\psi_+}, \\ket{\\psi_-} \\}$ basis. \n",
    "     \n",
    "</details>"
   ]
  },
  {
   "cell_type": "code",
   "execution_count": null,
   "metadata": {},
   "outputs": [],
   "source": [
    "%kata T5_IsQubitPsiPlus\n",
    "\n",
    "open Microsoft.Quantum.Math;\n",
    "\n",
    "operation IsQubitPsiPlus (q : Qubit) : Bool{\n",
    "    // ...\n",
    "}"
   ]
  },
  {
   "cell_type": "markdown",
   "metadata": {},
   "source": [
    "*Can't come up with a solution? See the explained solution in the [Single Qubit Measurement Tutorial Workbook](./Workbook_SingleQubitSystemMeasurements.ipynb#Exercise-5:-Distinguishing-specific-orthogonal-states-in-Q#).*"
   ]
  },
  {
   "cell_type": "markdown",
   "metadata": {},
   "source": [
    "### <span style=\"color:blue\">Exercise 6</span>: $\\ket A$ or $\\ket B$?\n",
    "\n",
    "**Inputs:** \n",
    "\n",
    "1. Angle $\\alpha$, in radians, represented as a `Double`.\n",
    "2. A qubit which is guaranteed to be in either the $|A\\rangle$ or the $|B\\rangle$ state, where $|A\\rangle = \\cos \\alpha |0\\rangle - i \\sin \\alpha |1\\rangle$ and $|B\\rangle = - i \\sin \\alpha |0\\rangle + \\cos \\alpha |1\\rangle$.\n",
    "\n",
    "**Output:** `true` if the qubit was in the $|A\\rangle$ state, or `false` if it was in the $|B\\rangle$ state. The state of the qubit at the end of the operation does not matter.\n",
    "\n",
    "<br/>\n",
    "<details>\n",
    "    <summary><strong>Need a hint? Click here</strong></summary>\n",
    "    An <a href=\"../SingleQubitGates/SingleQubitGates.ipynb#Rotation-Gates\">$R_x$ rotation</a> can be used to go from the computational basis $\\{ \\ket 0, \\ket 1 \\}$ to the $\\{ \\ket{A}, \\ket{B} \\}$ basis. \n",
    "     \n",
    "</details>"
   ]
  },
  {
   "cell_type": "code",
   "execution_count": null,
   "metadata": {},
   "outputs": [],
   "source": [
    "%kata T6_IsQubitA\n",
    "\n",
    "operation IsQubitA (alpha : Double, q : Qubit) : Bool {\n",
    "    // ...\n",
    "}"
   ]
  },
  {
   "cell_type": "markdown",
   "metadata": {},
   "source": [
    "*Can't come up with a solution? See the explained solution in the [Single Qubit Measurement Tutorial Workbook](./Workbook_SingleQubitSystemMeasurements.ipynb#Exercise-6:-$\\ket-A$-or-$\\ket-B$?).*"
   ]
  },
  {
   "cell_type": "markdown",
   "metadata": {},
   "source": [
    "### <span style=\"color:blue\">Exercise 7**</span>: Measurement in the $\\ket A$, $\\ket B$ basis\n",
    "\n",
    "**Inputs:** \n",
    "1. A qubit in some unknown state.\n",
    "1. Angle $\\alpha$, in radians, represented as a `Double`.\n",
    "\n",
    "\n",
    "**Output:** Implement a measurement in the $A/B$ basis. Return `Zero` if the measurement outcome is $A$, and `One` if the outcome is $B$. \n",
    "The state of the qubit after the measurement should be the same as the measured state.\n",
    "\n",
    "As in the previous exercise, $|A\\rangle = \\cos \\alpha |0\\rangle - i \\sin \\alpha |1\\rangle$ and $|B\\rangle = - i \\sin \\alpha |0\\rangle + \\cos \\alpha |1\\rangle$.\n",
    "\n",
    "<br/>\n",
    "<details>\n",
    "    <summary><strong>Need a hint? Click here</strong></summary>\n",
    "    An <a href=\"../SingleQubitGates/SingleQubitGates.ipynb#Rotation-Gates\">$R_x$ rotation</a> can be used to go from the computational basis $\\{ \\ket 0, \\ket 1 \\}$ to the $\\{ \\ket{A}, \\ket{B} \\}$ basis. \n",
    "     \n",
    "</details>"
   ]
  },
  {
   "cell_type": "code",
   "execution_count": null,
   "metadata": {},
   "outputs": [],
   "source": [
    "%kata T7_MeasureInABBasis\n",
    "\n",
    "operation MeasureInABBasis (alpha: Double, q : Qubit) : Result {\n",
    "    // ...\n",
    "}"
   ]
  },
  {
   "cell_type": "markdown",
   "metadata": {},
   "source": [
    "*Can't come up with a solution? See the explained solution in the [Single Qubit Measurement Tutorial Workbook](./Workbook_SingleQubitSystemMeasurements.ipynb#Exercise-7**:-Measurement-in-the-$\\ket-A$,-$\\ket-B$-basis).*"
   ]
  }
 ],
 "metadata": {
  "kernelspec": {
   "display_name": "Q#",
   "language": "qsharp",
   "name": "iqsharp"
  },
  "language_info": {
   "file_extension": ".qs",
   "mimetype": "text/x-qsharp",
   "name": "qsharp",
   "version": "0.13"
  }
 },
 "nbformat": 4,
 "nbformat_minor": 4
}
