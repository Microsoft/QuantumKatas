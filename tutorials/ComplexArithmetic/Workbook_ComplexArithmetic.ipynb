{
 "cells": [
  {
   "cell_type": "markdown",
   "metadata": {},
   "source": [
    "# Complex Arithmetic Kata Workbook\n",
    "\n",
    "**What is this workbook?**\n",
    "A workbook is a collection of problems, accompanied by solutions to them. \n",
    "The explanations focus on the logical steps required to solve a problem; they illustrate the concepts that need to be applied to come up with a solution to the problem, explaining the mathematical steps required. \n",
    "\n",
    "Note that a workbook should not be the primary source of knowledge on the subject matter; it assumes that you've already read a tutorial or a textbook and that you are now seeking to improve your problem-solving skills. You should attempt solving the tasks of the respective kata first, and turn to the workbook only if stuck. While a textbook emphasizes knowledge acquisition, a workbook emphasizes skill acquisition.\n",
    "\n",
    "This workbook describes the solutions to the problems offered in the [Complex Arithmetic kata](./ComplexArithmetic.ipynb). \n",
    "Since the tasks are offered as programming problems, the explanations also cover some elements of Python that might be non-obvious for a first-time user.\n",
    "\n",
    "**What you should know for this workbook**\n",
    "\n",
    "1. Basic math\n",
    "2. Basic Python knowledge is usefull but not needed\n",
    "\n",
    "If you need to look up some formulas quickly, you can find them in [this cheatsheet](https://github.com/microsoft/QuantumKatas/blob/master/quickref/qsharp-quick-reference.pdf).\n"
   ]
  },
  {
   "cell_type": "markdown",
   "metadata": {},
   "source": [
    "This notebook has several tasks that require you to write Python code to test your understanding of the concepts. If you are not familiar with Python, [here](https://docs.python.org/3/tutorial/index.html) is a good introductory tutorial for it. \n",
    "\n",
    "Let's start by importing some useful mathematical functions and constants, and setting up a few things necessary for testing the exercises. **Do not skip this step**.\n",
    "\n",
    "Click the cell with code below this block of text and press `Ctrl+Enter` (`⌘+Enter` on Mac)."
   ]
  },
  {
   "cell_type": "code",
   "execution_count": 1,
   "metadata": {},
   "outputs": [
    {
     "name": "stdout",
     "output_type": "stream",
     "text": [
      "Success!\n"
     ]
    }
   ],
   "source": [
    "# Run this cell using Ctrl+Enter (⌘+Enter on Mac).\n",
    "from testing import exercise\n",
    "from typing import Tuple\n",
    "\n",
    "import math\n",
    "\n",
    "Complex = Tuple[float, float]\n",
    "Polar = Tuple[float, float]"
   ]
  },
  {
   "cell_type": "markdown",
   "metadata": {},
   "source": [
    "# Algebraic Perspective\n",
    "\n",
    "## Imaginary numbers\n",
    "\n"
   ]
  },
  {
   "cell_type": "markdown",
   "metadata": {},
   "source": [
    "### <span style=\"color:blue\">Exercise 1</span>: Powers of $i$.\n",
    "\n",
    "**Input:** An even integer $n$.\n",
    "\n",
    "**Goal:** Return the $n$th power of $i$, or $i^n$.\n",
    "\n"
   ]
  },
  {
   "cell_type": "markdown",
   "metadata": {},
   "source": [
    "### Solution \n",
    "\n",
    "When raising $i$ to a higher power then 2, the answer will not always be $-1$. For example, when raising $i$ to the power of 4 gives: $i^4 = i^2 \\cdot i^2$ which would give: $ -1 \\cdot -1 = 1$. \n",
    "\n",
    "A generalized rule could be made: when the power to which you raise $i$ is fully dividable by 4 the result will always be 1. This is the complete pattern that arises when taking $i$ to higher powers:\n",
    "\n",
    "|Power of I|$i^1$|$i^2$|$i^3$|$i^4$|$i^5$|$i^6$|$i^7$|$i^8$|$\\dots$|\n",
    "|----|----|----|----|----|----|----|----|----|----|\n",
    "|Result|$i$|$-1$|$i$|$1$|$i$|$-1$|$i$|$1$|$\\dots$|\n",
    "\n",
    "This means that $i^{(n \\cdot 4)}$ will always give $1$ if $n$ is a whole number.\n",
    "\n",
    "*Python note*:  \n",
    ">`%` is the python modulo operator it returns the remainder of a division. For example: `7%2` gives 1, because 1 remains after $\\frac{7}{3}$, another example would be `10%5` which returns 0.  \n",
    ">We can use this to know if $n$ in $i^n$, could be wholly divided by 4 for which we will use in the exercise.\n"
   ]
  },
  {
   "cell_type": "code",
   "execution_count": 2,
   "metadata": {},
   "outputs": [
    {
     "name": "stdout",
     "output_type": "stream",
     "text": [
      "Success!\n"
     ]
    }
   ],
   "source": [
    "@exercise\n",
    "def imaginary_power(n : int) -> int:\n",
    "    # If n is divisible by 4\n",
    "    if n % 4 == 0:\n",
    "        return 1\n",
    "    else:\n",
    "        return -1"
   ]
  },
  {
   "cell_type": "markdown",
   "metadata": {},
   "source": [
    "[Return to task 1 of the Complex Arithmetic kata.](./ComplexArithmetic.ipynb#Exercise-1:-Powers-of-$i$.)"
   ]
  },
  {
   "cell_type": "markdown",
   "metadata": {},
   "source": [
    "## Complex Numbers\n",
    "\n"
   ]
  },
  {
   "cell_type": "markdown",
   "metadata": {},
   "source": [
    "### <span style=\"color:blue\">Exercise 2</span>: Complex addition.\n",
    "\n",
    "**Inputs:**\n",
    "\n",
    "1. A complex number $x = a + bi$, represented as a tuple `(a, b)`.\n",
    "2. A complex number $y = c + di$, represented as a tuple `(c, d)`.\n",
    "\n",
    "**Goal:** Return the sum of these two numbers $x + y = z = g + hi$, represented as a tuple `(g, h)`.\n",
    "\n",
    "> A tuple is a pair of numbers.\n",
    "> You can make a tuple by putting two numbers in parentheses like this: `(3, 4)`.\n",
    "> * You can access the $n$th element of tuple `x` like so: `x[n]`\n",
    "> * For this tutorial, complex numbers are represented as tuples where the first element is the real part, and the second element is the real coefficient of the imaginary part\n",
    "> * For example, $1 + 2i$ would be represented by a tuple `(1, 2)`, and $7 - 5i$ would be represented by `(7, -5)`.\n",
    ">\n",
    "> You can find more details about Python's tuple data type in the [official documentation](https://docs.python.org/3/library/stdtypes.html#tuples).\n",
    "\n"
   ]
  },
  {
   "cell_type": "markdown",
   "metadata": {},
   "source": [
    "### Solution\n",
    "\n",
    "Adding two complex numbers can be done by separately adding the real part of the number and the imaginary part.  \n",
    "$ x = a + bi $  \n",
    "$ y = c + di $  \n",
    "$ z = x + y = (a + c) + (b + d)i $"
   ]
  },
  {
   "cell_type": "code",
   "execution_count": 4,
   "metadata": {},
   "outputs": [
    {
     "name": "stdout",
     "output_type": "stream",
     "text": [
      "Success!\n"
     ]
    }
   ],
   "source": [
    "@exercise\n",
    "def complex_add(x : Complex, y : Complex) -> Complex:\n",
    "    # You can extract elements from a tuple like this\n",
    "    a = x[0]\n",
    "    b = x[1]\n",
    "    \n",
    "    c = y[0]\n",
    "    d = y[1]\n",
    "    \n",
    "    # This creates a new variable and stores the real component into it\n",
    "    real = a + c\n",
    "    # Replace the ... with code to calculate the imaginary component\n",
    "    imaginary = b + d\n",
    "    \n",
    "    # You can create a tuple like this, with the real and imaginary part of the number\n",
    "    ans = (real, imaginary)\n",
    "    \n",
    "    return ans"
   ]
  },
  {
   "cell_type": "markdown",
   "metadata": {},
   "source": [
    "[Return to task 2 of the Complex Arithmetic kata.](./ComplexArithmetic.ipynb#Exercise-2:-Complex-addition.)"
   ]
  },
  {
   "cell_type": "markdown",
   "metadata": {},
   "source": [
    "### <span style=\"color:blue\">Exercise 3</span>: Complex multiplication.\n",
    "\n",
    "**Inputs:**\n",
    "\n",
    "1. A complex number $x = a + bi$, represented as a tuple `(a, b)`.\n",
    "2. A complex number $y = c + di$, represented as a tuple `(c, d)`.\n",
    "\n",
    "**Goal:** Return the product of these two numbers $x \\cdot y = z = g + hi$, represented as a tuple `(g, h)`.\n"
   ]
  },
  {
   "cell_type": "markdown",
   "metadata": {},
   "source": [
    "### Solution\n",
    "\n",
    "Multiplying complex number is like multiplying polynomials, therefore the same rules apply. **Remember** $i^2 =-1$.  \n",
    "$x = a + bi$  \n",
    "$y = c + di$  \n",
    "$z = x \\cdot y$  \n",
    "$$z =(a + bi)(c + di) = a \\cdot c + a \\cdot di + c \\cdot bi + (b \\cdot d)i^2 = a \\cdot c - b \\cdot d + (a \\cdot d + c \\cdot b)i $$"
   ]
  },
  {
   "cell_type": "code",
   "execution_count": null,
   "metadata": {},
   "outputs": [],
   "source": [
    "@exercise\n",
    "def complex_mult(x : Complex, y : Complex) -> Complex:\n",
    "    \n",
    "    #Extracting the parts of the x complex number\n",
    "    a = x[0]\n",
    "    b = x[1]\n",
    "    \n",
    "    c = y[0]\n",
    "    d = y[1]\n",
    "    \n",
    "    real = (a * c) - (b* d)\n",
    "    \n",
    "    imaginary = (a * d) + (c * b)\n",
    "    \n",
    "    # Instead of creating a sperate tuple with the result we return the tuple directly\n",
    "    return (real, imaginary)"
   ]
  },
  {
   "cell_type": "markdown",
   "metadata": {},
   "source": [
    "[Return to task 3 of the Complex Arithmetic kata.](./ComplexArithmetic.ipynb#Exercise-3:-Complex-multiplication.)"
   ]
  },
  {
   "cell_type": "markdown",
   "metadata": {},
   "source": [
    "### <span style=\"color:blue\">Exercise 4</span>: Complex conjugate.\n",
    "\n",
    "**Input:** A complex number $x = a + bi$, represented as a tuple `(a, b)`.\n",
    "\n",
    "**Goal:** Return $\\overline{x} = g + hi$, the complex conjugate of $x$, represented as a tuple `(g, h)`.\n",
    "\n"
   ]
  },
  {
   "cell_type": "markdown",
   "metadata": {},
   "source": [
    "### Solution\n",
    "\n",
    "To get the complex conjugate of a complex number you change the sign of the imaginary part of the complex number.  \n",
    "$x = a + bi$  \n",
    "$\\overline{x} = a - bi$"
   ]
  },
  {
   "cell_type": "code",
   "execution_count": null,
   "metadata": {},
   "outputs": [],
   "source": [
    "@exercise\n",
    "def conjugate(x : Complex) -> Complex:\n",
    "    \n",
    "    real = x[0]\n",
    "\n",
    "    #The sign can be easily flipped with the - operator\n",
    "    imaginary = -x[1]\n",
    "    \n",
    "    return (real, imaginary)"
   ]
  },
  {
   "cell_type": "markdown",
   "metadata": {},
   "source": [
    "[Return to task 4 of the Complex Arithmetic kata.](./ComplexArithmetic.ipynb#Exercise-4:-Complex-conjugate.)"
   ]
  },
  {
   "cell_type": "markdown",
   "metadata": {},
   "source": [
    "### <span style=\"color:blue\">Exercise 5</span>: Complex division.\n",
    "\n",
    "**Inputs:**\n",
    "\n",
    "1. A complex number $x = a + bi$, represented as a tuple `(a, b)`.\n",
    "2. A complex number $y = c + di \\neq 0$, represented as a tuple `(c, d)`.\n",
    "\n",
    "**Goal:** Return the result of the division $\\frac{x}{y} = \\frac{a + bi}{c + di} = g + hi$, represented as a tuple `(g, h)`.\n",
    "\n"
   ]
  },
  {
   "cell_type": "markdown",
   "metadata": {},
   "source": [
    "### Solution\n",
    "\n",
    "$x = a + bi$  \n",
    "$y = c + di$  \n",
    "$z = \\frac{x}{y}$  \n",
    "$$z = \\frac{x}{y} = \\frac{x}{y} \\cdot 1 = \\frac{x}{y} \\cdot \\frac{\\overline{y}}{\\overline{y}} = \\frac{x\\overline{y}}{y\\overline{y}} = \\frac{(a + bi)(c - di)}{(c + di)(c - di)} = \\frac{(a + bi)(c - di)}{c^2 + d^2} = \\frac{a \\cdot c + b \\cdot d + (a \\cdot -d + c \\cdot b)i}{c^2 + d^2}$$\n",
    "\n",
    "\n",
    "*Python note*:  \n",
    ">In Python you can use double `**` to raise the power of a number, so $2^3$ could be accomplished by `x = 2 ** 3`."
   ]
  },
  {
   "cell_type": "code",
   "execution_count": 6,
   "metadata": {},
   "outputs": [
    {
     "name": "stdout",
     "output_type": "stream",
     "text": [
      "Success!\n"
     ]
    }
   ],
   "source": [
    "@exercise\n",
    "def complex_div(x : Complex, y : Complex) -> Complex:\n",
    "    \n",
    "    a = x[0]\n",
    "    b = x[1]\n",
    "    \n",
    "    c = y[0]\n",
    "    d = y[1]\n",
    "    \n",
    "    # Because we will use the denominator  multiple times, we store the value in a separate  variable, \n",
    "    # to make the code easier to use and less error prone.\n",
    "    # Here we use ** to raise a value to the power of another value\n",
    "    denominator = (c ** 2) + (d ** 2)\n",
    "    \n",
    "    real = ((a * c) + (b * d)) / denominator\n",
    "    imaginary = ((a * -d ) + (c * b)) / denominator\n",
    "    \n",
    "    return (real ,imaginary)"
   ]
  },
  {
   "cell_type": "markdown",
   "metadata": {},
   "source": [
    "[Return to task 5 of the Complex Arithmetic kata.](./ComplexArithmetic.ipynb#Exercise-5:-Complex-division.)"
   ]
  },
  {
   "cell_type": "markdown",
   "metadata": {},
   "source": [
    "# Geometric Perspective"
   ]
  },
  {
   "cell_type": "markdown",
   "metadata": {},
   "source": [
    "### <span style=\"color:blue\">Exercise 6</span>: Modulus.\n",
    "\n",
    "**Input:** A complex number $x = a + bi$, represented as a tuple `(a, b)`.\n",
    "\n",
    "**Goal:** Return the modulus of this number, $|x|$.\n",
    "\n"
   ]
  },
  {
   "cell_type": "markdown",
   "metadata": {},
   "source": [
    "### Solution\n",
    "\n",
    "The modulus of the complex number can be seen as the distance from the origin 0 to the $z$ point in the complex plane. This can be calculated using the Pythagorean theorem given that $c^2 = a^2 + b^2 $ means $ c = \\sqrt{a^2 + b^2} $\n",
    "\n",
    "<img src=\"img/pythagorean_theorem.png\" style=\"max-height: 350px;\">\n",
    "\n",
    "*Python note*:  \n",
    ">In the `math` library of Python you can use the `sqrt` function to calculate the square root of a number. "
   ]
  },
  {
   "cell_type": "code",
   "execution_count": null,
   "metadata": {},
   "outputs": [],
   "source": [
    "@exercise\n",
    "def modulus(x : Complex) -> float:\n",
    "    \n",
    "    # To use the math library we first call `import math` this is done in the first cell of the notebook, at the top.\n",
    "    # When you want to use functions from that library you can simply use math.(functionName).\n",
    "    # Here we want to take the square root the function to call is named `sqrt`\n",
    "    modulus = math.sqrt(x[0] ** 2 + x[1] ** 2)\n",
    "    \n",
    "    return modulus"
   ]
  },
  {
   "cell_type": "markdown",
   "metadata": {},
   "source": [
    "[Return to task 6 of the Complex Arithmetic kata.](./ComplexArithmetic.ipynb#Exercise-6:-Modulus.)"
   ]
  },
  {
   "cell_type": "markdown",
   "metadata": {},
   "source": [
    "## Imaginary Exponents\n",
    "\n"
   ]
  },
  {
   "cell_type": "markdown",
   "metadata": {},
   "source": [
    "### <span style=\"color:blue\">Exercise 7</span>: Complex exponents.\n",
    "\n",
    "**Input:** A complex number $x = a + bi$, represented as a tuple `(a, b)`.\n",
    "\n",
    "**Goal:** Return the complex number $e^x = e^{a + bi} = g + hi$, represented as a tuple `(g, h)`.\n"
   ]
  },
  {
   "cell_type": "markdown",
   "metadata": {},
   "source": [
    "### Solution\n",
    "\n",
    "We try to rewrite $e^{a + bi}$ to $a + bi$  \n",
    "To start we will separate the complex components into a product which gives: $ e^a \\cdot\\ e^{bi} $.  \n",
    "\n",
    "The second part of the product can be solved using the fact that $e^{i\\theta} = \\cos \\theta + i\\sin \\theta$, using this on our problem writes $ e^{bi} $ as $ \\cos b + i \\sin b$.  \n",
    "Substituting this into our previous  product function gives:\n",
    "$$ e^a(\\cos b + i\\sin b) $$\n",
    "\n",
    "Which we can write as $a + bi$.\n",
    "\n",
    "*Python note:*  \n",
    ">In the python `math` library there are multiple trigonometric functions like `cos` and `sin`, these functions can be used like `math.cos(x)`. Also, constants like $\\pi$ `pi` and $e$ `e` are available in the `math` library, which can be used like `math.e`."
   ]
  },
  {
   "cell_type": "code",
   "execution_count": 7,
   "metadata": {},
   "outputs": [
    {
     "name": "stdout",
     "output_type": "stream",
     "text": [
      "Success!\n"
     ]
    }
   ],
   "source": [
    "@exercise\n",
    "def complex_exp(x : Complex) -> Complex:\n",
    "    \n",
    "    a = x[0]\n",
    "    b = x[1]\n",
    "    \n",
    "    #The math library does not only provide functions but also constants like pi and e.\n",
    "    #Using math.e we get the approximation for e\n",
    "    realpower = math.e ** a\n",
    "    \n",
    "    real = realpower * math.cos(b)\n",
    "    \n",
    "    imaginary = realpower * math.sin(b)\n",
    "    \n",
    "    return (real, imaginary)"
   ]
  },
  {
   "cell_type": "markdown",
   "metadata": {},
   "source": [
    "[Return to task 7 of the Complex Arithmetic kata.](./ComplexArithmetic.ipynb#Exercise-7:-Complex-exponents.)"
   ]
  },
  {
   "cell_type": "markdown",
   "metadata": {},
   "source": [
    "### <span style=\"color:blue\">Exercise 8</span>*: Complex powers of real numbers.\n",
    "\n",
    "**Inputs:**\n",
    "\n",
    "1. A non-negative real number $r$.\n",
    "2. A complex number $x = a + bi$, represented as a tuple `(a, b)`.\n",
    "\n",
    "**Goal:** Return the complex number $r^x = r^{a + bi} = g + hi$, represented as a tuple `(g, h)`.\n"
   ]
  },
  {
   "cell_type": "markdown",
   "metadata": {},
   "source": [
    "### Solution\n",
    "\n",
    "To perform this transformation we will first have to rewrite the current notation to use Eulers constant, this will make it possible to use the same method as we used in exercise 7.   \n",
    "There are multiple ways of solving this but here we try to use the most similar method as used above. \n",
    "\n",
    "First, we split the complex number into a product which gives: $$ r^{a+bi} = r^a \\cdot r^{bi} $$\n",
    "\n",
    "It is given that $r = e^{\\ln r} $, we can use this to write second part of the product can be written as: \n",
    "$$ r^{bi} =  e^{bi\\ln r} $$.  \n",
    "Using $e^{i\\theta} = \\cos \\theta + i\\sin \\theta$, can rewrite the previous as follows: \n",
    "$$ e^{bi\\ln r} = \\cos( b \\cdot \\ln r) + i \\sin(b \\cdot \\ln r)$$\n",
    "\n",
    "\n",
    "When substituting this into our earlier function we get:  \n",
    "$$ r^a (\\cos( b \\cdot \\ln r) + i \\sin(b \\cdot \\ln r)) $$ \n",
    "\n",
    "This can be calculated and written in the $a + bi$ form.\n",
    "\n",
    "*Python note*:  \n",
    ">To get the natural logarithm ($\\ln$) in Python you can use the `log` function in the `math` library.  \n",
    ">In Python you can perform basic Conditional operations based on Boolean conditions with the `if` statement. The syntax can be seen in the code below, you can also add `else` or `elif` statements which are described [here](https://www.w3schools.com/python/python_conditions.asp). "
   ]
  },
  {
   "cell_type": "code",
   "execution_count": 9,
   "metadata": {},
   "outputs": [
    {
     "name": "stdout",
     "output_type": "stream",
     "text": [
      "Success!\n"
     ]
    }
   ],
   "source": [
    "@exercise\n",
    "def complex_exp_real(r : float, x : Complex) -> Complex:\n",
    "    \n",
    "    #Knowing that ln(r) is only possible for positive number we check if this is the case, \n",
    "    #if not we return a complex number of (0,0).\n",
    "    #Calling return before the end of the function will not execute the rest of the function.\n",
    "    if(r == 0):\n",
    "        return (0,0)\n",
    "    \n",
    "    a = x[0]\n",
    "    b = x[1]\n",
    "    \n",
    "    #r to the power of a (r^a)\n",
    "    ra = r ** a\n",
    "    \n",
    "    #Natural log of r\n",
    "    lnr = math.log(r)\n",
    "    \n",
    "    real = ra * math.cos(b * lnr)\n",
    "    \n",
    "    imaginary = ra * math.sin(b * lnr)\n",
    "    \n",
    "    return (real,imaginary)"
   ]
  },
  {
   "cell_type": "markdown",
   "metadata": {},
   "source": [
    "[Return to task 8 of the Complex Arithmetic kata.](./ComplexArithmetic.ipynb#Exercise-8*:-Complex-powers-of-real-numbers.)"
   ]
  },
  {
   "cell_type": "markdown",
   "metadata": {},
   "source": [
    "### <span style=\"color:blue\">Exercise 9</span>: Cartesian to polar conversion.\n",
    "\n",
    "**Input:** A complex number $x = a + bi$, represented as a tuple `(a, b)`.\n",
    "\n",
    "**Goal:** Return the polar representation of $x = re^{i\\theta}$ - return the distance from origin $r$ and phase $\\theta$ as a tuple `(r, θ)`.\n",
    "\n",
    "* $r$ should not be negative: $r \\geq 0$\n",
    "* $\\theta$ should be between $-\\pi$ and $\\pi$: $-\\pi < \\theta \\leq \\pi$\n",
    "\n"
   ]
  },
  {
   "cell_type": "markdown",
   "metadata": {},
   "source": [
    "### Solution\n",
    "\n",
    "Here we need to calculate the $r$ and $e$ value as seen in the complex plane, the $r$ should be familiar as we have calculated this already in the previous part about Modulus (exercise 6), and the $\\theta$ can be calculated using trigonometry.  \n",
    "Knowing the modulus of the complex number and the $\\theta$ we are capable of writing down the same complex number in polar form as we would write it in the $a+bi$ (cartesian) from.\n",
    "\n",
    "Given the previous explanation of the modulus we know $r$ can be calculated as follows:\n",
    "$$r = \\sqrt{a^2 + b^2}$$\n",
    "\n",
    "To calculate $\\theta$ we can use \n",
    "$$ \\theta = \\arctan(\\frac{b}{a}) $$\n",
    "\n",
    "Which can be used in this form \n",
    "$$re^{i\\theta}$$\n",
    "\n",
    "*Python note:*  \n",
    ">The `arctan2(x, y)` function returns `atan(x / y)` in radians."
   ]
  },
  {
   "cell_type": "code",
   "execution_count": 10,
   "metadata": {},
   "outputs": [
    {
     "name": "stdout",
     "output_type": "stream",
     "text": [
      "Success!\n"
     ]
    }
   ],
   "source": [
    "@exercise\n",
    "def polar_convert(x : Complex) -> Polar:\n",
    "    \n",
    "    a = x[0]\n",
    "    b = x[1]\n",
    "    \n",
    "    r = math.sqrt(a**2 + b **2)\n",
    "    \n",
    "    theta = math.atan2(b,a)\n",
    "    \n",
    "    return (r, theta)"
   ]
  },
  {
   "cell_type": "markdown",
   "metadata": {},
   "source": [
    "[Return to task 9 of the Complex Arithmetic kata.](./ComplexArithmetic.ipynb#Exercise-9:-Cartesian-to-polar-conversion.)"
   ]
  },
  {
   "cell_type": "markdown",
   "metadata": {},
   "source": [
    "### <span style=\"color:blue\">Exercise 10</span>: Polar to Cartesian conversion.\n",
    "\n",
    "**Input:** A complex number $x = re^{i\\theta}$, represented in polar form as a tuple `(r, θ)`.\n",
    "\n",
    "**Goal:** Return the Cartesian representation of $x = a + bi$, represented as a tuple `(a, b)`."
   ]
  },
  {
   "cell_type": "markdown",
   "metadata": {},
   "source": [
    "<img src=\"img/Polar_to_Cartesian.png\" style=\"max-height:350px;\">\n",
    "\n",
    "Using the trigonometric functions of the right triangle, you can get the following definitions:\n",
    "\n",
    "$a = r \\cdot \\cos(\\theta) $  \n",
    "$b = r \\cdot \\sin(\\theta) $\n",
    "\n",
    "$$ x = r \\cdot \\cos(\\theta) + (r \\cdot \\sin(\\theta))i $$"
   ]
  },
  {
   "cell_type": "code",
   "execution_count": 11,
   "metadata": {},
   "outputs": [
    {
     "name": "stdout",
     "output_type": "stream",
     "text": [
      "Success!\n"
     ]
    }
   ],
   "source": [
    "@exercise\n",
    "def cartesian_convert(x : Polar) -> Complex:\n",
    "    \n",
    "    # Break out the Polar from into the R and theta\n",
    "    r = x[0]\n",
    "    theta = x[1]\n",
    "    \n",
    "    real = r * math.cos(x[1])\n",
    "    \n",
    "    imaginary = r * math.sin(x[1])\n",
    "    \n",
    "    return (real, imaginary)"
   ]
  },
  {
   "cell_type": "markdown",
   "metadata": {},
   "source": [
    "[Return to task 10 of the Complex Arithmetic kata.](./ComplexArithmetic.ipynb#Exercise-10:-Polar-to-Cartesian-conversion.)"
   ]
  },
  {
   "cell_type": "markdown",
   "metadata": {},
   "source": [
    "### <span style=\"color:blue\">Exercise 11</span>: Polar multiplication.\n",
    "\n",
    "**Inputs:**\n",
    "\n",
    "1. A complex number $x = r_{1}e^{i\\theta_1}$ represented in polar form as a tuple `(r1, θ1)`.\n",
    "2. A complex number $y = r_{2}e^{i\\theta_2}$ represented in polar form as a tuple `(r2, θ2)`.\n",
    "\n",
    "**Goal:** Return the result of the multiplication $x \\cdot y = z = r_3e^{i\\theta_3}$, represented in polar form as a tuple `(r3, θ3)`.\n",
    "\n",
    "* $r_3$ should not be negative: $r_3 \\geq 0$\n",
    "* $\\theta_3$ should be between $-\\pi$ and $\\pi$: $-\\pi < \\theta_3 \\leq \\pi$\n",
    "* Try to avoid converting the numbers into Cartesian form.\n",
    "\n"
   ]
  },
  {
   "cell_type": "markdown",
   "metadata": {},
   "source": [
    "### Solution\n",
    "\n",
    "Multiplyging two complex numbers in Polar form can be done in the following way:\n",
    "\n",
    "$x = r_{1}e^{i\\theta_1}$  \n",
    "$y = r_{2}e^{i\\theta_2}$  \n",
    "$z = x \\cdot y $  \n",
    "\n",
    "$z = r_{1}r_{2} \\cdot e^{(\\theta_1 + \\theta_2)i}$  \n",
    "\n",
    "\n",
    "\n",
    ">Although out of the scope of this exercise, here is the mathematical approach of multiplying this in the Cartesian from:  \n",
    ">$x = r_{1}e^{i\\theta_1} = r_{1}(\\cos(\\theta_1) + i \\sin(\\theta_1))$  \n",
    ">$y = r_{2}e^{i\\theta_2} = r_{2}(\\cos(\\theta_2) + i \\sin(\\theta_2))$  \n",
    ">$z = x \\cdot y $ \n",
    ">\n",
    ">When multiplying this out it yields:\n",
    ">$$r_1r_2 \\cdot (\\cos(\\theta_1)\\cos(\\theta_2)−\\sin(\\theta_1)\\sin(\\theta_2)+i[\\sin(\\theta_1)\\cos(\\theta_2)+\\sin(\\theta_2)\\cos(\\theta_1]))$$\n",
    ">\n",
    ">Using Trigonometric Identities, we can simplify this, useful Trigonometric Identities:\n",
    ">- $\\cos(a)\\cos(b) \\pm \\sin(a)\\sin(b)=\\cos(a \\pm b)$\n",
    ">- $\\sin(a)\\cos(b) \\pm \\sin(a)\\cos(b)=\\sin(a \\pm b)$\n",
    ">\n",
    ">this gives the same as above:\n",
    ">$$z = r_{1}r_{2}(\\cos( \\theta_1 + \\theta_2) + i \\sin(\\theta_1 + \\theta_2)) = r_{1}r_{2} \\cdot e^{(\\theta_1 + \\theta_2)i} $$\n",
    "\n"
   ]
  },
  {
   "cell_type": "code",
   "execution_count": null,
   "metadata": {},
   "outputs": [],
   "source": [
    "@exercise\n",
    "def polar_mult(x : Polar, y : Polar) -> Polar:\n",
    "    \n",
    "    r1 = x[0]\n",
    "    theta1 = x[1]\n",
    "    \n",
    "    r2 = y[0]\n",
    "    theta2 = y[1]\n",
    "    \n",
    "    # Create a new variable 'real' which stores the r1 * r2 result for later reuse\n",
    "    real = r1 * r2\n",
    "    \n",
    "    # Store theta1 * theta2 in a sperate variable for later reuse\n",
    "    angle = theta1 + theta2\n",
    "    \n",
    "    #If the angle if larger then pi we will subtract 2 times pi\n",
    "    if(angle > math.pi):\n",
    "        #Reasign the value for angle as the previous value for angle minus pi\n",
    "        angle = angle - 2.0 * math.pi\n",
    "        \n",
    "    #if the angle in smaller then -pi we will add 2 times pi\n",
    "    elif(angle <= -math.pi):\n",
    "        angle = angle + 2.0 * math.pi\n",
    "    \n",
    "    return (real,angle)"
   ]
  },
  {
   "cell_type": "markdown",
   "metadata": {},
   "source": [
    "[Return to task 11 of the Complex Arithmetic kata.](./ComplexArithmetic.ipynb#Exercise-11:-Polar-multiplication.)"
   ]
  },
  {
   "cell_type": "markdown",
   "metadata": {},
   "source": [
    "### <span style=\"color:blue\">Exercise 12</span>**: Arbitrary complex exponents.\n",
    "\n",
    "You now know enough about complex numbers to figure out how to raise a complex number to a complex power.\n",
    "\n",
    "**Inputs:**\n",
    "\n",
    "1. A complex number $x = a + bi$, represented as a tuple `(a, b)`.\n",
    "2. A complex number $y = c + di$, represented as a tuple `(c, d)`.\n",
    "\n",
    "**Goal:** Return the result of raising $x$ to the power of $y$: $x^y = (a + bi)^{c + di} = z = g + hi$, represented as a tuple `(g, h)`."
   ]
  },
  {
   "cell_type": "markdown",
   "metadata": {},
   "source": [
    "### Solution\n",
    "\n",
    "$x = a + bi$  \n",
    "$y = c + di$  \n",
    "$z = x^y $  \n",
    "\n",
    "To make this easier to solve we want to rewrite this to use $e$ constant like used above.\n",
    "\n",
    "$$ (a + bi)^{c + di} = e^{(\\ln(r) + i\\theta)(c + di)} $$  \n",
    "$$ e^{(\\ln(r) \\cdot c + \\ln(r) \\cdot di + i\\theta \\cdot c +(d\\theta)i^2)} = e^{(\\ln(r) \\cdot c + \\ln(r) \\cdot di + i\\theta \\cdot c - d\\theta)} $$   \n",
    "$$ = e^{(\\ln(r) \\cdot c - d\\theta + (\\ln(r) \\cdot d + \\theta c)i )} $$\n",
    "\n",
    "Lastly this need to be converted back to cartesian form, this has been covered in exercise 7, which comes down to:\n",
    "\n",
    "$$ e^{(\\ln(r) \\cdot c - d\\theta)} \\cdot (\\cos (\\ln(r) \\cdot d + \\theta c) + i\\sin (\\ln(r) \\cdot d + \\theta c)) $$"
   ]
  },
  {
   "cell_type": "code",
   "execution_count": null,
   "metadata": {},
   "outputs": [],
   "source": [
    "@exercise\n",
    "def complex_exp_arbitrary(x : Complex, y : Complex) -> Complex:\n",
    "    \n",
    "    a = x[0]\n",
    "    b = x[1]\n",
    "    \n",
    "    c = y[0]\n",
    "    d = y[1]\n",
    "    \n",
    "    r = math.sqrt(a**2 + b **2)\n",
    "    \n",
    "    theta = math.atan2(b,a)\n",
    "    \n",
    "    # It is imposible to get log(0) therefore we check if r = 0, if this is the case we keep the log of r to 0\n",
    "    if(r == 0):\n",
    "        lnr = 0\n",
    "    else:\n",
    "        # r is lager then 0 so we can take the log\n",
    "        lnr = math.log(r)\n",
    "    \n",
    "    exponent = math.e ** (lnr * c - d * theta)\n",
    "    \n",
    "    real = exponent * (math.cos(lnr * d + theta * c ))\n",
    "    \n",
    "    imaginary = exponent * (math.sin(lnr * d + theta * c))\n",
    "    \n",
    "    #If r = 0 the real part of the response will always be 0\n",
    "    if(r == 0):\n",
    "        real = 0\n",
    "    \n",
    "    return (real,imaginary)"
   ]
  },
  {
   "cell_type": "markdown",
   "metadata": {},
   "source": [
    "[Return to task 12 of the Complex Arithmetic kata.](./ComplexArithmetic.ipynb#Exercise-12**:-Arbitrary-complex-exponents.)"
   ]
  },
  {
   "cell_type": "markdown",
   "metadata": {},
   "source": [
    "## Conclusion\n",
    "\n",
    "Congratulations! You should now know enough complex arithmetic to get started with quantum computing. When you are ready, you can move on to the next tutorial in this series, covering [linear algebra](../LinearAlgebra/LinearAlgebra.ipynb).  \n",
    "If you need to look up some formulas quickly, you can find them in [this cheatsheet](https://github.com/microsoft/QuantumKatas/blob/master/quickref/qsharp-quick-reference.pdf)."
   ]
  }
 ],
 "metadata": {
  "kernelspec": {
   "display_name": "Python 3",
   "language": "python",
   "name": "python3"
  },
  "language_info": {
   "codemirror_mode": {
    "name": "ipython",
    "version": 3
   },
   "file_extension": ".py",
   "mimetype": "text/x-python",
   "name": "python",
   "nbconvert_exporter": "python",
   "pygments_lexer": "ipython3",
   "version": "3.7.3"
  }
 },
 "nbformat": 4,
 "nbformat_minor": 2
}
