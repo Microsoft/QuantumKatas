{
 "cells": [
  {
   "cell_type": "markdown",
   "metadata": {},
   "source": [
    "# Measurements in systems with multiple qubits\n",
    "\n",
    "In the previous tutorial, we discussed the concept of measurements done on single qubit systems. Building upon those ideas, this tutorial will introduce you to the concepts involved in, and the `Q#` implementation of measurements done on multi-qubit systems. This will involved measuring a single qubit in a multi-qubit system, as well as measuring multiple qubits simultaneously. \n",
    "\n",
    "We recommend to go through the [tutorial that introduces single qubit system measurements](../SingleQubitGates/SingleQubitGates.ipynb) before starting this one.\n",
    "\n",
    "This tutorial covers the following topics for multiple qubit systems:\n",
    "\n",
    "* Measuring qubits one at a time\n",
    "* Measuring multiple qubits simultaneously\n",
    "$\\newcommand{\\ket}[1]{\\left|#1\\right>}$\n",
    "$\\newcommand{\\bra}[1]{\\left<#1\\right|}$"
   ]
  },
  {
   "cell_type": "markdown",
   "metadata": {},
   "source": [
    "### Theoretical basics: Partial and complete measurements\n",
    "Measurements in multi-qubit systems can involve measuring some of the qubits, or all of the qubits simultaneously. Somewhat counter-intuitively, complete measurements (i.e. measurements done on all the qubits simultaneously) are easier to understand than partial measurements. We start this tutorial with a discussion of measurements involving all the qubits in a system. As we will see in the section below, they are a straightforward generalization of measurements in single-qubit systems.\n",
    "\n",
    "## Measurement probabilities when all qubits are measured simultaneously\n",
    "Consider a system consisting of $n\\geq1$ qubits. The wavefunction of such a system will belong to a vector space of dimension $2^n$. Consequently, any orthogonal basis for this space will consist of $2^n$ vectors. An example is the computational basis, consisting of vectors $|0\\dotsc0\\rangle, \\dotsc, |1\\dotsc 1\\rangle$, where each ket contains a bitstring of length n. For generality, we consider an arbitrary orthonormal basis, which we denote by $\\{ |b_0\\rangle, |b_1\\rangle, \\dotsc, |b_{2^n-1}\\rangle \\}$. Then, the state $|\\psi\\rangle$ of the multi-qubit system can be expressed as a linear combination of the $2^n$ basis vectors. That is, there exist complex numbers $c_0,c_1,\\dotsc, c_{2^n-1}$ such that\n",
    " $$\n",
    " |\\psi\\rangle = \\sum_{i=0}^{2^n-1} c_i|b_i\\rangle.\n",
    " $$\n",
    " In line with the usual convention, we choose the wavefunction to be normalized, so that $|c_0|^2 + \\dotsc + |c_{2^n-1}|^2 =1$. Then, a quantum measurement in the $\\{ |b_0\\rangle, |b_1\\rangle, \\dotsc, |b_{2^n-1}\\rangle \\}$ basis satisfies the following rules:\n",
    " - The measurement outcome $b_i$ occurs with probability $|c_i|^2$. \n",
    " - Whenever the measurement outcome is $b_i$, the wavefunction collapses to the state $|b_i\\rangle$. That is, the post measurement state of the system is equal to $|b_i\\rangle$.\n",
    " \n",
    "> Similar to measurements in single qubit systems, the assumption of normalization of the original wavefunction is required for the applicability of the statements above, in order to ensure that the sum of all the outcome probabilities is one.\n",
    "\n",
    "> Whenever the wavefunction of a system is known in a certain basis, but a measurement is implemented in another basis, to obtain the measurement probabilities, it is best to first express the wavefunction in the basis in which measurements are to be done, and then apply the formulas above. "
   ]
  },
  {
   "cell_type": "markdown",
   "metadata": {},
   "source": [
    "### <span style=\"color:blue\">Exercise 1</span>: Multi-qubit measurement outcome probabilities I \n",
    "Suppose that a two-qubit system is known to be in the following state:\n",
    "$$\\ket \\psi =  \\frac{1}{3}\\ket {00} + \\frac{2}{3} \\ket {01} + \\frac{2}{3}\\ket {11}$$.\n",
    "\n",
    "If all the qubits are measured simultaneously in the computational basis, what are the outcome probabilities?\n",
    "\n",
    "*Can't come up with a solution? See the explained solution in the [--- Workbook](./Workbook_SingleQubitSystemMeasurements.ipynb#Exercise-1:-Obtain-the-probability-outcomes-for-a-specific-state).*\n"
   ]
  },
  {
   "cell_type": "markdown",
   "metadata": {},
   "source": [
    "### <span style=\"color:blue\">Exercise 2</span>: Multi-qubit measurement outcome probabilities II \n",
    "Suppose that a two-qubit system is known to be in the following state:\n",
    "$$\\ket \\psi =  \\frac{2}{3}\\ket {00} + \\frac{1}{3} \\ket {01} + \\frac{2}{3}\\ket {11}$$.\n",
    "\n",
    "If all the qubits are measured simultaneously in the Pauli X basis, i.e. in the $\\{ \\ket{++}, \\ket{+-}, \\ket{-+}, \\ket{--}\\}$ basis, what are the outcome probabilities?\n",
    "\n",
    "*Can't come up with a solution? See the explained solution in the [--- Workbook](./Workbook_SingleQubitSystemMeasurements.ipynb#Exercise-1:-Obtain-the-probability-outcomes-for-a-specific-state).*\n"
   ]
  },
  {
   "cell_type": "markdown",
   "metadata": {},
   "source": [
    "### Measuring all qubits in a system one after another\n",
    "\n",
    "Although it is possible to measure all qubits in a quantum mechanics system simultaneously, in practice, the qubits are measured one after another on a quantum computer. This distinction is not important for an ideal computer: in terms of the outcomes and measurement probabilities, measuring all the qubits in a system one after another is equivalent to measuring all the qubits simultaneously. Furthermore, as long as all the qubits are measured, the sequence in which they are measured is also inconsequential. (These factors play are important to consider for real quantum computers with imperfect qubits, but we restrict the discussion to ideal systems in this tutorial.) "
   ]
  },
  {
   "cell_type": "code",
   "execution_count": 15,
   "metadata": {},
   "outputs": [
    {
     "data": {
      "application/json": "[\"WhichBasisState\"]",
      "text/html": [
       "<ul><li>WhichBasisState</li></ul>"
      ],
      "text/plain": [
       "WhichBasisState"
      ]
     },
     "execution_count": 15,
     "metadata": {},
     "output_type": "execute_result"
    }
   ],
   "source": [
    "operation WhichBasisState (qs : Qubit[]) : Int[] {\n",
    "    let N = Length(qs);\n",
    "    mutable array = new Int[N];\n",
    "    for (i in 0 .. N - 1) {\n",
    "        set array w/= i <- M(qs[i]) == One ? 1 | 0;\n",
    "    }\n",
    "    Message(\"Test passed\");\n",
    "    return array;\n",
    "}"
   ]
  },
  {
   "cell_type": "code",
   "execution_count": 109,
   "metadata": {},
   "outputs": [
    {
     "data": {
      "application/json": "[\"WhichBasisStateDemo\"]",
      "text/html": [
       "<ul><li>WhichBasisStateDemo</li></ul>"
      ],
      "text/plain": [
       "WhichBasisStateDemo"
      ]
     },
     "execution_count": 109,
     "metadata": {},
     "output_type": "execute_result"
    }
   ],
   "source": [
    "open Microsoft.Quantum.Diagnostics;\n",
    "open Microsoft.Quantum.Convert;\n",
    "operation WhichBasisStateDemo () : Unit{\n",
    "    using (qs = Qubit[3]) {\n",
    "        X(qs[0]);\n",
    "        H(qs[0]);\n",
    "        H(qs[1]);\n",
    "        X(qs[2]);\n",
    "        H(qs[2]);\n",
    "        \n",
    "        Message(\"Qubits initialized to the state state |-+-❭ \");\n",
    "    \n",
    "        mutable SystemState = \"\";\n",
    "        mutable qubitState = \"\";\n",
    "        for (i in 0 .. Length(qs) - 1) {\n",
    "            set qubitState = Measure([ PauliX], [qs[i]])  == One ? \"-\" | \"+\";\n",
    "            // set array w/= i <- M(qs[i]) == One ? 1 | 0;\n",
    "            set SystemState = SystemState + qubitState;\n",
    "        }\n",
    "        \n",
    "        Message($\"Qubits measured to be in the state |{SystemState}❭\");\n",
    "        ResetAll(qs);\n",
    "    }\n",
    "}"
   ]
  },
  {
   "cell_type": "code",
   "execution_count": 110,
   "metadata": {},
   "outputs": [
    {
     "name": "stdout",
     "output_type": "stream",
     "text": [
      "Qubits initialized to the state state |-+-❭ \n",
      "Qubits measured to be in the state |-+-❭\n"
     ]
    },
    {
     "data": {
      "application/json": "{\"@type\":\"tuple\"}",
      "text/plain": [
       "()"
      ]
     },
     "execution_count": 110,
     "metadata": {},
     "output_type": "execute_result"
    }
   ],
   "source": [
    "%simulate WhichBasisStateDemo"
   ]
  },
  {
   "cell_type": "code",
   "execution_count": null,
   "metadata": {},
   "outputs": [],
   "source": []
  },
  {
   "cell_type": "markdown",
   "metadata": {},
   "source": [
    "### <span style=\"color:blue\">Demo: Measurement statistics</span>\n",
    "\n",
    "Multi-qubit measurements can be implemented in `Q#` using the `Measure` operation. As outined in the [previous tutorial](addlink), using appropriate unitary rotations in conjuction with the Measure operation, it is possible to implement measurements in any orthogonal basis of one's choice. \n",
    "\n",
    "The following cell contains code demonstrating the use of the `Measure` operation. First, we prepare a 2-qubit system in the following state:\n",
    "$$\n",
    "\\ket{\\psi} = \\frac{2/3}\n",
    "$$\n",
    "\n",
    "that the theoretical and experimental values of the probability outcomes indeed match with each other. We repeatedly prepare the same state $\\ket \\psi = 0.6 \\ket 0 + 0.8 \\ket 1$ and measure it in the computational basis $100$ times. At the end, we expect $0$ to be measured approximately $36$ times, and $1$ to be measured approximately $64$ times. Note that since measurements are probabilistic, we do not expect the results to match these values exactly."
   ]
  },
  {
   "cell_type": "markdown",
   "metadata": {},
   "source": [
    "To add:\n",
    "- Entanglement\n",
    "- Partial measurements and projection operators"
   ]
  },
  {
   "cell_type": "markdown",
   "metadata": {},
   "source": [
    "### <span style=\"color:blue\">Exercise 3</span>: Distinguish orthogonal states\n",
    "\n",
    "**Input**: A 3-qubit system which is guaranteed to be in either the $\\ket{++-}$ state, or the $\\ket{---}$ state.\n",
    "\n",
    "**Output**: `true` if the qubit is in the $\\ket{++-}$ state, or `false` if it was in the $\\ket{---}$ state. The state of the qubits at the end of the operation does not matter"
   ]
  },
  {
   "cell_type": "code",
   "execution_count": 2,
   "metadata": {},
   "outputs": [
    {
     "name": "stderr",
     "output_type": "stream",
     "text": [
      "G:\\snippet_.qs(4,30): error QS6210: The type of the given argument does not match the expected type. Got an argument of type Qubit, expecting one of type Qubit[] instead.\r\n"
     ]
    }
   ],
   "source": [
    "// %kata T3_IsQubitMinus\n",
    "\n",
    "operation DistinguishMultiQubitState (qs : Qubit[]) : Bool {\n",
    "    return Measure([PauliX], qs[0]) == Zero;\n",
    "}"
   ]
  }
 ],
 "metadata": {
  "kernelspec": {
   "display_name": "Q#",
   "language": "qsharp",
   "name": "iqsharp"
  },
  "language_info": {
   "file_extension": ".qs",
   "mimetype": "text/x-qsharp",
   "name": "qsharp",
   "version": "0.13"
  }
 },
 "nbformat": 4,
 "nbformat_minor": 4
}
