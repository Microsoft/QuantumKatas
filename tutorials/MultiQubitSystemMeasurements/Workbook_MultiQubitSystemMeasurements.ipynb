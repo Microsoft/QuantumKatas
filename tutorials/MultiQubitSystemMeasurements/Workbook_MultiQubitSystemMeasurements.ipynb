{
 "cells": [
  {
   "cell_type": "markdown",
   "id": "systematic-upgrade",
   "metadata": {},
   "source": [
    "# Multi-Qubit System Measurements Tutorial Workbook\n",
    "\n",
    "**What is this workbook?**\n",
    "A workbook is a collection of problems, accompanied by solutions to them. \n",
    "The explanations focus on the logical steps required to solve a problem; they illustrate the concepts that need to be applied to come up with a solution to the problem, explaining the mathematical steps required. \n",
    "\n",
    "Note that a workbook should not be the primary source of knowledge on the subject matter; it assumes that you've already read a tutorial or a textbook and that you are now seeking to improve your problem-solving skills. You should attempt solving the tasks of the respective kata first, and turn to the workbook only if stuck. While a textbook emphasizes knowledge acquisition, a workbook emphasizes skill acquisition.\n",
    "\n",
    "This workbook describes the solutions to the problems offered in the [Multi-Qubit System Measurements tutorial](./MultiQubitSystemMeasurements.ipynb). \n",
    "Since the tasks are offered as programming problems, the explanations also cover some elements of Q# that might be non-obvious for a first-time user.\n",
    "\n",
    "**What you should know for this workbook**\n",
    "\n",
    "You should be familiar with the following concepts before tackling the Single-Qubit System Measurements tutorial (and this workbook):\n",
    "1. Basic linear algebra\n",
    "2. Single and multi-qubit systems\n",
    "3. Single and multi-qubit gates\n",
    "$\\newcommand{\\ket}[1]{\\left|#1\\right>}$\n",
    "$\\newcommand{\\bra}[1]{\\left<#1\\right|}$"
   ]
  },
  {
   "cell_type": "markdown",
   "id": "beautiful-aaron",
   "metadata": {},
   "source": [
    "### <span style=\"color:blue\">Exercise 1</span>: Multi-qubit measurement outcome probabilities I \n",
    "Suppose that a two-qubit system is known to be in the following state:\n",
    "$$\\ket \\psi =  \\frac{1}{3}\\ket {00} + \\frac{2}{3} \\ket {01} + \\frac{2}{3}\\ket {11}$$.\n",
    "\n",
    "If all the qubits are measured simultaneously in the computational basis, what are the outcome probabilities?"
   ]
  },
  {
   "cell_type": "markdown",
   "id": "russian-discretion",
   "metadata": {},
   "source": [
    "### Solution\n",
    "The wavefunction $|\\psi\\rangle$ is normalized, since $\\left(\\frac{1}{3}\\right)^2 + \\left(\\frac{2}{3}\\right)^2 + \\left(\\frac{2}{3}\\right)^2 = 1$. Hence, the probabilities of measuring each of the computational basis states is simply the modulus squared of the corresponding coefficients. That is, the probabilities of measuring $00$, $01$ and $11$ are $\\frac{1}{9}$, $\\frac{4}{9}$ and $\\frac{4}{9}$ respectively."
   ]
  },
  {
   "cell_type": "markdown",
   "id": "catholic-casino",
   "metadata": {},
   "source": [
    "[Return to exercise 1 of the Multi-Qubit System Measurements tutorial.](./MultiQubitSystemMeasurements.ipynb#Exercise-1:-Multi-qubit-measurement-outcome-probabilities-I)"
   ]
  },
  {
   "cell_type": "markdown",
   "id": "conceptual-farmer",
   "metadata": {},
   "source": [
    "### <span style=\"color:blue\">Exercise 2</span>: Multi-qubit measurement outcome probabilities II \n",
    "Suppose that a two-qubit system is known to be in the following state:\n",
    "$$\\ket \\psi =  \\frac{2}{3}\\ket {00} + \\frac{1}{3} \\ket {01} + \\frac{2}{3}\\ket {11}$$.\n",
    "\n",
    "If all the qubits are measured simultaneously in the Pauli X basis, i.e. in the $\\{ \\ket{++}, \\ket{+-}, \\ket{-+}, \\ket{--}\\}$ basis, what are the outcome probabilities?"
   ]
  },
  {
   "cell_type": "markdown",
   "id": "south-cancer",
   "metadata": {},
   "source": [
    "### Solution\n",
    "Using the expressions $|0\\rangle = \\frac{1}{\\sqrt{2}} \\left( |+\\rangle + |-\\rangle \\right)$ and $|1\\rangle = \\frac{1}{\\sqrt{2}} \\left( |+\\rangle - |-\\rangle \\right)$, we first express $|\\psi\\rangle$ in the Pauli X basis. This gives us\n",
    "$$\n",
    "|\\psi \\rangle = \\frac{5}{6} |++\\rangle - \\frac{1}{6} |+-\\rangle + \\frac{1}{2} |-+\\rangle + \\frac{1}{6} |--\\rangle.\n",
    "$$\n",
    "Thus, the probabilities of measuring each of the four basis vectors is given by\n",
    "<table style=\"border:1px solid\">\n",
    "    <col width=150>\n",
    "    <col width=150>\n",
    "    <tr>\n",
    "        <th style=\"text-align:center; border:1px solid\">Measurement outcome</th>\n",
    "        <th style=\"text-align:center; border:1px solid\">Probability of outcome</th>\n",
    "    </tr>\n",
    "    <tr>\n",
    "        <td style=\"text-align:center; border:1px solid\">$++$</td>\n",
    "        <td style=\"text-align:center; border:1px solid\">$\\left( \\frac{5}{6}\\right)^2 = \\frac{25}{36}$</td>\n",
    "    </tr> \n",
    "    <tr>\n",
    "        <td style=\"text-align:center; border:1px solid\">$+-$</td>\n",
    "        <td style=\"text-align:center; border:1px solid\">$\\left( -\\frac{1}{6}\\right)^2 = \\frac{1}{36}$</td>\n",
    "    </tr> \n",
    "    <tr>\n",
    "        <td style=\"text-align:center; border:1px solid\">$-+$</td>\n",
    "        <td style=\"text-align:center; border:1px solid\">$\\left( \\frac{1}{2}\\right)^2 = \\frac{1}{4}$</td>\n",
    "    </tr>     \n",
    "    <tr>\n",
    "        <td style=\"text-align:center; border:1px solid\">$++$</td>\n",
    "        <td style=\"text-align:center; border:1px solid\">$\\left( \\frac{1}{6}\\right)^2 = \\frac{1}{36}$</td>\n",
    "    </tr> \n",
    "</table>\n",
    " "
   ]
  },
  {
   "cell_type": "markdown",
   "id": "statistical-raise",
   "metadata": {},
   "source": [
    "[Return to exercise 2 of the Multi-Qubit System Measurements tutorial.](./MultiQubitSystemMeasurements.ipynb#Exercise-2:-Multi-qubit-measurement-outcome-probabilities-II)"
   ]
  },
  {
   "cell_type": "markdown",
   "id": "competent-fancy",
   "metadata": {},
   "source": [
    "### <span style=\"color:blue\">Exercise 3</span>: Identify computational basis states\n",
    "\n",
    "**Input**: An array of qubits which is guaranteed to be in a computational basis state.\n",
    "\n",
    "**Output**: An array of `Result` values, with the same length as the number of qubits, specifying the computational basis state corresponding to the input state. For example, if the input qubit wavefunction is set to $\\ket{001}$, the output should be the array `[Zero, Zero, One]`."
   ]
  },
  {
   "cell_type": "markdown",
   "id": "guilty-enhancement",
   "metadata": {},
   "source": [
    "### Solution\n",
    "Using the `M` operation in Q#, we measure each of the qubits individually in the computational basis, and record the measurement outcome in an array of `Result`'s."
   ]
  },
  {
   "cell_type": "code",
   "execution_count": 1,
   "id": "aware-journal",
   "metadata": {},
   "outputs": [
    {
     "data": {
      "application/json": "[\"ReturnBasisState\"]",
      "text/html": [
       "<ul><li>ReturnBasisState</li></ul>"
      ],
      "text/plain": [
       "ReturnBasisState"
      ]
     },
     "execution_count": 1,
     "metadata": {},
     "output_type": "execute_result"
    }
   ],
   "source": [
    "// %kata T1_ReturnResultArray\n",
    "\n",
    "operation ReturnResultArray(qs : Qubit[]) : Result[] {\n",
    "\n",
    "    let N = Length(qs);\n",
    "    mutable array = new Result[N];\n",
    "    \n",
    "    for i in 0 .. N - 1 {\n",
    "        set array w/= i <- M(qs[i]);\n",
    "    }\n",
    "    return array;\n",
    "}"
   ]
  },
  {
   "cell_type": "markdown",
   "id": "assigned-bankruptcy",
   "metadata": {},
   "source": [
    "[Return to exercise 3 of the Multi-Qubit System Measurements tutorial.](./MultiQubitSystemMeasurements.ipynb#Exercise-3:-Identify-computational-basis-states)"
   ]
  },
  {
   "cell_type": "markdown",
   "id": "fifth-custom",
   "metadata": {},
   "source": [
    "### <span style=\"color:blue\">Exercise 4</span>: Partial measurement probabilities for the Hardy state\n",
    "\n",
    "Consider a 2-qubit system which is in the state $\\ket \\psi = \\frac{1}{\\sqrt{12}} \\big(3|00\\rangle + |01\\rangle + |10\\rangle + |11\\rangle\\big)$.\n",
    "\n",
    "If only the first qubit is measured in the computational basis what are the probabilities of the outcomes, and the post-measurement states of the system?"
   ]
  },
  {
   "cell_type": "markdown",
   "id": "familiar-terrorist",
   "metadata": {},
   "source": [
    "### Solution\n",
    "\n",
    "A measurement of the first qubit in the state $0$ corresponds to the projection operator $P_0|0\\rangle\\langle 0| \\otimes \\mathbb{1}$. A few lines of algebra gives us\n",
    "\\begin{align}\n",
    "\\frac{P_0 \\ket{\\psi}}{|P_0 \\ket{\\psi}|} &= \\frac{1}{\\sqrt{10}} \\left( 3\\ket{00} + \\ket{01}\\right);\\\\\n",
    "\\text{and }|P_0 \\ket{\\psi}|^2 &= \\frac{5}{6}.\n",
    "\\end{align}\n",
    "Similarly, $P_1 = |1\\rangle \\langle 1 | \\otimes \\mathbb{1}$ is the projector corresponding to a measurement outcome of 1 for the first qubit. Operating $P_1$ on $\\ket{\\psi}$ gives us\n",
    "\\begin{align}\n",
    "\\frac{P_1 \\ket{\\psi}}{|P_1 \\ket{\\psi}|} &= \\frac{1}{\\sqrt{2}} \\left(\\ket{10} + \\ket{11}\\right);\\\\\n",
    "\\text{and }|P_1 \\ket{\\psi}|^2 &= \\frac{1}{6}.\n",
    "\\end{align}\n",
    "<table style=\"border:1px solid\">\n",
    "    <col width=150>\n",
    "    <col width=150>\n",
    "    <col width=150>\n",
    "    <tr>\n",
    "        <th style=\"text-align:center; border:1px solid\">Measurement outcome</th>\n",
    "        <th style=\"text-align:center; border:1px solid\">Probability of outcome</th>\n",
    "        <th style=\"text-align:center; border:1px solid\">Post-measurement state</th>\n",
    "    </tr>\n",
    "    <tr>\n",
    "        <td style=\"text-align:center; border:1px solid\">$0$</td>\n",
    "        <td style=\"text-align:center; border:1px solid\">$\\frac{5}{6}$</td>\n",
    "        <td style=\"text-align:center; border:1px solid\">$\\frac{1}{\\sqrt{10}} \\left( 3\\ket{00} + \\ket{01}\\right)$</td>\n",
    "    </tr> \n",
    "    <tr>\n",
    "        <td style=\"text-align:center; border:1px solid\">$1$</td>\n",
    "        <td style=\"text-align:center; border:1px solid\">$\\frac{1}{6}$</td>\n",
    "        <td style=\"text-align:center; border:1px solid\">$\\frac{1}{\\sqrt{2}} \\left(\\ket{10} + \\ket{11}\\right)$</td>\n",
    "    </tr> \n",
    "</table>"
   ]
  },
  {
   "cell_type": "markdown",
   "id": "traditional-contractor",
   "metadata": {},
   "source": [
    "[Return to exercise 4 of the Multi-Qubit System Measurements tutorial.](./MultiQubitSystemMeasurements.ipynb#Exercise-4:-Partial-measurement-probabilities-for-the-Hardy-state)"
   ]
  },
  {
   "cell_type": "markdown",
   "id": "angry-contract",
   "metadata": {},
   "source": [
    "### <span style=\"color:blue\">Exercise 5</span>: Distinguish orthogonal states\n",
    "\n",
    "**Input**: A 3-qubit system which is guaranteed to be in either the $\\ket{++-}$ state, or the $\\ket{---}$ state.\n",
    "\n",
    "**Output**: `true` if the qubit is in the $\\ket{++-}$ state, or `false` if it was in the $\\ket{---}$ state. The state of the qubits at the end of the operation should be the same as the initial state."
   ]
  },
  {
   "cell_type": "markdown",
   "id": "worse-keyboard",
   "metadata": {},
   "source": [
    "### Solution\n",
    "Since both the states correspond to the first qubit being in states $\\ket +$ and $\\ket -$ respectively, it is sufficient to measure only the first qubit in the Pauli X basis in order to distinguish the two states. Furthermore, the measurement does will not result in a change in the state of the qubit, since the post-projection state is identical to the original state in either case."
   ]
  },
  {
   "cell_type": "code",
   "execution_count": null,
   "id": "palestinian-fence",
   "metadata": {},
   "outputs": [],
   "source": [
    "// %kata T2_IsPlusPlusMinus\n",
    "\n",
    "operation IsPlusPlusMinus (qs : Qubit[]) : Bool {\n",
    "    return Measure([PauliX], [qs[0]]) == Zero;\n",
    "}"
   ]
  },
  {
   "cell_type": "markdown",
   "id": "republican-sleep",
   "metadata": {},
   "source": [
    "[Return to exercise 5 of the Multi-Qubit System Measurements tutorial.](./MultiQubitSystemMeasurements.ipynb#Exercise-5:-Distinguish-orthogonal-states)"
   ]
  },
  {
   "cell_type": "markdown",
   "id": "designing-tomato",
   "metadata": {},
   "source": [
    "### <span style=\"color:blue\">Exercise 6</span>: Sequential measurements on an entangled state and a separable state\n",
    "Consider two two-qubit states:\n",
    "- The Bell state $|\\Phi^{+}\\rangle = \\frac{1}{\\sqrt{2}} \\big (|00\\rangle + |11\\rangle\\big)$.\n",
    "- A state $\\ket \\Theta = \\frac{1}{2} \\big( \\ket{00} + \\ket{01} + \\ket{10} + \\ket{11} \\big)$.\n",
    "\n",
    "For both the states, consider a measurement on the first qubit, followed by a measurement on the second second qubit (both in the computational basis). For which state can we expect the measurement outcomes to be correlated? Verify by calculating the sequential measurement probabilities explicitly for both the states. "
   ]
  },
  {
   "cell_type": "markdown",
   "id": "wicked-judges",
   "metadata": {},
   "source": [
    "### Solution\n",
    "- *The Bell state*: If the first qubit is measured to be in the state $\\ket 0$, a subsequent measurement on the second qubit *always* results in an outcome of $0$, with probabilitiy $1$. Similarly, if the outcome of the measurement on the first qubit is $1$, then the second qubit measurement always results in $1$. Thus, sequential measurements are perfectly *correlated*.\n",
    "- *Separable state* $\\ket \\Theta$: Irrespective of whether the first qubit measurement outcome is $0$ of $1$ (each of which occurs with a probability of $0.5$), a subsequent measurement on the second qubit results in an outcome of $0$ or $1$ (both with a probabilitiy of $0.5$). Thus, sequential measurements are perfectly *uncorrelated*.  \n",
    "\n",
    "This aligns with the fact that the Bell state is entangled, while the $\\ket{\\Theta}$ is not entangled, it is separable and can be expressed as $\\ket \\Theta = \\ket + \\otimes \\ket +$.\n"
   ]
  },
  {
   "cell_type": "markdown",
   "id": "lonely-malpractice",
   "metadata": {},
   "source": [
    "[Return to exercise 6 of the Multi-Qubit System Measurements tutorial.](./MultiQubitSystemMeasurements.ipynb#Exercise-6:-Sequential-measurements-on-an-entangled-state-and-a-separable-state)"
   ]
  },
  {
   "cell_type": "markdown",
   "id": "extra-cancellation",
   "metadata": {},
   "source": [
    "### <span style=\"color:blue\">Exercise 7</span>: State selection using partial measurements \n",
    "\n",
    "**Input**: \n",
    "1. A 2-qubit system which is known to be in a state $|\\psi\\rangle$, given by\n",
    "$$\n",
    "|\\psi\\rangle = \\frac{1}{\\sqrt{2}} |0\\rangle \\otimes ( a |0\\rangle + b|1\\rangle) + \\frac{1}{\\sqrt{2}} |1\\rangle \\otimes (b|0\\rangle + a |1\\rangle),\n",
    "$$\n",
    "where the constants $a$ and $b$ satisfying $|a|^2 + |b|^2 = 1$ are not provided.\n",
    "2. An integer $i$ which is either $0$ or $1$.\n",
    "\n",
    "**Output**: If $i$ equals 0, the state of the state of the second qubit should be $a|0\\rangle + b|1\\rangle$, and if $i$ equals 1, the state of the second qubit should be $b|0\\rangle + a |1\\rangle$. The state of the first qubit does not matter."
   ]
  },
  {
   "cell_type": "markdown",
   "id": "weird-delay",
   "metadata": {},
   "source": [
    "### Solution\n",
    "We note that if we measure the first qubit in the computational basis, then an outcome of $0$ collapses the second qubit to the state $a\\ket 0 + b \\ket 1$, while an outcome of $1$ collapses the second qubit to the state $b\\ket 0 + a \\ket 1$.\n",
    "\n",
    "Thus, if $i=0$ and we measure $0$ or if $i=1$ and we measure $1$, then post-measurement, the second qubit will be in the desired state.\n",
    "On the other hand, we $i=1$ and we measure $0$, or if we $i=0$ and we measure $1$, then the post-measurement  state of the qubit can be acted upon by the Pauli $X$ gate in order to obtain the desired state."
   ]
  },
  {
   "cell_type": "code",
   "execution_count": 3,
   "id": "serial-voluntary",
   "metadata": {},
   "outputs": [
    {
     "data": {
      "application/json": "[\"StateSelctionViaPartialMeasurement\"]",
      "text/html": [
       "<ul><li>StateSelctionViaPartialMeasurement</li></ul>"
      ],
      "text/plain": [
       "StateSelctionViaPartialMeasurement"
      ]
     },
     "execution_count": 3,
     "metadata": {},
     "output_type": "execute_result"
    }
   ],
   "source": [
    "// %kata T3_StateSelctionViaPartialMeasurement\n",
    "\n",
    "operation StateSelctionViaPartialMeasurement (qs : Qubit[], i : Int) : Unit {\n",
    "    if (i == 0) {\n",
    "        if (M(qs[0]) == Zero){\n",
    "            // do nothing\n",
    "        } else {\n",
    "            // apply the X gate to the second qubit\n",
    "            X(qs[1]);\n",
    "        }\n",
    "    } else {\n",
    "        if (M(qs[0]) == Zero){\n",
    "            // apply the X gate to the second qubit\n",
    "            X(qs[1]);\n",
    "        } else {\n",
    "            // do nothing\n",
    "        }\n",
    "    }\n",
    "}"
   ]
  },
  {
   "cell_type": "markdown",
   "id": "exciting-shelf",
   "metadata": {},
   "source": [
    "[Return to exercise 7 of the Multi-Qubit System Measurements tutorial.](./MultiQubitSystemMeasurements.ipynb#Exercise-7:-State-selection-using-partial-measurements)"
   ]
  },
  {
   "cell_type": "markdown",
   "id": "nearby-ultimate",
   "metadata": {},
   "source": [
    "### <span style=\"color:blue\">Exercise 8</span>: State preparation using partial measurements\n",
    "\n",
    "Prepare a three-qubit state such that the first two qubits are in the state\n",
    "$$\n",
    "|\\psi\\rangle = \\frac{1}{\\sqrt{3}} (|00\\rangle + |01\\rangle + |10\\rangle).\n",
    "$$\n",
    "The state of the third qubit, i.e. the ancilla qubit does not matter. \n"
   ]
  },
  {
   "cell_type": "markdown",
   "id": "growing-desperate",
   "metadata": {},
   "source": [
    "### Solution\n",
    "While it is possible to prepare the state $\\ket \\psi$ directly using unitary rotations, it is simpler to use post-selection for preparing it. Here, we describe the procedure in more detail below.\n",
    "\n",
    "Initially we will prepare an equal superposition of all basis states corresponding to the first two qubits by applying the **H** gate to each of them: \n",
    "$$\\frac{1}{2} \\big(|00\\rangle + |01\\rangle + |10\\rangle + |11\\rangle\\big) \\ket 0$$\n",
    "\n",
    "This state is a superposition of the state we want to prepare, and the $|11\\rangle$ state that we would like to discard. We can do exactly that by performing the right measurement on the system.\n",
    "\n",
    "Now, we want to separate the first three basis states from the last one and to store this separation in the extra qubit. \n",
    "For example, we can keep the state of the extra qubit $|0\\rangle$ for the basis states that we want to keep, and switch it to $|1\\rangle$ for the basis states that we would like to discard. \n",
    "A **CCNOT** gate can be used to accomplish this, with the first two qubits used as control qubits and the extra qubit as target. \n",
    "When the gate is applied, the state of the extra qubit will only change to $|1\\rangle$ if both control qubits are in the $|11\\rangle$ state, which marks exactly the state that we want to discard:\n",
    "\n",
    "$$\\text{CCNOT}\\frac{1}{2} \\big(|00\\textbf{0}\\rangle + |01\\textbf{0}\\rangle + |10\\textbf{0}\\rangle + |11\\textbf{0}\\rangle\\big) = \n",
    "\\frac{1}{2}\\big(|00\\rangle + |01\\rangle + |10\\rangle \\big) \\otimes |\\textbf{0}\\rangle + \\frac{1}{2}|11\\rangle \\otimes |\\textbf{1}\\rangle $$\n",
    "\n",
    "Finally we measure just the extra qubit; this causes a partial collapse of the system to the state defined by the measurement result:\n",
    "* If the result is $|0\\rangle$, the system collapses to a state that is a linear combination of basis states which had the extra qubit in state $|0\\rangle$, i.e., the two qubits end up in the target state $\\frac{1}{\\sqrt3}\\big(|00\\rangle + |01\\rangle + |10\\rangle\\big)$. \n",
    "* If the result is $|1\\rangle$, the system collapses to a state $|11\\rangle$, so our goal is not achieved. The good thing is, this only happens in 25% of the cases, and we can just reset our qubits to the $|00\\rangle$ state and try again.\n",
    "\n",
    "\n",
    "> Q# has a built-in [repeat-until-success (RUS) loop](https://docs.microsoft.com/en-us/quantum/user-guide/using-qsharp/control-flow#repeat-until-success-loop), which comes in handy in this case. \n",
    "> * We will describe the main operations (applying **H** and **CCNOT** gates and the measurement) in the `repeat` part of the loop, which specifies its body.  \n",
    "> * `until` section specifies the condition which will break the loop. In this case the result of the measurement needs to be `Zero` to indicate our success.  \n",
    "> * Finally, the `fixup` section allows us to clean up the results of the loop body execution before trying again if the success criteria is not met. In this case we reset the first two qubits back to the $|00\\rangle$ state.\n",
    "\n",
    "This technique is sometimes called post-selection."
   ]
  },
  {
   "cell_type": "code",
   "execution_count": null,
   "id": "copyrighted-queensland",
   "metadata": {},
   "outputs": [],
   "source": [
    "// %kata T4_PreparationUsingPostSelection\n",
    "\n",
    "open Microsoft.Quantum.Measurement;\n",
    "\n",
    "operation PreparationUsingPostSelection (qs : Qubit[]) : Unit {\n",
    "    // Using the repeat-until-success pattern to prepare the right state\n",
    "    repeat {\n",
    "        H(qs[0]);\n",
    "        H(qs[1]);\n",
    "        CCNOT(qs[0],qs[1],qs[2]);\n",
    "        let res = M(qs[2]);\n",
    "    } \n",
    "    until (res == Zero)\n",
    "    fixup {\n",
    "        ResetAll(qs);\n",
    "    }\n",
    "}"
   ]
  },
  {
   "cell_type": "markdown",
   "id": "deadly-institution",
   "metadata": {},
   "source": [
    "[Return to exercise 8 of the Multi-Qubit System Measurements tutorial.](./MultiQubitSystemMeasurements.ipynb#Exercise-8:-State-preparation-using-partial-measurements)"
   ]
  }
 ],
 "metadata": {
  "kernelspec": {
   "display_name": "Q#",
   "language": "qsharp",
   "name": "iqsharp"
  },
  "language_info": {
   "file_extension": ".qs",
   "mimetype": "text/x-qsharp",
   "name": "qsharp",
   "version": "0.14"
  }
 },
 "nbformat": 4,
 "nbformat_minor": 5
}
