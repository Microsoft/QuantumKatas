{
 "cells": [
  {
   "cell_type": "markdown",
   "id": "macro-wagon",
   "metadata": {},
   "source": [
    "## To be deleted before pushing\n",
    "\n",
    "Script for creating random computational basis states"
   ]
  },
  {
   "cell_type": "code",
   "execution_count": null,
   "id": "mexican-column",
   "metadata": {},
   "outputs": [],
   "source": [
    "\n",
    "// Run this cell using Ctrl+Enter (⌘+Enter on Mac)\n",
    "// Run the next cell to see the output\n",
    "\n",
    "open Microsoft.Quantum.Diagnostics;\n",
    "open Microsoft.Quantum.Random;\n",
    "\n",
    "operation IdentifyComputationalBasisDemo(): Unit {\n",
    "    let NumQubits = 3;\n",
    "    mutable ChosenBasisState = \"\";\n",
    "    \n",
    "    using (qs = Qubit[NumQubits]) {\n",
    "        for (i in 0 .. NumQubits - 1) {\n",
    "            // randomly choose True or False\n",
    "            let RandomBool = DrawRandomBool (0.5);\n",
    "            if (RandomBool) { \n",
    "                // if True, set qubit i to be in the |1❭ state\n",
    "                // and update ChosenBasisState\n",
    "                X(qs[i]);\n",
    "                set ChosenBasisState = ChosenBasisState + \"1\";\n",
    "            } else {\n",
    "                set ChosenBasisState = ChosenBasisState + \"0\";\n",
    "            }\n",
    "        }\n",
    "        \n",
    "        Message($\"Qubits initialized to the state state |{ChosenBasisState}❭ \");\n",
    "    \n",
    "        mutable MeasuredSystemState = \"\";\n",
    "        mutable MeasuredQubitState = \"\";\n",
    "        for (i in 0 .. Length(qs) - 1) {\n",
    "            set MeasuredQubitState = M(qs[i])  == One ? \"1\" | \"0\";\n",
    "            set MeasuredSystemState = MeasuredSystemState + MeasuredQubitState;\n",
    "        }\n",
    "        \n",
    "        Message($\"Qubits measured to be in the state |{MeasuredSystemState}❭\");\n",
    "        ResetAll(qs);\n",
    "    }\n",
    "}"
   ]
  }
 ],
 "metadata": {
  "kernelspec": {
   "display_name": "Q#",
   "language": "qsharp",
   "name": "iqsharp"
  },
  "language_info": {
   "file_extension": ".qs",
   "mimetype": "text/x-qsharp",
   "name": "qsharp",
   "version": "0.13"
  }
 },
 "nbformat": 4,
 "nbformat_minor": 5
}
