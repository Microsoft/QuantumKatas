{
 "cells": [
  {
   "cell_type": "markdown",
   "metadata": {},
   "source": [
    "# Measurements\n",
    "This tutorial introduces you to one of the logical operations in quantum computing - Measurement, and its different forms of representation in terms of mathematical notation and in Q# code.\n",
    "\n",
    "If you aren't already familiar with Qubit, SingleQubitGates, MultiQubitGates and MultiQubitSystems, we recommend that you complete those tutorials first.\n",
    "\n",
    "## The concept of Measurement:\n",
    "In Quantum Mechanics, the logical term **Measurement** can be stated as manipulating or exploiting a physical system, in order to generate specific numerical result. In the same way, in terms of Quantum Computing, we can say that **Measurement** is nothing, but determining the value of a Qubit at a specific instant of time.\n",
    "\n",
    "## How a Qubit can be measured:\n",
    "Speaking of classical mechanics, we already know their basic building blocks i.e. **Bit** always has a final value '0' or '1'. However, on measuring the state of a **Bit** can only be either 0 or 1, the general state of a **Qubit** according to quantum mechanics can be a coherent superposition of '0' and '1'.\n",
    "\n",
    "# Pauli Measurements:\n",
    "As we work with Q#, the most common kind of measurements that we'll run into are likely to be Pauli measurements, which generalizes computational basis measurements to trasfer them in other bases, and also for parity between different qubits. In such cases, it will be always beneficial to discuss about a Pauli operator and its mode of measuring, in general an operator such as X,Y,Z or $Z \\otimes Z$, $X \\otimes X$, $X \\otimes Y$  and so forth.\n",
    "\n",
    "Also while working with a multi-qubit system, they are generally represented by arrays of type `Pauli[]`. For example, to represent X⊗Z⊗Y, you can use the array `[PauliX, PauliZ, PauliY]`."
   ]
  },
  {
   "cell_type": "code",
   "execution_count": 1,
   "metadata": {},
   "outputs": [
    {
     "data": {
      "application/json": "{\"LastUpdated\":\"2020-05-31T10:40:23.8204414+05:30\",\"IsCompleted\":true,\"Description\":\"Adding package Microsoft.Quantum.Katas::0.11.2004.2825\",\"Subtask\":\"done\"}",
      "text/plain": [
       "Adding package Microsoft.Quantum.Katas::0.11.2004.2825: done!"
      ]
     },
     "metadata": {},
     "output_type": "display_data"
    },
    {
     "data": {
      "application/json": "[\"Microsoft.Quantum.Standard::0.11.2003.3107\",\"Microsoft.Quantum.Katas::0.11.2004.2825\"]",
      "text/html": [
       "<ul><li>Microsoft.Quantum.Standard::0.11.2003.3107</li><li>Microsoft.Quantum.Katas::0.11.2004.2825</li></ul>"
      ],
      "text/plain": [
       "Microsoft.Quantum.Standard::0.11.2003.3107, Microsoft.Quantum.Katas::0.11.2004.2825"
      ]
     },
     "execution_count": 1,
     "metadata": {},
     "output_type": "execute_result"
    }
   ],
   "source": [
    "%package Microsoft.Quantum.Katas::0.11.2004.2825"
   ]
  },
  {
   "cell_type": "code",
   "execution_count": 1,
   "metadata": {},
   "outputs": [
    {
     "name": "stderr",
     "output_type": "stream",
     "text": [
      "C:/snippet_.qs(31,9): error QS6008: Multiple open namespaces contain a callable with the name \"H\". Use a fully qualified name instead. Open namespaces containing a callable with that name are Microsoft.Quantum.Intrinsic, Microsoft.Quantum.Primitive.\n",
      "C:/snippet_.qs(35,13): error QS6008: Multiple open namespaces contain a callable with the name \"CNOT\". Use a fully qualified name instead. Open namespaces containing a callable with that name are Microsoft.Quantum.Intrinsic, Microsoft.Quantum.Primitive.\n",
      "C:/snippet_.qs(40,33): error QS6008: Multiple open namespaces contain a callable with the name \"M\". Use a fully qualified name instead. Open namespaces containing a callable with that name are Microsoft.Quantum.Intrinsic, Microsoft.Quantum.Primitive.\n",
      "C:/snippet_.qs(43,9): error QS6008: Multiple open namespaces contain a callable with the name \"ResetAll\". Use a fully qualified name instead. Open namespaces containing a callable with that name are Microsoft.Quantum.Intrinsic, Microsoft.Quantum.Primitive.\n",
      "C:/snippet_.qs(11,9): error QS6008: Multiple open namespaces contain a callable with the name \"H\". Use a fully qualified name instead. Open namespaces containing a callable with that name are Microsoft.Quantum.Intrinsic, Microsoft.Quantum.Primitive.\n",
      "C:/snippet_.qs(12,9): error QS6008: Multiple open namespaces contain a callable with the name \"CNOT\". Use a fully qualified name instead. Open namespaces containing a callable with that name are Microsoft.Quantum.Intrinsic, Microsoft.Quantum.Primitive.\n",
      "C:/snippet_.qs(16,33): error QS6008: Multiple open namespaces contain a callable with the name \"M\". Use a fully qualified name instead. Open namespaces containing a callable with that name are Microsoft.Quantum.Intrinsic, Microsoft.Quantum.Primitive.\n",
      "C:/snippet_.qs(18,9): error QS6008: Multiple open namespaces contain a callable with the name \"ResetAll\". Use a fully qualified name instead. Open namespaces containing a callable with that name are Microsoft.Quantum.Intrinsic, Microsoft.Quantum.Primitive.\n"
     ]
    }
   ],
   "source": [
    "open Microsoft.Quantum.Canon;\n",
    "open Microsoft.Quantum.Primitive;\n",
    "\n",
    "operation BuildBellPair () : Result[]\n",
    "{\n",
    "    let numberOfQubits = 2;\n",
    "    mutable result = new Result[numberOfQubits];\n",
    "\n",
    "    using (qs = Qubit[numberOfQubits])\n",
    "    {\n",
    "        H (qs[0]);\n",
    "        CNOT (qs[0], qs[1]);\n",
    "\n",
    "        for (i in 0..(numberOfQubits - 1))\n",
    "        {\n",
    "            set result w/= i <- M (qs[i]);\n",
    "        }\n",
    "        ResetAll (qs);\n",
    "    }\n",
    "    return result;\n",
    "}\n",
    "\n",
    "operation PutInGHZState (numberOfQubits : Int) : Result[] \n",
    "{\n",
    "    mutable result = new Result[numberOfQubits];\n",
    "\n",
    "    using (qs = Qubit[numberOfQubits])\n",
    "    {\n",
    "        let q0 = qs[0];\n",
    "\n",
    "        H (q0);\n",
    "\n",
    "        for (i in 1..(numberOfQubits - 1))\n",
    "        {\n",
    "            CNOT (q0, qs[i]);\n",
    "        }\n",
    "\n",
    "        for (i in 0..(numberOfQubits - 1))\n",
    "        {\n",
    "            set result w/= i <- M (qs[i]);\n",
    "        }\n",
    "\n",
    "        ResetAll (qs);\n",
    "    }\n",
    "    return result;\n",
    "}"
   ]
  },
  {
   "cell_type": "code",
   "execution_count": 2,
   "metadata": {},
   "outputs": [
    {
     "name": "stderr",
     "output_type": "stream",
     "text": [
      "C:/snippet_.qs(17,9): error QS6008: Multiple open namespaces contain a callable with the name \"H\". Use a fully qualified name instead. Open namespaces containing a callable with that name are Microsoft.Quantum.Intrinsic, Microsoft.Quantum.Primitive.\n",
      "C:/snippet_.qs(21,13): error QS6008: Multiple open namespaces contain a callable with the name \"CNOT\". Use a fully qualified name instead. Open namespaces containing a callable with that name are Microsoft.Quantum.Intrinsic, Microsoft.Quantum.Primitive.\n",
      "C:/snippet_.qs(26,33): error QS6008: Multiple open namespaces contain a callable with the name \"M\". Use a fully qualified name instead. Open namespaces containing a callable with that name are Microsoft.Quantum.Intrinsic, Microsoft.Quantum.Primitive.\n",
      "C:/snippet_.qs(29,9): error QS6008: Multiple open namespaces contain a callable with the name \"ResetAll\". Use a fully qualified name instead. Open namespaces containing a callable with that name are Microsoft.Quantum.Intrinsic, Microsoft.Quantum.Primitive.\n"
     ]
    }
   ],
   "source": [
    "open Microsoft.Quantum.Canon;\n",
    "open Microsoft.Quantum.Primitive;\n",
    "\n",
    "operation BuildBellPair () : Result[]\n",
    "{\n",
    "    return PutInGHZState(2);\n",
    "}\n",
    "\n",
    "operation PutInGHZState (numberOfQubits : Int) : Result[]\n",
    "{\n",
    "    mutable result = new Result[numberOfQubits];\n",
    "\n",
    "    using (qs = Qubit[numberOfQubits])\n",
    "    {\n",
    "        let q0 = qs[0];\n",
    "\n",
    "        H (q0);\n",
    "\n",
    "        for (i in 1..(numberOfQubits - 1))\n",
    "        {\n",
    "            CNOT (q0, qs[i]);\n",
    "        }\n",
    "\n",
    "        for (i in 0..(numberOfQubits - 1))\n",
    "        {\n",
    "            set result w/= i <- M (qs[i]);\n",
    "        }\n",
    "\n",
    "        ResetAll (qs);\n",
    "    }\n",
    "\n",
    "    return result;\n",
    "}"
   ]
  },
  {
   "cell_type": "code",
   "execution_count": null,
   "metadata": {},
   "outputs": [],
   "source": []
  },
  {
   "cell_type": "markdown",
   "metadata": {},
   "source": [
    "# Superposition\n",
    "Superposition refers to a quantum phenomenon where a quantum system can exist in multiple states at the exact same time. A Qubit at any instant of time can hold both of two values (0, 1) in a ratio proportional to each other! \n",
    "\n",
    "for e.g. $\\alpha$*|0 + $\\beta$*|1"
   ]
  },
  {
   "cell_type": "markdown",
   "metadata": {},
   "source": [
    "## Exercise 1:\n",
    "Let's prepare a quantum entanglement to measure the value of a single qubit at a specific instant of time. This exercise will let you give a brief idea about how a single qubit is measured i.e. from the whirlpool of indefinite values continuously trying to achieve a stable state, a single value can achieve a stable state, which we refer to as Measured state. Solutions to this self examined exercise is provided below."
   ]
  },
  {
   "cell_type": "code",
   "execution_count": 40,
   "metadata": {},
   "outputs": [
    {
     "data": {
      "application/json": "[\"SetNegativeBit\",\"SetPositiveBit\",\"SetRandomBit\"]",
      "text/html": [
       "<ul><li>SetNegativeBit</li><li>SetPositiveBit</li><li>SetRandomBit</li></ul>"
      ],
      "text/plain": [
       "SetNegativeBit, SetPositiveBit, SetRandomBit"
      ]
     },
     "execution_count": 40,
     "metadata": {},
     "output_type": "execute_result"
    }
   ],
   "source": [
    "open Microsoft.Quantum.Math;\n",
    "\n",
    "operation SetPositiveBit(q: Qubit) : Unit {\n",
    "    //TODO: Add your code here.\n",
    "}\n",
    "\n",
    "operation SetNegativeBit(q: Qubit) : Unit {\n",
    "    //TODO: Add your code here.\n",
    "}\n",
    "\n",
    "operation SetRandomBit(q: Qubit) : Unit {\n",
    "\n",
    "    let choice = RandomInt(2);\n",
    "\n",
    "    if (choice == 0) {\n",
    "        Message(\"Prepared |-⟩\");\n",
    "        SetMinus(q);\n",
    "    } else {\n",
    "        Message(\"Prepared |+⟩\");\n",
    "        SetPlus(q);\n",
    "    }\n",
    "}\n"
   ]
  },
  {
   "cell_type": "code",
   "execution_count": 41,
   "metadata": {},
   "outputs": [
    {
     "data": {
      "application/json": "[\"NextRandomBit\"]",
      "text/html": [
       "<ul><li>NextRandomBit</li></ul>"
      ],
      "text/plain": [
       "NextRandomBit"
      ]
     },
     "execution_count": 41,
     "metadata": {},
     "output_type": "execute_result"
    }
   ],
   "source": [
    "open Microsoft.Quantum.Diagnostics;\n",
    "open Microsoft.Quantum.Measurement;\n",
    "\n",
    "operation NextRandomBit() : Result {\n",
    "    using (q = Qubit()) {\n",
    "        PrepareRandomBit(q);        // You can try out other operations here by trying SetPositiveBit(q) \n",
    "        return MResetZ(q);          // or SetNegativeBit(q) instead of PrepareRandomBit(q)\n",
    "    }\n",
    "}\n"
   ]
  },
  {
   "cell_type": "code",
   "execution_count": 42,
   "metadata": {},
   "outputs": [
    {
     "name": "stdout",
     "output_type": "stream",
     "text": [
      "Prepared |+⟩\n"
     ]
    },
    {
     "data": {
      "application/json": "0",
      "text/plain": [
       "Zero"
      ]
     },
     "execution_count": 42,
     "metadata": {},
     "output_type": "execute_result"
    }
   ],
   "source": [
    "%simulate NextRandomBit"
   ]
  },
  {
   "cell_type": "markdown",
   "metadata": {},
   "source": [
    "## Solution:\n",
    "Here is solution as to have we can manually set the value of next Qubit 0 or 1. This solution is referred to the Exercie 1 mentoned above."
   ]
  },
  {
   "cell_type": "code",
   "execution_count": 43,
   "metadata": {},
   "outputs": [
    {
     "data": {
      "application/json": "[\"SetNegativeBit\",\"SetPositiveBit\"]",
      "text/html": [
       "<ul><li>SetNegativeBit</li><li>SetPositiveBit</li></ul>"
      ],
      "text/plain": [
       "SetNegativeBit, SetPositiveBit"
      ]
     },
     "execution_count": 43,
     "metadata": {},
     "output_type": "execute_result"
    }
   ],
   "source": [
    "// To Set a Positive Value to a Qubit:\n",
    "\n",
    "operation SetPositiveBit(q: Qubit) : Unit {\n",
    "    Reset(q);\n",
    "    H(q);     //pauli gate H\n",
    "}\n",
    "\n",
    "// To set a Negative Value to a Qubit\n",
    "\n",
    "operation SetNegativeBit(q: Qubit) : Unit {\n",
    "    Reset(q);\n",
    "    X(q);     //pauli gate X\n",
    "    H(q);     //pauli gate H\n",
    "}"
   ]
  }
 ],
 "metadata": {
  "kernelspec": {
   "display_name": "Q#",
   "language": "qsharp",
   "name": "iqsharp"
  },
  "language_info": {
   "file_extension": ".qs",
   "mimetype": "text/x-qsharp",
   "name": "qsharp",
   "version": "0.10"
  }
 },
 "nbformat": 4,
 "nbformat_minor": 4
}
