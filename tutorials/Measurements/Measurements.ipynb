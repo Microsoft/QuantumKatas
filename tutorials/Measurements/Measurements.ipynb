{
 "cells": [
  {
   "cell_type": "markdown",
   "metadata": {},
   "source": [
    "# Measurements\n",
    "This tutorial introduces you to one of the logical operations in quantum computing - Measurement, and its different forms of representation in terms of mathematical notation and in Q# code.\n",
    "\n",
    "If you aren't already familiar with Qubit, SingleQubitGates, MultiQubitGates and MultiQubitSystems, we recommend that you complete those tutorials first.\n",
    "\n",
    "## The concept of Measurement:\n",
    "In Quantum Mechanics, the logical term **Measurement** can be stated as manipulating or exploiting a physical system, in order to generate specific numerical result. In the same way, in terms of Quantum Computing, we can say that **Measurement** is nothing, but determining the value of a Qubit at a specific instant of time.\n",
    "\n",
    "## How a Qubit can be measured:\n",
    "Speaking of classical mechanics, we already know their basic building blocks i.e. **Bit** always has a final value '0' or '1'. However, on measuring the state of a **Bit** can only be either 0 or 1, the general state of a **Qubit** according to quantum mechanics can be a coherent superposition of '0' and '1'."
   ]
  },
  {
   "cell_type": "code",
   "execution_count": null,
   "metadata": {},
   "outputs": [],
   "source": []
  }
 ],
 "metadata": {
  "kernelspec": {
   "display_name": "Q#",
   "language": "qsharp",
   "name": "iqsharp"
  },
  "language_info": {
   "file_extension": ".qs",
   "mimetype": "text/x-qsharp",
   "name": "qsharp",
   "version": "0.10"
  }
 },
 "nbformat": 4,
 "nbformat_minor": 4
}
