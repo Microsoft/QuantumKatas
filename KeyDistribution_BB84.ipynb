{
 "cells": [
  {
   "cell_type": "markdown",
   "metadata": {},
   "source": [
    "# Key Distribution Kata\n",
    "\n",
    "**Key Distribution** quantum kata is a series of exercises designed to get you familiar with programming in Q#.\n",
    "\n",
    "It covers the BB84 protocol for quantum key distribution. The BB84 Protocol allows two parties, Alice and Bob, to share a random secret key. \n",
    "\n",
    "Each task is wrapped in one operation preceded by the description of the task. Each task defines an operation that can be used in subsequent tasks to simplify implementations and build on existing code.  Each task is wrapped in one operation preceded by the description of the task. Each task (except tasks in which you have to write a test) has a unit test associated with it, which initially fails. Your goal is to fill in the blank (marked with `// ...` comment) with some Q# code that solves the task. To verify your answer, run the cell using Ctrl/⌘+Enter.\n"
   ]
  },
  {
   "cell_type": "markdown",
   "metadata": {},
   "source": [
    "To begin, first prepare this notebook for execution (if you skip this step, you'll get \"Syntax does not match any known patterns\" error when you try to execute Q# code in the next cells):"
   ]
  },
  {
   "cell_type": "code",
   "execution_count": null,
   "metadata": {},
   "outputs": [],
   "source": [
    "%package Microsoft.Quantum.Katas::0.9.1908.2906"
   ]
  },
  {
   "cell_type": "markdown",
   "metadata": {},
   "source": [
    "> The package versions in the output of the cell above should always match. If you are running the Notebooks locally and the versions do not match, please install the IQ# version that matches the version of the `Microsoft.Quantum.Katas` package.\n",
    "> <details>\n",
    "> <summary><u>How to install the right IQ# version</u></summary>\n",
    "> For example, if the version of `Microsoft.Quantum.Katas` package above is 0.1.2.3, the installation steps are as follows:\n",
    ">\n",
    "> 1. Stop the kernel.\n",
    "> 2. Uninstall the existing version of IQ#:\n",
    ">        dotnet tool uninstall microsoft.quantum.iqsharp -g\n",
    "> 3. Install the matching version:\n",
    ">        dotnet tool install microsoft.quantum.iqsharp -g --version 0.1.2.3\n",
    "> 4. Reinstall the kernel:\n",
    ">        dotnet iqsharp install\n",
    "> 5. Restart the Notebook.\n",
    "> </details>\n"
   ]
  },
  {
   "cell_type": "markdown",
   "metadata": {},
   "source": [
    "## Part I. Preparation"
   ]
  },
  {
   "cell_type": "markdown",
   "metadata": {},
   "source": [
    "### Task 1.1. Diagonal polarization\n",
    "\n",
    "**Input:** N qubits (stored in an array of length N). Each qubit is either in $|0\\rangle$ or in $|1\\rangle$ state.\n",
    "\n",
    "**Goal:**  Convert the qubits to diagonal polarization: \n",
    "1. if qs[i] was $|0\\rangle$, it should become $|+\\rangle$ = ($|0\\rangle$ + $|1\\rangle$) / $\\sqrt{2}$.\n",
    "2. if qs[i] was $|1\\rangle$, it should become $|-\\rangle$ = ($|0\\rangle$ - $|1\\rangle$) / $\\sqrt{2}$."
   ]
  },
  {
   "cell_type": "code",
   "execution_count": null,
   "metadata": {},
   "outputs": [],
   "source": [
    "%kata T11_DiagonalPolarization_Test\n",
    "\n",
    "operation DiagonalPolarization (qs : Qubit[]) : Unit {\n",
    "    // ...\n",
    "}"
   ]
  },
  {
   "cell_type": "markdown",
   "metadata": {},
   "source": [
    "### Task 1.2. Equal superposition\n",
    " \n",
    "**Input**: A qubit in the $|0\\rangle$ state.\n",
    "\n",
    "**Goal**:  Change the qubit state to a superposition state that has equal probabilities of measuring 0 and 1. Note that this is not the same as keeping the qubit in the $|0\\rangle$ state with 50% probability and converting it to the $|1\\rangle$ state with 50% probability!"
   ]
  },
  {
   "cell_type": "code",
   "execution_count": null,
   "metadata": {},
   "outputs": [],
   "source": [
    "%kata T12_EqualSuperposition_Test \n",
    "\n",
    "operation EqualSuperposition (q : Qubit) : Unit {\n",
    "    // ...\n",
    "}"
   ]
  },
  {
   "cell_type": "markdown",
   "metadata": {},
   "source": [
    "## Part II. BB84 Protocol"
   ]
  },
  {
   "cell_type": "markdown",
   "metadata": {},
   "source": [
    "### Task 2.1. Generate random array\n",
    "\n",
    "**Input:** An integer N.\n",
    "\n",
    "**Output** :  A Bool array of length N, where each element is chosen at random. This will be used by both Alice and Bob to choose either the sequence of bits to send or the sequence of bases (false indicates $|0\\rangle$ / $|1\\rangle$ basis, and true indicates $|+\\rangle$ / $|-\\rangle$ basis) to use when encoding/measuring the bits."
   ]
  },
  {
   "cell_type": "code",
   "execution_count": null,
   "metadata": {},
   "outputs": [],
   "source": [
    "%kata T21_RandomArray_Test \n",
    "\n",
    "operation RandomArray (N : Int) : Bool[] {\n",
    "    // ...\n",
    "    return new Bool[N];\n",
    "}"
   ]
  },
  {
   "cell_type": "markdown",
   "metadata": {},
   "source": [
    "### Task 2.2. Prepare Alice's qubits\n",
    "\n",
    "**Inputs:** \n",
    "\n",
    "1. \"qs\": an array of N qubits in the $|0\\rangle$ states,\n",
    "2. \"bases\": a Bool array of length N; \n",
    "    bases[i] indicates the basis to prepare the i-th qubit in:    \n",
    "    -false: use $|0\\rangle$ / $|1\\rangle$ (computational) basis <br />\n",
    "    -true: use $|+\\rangle$ / $|-\\rangle$ (Hadamard/diagonal) basis.\n",
    "3. \"bits\": a Bool array of length N;\n",
    "    bits[i] indicates the bit to encode in the i-th qubit: false = 0, true = 1.\n",
    "\n",
    "**Goal:**  Prepare the qubits in the described state."
   ]
  },
  {
   "cell_type": "code",
   "execution_count": null,
   "metadata": {},
   "outputs": [],
   "source": [
    "%kata T22_PrepareAlicesQubits_Test\n",
    "\n",
    "operation PrepareAlicesQubits (qs : Qubit[], bases : Bool[], bits : Bool[]) : Unit {\n",
    "    // The following lines enforce the constraints on the input that you are given.\n",
    "    // You don't need to modify them. Feel free to remove them, this won't cause your code to fail.\n",
    "    Fact(Length(qs) == Length(bases), \"Input arrays should have the same length\");\n",
    "    Fact(Length(qs) == Length(bits), \"Input arrays should have the same length\");\n",
    "\n",
    "    // ...\n",
    "}"
   ]
  },
  {
   "cell_type": "markdown",
   "metadata": {},
   "source": [
    "### Task 2.3. Measure Bob's qubits\n",
    "\n",
    "**Inputs:**\n",
    "\n",
    "1. \"qs\": an array of N qubits;\n",
    "   each qubit is in one of the following states: $|0\\rangle$, $|1\\rangle$, $|+\\rangle$, $|-\\rangle$.\n",
    "2. \"bases\": a Bool array of length N;\n",
    "   bases[i] indicates the basis to prepare the i-th qubit in: <br />\n",
    "   -false: use $|0\\rangle$ / $|1\\rangle$ (computational) basis <br />\n",
    "   -true: use $|+\\rangle$ / $|-\\rangle$ (Hadamard/diagonal) basis. <br />\n",
    "   \n",
    "   Measure the given qubits in the bases and return the result of the measurements\n",
    "   \n",
    "**Output:** Measure each qubit in the corresponding basis and return an array of results (encoding measurement result Zero as false and One as true). \n",
    "\n",
    "Note: the state of the qubits at the end of the operation does not matter."
   ]
  },
  {
   "cell_type": "code",
   "execution_count": null,
   "metadata": {},
   "outputs": [],
   "source": [
    "%kata T23_MeasureBobsQubits_Test\n",
    "\n",
    "operation MeasureBobsQubits (qs : Qubit[], bases : Bool[]) : Bool[] {\n",
    "    // The following lines enforce the constraints on the input that you are given.\n",
    "    // You don't need to modify them. Feel free to remove them, this won't cause your code to fail.\n",
    "    Fact(Length(qs) == Length(bases), \"Input arrays should have the same length\");\n",
    "\n",
    "    // ...\n",
    "    return new Bool[0];\n",
    "}"
   ]
  },
  {
   "cell_type": "markdown",
   "metadata": {},
   "source": [
    "### Task 2.4. Generate the shared key!\n",
    "    \n",
    "**Inputs:**\n",
    "\n",
    "1. \"basesAlice\" and \"basesBob\": Bool arrays of length N describing Alice's and Bobs's choice of bases, respectively;\n",
    "2. \"measurementsBob\": a Bool array of length N describing Bob's measurement results.\n",
    "    \n",
    "**Output:** a Bool array representing the shared key generated by the protocol.\n",
    "\n",
    "Note: you don't need to know both Alice's and Bob's bits to figure out the shared key!"
   ]
  },
  {
   "cell_type": "code",
   "execution_count": null,
   "metadata": {},
   "outputs": [],
   "source": [
    "%kata T24_GenerateSharedKey_Test\n",
    "\n",
    "function GenerateSharedKey (basesAlice : Bool[], basesBob : Bool[], measurementsBob : Bool[]) : Bool[] {\n",
    "    // The following lines enforce the constraints on the input that you are given.\n",
    "    // You don't need to modify them. Feel free to remove them, this won't cause your code to fail.\n",
    "    Fact(Length(basesAlice) == Length(basesBob), \"Input arrays should have the same length\");\n",
    "    Fact(Length(basesAlice) == Length(measurementsBob), \"Input arrays should have the same length\");\n",
    "\n",
    "    // ...\n",
    "    return new Bool[0];\n",
    "}"
   ]
  },
  {
   "cell_type": "markdown",
   "metadata": {},
   "source": [
    "### Task 2.5. Was communication secure?\n",
    "\n",
    "**Inputs:**\n",
    "\n",
    "1. \"keyAlice\" and \"keyBob\": Bool arrays of equal length N describing the versions of the shared key obtained by Alice and Bob, respectively.\n",
    "2. \"threshold\": an integer between 50 and 100 - the percentage of the key bits that have to match.\n",
    "    \n",
    "**Output:** true if the percentage of matching bits is greater than or equal to the threshold, and false otherwise."
   ]
  },
  {
   "cell_type": "code",
   "execution_count": null,
   "metadata": {},
   "outputs": [],
   "source": [
    "%kata T25_CheckKeysMatch_Test\n",
    "\n",
    "function CheckKeysMatch (keyAlice : Bool[], keyBob : Bool[], threshold : Int) : Bool {\n",
    "    // The following lines enforce the constraints on the input that you are given.\n",
    "    // You don't need to modify them. Feel free to remove them, this won't cause your code to fail.\n",
    "    Fact(Length(keyAlice) == Length(keyBob), \"Input arrays should have the same length\");\n",
    "\n",
    "    // ...\n",
    "    return false;\n",
    "}"
   ]
  },
  {
   "cell_type": "markdown",
   "metadata": {},
   "source": [
    "### Task 2.6. Putting it all together.\n",
    "\n",
    "**Goal:** Implement the entire BB84 protocol using tasks 2.1 - 2.5 and following the comments in the operation template. This is an open-ended task and is not covered by a test; \n",
    "    \n",
    "Note: you can run T26_BB84Protocol_Test to run your code."
   ]
  },
  {
   "cell_type": "code",
   "execution_count": null,
   "metadata": {},
   "outputs": [],
   "source": [
    "%kata T26_BB84Protocol_Test\n",
    "\n",
    "operation T26_BB84Protocol_Test () : Unit {\n",
    "    // 1. Alice chooses a random set of bits to encode in her qubits \n",
    "    //    and a random set of bases to prepare her qubits in.\n",
    "    // ...\n",
    "\n",
    "    // 2. Alice allocates qubits, encodes them using her choices and sends them to Bob.\n",
    "    //    (Note that you can not reflect \"sending the qubits to Bob\" in Q#)\n",
    "    // ...\n",
    "\n",
    "    // 3. Bob chooses a random set of bases to measure Alice's qubits in.\n",
    "    // ...\n",
    "\n",
    "    // 4. Bob measures Alice's qubits in his chosen bases.\n",
    "    // ...\n",
    "\n",
    "    // 5. Alice and Bob compare their chosen bases and use the bits in the matching positions to create a shared key.\n",
    "    // ...\n",
    "\n",
    "    // 6. Alice and Bob check to make sure nobody eavesdropped by comparing a subset of their keys\n",
    "    //    and verifying that more than a certain percentage of the bits match.\n",
    "    // For this step, you can check the percentage of matching bits using the entire key \n",
    "    // (in practice only a subset of indices is chosen to minimize the number of discarded bits).\n",
    "    // ...\n",
    "\n",
    "    // If you've done everything correctly, the generated keys will always match, since there is no eavesdropping going on.\n",
    "    // In the next section you will explore the effects introduced by eavesdropping.\n",
    "}"
   ]
  },
  {
   "cell_type": "markdown",
   "metadata": {},
   "source": [
    "## Part III. Eavesdropping."
   ]
  },
  {
   "cell_type": "markdown",
   "metadata": {},
   "source": [
    "### Task 3.1. Eavesdrop!\n",
    "\n",
    "In this task you will try to implement an eavesdropper, Eve. Eve will intercept a qubit from the quantum channel that Alice and Bob are using. She will measure it in either the $|0\\rangle$ / $|1\\rangle$ basis or the $|+\\rangle$ / $|-\\rangle$ basis, reconstruct the qubit into the original state and send it back to the channel. Eve hopes that if she properly reconstructs the qubit after measurement she won't be caught!\n",
    "\n",
    "**Inputs:**\n",
    "\n",
    "1. \"q\" - a qubit in one of the following states: $|0\\rangle$, $|1\\rangle$, $|+\\rangle$, $|-\\rangle$.\n",
    "2. \"basis\" - Eve's guess of the basis she should use for measuring.\n",
    "    \n",
    "**Output:** the bit encoded in the qubit (false for $|0\\rangle$ / $|+\\rangle$ states, true for $|1\\rangle$ / $|-\\rangle$ states).\n",
    "\n",
    "Note: in this task you are guaranteed that the basis you're given matches the one in which the qubit is encoded."
   ]
  },
  {
   "cell_type": "code",
   "execution_count": null,
   "metadata": {},
   "outputs": [],
   "source": [
    "%kata T31_Eavesdrop_Test\n",
    "\n",
    "operation Eavesdrop (q : Qubit, basis : Bool) : Bool {\n",
    "    // ...\n",
    "    return false;\n",
    "}"
   ]
  },
  {
   "cell_type": "markdown",
   "metadata": {},
   "source": [
    "### Task 3.2. Catch the eavesdropper.\n",
    "\n",
    "Add an eavesdropper into the BB84 protocol from task 2.6. \n",
    "\n",
    "Note: now we should be able to detect Eve and therefore we have to discard some of our keys!\n",
    "\n",
    "This is an open-ended task and is not covered by a test; you can run T32_BB84ProtocolWithEavesdropper_Test to run your code."
   ]
  },
  {
   "cell_type": "code",
   "execution_count": null,
   "metadata": {},
   "outputs": [],
   "source": [
    "%kata T32_BB84ProtocolWithEavesdropper_Test\n",
    "\n",
    "operation T32_BB84ProtocolWithEavesdropper_Test () : Unit {\n",
    "    // ...\n",
    "}"
   ]
  }
 ],
 "metadata": {
  "kernelspec": {
   "display_name": "Q#",
   "language": "qsharp",
   "name": "iqsharp"
  },
  "language_info": {
   "file_extension": ".qs",
   "mimetype": "text/x-qsharp",
   "name": "qsharp",
   "version": "0.4"
  }
 },
 "nbformat": 4,
 "nbformat_minor": 2
}
