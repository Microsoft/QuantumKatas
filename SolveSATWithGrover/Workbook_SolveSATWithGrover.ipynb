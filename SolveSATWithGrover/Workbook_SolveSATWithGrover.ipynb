{
 "cells": [
  {
   "cell_type": "markdown",
   "metadata": {},
   "source": [
    "# Solving SAT problem with Grover's algorithm Kata Workbook\n",
    "\n",
    "**What is this workbook?**\n",
    "A workbook is a collection of problems, accompanied by solutions to them. \n",
    "The explanations focus on the logical steps required to solve a problem; they illustrate the concepts that need to be applied to come up with a solution to the problem, explaining the mathematical steps required. \n",
    "\n",
    "Note that a workbook should not be the primary source of knowledge on the subject matter; it assumes that you've already read a tutorial or a textbook and that you are now seeking to improve your problem-solving skills. You should attempt solving the tasks of the respective kata first, and turn to the workbook only if stuck. While a textbook emphasizes knowledge acquisition, a workbook emphasizes skill acquisition.\n",
    "\n",
    "This workbook describes the solutions to the problems offered in the [Solving SAT problem with Grover's algorithm kata](./SolveSATWithGrover.ipynb). Since the tasks are offered as programming problems, the explanations also cover some elements of Q# that might be non-obvious for a first-time user.\n",
    "\n",
    "**What you should know for this workbook**\n",
    "\n",
    "You should be familiar with the following concepts before tackling the Distinguish Unitaries kata (and this workbook):\n",
    "\n",
    "1. [Basic linear algebra](./../tutorials/LinearAlgebra/LinearAlgebra.ipynb)).\n",
    "2. [Single-qubit](./../tutorials/SingleQubitGates/SingleQubitGates.ipynb) and [multi-qubit quantum gates](./../tutorials/MultiQubitGates/MultiQubitGates.ipynb) and using them to manipulate the state of the system.\n",
    "3. [Grover's Algorithm](./../tutorials/ExploringGroversAlgorithm/ExploringGroversAlgorithm.ipynb) and its [Implementation](./../GroversAlgorithm/GroversAlgorithm.ipynb).\n",
    "4. Basic Knowledge of Boolean Gates and 3SAT Problem.\n",
    "\n"
   ]
  },
  {
   "cell_type": "markdown",
   "metadata": {},
   "source": [
    "To begin, first prepare this notebook for execution (if you skip this step, you'll get \"Syntax does not match any known patterns\" error when you try to execute Q# code in the next cells):"
   ]
  },
  {
   "cell_type": "code",
   "execution_count": 2,
   "metadata": {},
   "outputs": [
    {
     "data": {
      "application/json": "{\"LastUpdated\":\"2020-07-15T03:25:46.7601819+05:30\",\"IsCompleted\":true,\"Description\":\"Adding package Microsoft.Quantum.Katas::0.11.2006.403\",\"Subtask\":\"done\"}",
      "text/plain": [
       "Adding package Microsoft.Quantum.Katas::0.11.2006.403: done!"
      ]
     },
     "metadata": {},
     "output_type": "display_data"
    },
    {
     "data": {
      "application/json": "[\"Microsoft.Quantum.Standard::0.11.2006.403\",\"Microsoft.Quantum.Katas::0.11.2006.403\"]",
      "text/html": [
       "<ul><li>Microsoft.Quantum.Standard::0.11.2006.403</li><li>Microsoft.Quantum.Katas::0.11.2006.403</li></ul>"
      ],
      "text/plain": [
       "Microsoft.Quantum.Standard::0.11.2006.403, Microsoft.Quantum.Katas::0.11.2006.403"
      ]
     },
     "execution_count": 2,
     "metadata": {},
     "output_type": "execute_result"
    }
   ],
   "source": [
    "%package Microsoft.Quantum.Katas::0.11.2006.403"
   ]
  },
  {
   "cell_type": "markdown",
   "metadata": {},
   "source": [
    "> The package versions in the output of the cell above should always match. If you are running the Notebooks locally and the versions do not match, please install the IQ# version that matches the version of the `Microsoft.Quantum.Katas` package.\n",
    "> <details>\n",
    "> <summary><u>How to install the right IQ# version</u></summary>\n",
    "> For example, if the version of `Microsoft.Quantum.Katas` package above is 0.1.2.3, the installation steps are as follows:\n",
    ">\n",
    "> 1. Stop the kernel.\n",
    "> 2. Uninstall the existing version of IQ#:\n",
    ">        dotnet tool uninstall microsoft.quantum.iqsharp -g\n",
    "> 3. Install the matching version:\n",
    ">        dotnet tool install microsoft.quantum.iqsharp -g --version 0.1.2.3\n",
    "> 4. Reinstall the kernel:\n",
    ">        dotnet iqsharp install\n",
    "> 5. Restart the Notebook.\n",
    "> </details>\n"
   ]
  },
  {
   "cell_type": "code",
   "execution_count": 3,
   "metadata": {},
   "outputs": [
    {
     "data": {
      "application/json": "[\"Quantum.Kata.GroversAlgorithm.AlternatingBits\",\"Quantum.Kata.GroversAlgorithm.And\",\"Quantum.Kata.GroversAlgorithm.AssertOracleImplementsFunction\",\"Quantum.Kata.GroversAlgorithm.AssertRegisterOperationsEqual\",\"Quantum.Kata.GroversAlgorithm.EvaluateOrClauses\",\"Quantum.Kata.GroversAlgorithm.F_Exactly1_SAT\",\"Quantum.Kata.GroversAlgorithm.F_Exactly1One\",\"Quantum.Kata.GroversAlgorithm.F_Exactly1SATClause\",\"Quantum.Kata.GroversAlgorithm.F_SAT\",\"Quantum.Kata.GroversAlgorithm.F_SATClause\",\"Quantum.Kata.GroversAlgorithm.FlipAlternatingPositionBits_Reference\",\"Quantum.Kata.GroversAlgorithm.Generate_SAT_Clause\",\"Quantum.Kata.GroversAlgorithm.Generate_SAT_Instance\",\"Quantum.Kata.GroversAlgorithm.GetClauseQubits\",\"Quantum.Kata.GroversAlgorithm.GroversAlgorithm_Loop\",\"Quantum.Kata.GroversAlgorithm.Or\",\"Quantum.Kata.GroversAlgorithm.Oracle_AlternatingBits\",\"Quantum.Kata.GroversAlgorithm.Oracle_AlternatingBits_Answer\",\"Quantum.Kata.GroversAlgorithm.Oracle_AlternatingBits_Reference\",\"Quantum.Kata.GroversAlgorithm.Oracle_And\",\"Quantum.Kata.GroversAlgorithm.Oracle_And_Reference\",\"Quantum.Kata.GroversAlgorithm.Oracle_And_Reference_2\",\"Quantum.Kata.GroversAlgorithm.Oracle_Exactly1_3SAT\",\"Quantum.Kata.GroversAlgorithm.Oracle_Exactly1_3SAT_Reference\",\"Quantum.Kata.GroversAlgorithm.Oracle_Exactly1One\",\"Quantum.Kata.GroversAlgorithm.Oracle_Exactly1One_Reference\",\"Quantum.Kata.GroversAlgorithm.Oracle_Exactly1One_Reference_3\",\"Quantum.Kata.GroversAlgorithm.Oracle_Exactly1OneClause_Reference\",\"Quantum.Kata.GroversAlgorithm.Oracle_Or\",\"Quantum.Kata.GroversAlgorithm.Oracle_Or_Reference\",\"Quantum.Kata.GroversAlgorithm.Oracle_Or_Reference_2\",\"Quantum.Kata.GroversAlgorithm.Oracle_SAT\",\"Quantum.Kata.GroversAlgorithm.Oracle_SAT_Reference\",\"Quantum.Kata.GroversAlgorithm.Oracle_SATClause\",\"Quantum.Kata.GroversAlgorithm.Oracle_SATClause_Reference\",\"Quantum.Kata.GroversAlgorithm.Oracle_Xor\",\"Quantum.Kata.GroversAlgorithm.Oracle_Xor_2SAT\",\"Quantum.Kata.GroversAlgorithm.Oracle_Xor_Reference\",\"Quantum.Kata.GroversAlgorithm.Oracle_Xor_Reference_2\",\"Quantum.Kata.GroversAlgorithm.OracleConverter_Reference\",\"Quantum.Kata.GroversAlgorithm.OracleConverterImpl_Reference\",\"Quantum.Kata.GroversAlgorithm.QubitArrayWrapperOperation\",\"Quantum.Kata.GroversAlgorithm.Run2SATTests\",\"Quantum.Kata.GroversAlgorithm.RunGroverOnOneInstance\",\"Quantum.Kata.GroversAlgorithm.SATClauseAsString\",\"Quantum.Kata.GroversAlgorithm.SATInstanceAsString\",\"Quantum.Kata.GroversAlgorithm.SATVariableAsString\",\"Quantum.Kata.GroversAlgorithm.T11_Oracle_And_Test\",\"Quantum.Kata.GroversAlgorithm.T12_Oracle_Or_Test\",\"Quantum.Kata.GroversAlgorithm.T13_Oracle_Xor_Test\",\"Quantum.Kata.GroversAlgorithm.T14_Oracle_AlternatingBits_Test\",\"Quantum.Kata.GroversAlgorithm.T15_Oracle_SATClause_Test\",\"Quantum.Kata.GroversAlgorithm.T16_Oracle_SAT_Test\",\"Quantum.Kata.GroversAlgorithm.T21_Oracle_Exactly1One_Test\",\"Quantum.Kata.GroversAlgorithm.T22_Oracle_Exactly1SAT_Test\",\"Quantum.Kata.GroversAlgorithm.T31_E2E_GroversAlgorithm_Test\",\"Quantum.Kata.GroversAlgorithm.T32_UniversalGroversAlgorithm_Test\",\"Quantum.Kata.GroversAlgorithm.UniversalGroversAlgorithm\",\"Quantum.Kata.GroversAlgorithm.UniversalGroversAlgorithm_Reference\",\"Quantum.Kata.GroversAlgorithm.Xor\"]",
      "text/html": [
       "<ul><li>Quantum.Kata.GroversAlgorithm.AlternatingBits</li><li>Quantum.Kata.GroversAlgorithm.And</li><li>Quantum.Kata.GroversAlgorithm.AssertOracleImplementsFunction</li><li>Quantum.Kata.GroversAlgorithm.AssertRegisterOperationsEqual</li><li>Quantum.Kata.GroversAlgorithm.EvaluateOrClauses</li><li>Quantum.Kata.GroversAlgorithm.F_Exactly1_SAT</li><li>Quantum.Kata.GroversAlgorithm.F_Exactly1One</li><li>Quantum.Kata.GroversAlgorithm.F_Exactly1SATClause</li><li>Quantum.Kata.GroversAlgorithm.F_SAT</li><li>Quantum.Kata.GroversAlgorithm.F_SATClause</li><li>Quantum.Kata.GroversAlgorithm.FlipAlternatingPositionBits_Reference</li><li>Quantum.Kata.GroversAlgorithm.Generate_SAT_Clause</li><li>Quantum.Kata.GroversAlgorithm.Generate_SAT_Instance</li><li>Quantum.Kata.GroversAlgorithm.GetClauseQubits</li><li>Quantum.Kata.GroversAlgorithm.GroversAlgorithm_Loop</li><li>Quantum.Kata.GroversAlgorithm.Or</li><li>Quantum.Kata.GroversAlgorithm.Oracle_AlternatingBits</li><li>Quantum.Kata.GroversAlgorithm.Oracle_AlternatingBits_Answer</li><li>Quantum.Kata.GroversAlgorithm.Oracle_AlternatingBits_Reference</li><li>Quantum.Kata.GroversAlgorithm.Oracle_And</li><li>Quantum.Kata.GroversAlgorithm.Oracle_And_Reference</li><li>Quantum.Kata.GroversAlgorithm.Oracle_And_Reference_2</li><li>Quantum.Kata.GroversAlgorithm.Oracle_Exactly1_3SAT</li><li>Quantum.Kata.GroversAlgorithm.Oracle_Exactly1_3SAT_Reference</li><li>Quantum.Kata.GroversAlgorithm.Oracle_Exactly1One</li><li>Quantum.Kata.GroversAlgorithm.Oracle_Exactly1One_Reference</li><li>Quantum.Kata.GroversAlgorithm.Oracle_Exactly1One_Reference_3</li><li>Quantum.Kata.GroversAlgorithm.Oracle_Exactly1OneClause_Reference</li><li>Quantum.Kata.GroversAlgorithm.Oracle_Or</li><li>Quantum.Kata.GroversAlgorithm.Oracle_Or_Reference</li><li>Quantum.Kata.GroversAlgorithm.Oracle_Or_Reference_2</li><li>Quantum.Kata.GroversAlgorithm.Oracle_SAT</li><li>Quantum.Kata.GroversAlgorithm.Oracle_SAT_Reference</li><li>Quantum.Kata.GroversAlgorithm.Oracle_SATClause</li><li>Quantum.Kata.GroversAlgorithm.Oracle_SATClause_Reference</li><li>Quantum.Kata.GroversAlgorithm.Oracle_Xor</li><li>Quantum.Kata.GroversAlgorithm.Oracle_Xor_2SAT</li><li>Quantum.Kata.GroversAlgorithm.Oracle_Xor_Reference</li><li>Quantum.Kata.GroversAlgorithm.Oracle_Xor_Reference_2</li><li>Quantum.Kata.GroversAlgorithm.OracleConverter_Reference</li><li>Quantum.Kata.GroversAlgorithm.OracleConverterImpl_Reference</li><li>Quantum.Kata.GroversAlgorithm.QubitArrayWrapperOperation</li><li>Quantum.Kata.GroversAlgorithm.Run2SATTests</li><li>Quantum.Kata.GroversAlgorithm.RunGroverOnOneInstance</li><li>Quantum.Kata.GroversAlgorithm.SATClauseAsString</li><li>Quantum.Kata.GroversAlgorithm.SATInstanceAsString</li><li>Quantum.Kata.GroversAlgorithm.SATVariableAsString</li><li>Quantum.Kata.GroversAlgorithm.T11_Oracle_And_Test</li><li>Quantum.Kata.GroversAlgorithm.T12_Oracle_Or_Test</li><li>Quantum.Kata.GroversAlgorithm.T13_Oracle_Xor_Test</li><li>Quantum.Kata.GroversAlgorithm.T14_Oracle_AlternatingBits_Test</li><li>Quantum.Kata.GroversAlgorithm.T15_Oracle_SATClause_Test</li><li>Quantum.Kata.GroversAlgorithm.T16_Oracle_SAT_Test</li><li>Quantum.Kata.GroversAlgorithm.T21_Oracle_Exactly1One_Test</li><li>Quantum.Kata.GroversAlgorithm.T22_Oracle_Exactly1SAT_Test</li><li>Quantum.Kata.GroversAlgorithm.T31_E2E_GroversAlgorithm_Test</li><li>Quantum.Kata.GroversAlgorithm.T32_UniversalGroversAlgorithm_Test</li><li>Quantum.Kata.GroversAlgorithm.UniversalGroversAlgorithm</li><li>Quantum.Kata.GroversAlgorithm.UniversalGroversAlgorithm_Reference</li><li>Quantum.Kata.GroversAlgorithm.Xor</li></ul>"
      ],
      "text/plain": [
       "Quantum.Kata.GroversAlgorithm.AlternatingBits, Quantum.Kata.GroversAlgorithm.And, Quantum.Kata.GroversAlgorithm.AssertOracleImplementsFunction, Quantum.Kata.GroversAlgorithm.AssertRegisterOperationsEqual, Quantum.Kata.GroversAlgorithm.EvaluateOrClauses, Quantum.Kata.GroversAlgorithm.F_Exactly1_SAT, Quantum.Kata.GroversAlgorithm.F_Exactly1One, Quantum.Kata.GroversAlgorithm.F_Exactly1SATClause, Quantum.Kata.GroversAlgorithm.F_SAT, Quantum.Kata.GroversAlgorithm.F_SATClause, Quantum.Kata.GroversAlgorithm.FlipAlternatingPositionBits_Reference, Quantum.Kata.GroversAlgorithm.Generate_SAT_Clause, Quantum.Kata.GroversAlgorithm.Generate_SAT_Instance, Quantum.Kata.GroversAlgorithm.GetClauseQubits, Quantum.Kata.GroversAlgorithm.GroversAlgorithm_Loop, Quantum.Kata.GroversAlgorithm.Or, Quantum.Kata.GroversAlgorithm.Oracle_AlternatingBits, Quantum.Kata.GroversAlgorithm.Oracle_AlternatingBits_Answer, Quantum.Kata.GroversAlgorithm.Oracle_AlternatingBits_Reference, Quantum.Kata.GroversAlgorithm.Oracle_And, Quantum.Kata.GroversAlgorithm.Oracle_And_Reference, Quantum.Kata.GroversAlgorithm.Oracle_And_Reference_2, Quantum.Kata.GroversAlgorithm.Oracle_Exactly1_3SAT, Quantum.Kata.GroversAlgorithm.Oracle_Exactly1_3SAT_Reference, Quantum.Kata.GroversAlgorithm.Oracle_Exactly1One, Quantum.Kata.GroversAlgorithm.Oracle_Exactly1One_Reference, Quantum.Kata.GroversAlgorithm.Oracle_Exactly1One_Reference_3, Quantum.Kata.GroversAlgorithm.Oracle_Exactly1OneClause_Reference, Quantum.Kata.GroversAlgorithm.Oracle_Or, Quantum.Kata.GroversAlgorithm.Oracle_Or_Reference, Quantum.Kata.GroversAlgorithm.Oracle_Or_Reference_2, Quantum.Kata.GroversAlgorithm.Oracle_SAT, Quantum.Kata.GroversAlgorithm.Oracle_SAT_Reference, Quantum.Kata.GroversAlgorithm.Oracle_SATClause, Quantum.Kata.GroversAlgorithm.Oracle_SATClause_Reference, Quantum.Kata.GroversAlgorithm.Oracle_Xor, Quantum.Kata.GroversAlgorithm.Oracle_Xor_2SAT, Quantum.Kata.GroversAlgorithm.Oracle_Xor_Reference, Quantum.Kata.GroversAlgorithm.Oracle_Xor_Reference_2, Quantum.Kata.GroversAlgorithm.OracleConverter_Reference, Quantum.Kata.GroversAlgorithm.OracleConverterImpl_Reference, Quantum.Kata.GroversAlgorithm.QubitArrayWrapperOperation, Quantum.Kata.GroversAlgorithm.Run2SATTests, Quantum.Kata.GroversAlgorithm.RunGroverOnOneInstance, Quantum.Kata.GroversAlgorithm.SATClauseAsString, Quantum.Kata.GroversAlgorithm.SATInstanceAsString, Quantum.Kata.GroversAlgorithm.SATVariableAsString, Quantum.Kata.GroversAlgorithm.T11_Oracle_And_Test, Quantum.Kata.GroversAlgorithm.T12_Oracle_Or_Test, Quantum.Kata.GroversAlgorithm.T13_Oracle_Xor_Test, Quantum.Kata.GroversAlgorithm.T14_Oracle_AlternatingBits_Test, Quantum.Kata.GroversAlgorithm.T15_Oracle_SATClause_Test, Quantum.Kata.GroversAlgorithm.T16_Oracle_SAT_Test, Quantum.Kata.GroversAlgorithm.T21_Oracle_Exactly1One_Test, Quantum.Kata.GroversAlgorithm.T22_Oracle_Exactly1SAT_Test, Quantum.Kata.GroversAlgorithm.T31_E2E_GroversAlgorithm_Test, Quantum.Kata.GroversAlgorithm.T32_UniversalGroversAlgorithm_Test, Quantum.Kata.GroversAlgorithm.UniversalGroversAlgorithm, Quantum.Kata.GroversAlgorithm.UniversalGroversAlgorithm_Reference, Quantum.Kata.GroversAlgorithm.Xor"
      ]
     },
     "execution_count": 3,
     "metadata": {},
     "output_type": "execute_result"
    }
   ],
   "source": [
    "%workspace reload"
   ]
  },
  {
   "cell_type": "markdown",
   "metadata": {},
   "source": [
    "## Part I. Oracles for SAT problems\n",
    "\n",
    "The most interesting part of learning Grover's algorithm is solving realistic problems.\n",
    "This means using oracles which express an actual problem and not simply hard-code a known solution.\n",
    "In this section we'll learn how to express boolean satisfiability problems as quantum oracles."
   ]
  },
  {
   "cell_type": "markdown",
   "metadata": {},
   "source": [
    "### Task 1.1. The AND oracle: $f(x) = x_0 \\wedge x_1$\n",
    "\n",
    "**Inputs:** \n",
    "\n",
    "  1. 2 qubits in an arbitrary state $|x\\rangle$ (input/query register)\n",
    "\n",
    "  2. a qubit in an arbitrary state $|y\\rangle$ (target qubit)\n",
    "\n",
    "**Goal:**\n",
    "\n",
    "Transform state $|x,y\\rangle$ into state $|x, y \\oplus f(x)\\rangle$ ($\\oplus$ is addition modulo 2), \n",
    "i.e., flip the target state if all qubits of the query register are in the $|1\\rangle$ state, \n",
    "and leave it unchanged otherwise.\n",
    "\n",
    "Leave the query register in the same state it started in.\n",
    "\n",
    "**Stretch Goal:** \n",
    "\n",
    "Can you implement the oracle so that it would work \n",
    "for `queryRegister` containing an arbitrary number of qubits?"
   ]
  },
  {
   "cell_type": "markdown",
   "metadata": {},
   "source": [
    "### Solution\n",
    "\n",
    "The goal is to flip the qubit $|y\\rangle$ if and only if all qubits in the register $|x\\rangle$ are in the state $|1\\rangle$.  \n",
    "Hence the required Unitary $U_{and}$ is such that:\n",
    "$$U_{and}|x\\rangle|y\\rangle = \\begin{cases} \n",
    "          |x\\rangle|y\\rangle & |x\\rangle\\neq |1...1\\rangle \\\\\n",
    "          |x\\rangle X|y\\rangle & |x\\rangle= |1...1\\rangle \n",
    "       \\end{cases}$$\n",
    "This implies that \n",
    "$$U_{and} = \\sum_{i \\in \\{0,1\\}^n,\\\\ |i\\rangle\\neq |1...1\\rangle}|i\\rangle\\langle i| \\otimes I + |1...1\\rangle\\langle 1...1|\\otimes X$$ \n",
    "where $n$ is the width of the `queryRegister`.  \n",
    "For $n=2$, $U_{and}$ is the **Toffoli** gate.\n",
    "$$U_{and} = \\begin{bmatrix}\n",
    "1 & 0 & 0 & 0 & 0 & 0 & 0 & 0 \\\\\n",
    "0 & 1 & 0 & 0 & 0 & 0 & 0 & 0 \\\\\n",
    "0 & 0 & 1 & 0 & 0 & 0 & 0 & 0 \\\\\n",
    "0 & 0 & 0 & 1 & 0 & 0 & 0 & 0 \\\\\n",
    "0 & 0 & 0 & 0 & 1 & 0 & 0 & 0 \\\\\n",
    "0 & 0 & 0 & 0 & 0 & 1 & 0 & 0 \\\\\n",
    "0 & 0 & 0 & 0 & 0 & 0 & 0 & 1 \\\\\n",
    "0 & 0 & 0 & 0 & 0 & 0 & 1 & 0 \\\\\n",
    "\\end{bmatrix}$$\n",
    "\n",
    "\n",
    "This can be represented as a `Controlled X` gate with $|x\\rangle$ as control and $|y\\rangle$ as target. If $|x\\rangle$ consists of just 2 qubits we could also use the **Toffoli** gate which in Q# is the [`CCNOT` gate](https://docs.microsoft.com/en-us/qsharp/api/qsharp/microsoft.quantum.intrinsic.ccnot)."
   ]
  },
  {
   "cell_type": "code",
   "execution_count": null,
   "metadata": {},
   "outputs": [],
   "source": [
    "%kata T11_Oracle_And_Test \n",
    "\n",
    "operation Oracle_And (queryRegister : Qubit[], target : Qubit) : Unit is Adj {\n",
    "    // The Controlled Functor is used to call the Controlled Version of a gate if one exists.\n",
    "    Controlled X(queryRegister, target); \n",
    "}"
   ]
  },
  {
   "cell_type": "markdown",
   "metadata": {},
   "source": [
    "[Return to Task 1.1 of the Solving SAT with Grover's Kata.](./SolveSATWithGrover.ipynb#Task-1.1.-The-AND-oracle:-$f(x)-=-x_0-\\wedge-x_1$)"
   ]
  },
  {
   "cell_type": "markdown",
   "metadata": {},
   "source": [
    "### Task 1.2. The OR oracle: $f(x) = x_0 \\vee x_1$\n",
    "\n",
    "**Inputs:** \n",
    "\n",
    "  1. 2 qubits in an arbitrary state $|x\\rangle$ (input/query register)\n",
    "\n",
    "  2. a qubit in an arbitrary state $|y\\rangle$ (target qubit)\n",
    "\n",
    "**Goal:** \n",
    "\n",
    "Transform state $|x,y\\rangle$ into state $|x, y \\oplus f(x)\\rangle$ ($\\oplus$ is addition modulo 2), \n",
    "i.e., flip the target state if at least one qubit of the query register is in the $|1\\rangle$ state, \n",
    "and leave it unchanged otherwise.\n",
    "\n",
    "Leave the query register in the same state it started in.\n",
    "\n",
    "**Stretch Goal:** \n",
    "\n",
    "Can you implement the oracle so that it would work \n",
    "for `queryRegister` containing an arbitrary number of qubits?"
   ]
  },
  {
   "cell_type": "markdown",
   "metadata": {},
   "source": [
    "### Solution\n",
    "\n",
    "The goal is to flip the qubit $|y\\rangle$ if atleast one qubit in the register $|x\\rangle$ is in the state $|1\\rangle$.  \n",
    "This can also be restated as to flip the qubit $|y\\rangle$ unless the register $|x\\rangle$ is in the state $|0...0\\rangle$\n",
    "Hence the required Unitary $U_{or}$ is such that:\n",
    "$$U_{or}|x\\rangle|y\\rangle = \\begin{cases} \n",
    "          |x\\rangle |y\\rangle & |x\\rangle= |0...0\\rangle  \\\\\n",
    "          |x\\rangle X|y\\rangle & |x\\rangle\\neq |0...0\\rangle \n",
    "       \\end{cases}$$\n",
    "This implies that \n",
    "$$U_{or} = |0...0\\rangle\\langle 0...0|\\otimes I \\sum_{i \\in \\{0,1\\}^n, \\\\|i\\rangle\\neq |0...0\\rangle}|i\\rangle\\langle i| \\otimes X$$ \n",
    "where $n$ is the width of the `queryRegister`.  \n",
    "\n",
    "We can now reduce this problem to the AND oracle using the fact that OR gate can be created using an AND gate and NOT gates.  \n",
    "$(x_0\\vee x_1\\vee ... \\vee x_{n-1}) = \\lnot(\\lnot x_0\\wedge \\lnot x_1\\wedge ... \\wedge \\lnot x_{n-1})$\n",
    "\n",
    "Thus $U_{or}$ can be rewritten as $U_{or}=(X^{\\otimes n}\\otimes X) \\cdot U_{and} \\cdot (X^{\\otimes n}\\otimes I)$.  \n",
    "We can confirm this as:\n",
    "\n",
    "$$\n",
    "U_{or}= (X^{\\otimes n}\\otimes X) \\cdot U_{and} \\cdot (X^{\\otimes n}\\otimes I) \\\\\n",
    " = (X^{\\otimes n}\\otimes X) \\cdot (\\sum_{i \\in \\{0,1\\}^n,\\\\ |i\\rangle\\neq |1...1\\rangle}|i\\rangle\\langle i| \\otimes I + |1...1\\rangle\\langle 1...1|\\otimes X) \\cdot (X^{\\otimes n}\\otimes I) \\\\\n",
    " = (X^{\\otimes n}\\otimes X) \\cdot (\\sum_{i \\in \\{0,1\\}^n,\\\\ |i\\rangle\\neq |1...1\\rangle}|i\\rangle\\langle i|X^{\\otimes n} \\otimes I + |1...1\\rangle\\langle 1...1|X^{\\otimes n}\\otimes X)\\\\\n",
    " = (X^{\\otimes n}\\otimes X) \\cdot (\\sum_{i \\in \\{0,1\\}^n,\\\\ |i\\rangle\\neq |1...1\\rangle}|i\\rangle\\langle i|X^{\\otimes n} \\otimes I + |1...1\\rangle\\langle 0...0|\\otimes X)\\\\\n",
    " = \\sum_{i \\in \\{0,1\\}^n,\\\\ |i\\rangle\\neq |1...1\\rangle}X^{\\otimes n}|i\\rangle\\langle i|X^{\\otimes n} \\otimes X + X^{\\otimes n}|1...1\\rangle\\langle 0...0|\\otimes I\\\\\n",
    " = \\sum_{i \\in \\{0,1\\}^n,\\\\ |i\\rangle\\neq |1...1\\rangle}X^{\\otimes n}|i\\rangle\\langle i|X^{\\otimes n} \\otimes X + |0...0\\rangle\\langle 0...0|\\otimes I\\\\\n",
    " = \\sum_{i \\in \\{0,1\\}^n,\\\\ |i\\rangle\\neq |0...0\\rangle}|i\\rangle\\langle i| \\otimes X + |0...0\\rangle\\langle 0...0|\\otimes I$$\n",
    "\n",
    "Thus while implementing we can use the `within{...}`, `apply{...}` construct in Q# to flip all the qubits of $|x\\rangle$, apply $U_{and}$ oracle and undo the flipping. Finally we can flip the target qubit $|y\\rangle$ again to get the answer.\n"
   ]
  },
  {
   "cell_type": "code",
   "execution_count": null,
   "metadata": {},
   "outputs": [],
   "source": [
    "%kata T12_Oracle_Or_Test \n",
    "\n",
    "operation Oracle_Or (queryRegister : Qubit[], target : Qubit) : Unit is Adj {\n",
    "    // First, flip controls qubits.\n",
    "    within {\n",
    "        ApplyToEachA(X,queryRegister);\n",
    "    }\n",
    "    // Use the And Oracle to get the answer.\n",
    "    apply {\n",
    "        Oracle_And(queryRegister,target);\n",
    "    }\n",
    "    // Then flip target again to get negation.\n",
    "    X(target);\n",
    "}"
   ]
  },
  {
   "cell_type": "markdown",
   "metadata": {},
   "source": [
    "[Return to Task 1.2 of the Solving SAT with Grover's Kata.](./SolveSATWithGrover.ipynb#Task-1.2.-The-OR-oracle:-$f(x)-=-x_0-\\vee-x_1$)"
   ]
  },
  {
   "cell_type": "markdown",
   "metadata": {},
   "source": [
    "### Task 1.3. The XOR oracle: $f(x) = x_0 \\oplus x_1$\n",
    "\n",
    "**Inputs:** \n",
    "\n",
    "  1. 2 qubits in an arbitrary state $|x\\rangle$ (input/query register)\n",
    "\n",
    "  2. a qubit in an arbitrary state $|y\\rangle$ (target qubit)\n",
    "\n",
    "**Goal:** \n",
    "\n",
    "Transform state $|x,y\\rangle$ into state $|x, y \\oplus f(x)\\rangle$ ($\\oplus$ is addition modulo 2), \n",
    "i.e., flip the target state if the qubits of the query register are in different states, \n",
    "and leave it unchanged otherwise.\n",
    "\n",
    "Leave the query register in the same state it started in.\n",
    "\n",
    "**Stretch Goal:** \n",
    "\n",
    "Can you implement the oracle so that it would work \n",
    "for `queryRegister` containing an arbitrary number of qubits?"
   ]
  },
  {
   "cell_type": "markdown",
   "metadata": {},
   "source": [
    "### Solution\n",
    "\n",
    "Let the width of $|x\\rangle$ be $n$ qubits then $f(x) = x_0 \\oplus x_1 \\oplus ... \\oplus x_{n-1}$.  \n",
    "The goal is to flip the qubit $|y\\rangle$ if and only if $f(x) = 1$.  \n",
    "Hence the required Unitary $U_{xor}$ is :\n",
    "$$U_{xor}|x\\rangle|y\\rangle = |x\\rangle|y\\oplus f(x)\\rangle \\\\\n",
    "= |x\\rangle|y\\oplus x_0 \\oplus x_1 \\oplus ... \\oplus x_{n-1}\\rangle\\\\\n",
    "= |x\\rangle|((...(((y\\oplus x_0) \\oplus x_1) \\oplus) ... )\\oplus x_{n-1})\\rangle\\\\\n",
    "= \\prod_{i=0}^{n-1}U_{\\oplus i}|x\\rangle|y\\rangle$$\n",
    "The last step is due to the Associativity of $\\oplus$. The final result is :\n",
    "$$U_{xor}=\\prod_{i=0}^{n-1}U_{\\oplus i}$$\n",
    "where $U_{\\oplus i}|x\\rangle|y\\rangle = |x\\rangle|y \\oplus x_i\\rangle$.\n",
    "\n",
    "$U_{\\oplus i}$ can be implemented using a simple `CNOT` gate with $|x_0\\rangle$ as control and $|y\\rangle$ as target.\n"
   ]
  },
  {
   "cell_type": "code",
   "execution_count": null,
   "metadata": {},
   "outputs": [],
   "source": [
    "%kata T13_Oracle_Xor_Test \n",
    "\n",
    "operation Oracle_Xor (queryRegister : Qubit[], target : Qubit) : Unit is Adj {\n",
    "    // Iterate over all qubits in queryRegister and take CNOT with target qubit.\n",
    "    ApplyToEachA(CNOT(_, target), queryRegister); \n",
    "}"
   ]
  },
  {
   "cell_type": "markdown",
   "metadata": {},
   "source": [
    "[Return to Task 1.3 of the Solving SAT with Grover's Kata.](./SolveSATWithGrover.ipynb#Task-1.3.-The-XOR-oracle:-$f(x)-=-x_0-\\oplus-x_1$)"
   ]
  },
  {
   "cell_type": "markdown",
   "metadata": {},
   "source": [
    "### Task 1.4. Alternating bits oracle: $f(x) = (x_0 \\oplus x_1) \\wedge (x_1 \\oplus x_2) \\wedge \\dots \\wedge (x_{N-2} \\oplus x_{N-1})$\n",
    "\n",
    "**Inputs:** \n",
    "\n",
    "  1. N qubits in an arbitrary state $|x\\rangle$ (input/query register)\n",
    "\n",
    "  2. a qubit in an arbitrary state $|y\\rangle$ (target qubit)\n",
    "\n",
    "**Goal:**\n",
    "\n",
    "Transform state $|x,y\\rangle$ into state $|x, y \\oplus f(x)\\rangle$ ($\\oplus$ is addition modulo 2).\n",
    "\n",
    "Leave the query register in the same state it started in.\n",
    "\n",
    "> This oracle marks two states similar to the state explored in task 1.2 of the GroversAlgorithm kata: \n",
    "$|10101...\\rangle$ and $|01010...\\rangle$.  \n",
    "It is possible (and quite straightforward) to implement this oracle based on this observation; \n",
    "however, for the purposes of learning to write oracles to solve SAT problems we recommend using the representation above.\n"
   ]
  },
  {
   "cell_type": "markdown",
   "metadata": {},
   "source": [
    "### Solution\n",
    "\n",
    "Let $x_i'=x_i\\oplus x_{i+1}$, then we can rewrite $f(x)$ as $f(x) = x_0' \\wedge x_1' \\wedge ... \\wedge x_{n-2}'$.  \n",
    "Let $U'$ be a unitary such that $U'|x\\rangle = |x'\\rangle|x_n\\rangle$ where $x_i' = x_i\\oplus x_{i+1}$.  \n",
    "$U'$ can be implemented in Q# using a series of `CNOT` gates. \n",
    "$$U' = \\prod_{i=0}^{n-2}(I^{\\otimes i}\\otimes CNOT_{ii+1}\\otimes I^{\\otimes n-(i+2)})$$\n",
    "where $CNOT_{ii+1}$ is the CNOT gate with $x_i$ as target and $x_{i+1}$ as control.\n",
    "Since $U'^{\\dagger} = U'$, applying $U'$ again to these qubits in reverse order can uncompute this procedure also.  \n",
    "\n",
    "Now we can implement $|x'\\rangle|y\\rangle \\rightarrow |x'\\rangle|y\\oplus f(x)\\rangle$ using $U_{and}$ as $U_{and}|x'\\rangle|y\\rangle = |x'\\rangle|y\\oplus (x_0' \\wedge x_1' \\wedge ... \\wedge x_{n-2}')\\rangle =|x'\\rangle|y\\oplus f(x)\\rangle$. \n",
    "\n",
    "Hence the final solution \n",
    "$$U = (U'\\otimes I)^{\\dagger}\\cdot U_{and}\\cdot(U'\\otimes I)$$\n",
    "consists of `apply`ing $U_{and}$ or `Oracle_And`, `within` $U'$."
   ]
  },
  {
   "cell_type": "code",
   "execution_count": null,
   "metadata": {},
   "outputs": [],
   "source": [
    "%kata T14_Oracle_AlternatingBits_Test \n",
    "\n",
    "operation Oracle_AlternatingBits (queryRegister : Qubit[], target : Qubit) : Unit is Adj {\n",
    "    // Apply U' unitary\n",
    "    within {\n",
    "        for(i in 0 .. Length(queryRegister)-2){\n",
    "            CNOT(queryRegister[i+1],queryRegister[i]);\n",
    "        }\n",
    "    }\n",
    "    // Use the And Oracle to get the answer.\n",
    "    apply {\n",
    "        Oracle_And(queryRegister,target);\n",
    "    }\n",
    "}"
   ]
  },
  {
   "cell_type": "markdown",
   "metadata": {},
   "source": [
    "[Return to Task 1.4 of the Solving SAT with Grover's Kata.](./SolveSATWithGrover.ipynb#Task-1.4.-Alternating-bits-oracle:-$f(x)-=-(x_0-\\oplus-x_1)-\\wedge-(x_1-\\oplus-x_2)-\\wedge-\\dots-\\wedge-(x_{N-2}-\\oplus-x_{N-1})$)"
   ]
  },
  {
   "cell_type": "markdown",
   "metadata": {},
   "source": [
    "### Task 1.5. Evaluate one clause of a SAT formula\n",
    "\n",
    "> For SAT problems, $f(x)$ is represented as a conjunction (an AND operation) of several clauses on $N$ variables,\n",
    "and each clause is a disjunction (an OR operation) of **one or several** variables or negated variables:\n",
    ">\n",
    "> $$clause(x) = \\bigvee_k y_{ik},\\text{ where }y_{ik} =\\text{ either }x_j\\text{ or }\\neg x_j\\text{ for some }j \\in \\{0, \\dots, N-1\\}$$\n",
    ">\n",
    "> For example, one of the possible clauses on two variables is:\n",
    ">\n",
    "> $$clause(x) = x_0 \\vee \\neg x_1$$\n",
    "\n",
    "**Inputs:**\n",
    "\n",
    "  1. N qubits in an arbitrary state $|x\\rangle$ (input/query register)\n",
    "\n",
    "  2. a qubit in an arbitrary state $|y\\rangle$ (target qubit)\n",
    "\n",
    "  3. a 1-dimensional array of tuples `clause` which describes one clause of a SAT problem instance $clause(x)$.\n",
    "\n",
    "`clause` is an array of one or more tuples, each of them describing one component of the clause.\n",
    "\n",
    "Each tuple is an `(Int, Bool)` pair:\n",
    "\n",
    "* the first element is the index $j$ of the variable $x_j$, \n",
    "* the second element is `true` if the variable is included as itself ($x_j$) and `false` if it is included as a negation ($\\neg x_j$).\n",
    "\n",
    "**Example:**\n",
    "\n",
    "* The clause $x_0 \\vee \\neg x_1$ can be represented as `[[(0, true), (1, false)]]`.\n",
    "\n",
    "**Goal:**\n",
    "\n",
    "Transform state $|x,y\\rangle$ into state $|x, y \\oplus f(x)\\rangle$ ($\\oplus$ is addition modulo 2).\n",
    "\n",
    "Leave the query register in the same state it started in."
   ]
  },
  {
   "cell_type": "markdown",
   "metadata": {},
   "source": [
    "### Solution\n",
    "\n",
    "This task involves evaluating a clause which is a disjunction (OR) of negated and non-negated variables encoded in the `queryRegister` . This task can be solved in 2 steps using a similar technique as we saw in Task 1.4 .  \n",
    "1. We first flip the qubits which are negated in $clause$ (and later undo this operation). \n",
    "2. We use the $U_{or}$ unitary to calculate $|y\\oplus f(x)\\rangle$.\n",
    "\n",
    "While Implementing these steps in Q# the functions \n",
    "[`Fst`](https://docs.microsoft.com/en-us/qsharp/api/qsharp/microsoft.quantum.canon.fst), \n",
    "[`Snd`](https://docs.microsoft.com/en-us/qsharp/api/qsharp/microsoft.quantum.canon.snd), \n",
    "[`Mapped`](https://docs.microsoft.com/en-us/qsharp/api/qsharp/microsoft.quantum.arrays.mapped) and \n",
    "[`Subarray`](https://docs.microsoft.com/en-us/qsharp/api/qsharp/microsoft.quantum.arrays.subarray) will prove helpful.\n",
    "\n",
    "We first conditionally apply a $X$ gate on $|x_j\\rangle$ if and only if the clause has a term of the form `(j,false)`.\n",
    "Next we find `clause_qubits` - qubits which are a negated or non-negated variable in the clause. \n",
    "We then apply the $U_{or}$ gate on `clause_qubits` and `target`."
   ]
  },
  {
   "cell_type": "code",
   "execution_count": null,
   "metadata": {},
   "outputs": [],
   "source": [
    "%kata T15_Oracle_SATClause_Test \n",
    "\n",
    "operation Oracle_SATClause (queryRegister : Qubit[], target : Qubit, clause : (Int, Bool)[]) : Unit is Adj {\n",
    "    \n",
    "    // Flip the Qubits which are negated.\n",
    "    within{\n",
    "        for(term in clause) {\n",
    "            (Snd(term)? I | X)(queryRegister[Fst(term)]);\n",
    "        }\n",
    "    }\n",
    "    //\n",
    "    apply{\n",
    "        let clause_qubits = Subarray(Mapped(Fst,clause),queryRegister); // Find qubits which are variables in clause.\n",
    "        Oracle_Or(clause_qubits,target); // Disjuction of variables in clause.\n",
    "    }\n",
    "}"
   ]
  },
  {
   "cell_type": "markdown",
   "metadata": {},
   "source": [
    "[Return to Task 1.5 of the Solving SAT with Grover's Kata.](./SolveSATWithGrover.ipynb#Task-1.5.-Evaluate-one-clause-of-a-SAT-formula)"
   ]
  },
  {
   "cell_type": "markdown",
   "metadata": {},
   "source": [
    "### Task 1.6. k-SAT problem oracle\n",
    "\n",
    "> For k-SAT problems, $f(x)$ is represented as a conjunction (an AND operation) of $M$ clauses on $N$ variables,\n",
    "and each clause is a disjunction (an OR operation) of **one or several** variables or negated variables:\n",
    ">\n",
    "> $$f(x) = \\bigwedge_i \\big(\\bigvee_k y_{ik} \\big),\\text{ where }y_{ik} =\\text{ either }x_j\\text{ or }\\neg x_j\\text{ for some }j \\in \\{0, \\dots, N-1\\}$$\n",
    "\n",
    "**Inputs:**\n",
    "\n",
    "  1. N qubits in an arbitrary state $|x\\rangle$ (input/query register)\n",
    "\n",
    "  2. a qubit in an arbitrary state $|y\\rangle$ (target qubit)\n",
    "\n",
    "  3. a 2-dimensional array of tuples `problem` which describes the k-SAT problem instance $f(x)$.\n",
    "\n",
    "$i$-th element of `problem` describes the $i$-th clause of $f(x)$; \n",
    "it is an array of one or more tuples, each of them describing one component of the clause.\n",
    "\n",
    "Each tuple is an `(Int, Bool)` pair:\n",
    "\n",
    "* the first element is the index $j$ of the variable $x_j$, \n",
    "* the second element is `true` if the variable is included as itself ($x_j$) and `false` if it is included as a negation ($\\neg x_j$)\n",
    "\n",
    "**Example:**\n",
    "\n",
    "A more general case of the OR oracle for 3 variables $f(x) = (x_0 \\vee x_1 \\vee x_2)$ can be represented as `[[(0, true), (1, true), (2, true)]]`.\n",
    "\n",
    "**Goal:**\n",
    "\n",
    "Transform state $|x,y\\rangle$ into state $|x, y \\oplus f(x)\\rangle$ ($\\oplus$ is addition modulo 2).\n",
    "\n",
    "Leave the query register in the same state it started in."
   ]
  },
  {
   "cell_type": "markdown",
   "metadata": {},
   "source": [
    "### Solution\n",
    "\n",
    "This task consists of conjunctions of multiple clause evaluations. Each clause of the form $\\bigvee_k y_{ik}$ can be evaluated using the same process as Task 1.5. The answer of these clauses must be stored (temporarily) in freshly allocated qubits. Then the conjunction of these results can be encoded by flipping the `target` qubit.    \n",
    "\n",
    "Let the number of clauses be $m$, then the steps for implementing k-SAT Oracle would be:\n",
    "1. Allocate $m$ qubits which are all in state $|0\\rangle$.\n",
    "2. Evaluate Each Clause $clause_i(x)$ using the `operation` created in Task 1.5 such that $|x\\rangle|0_i\\rangle \\rightarrow |X\\rangle|clause_i(x)\\rangle$\n",
    "3. Further evaluate $\\bigwedge_{i=0}^{n-1}clause_i(x)$ using $U_{and}$ implemented in Task 1.1\n",
    "4. Undo Step 2 to restore the qubits back into state $|0^{m}\\rangle$\n",
    "\n",
    "We can again use the `within{...}` and `apply{...}` Q# language constructs to perform steps 2,3 and 4."
   ]
  },
  {
   "cell_type": "code",
   "execution_count": null,
   "metadata": {},
   "outputs": [],
   "source": [
    "%kata T16_Oracle_SAT_Test \n",
    "\n",
    "operation Oracle_SAT (queryRegister : Qubit[], target : Qubit, problem : (Int, Bool)[][]) : Unit is Adj {\n",
    "    using (ancillaRegister = Qubit[Length(problem)]) {\n",
    "        // Compute clauses all \n",
    "        within {\n",
    "            for (i in 0..Length(problem)-1){\n",
    "                Oracle_SATClause(queryRegister,ancillaRegister[i],problem[i]);\n",
    "            }\n",
    "        }\n",
    "        // evaluate the overall formula as an AND oracle \n",
    "        apply {\n",
    "            Oracle_And(ancillaRegister, target); // Conjuction of All Clauses\n",
    "        }\n",
    "    }\n",
    "}"
   ]
  },
  {
   "cell_type": "markdown",
   "metadata": {},
   "source": [
    "[Return to Task 1.6 of the Solving SAT with Grover's Kata.](./SolveSATWithGrover.ipynb#Task-1.6.-k-SAT-problem-oracle)"
   ]
  },
  {
   "cell_type": "markdown",
   "metadata": {},
   "source": [
    "## Part II. Oracles for exactly-1 3-SAT problem\n",
    "\n",
    "Exactly-1 3-SAT problem (also known as \"one-in-three 3-SAT\") is a variant of a general 3-SAT problem.\n",
    "It has a structure similar to a 3-SAT problem, but each clause must have *exactly one* true literal, \n",
    "while in a normal 3-SAT problem each clause must have *at least one* true literal."
   ]
  },
  {
   "cell_type": "markdown",
   "metadata": {},
   "source": [
    "### Task 2.1. \"Exactly one $|1\\rangle$\" oracle\n",
    "\n",
    "**Inputs:** \n",
    "\n",
    "  1. 3 qubits in an arbitrary state $|x\\rangle$ (input/query register)\n",
    "\n",
    "  2. a qubit in an arbitrary state $|y\\rangle$ (target qubit)\n",
    "\n",
    "**Goal:** \n",
    "\n",
    "Transform state $|x,y\\rangle$ into state $|x, y \\oplus f(x)\\rangle$ ($\\oplus$ is addition modulo 2), \n",
    "where $f(x) = 1$ if exactly one bit of $x$ is in the $|1\\rangle$ state, and $0$ otherwise.\n",
    "\n",
    "Leave the query register in the same state it started in.\n",
    "\n",
    "**Stretch Goal:** \n",
    "\n",
    "Can you implement the oracle so that it would work \n",
    "for `queryRegister` containing an arbitrary number of qubits?"
   ]
  },
  {
   "cell_type": "markdown",
   "metadata": {},
   "source": [
    "### Solution\n"
   ]
  },
  {
   "cell_type": "code",
   "execution_count": null,
   "metadata": {},
   "outputs": [],
   "source": [
    "%kata T21_Oracle_Exactly1One_Test \n",
    "\n",
    "operation Oracle_Exactly1One (queryRegister : Qubit[], target : Qubit) : Unit is Adj {\n",
    "    // ...\n",
    "}"
   ]
  },
  {
   "cell_type": "markdown",
   "metadata": {},
   "source": [
    "[Return to Task 2.1 of the Solving SAT with Grover's Kata.](./SolveSATWithGrover.ipynb#Task-2.1.-\"Exactly-one-$|1\\rangle$\"-oracle)"
   ]
  },
  {
   "cell_type": "markdown",
   "metadata": {},
   "source": [
    "### Task 2.2. \"Exactly-1 3-SAT\" oracle\n",
    "\n",
    "**Inputs:**\n",
    "\n",
    "  1. N qubits in an arbitrary state $|x\\rangle$ (input/query register)\n",
    "\n",
    "  2. a qubit in an arbitrary state $|y\\rangle$ (target qubit)\n",
    "\n",
    "  3. a 2-dimensional array of tuples `problem` which describes the 2-SAT problem instance $f(x)$.\n",
    "\n",
    "`problem` describes the problem instance in the same format as in tasks 1.6 and 1.7;\n",
    "each clause of the formula is guaranteed to have exactly 3 terms.\n",
    "\n",
    "**Goal:**\n",
    "\n",
    "Transform state $|x,y\\rangle$ into state $|x, y \\oplus f(x)\\rangle$ ($\\oplus$ is addition modulo 2).\n",
    "\n",
    "Leave the query register in the same state it started in.\n",
    "\n",
    "**Example:**\n",
    "\n",
    "An instance of the problem $f(x) = (x_0 \\vee x_1 \\vee x_2)$ can be represented as `[[(0, true), (1, true), (2, true)]]`,\n",
    "and its solutions will be `(true, false, false)`, `(false, true, false)` and `(false, false, true)`, \n",
    "but none of the variable assignments in which more than one variable is true which are solutions for the general SAT problem."
   ]
  },
  {
   "cell_type": "markdown",
   "metadata": {},
   "source": [
    "### Solution\n"
   ]
  },
  {
   "cell_type": "code",
   "execution_count": null,
   "metadata": {},
   "outputs": [],
   "source": [
    "%kata T22_Oracle_Exactly1SAT_Test \n",
    "\n",
    "operation Oracle_Exactly1_3SAT (queryRegister : Qubit[], target : Qubit, problem : (Int, Bool)[][]) : Unit is Adj {\n",
    "    // ...\n",
    "}"
   ]
  },
  {
   "cell_type": "markdown",
   "metadata": {},
   "source": [
    "[Return to Task 2.2 of the Solving SAT with Grover's Kata.](./SolveSATWithGrover.ipynb#Task-2.2.-\"Exactly-1-3-SAT\"-oracle)"
   ]
  },
  {
   "cell_type": "markdown",
   "metadata": {},
   "source": [
    "## Part III. Using Grover's algorithm for problems with multiple solutions"
   ]
  },
  {
   "cell_type": "markdown",
   "metadata": {},
   "source": [
    "### Task 3.1. Using Grover's algorithm\n",
    "\n",
    "**Goal:**\n",
    "\n",
    "Implement Grover's algorithm and use it to find solutions to SAT instances from parts I and II. \n",
    "\n",
    "> If you want to learn the Grover's algorithm itself, try doing [GroversAlgorithm kata](./../GroversAlgorithm/GroversAlgorithm.ipynb) first.\n",
    "\n",
    "> This is an open-ended task, and is not covered by a unit test. To run the code, execute the cell with the definition of the `Run_GroversSearch_Algorithm` operation first; if it compiled successfully without any errors, you can run the operation by executing the next cell (`%simulate Run_GroversSearch_Algorithm`).\n",
    "\n",
    "> Note that this task relies on your implementations of the previous tasks. If you are getting the \"No variable with that name exists.\" error, you might have to execute previous code cells before retrying this task.\n"
   ]
  },
  {
   "cell_type": "markdown",
   "metadata": {},
   "source": [
    "### Solution\n"
   ]
  },
  {
   "cell_type": "code",
   "execution_count": null,
   "metadata": {},
   "outputs": [],
   "source": [
    "operation Run_GroversSearch_Algorithm () : Unit {\n",
    "    // ...\n",
    "}"
   ]
  },
  {
   "cell_type": "code",
   "execution_count": null,
   "metadata": {},
   "outputs": [],
   "source": [
    "%simulate Run_GroversSearch_Algorithm"
   ]
  },
  {
   "cell_type": "markdown",
   "metadata": {},
   "source": [
    "[Return to Task 3.1 of the Solving SAT with Grover's Kata.](./SolveSATWithGrover.ipynb#Task-3.1.-Using-Grover's-algorithm)"
   ]
  },
  {
   "cell_type": "markdown",
   "metadata": {},
   "source": [
    "### Task 3.2. Universal implementation of Grover's algorithm\n",
    "\n",
    "**Inputs:**\n",
    "\n",
    "  1. the number of qubits N,\n",
    "\n",
    "  2. a marking oracle which implements a boolean expression, similar to the oracles from part I.\n",
    "\n",
    "**Output:**\n",
    "\n",
    "An array of N boolean values which satisfy the expression implemented by the oracle \n",
    "(i.e., any basis state marked by the oracle).\n",
    "\n",
    "> Note that the similar task in the GroversAlgorithm kata required you to implement Grover's algorithm \n",
    "in a way that would be robust to accidental failures, but you knew the optimal number of iterations \n",
    "(the number that minimized the probability of such failure).\n",
    "> \n",
    "> In this task you also need to make your implementation robust to not knowing the optimal number of iterations."
   ]
  },
  {
   "cell_type": "markdown",
   "metadata": {},
   "source": [
    "### Solution\n"
   ]
  },
  {
   "cell_type": "code",
   "execution_count": null,
   "metadata": {},
   "outputs": [],
   "source": [
    "%kata T32_UniversalGroversAlgorithm_Test \n",
    "\n",
    "operation UniversalGroversAlgorithm (N : Int, oracle : ((Qubit[], Qubit) => Unit is Adj)) : Bool[] {\n",
    "    // ...\n",
    "    return new Bool[N];\n",
    "}"
   ]
  },
  {
   "cell_type": "markdown",
   "metadata": {},
   "source": [
    "[Return to Task 3.2 of the Solving SAT with Grover's Kata.](./SolveSATWithGrover.ipynb#Task-3.2.-Universal-implementation-of-Grover's-algorithm)"
   ]
  }
 ],
 "metadata": {
  "kernelspec": {
   "display_name": "Q#",
   "language": "qsharp",
   "name": "iqsharp"
  },
  "language_info": {
   "file_extension": ".qs",
   "mimetype": "text/x-qsharp",
   "name": "qsharp",
   "version": "0.10"
  }
 },
 "nbformat": 4,
 "nbformat_minor": 2
}
