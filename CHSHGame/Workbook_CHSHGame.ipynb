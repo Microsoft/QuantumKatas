{
 "cells": [
  {
   "cell_type": "markdown",
   "metadata": {},
   "source": [
    "# CHSH Game\n",
    "\n",
    "The **CHSH Game** quantum kata is a series of exercises designed\n",
    "to get you familiar with the CHSH game.\n",
    "\n",
    "In it, two players (Alice and Bob) try to win the following game:\n",
    "\n",
    "Each of them is given a bit (Alice gets X and Bob gets Y), and\n",
    "they have to return new bits (Alice returns A and Bob returns B)\n",
    "so that X ∧ Y = A ⊕ B. The trick is, they can not communicate during the game.\n",
    "\n",
    "```\n",
    "* '∧' is the standard bitwise AND operator.\n",
    "* '⊕' is the exclusive or, or XOR operator, so 'P ⊕ Q' is true if exactly one of P and Q is true.\n",
    "```\n",
    "\n",
    "* You can read more about CHSH game in the [lecture notes](https://cs.uwaterloo.ca/~watrous/CPSC519/LectureNotes/20.pdf) by\n",
    "  John Watrous. \n",
    "* Q# Samples repository has [an implementation of the CHSH\n",
    "  game](https://github.com/microsoft/Quantum/tree/master/samples/algorithms/chsh-game)\n",
    "  that includes an explanation of the history and theory behind the game.\n",
    "\n",
    "Each task is wrapped in one operation preceded by the description of the task.\n",
    "Your goal is to fill in the blank (marked with the `// ...` comments)\n",
    "with some Q# code that solves the task. To verify your answer, run the cell using Ctrl/⌘+Enter.\n"
   ]
  },
  {
   "cell_type": "markdown",
   "metadata": {},
   "source": [
    "To begin, first prepare this notebook for execution (if you skip this step, you'll get \"Syntax does not match any known patterns\" error when you try to execute Q# code in the next cells):"
   ]
  },
  {
   "cell_type": "code",
   "execution_count": 1,
   "metadata": {},
   "outputs": [
    {
     "data": {
      "application/json": "{\"LastUpdated\":\"2020-07-28T13:08:44.5573562-07:00\",\"IsCompleted\":true,\"Description\":\"Adding package Microsoft.Quantum.Katas::0.12.20072031\",\"Subtask\":\"done\"}",
      "text/plain": [
       "Adding package Microsoft.Quantum.Katas::0.12.20072031: done!"
      ]
     },
     "metadata": {},
     "output_type": "display_data"
    },
    {
     "data": {
      "application/json": "[\"Microsoft.Quantum.Standard::0.12.20072031\",\"Microsoft.Quantum.Katas::0.12.20072031\"]",
      "text/html": [
       "<ul><li>Microsoft.Quantum.Standard::0.12.20072031</li><li>Microsoft.Quantum.Katas::0.12.20072031</li></ul>"
      ],
      "text/plain": [
       "Microsoft.Quantum.Standard::0.12.20072031, Microsoft.Quantum.Katas::0.12.20072031"
      ]
     },
     "execution_count": 1,
     "metadata": {},
     "output_type": "execute_result"
    }
   ],
   "source": [
    "%package Microsoft.Quantum.Katas::0.12.20072031"
   ]
  },
  {
   "cell_type": "markdown",
   "metadata": {},
   "source": [
    "> The package versions in the output of the cell above should always match. If you are running the Notebooks locally and the versions do not match, please install the IQ# version that matches the version of the `Microsoft.Quantum.Katas` package.\n",
    "> <details>\n",
    "> <summary><u>How to install the right IQ# version</u></summary>\n",
    "> For example, if the version of `Microsoft.Quantum.Katas` package above is 0.1.2.3, the installation steps are as follows:\n",
    ">\n",
    "> 1. Stop the kernel.\n",
    "> 2. Uninstall the existing version of IQ#:\n",
    ">        dotnet tool uninstall microsoft.quantum.iqsharp -g\n",
    "> 3. Install the matching version:\n",
    ">        dotnet tool install microsoft.quantum.iqsharp -g --version 0.1.2.3\n",
    "> 4. Reinstall the kernel:\n",
    ">        dotnet iqsharp install\n",
    "> 5. Restart the Notebook.\n",
    "> </details>\n"
   ]
  },
  {
   "cell_type": "markdown",
   "metadata": {},
   "source": [
    "## Part I. Classical CHSH\n"
   ]
  },
  {
   "cell_type": "markdown",
   "metadata": {},
   "source": [
    "### Task 1.1. Win Condition\n",
    "**Input:** \n",
    "\n",
    "  1. Alice and Bob's starting bits (X and Y),\n",
    "\n",
    "  2. Alice and Bob's output bits (A and B).\n",
    "\n",
    "**Output:** \n",
    "True if Alice and Bob won the CHSH game, that is, if X ∧ Y = A ⊕ B, and false otherwise."
   ]
  },
  {
   "cell_type": "code",
   "execution_count": 3,
   "metadata": {},
   "outputs": [
    {
     "data": {
      "application/json": "\"Success!\"",
      "text/plain": [
       "Success!"
      ]
     },
     "execution_count": 3,
     "metadata": {},
     "output_type": "execute_result"
    }
   ],
   "source": [
    "%kata T11_WinCondition_Test \n",
    "\n",
    "open Microsoft.Quantum.Logical;\n",
    "\n",
    "function WinCondition (x : Bool, y : Bool, a : Bool, b : Bool) : Bool {\n",
    "    // There are four inputs possible, (0,0), (0,1), (1,0), and (1,1), each with 25% probability.\n",
    "    // In order to win, Alice and Bob have to output opposite answers if the input is (1,1), and answer the same otherwise.\n",
    "\n",
    "    let p = And(x, y);\n",
    "    let u = Xor(a, b);\n",
    "    return (p == u);\n",
    "}"
   ]
  },
  {
   "cell_type": "markdown",
   "metadata": {},
   "source": [
    "### Task 1.2. Alice and Bob's classical strategy\n",
    "\n",
    "In this task you have to implement two functions, one for Alice's classical strategy and one for Bob's.\n",
    "Note that they are covered by one test, so you have to implement both to pass the test. Once you implement one of the strategies, execute its cell - it will fail with the error message indicating that the other strategy is not implemented yet. Once you implement the second strategy, execute its cell to get the test result.\n",
    "\n",
    "**Input:** Alice's starting bit (X).\n",
    "\n",
    "**Output:** The bit that Alice should output (A) to maximize their chance of winning."
   ]
  },
  {
   "cell_type": "code",
   "execution_count": 4,
   "metadata": {},
   "outputs": [
    {
     "name": "stderr",
     "output_type": "stream",
     "text": [
      "Bob's strategy in task 1.2 not implemented yet\n",
      "Try again!\n"
     ]
    }
   ],
   "source": [
    "%kata T12_ClassicalStrategy_Test \n",
    "\n",
    "operation AliceClassical (x : Bool) : Bool {\n",
    "    // If Alice and Bob always return \"TRUE\", they will post a 75% win rate\n",
    "    // since TRUE ⊕ TRUE = FALSE, and the AND operation on their input bits will be false with 75% probability.\n",
    "    return true;\n",
    "}"
   ]
  },
  {
   "cell_type": "markdown",
   "metadata": {},
   "source": [
    "**Input:** Bob's starting bit (Y).\n",
    "\n",
    "**Output:** The bit that Bob should output (B) to maximize their chance of winning."
   ]
  },
  {
   "cell_type": "code",
   "execution_count": 5,
   "metadata": {},
   "outputs": [
    {
     "name": "stdout",
     "output_type": "stream",
     "text": [
      "Win rate 0.745\r\n"
     ]
    },
    {
     "data": {
      "application/json": "\"Success!\"",
      "text/plain": [
       "Success!"
      ]
     },
     "execution_count": 5,
     "metadata": {},
     "output_type": "execute_result"
    }
   ],
   "source": [
    "%kata T12_ClassicalStrategy_Test \n",
    "\n",
    "operation BobClassical (y : Bool) : Bool {\n",
    "    // Alternatively, Alice and Bob could agree to always return FALSE to achieve the same 75% win chances.\n",
    "    return true;\n",
    "}"
   ]
  },
  {
   "cell_type": "markdown",
   "metadata": {},
   "source": [
    "## Part II. Quantum CHSH\n",
    "\n",
    "In the quantum version of the game, the players still can not\n",
    "communicate during the game, but they are allowed to share \n",
    "qubits from a Bell pair before the start of the game.\n"
   ]
  },
  {
   "cell_type": "markdown",
   "metadata": {},
   "source": [
    "### Task 2.1. Entangled pair\n",
    "\n",
    "**Input:** An array of two qubits in the $|00\\rangle$ state.\n",
    "\n",
    "**Goal:** Create a Bell state $|\\Phi^{+}\\rangle = \\frac{1}{\\sqrt{2}} \\big( |00\\rangle + |11\\rangle \\big)$ on these qubits."
   ]
  },
  {
   "cell_type": "code",
   "execution_count": 6,
   "metadata": {},
   "outputs": [
    {
     "data": {
      "application/json": "\"Success!\"",
      "text/plain": [
       "Success!"
      ]
     },
     "execution_count": 6,
     "metadata": {},
     "output_type": "execute_result"
    }
   ],
   "source": [
    "%kata T21_CreateEntangledPair_Test \n",
    "\n",
    "operation CreateEntangledPair (qs : Qubit[]) : Unit {\n",
    "    H(qs[0]);\n",
    "    // This performs a Hadamard transform on the first qubit\n",
    "    // which produces the intermediate state (|00> + |10>) / sqrt(2).\n",
    "    \n",
    "    CX(qs[0], qs[1]);\n",
    "    // CX (Controlled X, Controlled NOT, CNOT) operates on two qubits, putting the second qubit through a NOT gate\n",
    "    // if and only if the first qubit is '1'.\n",
    "    \n",
    "    // The 4x4 operator matrix for CX is:\n",
    "    // [1  0  0  0]\n",
    "    // [0  1  0  0]\n",
    "    // [0  0  0  1]\n",
    "    // [0  0  1  0]\n",
    "    \n",
    "    // The original state |00> corresponds to the two-qubit amplitude vector [1, 0, 0, 0].\n",
    "    \n",
    "    // The intermediate state after the Hadamard transform is given by the column vector [1/sqrt(2), 0, 1/sqrt(2), 0].\n",
    "    \n",
    "    // The CX operator changes this vector to [1/sqrt(2), 0, 0, 1/sqrt(2)], which corresponds to the Bell state desired.\n",
    "}"
   ]
  },
  {
   "cell_type": "markdown",
   "metadata": {},
   "source": [
    "### Task 2.2. Alice's quantum strategy\n",
    "\n",
    "**Inputs:**\n",
    "\n",
    "  1. Alice's starting bit (X),\n",
    "\n",
    "  2. Alice's half of Bell pair she shares with Bob.\n",
    "\n",
    "**Goal:** Measure Alice's qubit in the Z basis if her bit is 0 (false), or the X basis if her bit is 1 (true), and return the result.\n",
    "The state of the qubit after the operation does not matter."
   ]
  },
  {
   "cell_type": "code",
   "execution_count": 20,
   "metadata": {},
   "outputs": [
    {
     "data": {
      "application/json": "\"Success!\"",
      "text/plain": [
       "Success!"
      ]
     },
     "execution_count": 20,
     "metadata": {},
     "output_type": "execute_result"
    }
   ],
   "source": [
    "%kata T22_AliceQuantum_Test \n",
    "\n",
    "open Microsoft.Quantum.Measurement;\n",
    "\n",
    "operation AliceQuantum (bit : Bool, qubit : Qubit) : Bool {\n",
    "    if (bit) {\n",
    "        let q = MResetX(qubit);\n",
    "        return (q == One);\n",
    "    }\n",
    "    else {\n",
    "        let q = MResetZ(qubit);\n",
    "        return (q == One);\n",
    "    }\n",
    "}"
   ]
  },
  {
   "cell_type": "markdown",
   "metadata": {},
   "source": [
    "### Task 2.3. Rotate Bob's qubit\n",
    "\n",
    "**Inputs:**\n",
    "\n",
    "  1. The direction to rotate: true for clockwise, false for counterclockwise,\n",
    "\n",
    "  2. Bob's qubit.\n",
    "\n",
    "**Goal:** Rotate the qubit $\\frac{\\pi}{8}$ radians around the Y axis in the given direction.\n",
    "\n",
    "<br/>\n",
    "<details>\n",
    "    <summary>Need a hint? Click <a href=\"https://docs.microsoft.com/en-us/qsharp/api/qsharp/microsoft.quantum.intrinsic.ry\">here</a></summary>\n",
    "  Ry operation applies a rotation by a given angle in counterclockwise direction.\n",
    "</details>"
   ]
  },
  {
   "cell_type": "code",
   "execution_count": 17,
   "metadata": {},
   "outputs": [
    {
     "data": {
      "application/json": "\"Success!\"",
      "text/plain": [
       "Success!"
      ]
     },
     "execution_count": 17,
     "metadata": {},
     "output_type": "execute_result"
    }
   ],
   "source": [
    "%kata T23_RotateBobQubit_Test \n",
    "\n",
    "open Microsoft.Quantum.Math;\n",
    "\n",
    "operation RotateBobQubit (clockwise : Bool, qubit : Qubit) : Unit {\n",
    "    mutable dir = PI() / 8.0;\n",
    "    if (clockwise) {\n",
    "        set dir = dir * -1.0;\n",
    "    }                            // In the Ry matrix entries, the trig functions are actually performed on theta/2\n",
    "    Ry(2.0 * dir, qubit);        // so the angle input into the function has to be doubled.\n",
    "}"
   ]
  },
  {
   "cell_type": "markdown",
   "metadata": {},
   "source": [
    "### Task 2.4. Bob's quantum strategy\n",
    "\n",
    "**Inputs:**\n",
    "\n",
    "  1. Bob's starting bit (Y),\n",
    "\n",
    "  2. Bob's half of Bell pair he shares with Alice.\n",
    "\n",
    "**Goal:** Measure Bob's qubit in the $\\frac{\\pi}{8}$ basis if his bit is 0 (false), or the $-\\frac{\\pi}{8}$ basis if his bit is 1 (true), and return the result.\n",
    "The state of the qubit after the operation does not matter."
   ]
  },
  {
   "cell_type": "code",
   "execution_count": 25,
   "metadata": {},
   "outputs": [
    {
     "data": {
      "application/json": "\"Success!\"",
      "text/plain": [
       "Success!"
      ]
     },
     "execution_count": 25,
     "metadata": {},
     "output_type": "execute_result"
    }
   ],
   "source": [
    "%kata T24_BobQuantum_Test \n",
    "\n",
    "open Microsoft.Quantum.Measurement;\n",
    "\n",
    "operation BobQuantum (bit : Bool, qubit : Qubit) : Bool {\n",
    "    let antibit = not bit;\n",
    "    RotateBobQubit(antibit, qubit);     // Measuring a qubit in the (theta) basis is the same as rotating the qubit\n",
    "    let q = MResetZ(qubit);             // by (theta), clockwise, and then making a standard measurement in the Z basis.\n",
    "    return (q == One);\n",
    "}"
   ]
  },
  {
   "cell_type": "markdown",
   "metadata": {},
   "source": [
    "### Task 2.5. Play the CHSH game using the quantum strategy\n",
    "\n",
    "**Input:**\n",
    "Operations that return Alice and Bob's output bits (A and B) based on their quantum\n",
    "strategies and given their respective qubits from the Bell pair.\n",
    "Alice and Bob have already been told what their starting bits X and Y are.\n",
    "\n",
    "**Goal:** Return Alice and Bob's output bits (A, B).\n",
    "Note that this task uses strategies `AliceQuantum` and `BobQuantum`, which you've implemented in tasks 2.2 and 2.4, respectively."
   ]
  },
  {
   "cell_type": "code",
   "execution_count": 26,
   "metadata": {},
   "outputs": [
    {
     "data": {
      "application/json": "\"Success!\"",
      "text/plain": [
       "Success!"
      ]
     },
     "execution_count": 26,
     "metadata": {},
     "output_type": "execute_result"
    }
   ],
   "source": [
    "%kata T25_PlayQuantumCHSH_Test \n",
    "\n",
    "operation PlayQuantumCHSH (askAlice : (Qubit => Bool), askBob : (Qubit => Bool)): (Bool, Bool) {\n",
    "    using (bell = Qubit[2]) {\n",
    "        CreateEntangledPair(bell);\n",
    "        \n",
    "        let A = askAlice(bell[0]);\n",
    "        let B = askBob(bell[1]);\n",
    "        \n",
    "        return (A, B);\n",
    "    }\n",
    "}"
   ]
  },
  {
   "cell_type": "markdown",
   "metadata": {},
   "source": [
    "### Discussion: probability of victory for quantum strategy\n",
    "\n",
    "In the arguments to follow, we make the claim that the above quantum strategy adopted by Alice and Bob delivers a win rate of $\\frac{2 + \\sqrt{2}}{4}$, or about 85.36%.\n",
    "\n",
    "First, consider the outcome if Alice and Bob simply measure their qubits in the Z basis without manipulating them at all.  Because of the entanglement inherent to the Bell state they hold, their measurements will always agree (i.e. both true or both false).  This will suffice for victory in the three scenarios (0,0), (0,1) and (1,0) and fail for (1,1), so their win clip is 75%, the same as that for the crude classical strategies of invariably returning both true or both false.\n",
    "\n",
    "Now incorporate the optimal quantum strategy.  A probability \"wavefunction\" for two qubits is given by the following length-4 vector:\n",
    "\n",
    "$\n",
    "\\begin{bmatrix}\n",
    "\\psi_{00}\\\\\n",
    "\\psi_{01}\\\\\n",
    "\\psi_{10}\\\\\n",
    "\\psi_{11}\n",
    "\\end{bmatrix}\n",
    "$\n",
    "\n",
    "where $\\psi$ represents the \"wavefunction\" amplitude for the two-qubit combination.  $\\psi^2$ gives the probability of observing that combination in the qubit pair upon measurement.  The initial state $|00\\rangle$ has $\\psi_{00} = 1$ and $\\psi_{01} = \\psi_{10} = \\psi_{11} = 0$.  The Bell state has an amplitude vector as follows:\n",
    "\n",
    "$\n",
    "\\begin{bmatrix}\n",
    "1/\\sqrt{2}\\\\\n",
    "0\\\\\n",
    "0\\\\\n",
    "1/\\sqrt{2}\n",
    "\\end{bmatrix}\n",
    "$\n",
    "\n",
    "To circumvent the unwieldy manipulation of nested radicals, we will hereafter reference these vectors and matrices by their decimal approximation:\n",
    "\n",
    "$\n",
    "\\begin{bmatrix}\n",
    "0.7071\\\\\n",
    "0\\\\\n",
    "0\\\\\n",
    "0.7071\n",
    "\\end{bmatrix}\n",
    "$\n",
    "\n",
    "#### Alice holds bit 0\n",
    "\n",
    "First consider the cases where Alice's bit is 0, so she simply measures in the Z basis as above.  When Bob's bit is 0, he rotates his qubit clockwise by $\\pi/8$, which corresponds to the operator\n",
    "\n",
    "$\n",
    "\\begin{bmatrix}\n",
    "0.9239 & 0.3827 & 0 & 0\\\\\n",
    "-0.3827 & 0.9239 & 0 & 0\\\\\n",
    "0 & 0 & 0.9239 & 0.3827\\\\\n",
    "0 & 0 & -0.3827 & 0.9239\n",
    "\\end{bmatrix}\n",
    "$\n",
    "\n",
    "This performs the $R_y$ rotation by $\\pi/8$ radians clockwise on Bob's qubit while leaving Alice's be.  If Bob's bit were 1, he would rotate his qubit counterclockwise by $\\pi/8$, applying the highly similar operator\n",
    "\n",
    "$\n",
    "\\begin{bmatrix}\n",
    "0.9239 & -0.3827 & 0 & 0\\\\\n",
    "0.3827 & 0.9239 & 0 & 0\\\\\n",
    "0 & 0 & 0.9239 & -0.3827\\\\\n",
    "0 & 0 & 0.3827 & 0.9239\n",
    "\\end{bmatrix}\n",
    "$\n",
    "\n",
    "Therefore, when Alice has 0, the application of the rotation operator to the Bell state gives\n",
    "\n",
    "$\n",
    "\\begin{bmatrix}\n",
    "0.6533 & {or} & 0.6533\\\\\n",
    "-0.2706 & {or} & 0.2706\\\\\n",
    "0.2706 & {or} & -0.2706\\\\\n",
    "0.6533 & {or} & 0.6533\n",
    "\\end{bmatrix}\n",
    "$\n",
    "\n",
    "depending on whether Bob holds 0 (left-hand case) or 1 (right-hand case).  The result of AND on their bits will always be 0; thus they win when their outputs agree.  These two cases correspond to the top and bottom elements of the vector above, with a combined probability of $(0.6533)^2 + (0.6533)^2 = 0.4268 + 0.4268 = 0.8536$, so they have an 85.36% win chance.\n",
    "\n",
    "#### Alice holds bit 1\n",
    "\n",
    "When Alice holds bit 1, she measures in basis X (or, equivalently, Hadamard-transforms her qubit, leaving Bob's be, before making her Z-basis measurement).  This corresponds to applying the operator\n",
    "\n",
    "$\n",
    "\\begin{bmatrix}\n",
    "0.7071 & 0 & 0.7071 & 0\\\\\n",
    "0 & 0.7071 & 0 & 0.7071\\\\\n",
    "0.7071 & 0 & -0.7071 & 0\\\\\n",
    "0 & 0.7071 & 0 & -0.7071\n",
    "\\end{bmatrix}\n",
    "$\n",
    "\n",
    "to the Bell state, resulting in a vector of:\n",
    "\n",
    "$\n",
    "\\begin{bmatrix}\n",
    "0.5\\\\\n",
    "0.5\\\\\n",
    "0.5\\\\\n",
    "-0.5\n",
    "\\end{bmatrix}\n",
    "$\n",
    "\n",
    "Now, one of the two rotation operators is applied depending on what bit Bob holds, transforming this vector into:\n",
    "\n",
    "$\n",
    "\\begin{bmatrix}\n",
    "0.6533 & {or} & 0.2706\\\\\n",
    "0.2706 & {or} & 0.6533\\\\\n",
    "0.2706 & {or} & 0.6533\\\\\n",
    "-0.6533 & {or} & -0.2706\n",
    "\\end{bmatrix}\n",
    "$\n",
    "\n",
    "When Bob holds 0, they still want to return the same parity, which they again do with 85.36% probability (left-hand case).  But when Bob holds 1, the AND condition is now true and the players want to answer in opposite parity.  This corresponds to the second and third elements of the above vector (right-hand case).  Thanks to the \"magic\" of the combination of the counterclockwise rotation and Hadamard transform, they now do this with probability $(0.6533)^2 + (0.6533)^2 = 0.8536$ and thus 85.36% becomes their win odds once more.\n",
    "\n",
    "#### Side notes\n",
    "\n",
    "* If Bob never rotated his qubit, their entangled state would remain the Bell state if Alice held bit 0 and the state corresponding to $(|00\\rangle + |01\\rangle + |10\\rangle - |11\\rangle) / 2$ if Alice held bit 1.  While she and Bob would have a lock against the 0 bit, they would be on a coin flip if she held bit 1 and thus their win chance would revert to 75% again.\n",
    "\n",
    "* It can be proven that Alice and Bob cannot surpass an overall win probability of 85.36% in the CHSH game.  This entails a higher-level discussion of quantum observable theory, for instance see https://en.wikipedia.org/wiki/Tsirelson's_bound."
   ]
  },
  {
   "cell_type": "code",
   "execution_count": null,
   "metadata": {},
   "outputs": [],
   "source": []
  }
 ],
 "metadata": {
  "kernelspec": {
   "display_name": "Q#",
   "language": "qsharp",
   "name": "iqsharp"
  },
  "language_info": {
   "file_extension": ".qs",
   "mimetype": "text/x-qsharp",
   "name": "qsharp",
   "version": "0.12"
  }
 },
 "nbformat": 4,
 "nbformat_minor": 2
}
