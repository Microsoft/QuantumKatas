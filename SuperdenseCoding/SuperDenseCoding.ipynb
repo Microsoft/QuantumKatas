{
 "cells": [
  {
   "cell_type": "markdown",
   "metadata": {},
   "source": [
    "# Superdense Coding Kata\n",
    "\n",
    "**Superdense Coding** quantum kata is a series of exercises designed to get you familiar with programming in Q#.\n",
    "\n",
    "It covers the superdense coding protocol which allows us to transmit two bits of classical information by sending just one qubit using previously shared quantum entanglement.\n",
    "\n",
    "Each task is wrapped in one operation preceded by the description of the task. Each task (except tasks in which you have to write a test) has a unit test associated with it, which initially fails. Your goal is to fill in the blank (marked with // ... comment) with some Q# code to make the failing test pass. To verify your answer, run the cell using Ctrl/⌘+Enter.\n",
    "\n",
    "Each task defines an operation that can be used in subsequent tasks to simplify implementations and build on existing code.  We split the superdense coding protocol into several steps, following the description at https://en.wikipedia.org/wiki/Superdense_coding :\n",
    "\n",
    "* Preparation (creating the entangled pair of qubits that are sent to Alice and Bob).\n",
    "* Encoding the message (Alice's task): Encoding the classical bits of the message into the state of Alice's qubit which then is sent to Bob.\n",
    "* Decoding the message (Bob's task): Using Bob's original qubit and the qubit he received from Alice to decode the classical message sent.\n",
    "* Finally, we compose those steps into the complete superdense coding protocol."
   ]
  },
  {
   "cell_type": "markdown",
   "metadata": {},
   "source": [
    "To begin, first prepare this notebook for execution (if you skip this step, you'll get \"Syntax does not match any known patterns\" error when you try to execute Q# code in the next cells):"
   ]
  },
  {
   "cell_type": "code",
   "execution_count": null,
   "metadata": {},
   "outputs": [],
   "source": [
    "%package Microsoft.Quantum.Katas::0.6.1905.301"
   ]
  },
  {
   "cell_type": "markdown",
   "metadata": {},
   "source": [
    "> The package versions in the output of the cell above should always match. If you are running the Notebooks locally and the versions do not match, please install the IQ# version that matches the version of the `Microsoft.Quantum.Katas` package.\n",
    "> <details>\n",
    "> <summary><u>How to install the right IQ# version</u></summary>\n",
    "> For example, if the version of `Microsoft.Quantum.Katas` package above is 0.6.1905.301, the installation steps are as follows:\n",
    ">\n",
    "> 1. Stop the kernel.\n",
    "> 2. Uninstall the existing version of IQ#:\n",
    ">        dotnet tool uninstall microsoft.quantum.iqsharp -g\n",
    "> 3. Install the matching version:\n",
    ">        dotnet tool install microsoft.quantum.iqsharp -g --version 0.6.1905.301\n",
    "> 4. Reinstall the kernel:\n",
    ">        dotnet iqsharp install\n",
    "> 5. Restart the Notebook.\n",
    "> </details>\n"
   ]
  },
  {
   "cell_type": "markdown",
   "metadata": {},
   "source": [
    "### Task 1. Entangled pair: \n",
    "\n",
    "**Input:** An array of two qubits in the $|00\\rangle$ state.\n",
    "\n",
    "**Goal:**  Create a Bell state $|\\Phi^{+}\\rangle = (|00\\rangle + |11\\rangle) / {\\sqrt{2}}$ on these qubits.\n",
    "\n",
    "\n",
    "\n"
   ]
  },
  {
   "cell_type": "code",
   "execution_count": null,
   "metadata": {},
   "outputs": [],
   "source": [
    "%kata T1_CreateEntangledPair_Test \n",
    "open Microsoft.Quantum.Diagnostics;\n",
    "operation CreateEntangledPair (qs : Qubit[]) : Unit {\n",
    "\n",
    "    // The following lines enforce the constraints on the input that you are given.\n",
    "    // You don't need to modify them. Feel free to remove them, this won't cause your code to fail.\n",
    "    EqualityFactI(Length(qs), 2, \"The array should have exactly 2 qubits.\");\n",
    "\n",
    "    // ...\n",
    "}"
   ]
  },
  {
   "cell_type": "markdown",
   "metadata": {},
   "source": [
    "### Task 2. Send the message (Alice's task) \n",
    "\n",
    "Encode the message (classical bits) in the state of Alice's qubit.\n",
    "\n",
    "**Inputs**: \n",
    "1. Alice's part of the entangled pair of qubits qAlice.\n",
    "2. Two classical bits, stored in an array.\n",
    "\n",
    "**Goal**:  Transform the input qubit to encode the two classical bits.\n",
    "<br> \n",
    "<details>\n",
    "   \n",
    "  <summary>**Need a hint? Click here**\n",
    "    manipulate Alice's half of the entangled pair to change the joint state of the two qubits to one of the following four states based on the value of message:   \n",
    "\n",
    "* [0; 0]: $|\\Phi^{+}\\rangle = (|00\\rangle + |11\\rangle) / {\\sqrt{2}}$\n",
    "* [0; 1]: $|\\Psi^{+}\\rangle = (|01\\rangle + |10\\rangle) / {\\sqrt{2}}$\n",
    "* [1; 0]: $|\\Phi^{-}\\rangle = (|00\\rangle + |11\\rangle) / {\\sqrt{2}}$\n",
    "* [1; 1]: $|\\Psi^{-}\\rangle = (|01\\rangle + |10\\rangle) / {\\sqrt{2}}$\n",
    "\n",
    "</summary>\n",
    "</details>\n",
    "</br>"
   ]
  },
  {
   "cell_type": "code",
   "execution_count": null,
   "metadata": {},
   "outputs": [],
   "source": [
    "%kata T2_EncodeMessageInQubit_Test \n",
    "\n",
    "operation EncodeMessageInQubit (qAlice : Qubit, message : Bool[]) : Unit {\n",
    "\n",
    "    // ...\n",
    "}"
   ]
  },
  {
   "cell_type": "markdown",
   "metadata": {},
   "source": [
    "### Task 3. Decode the message (Bob's task).\n",
    "\n",
    "Decode the message using the qubit received from Alice.\n",
    "\n",
    "**Inputs:**\n",
    "\n",
    "1. Bob's part of the entangled pair qBob.\n",
    "2. Qubit received from Alice qAlice.\n",
    "\n",
    "**Goal** :  Retrieve two bits of classic data from the qubits. The state of the qubits in the end of the operation doesn't matter.\n"
   ]
  },
  {
   "cell_type": "code",
   "execution_count": null,
   "metadata": {},
   "outputs": [],
   "source": [
    "%kata T3_DecodeMessageFromQubits_Test \n",
    "\n",
    "operation DecodeMessageFromQubits (qBob : Qubit, qAlice : Qubit) : Bool[] {\n",
    "\n",
    "    // Declare a Bool array in which the result will be stored;\n",
    "    // the variable has to be mutable to allow updating it.\n",
    "\n",
    "    mutable decoded_bits = new Bool[2];\n",
    "\n",
    "    // ...\n",
    "    return decoded_bits;\n",
    "}"
   ]
  },
  {
   "cell_type": "markdown",
   "metadata": {},
   "source": [
    "### Task 4. Superdense coding protocol end-to-end:\n",
    "\n",
    "Put together the steps performed in tasks 1-3 to implement the full superdense coding protocol.\n",
    "\n",
    "**Input:**\n",
    "\n",
    "1. Two classical bits\n",
    "\n",
    "**Goal:**  Prepare an EPR Pair, encode the two classical bits in the state of the pair by applying quantum gates to one member of the pair, and decode the two classical gates from the state of the pair."
   ]
  },
  {
   "cell_type": "code",
   "execution_count": null,
   "metadata": {},
   "outputs": [],
   "source": [
    "%kata T4_SuperdenseCodingProtocol_Test\n",
    "\n",
    "operation SuperdenseCodingProtocol (message : Bool[]) : Bool[] {\n",
    "\n",
    "    mutable decoded_bits = new Bool[2];\n",
    "\n",
    "    // ...\n",
    "    return decoded_bits;\n",
    "\n",
    "}"
   ]
  }
 ],
 "metadata": {
  "kernelspec": {
   "display_name": "Q#",
   "language": "qsharp",
   "name": "iqsharp"
  },
  "language_info": {
   "file_extension": ".qs",
   "mimetype": "text/x-qsharp",
   "name": "qsharp",
   "version": "0.4"
  }
 },
 "nbformat": 4,
 "nbformat_minor": 2
}
