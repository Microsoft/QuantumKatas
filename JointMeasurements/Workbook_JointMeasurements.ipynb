{
 "cells": [
  {
   "cell_type": "markdown",
   "metadata": {},
   "source": [
    "# Joint Measurement Workbook\n",
    "\n",
    "**What is this workbook?**\n",
    "A workbook is a collection of problems, accompanied by solutions to them. \n",
    "The explanations focus on the logical steps required to solve a problem; they illustrate the concepts that need to be applied to come up with a solution to the problem, explaining the mathematical steps required. \n",
    "\n",
    "Note that a workbook should not be the primary source of knowledge on the subject matter; it assumes that you've already read a tutorial or a textbook and that you are now seeking to improve your problem-solving skills. You should attempt solving the tasks of the respective kata first, and turn to the workbook only if stuck. While a textbook emphasizes knowledge acquisition, a workbook emphasizes skill acquisition.\n",
    "\n",
    "This workbook describes the solutions to the problems offered in the [Joint Measurements kata](./JointMeasurements.ipynb). \n",
    "Since the tasks are offered as programming problems, the explanations also cover some elements of Q# that might be non-obvious for a first-time user.\n",
    "\n",
    "**What you should know for this workbook**\n",
    "\n",
    "You should be familiar with the following concepts before tackling the Joint Measurements kata (and this workbook):\n",
    "1. Basic linear algebra\n",
    "2. The concept of qubit and multi-qubit systems\n",
    "3. Single-qubit and multi-qubit quantum gates and using them to manipulate the state of the system\n",
    "4. The concept of measurements"
   ]
  },
  {
   "cell_type": "markdown",
   "metadata": {},
   "source": [
    "To begin, first prepare this notebook for execution (if you skip this step, you'll get \"Syntax does not match any known patterns\" error when you try to execute Q# code in the next cells):"
   ]
  },
  {
   "cell_type": "code",
   "execution_count": null,
   "metadata": {},
   "outputs": [],
   "source": [
    "%package Microsoft.Quantum.Katas::0.11.2006.403"
   ]
  },
  {
   "cell_type": "markdown",
   "metadata": {},
   "source": [
    "> The package versions in the output of the cell above should always match. If you are running the Notebooks locally and the versions do not match, please install the IQ# version that matches the version of the `Microsoft.Quantum.Katas` package.\n",
    "> <details>\n",
    "> <summary><u>How to install the right IQ# version</u></summary>\n",
    "> For example, if the version of `Microsoft.Quantum.Katas` package above is 0.1.2.3, the installation steps are as follows:\n",
    ">\n",
    "> 1. Stop the kernel.\n",
    "> 2. Uninstall the existing version of IQ#:\n",
    ">        dotnet tool uninstall microsoft.quantum.iqsharp -g\n",
    "> 3. Install the matching version:\n",
    ">        dotnet tool install microsoft.quantum.iqsharp -g --version 0.1.2.3\n",
    "> 4. Reinstall the kernel:\n",
    ">        dotnet iqsharp install\n",
    "> 5. Restart the Notebook.\n",
    "> </details>\n"
   ]
  },
  {
   "cell_type": "code",
   "execution_count": null,
   "metadata": {},
   "outputs": [],
   "source": [
    "%workspace reload"
   ]
  },
  {
   "cell_type": "markdown",
   "metadata": {},
   "source": [
    "### Task 1. Single-qubit measurement\n",
    "\n",
    "**Input:** Two qubits (stored in an array) which are guaranteed to be either in superposition of states $|00\\rangle$ and $|11\\rangle$ or in superposition of states $|01\\rangle$ and $|10\\rangle$.\n",
    "\n",
    "**Output:**  0 if qubits were in the first superposition, 1 if they were in the second superposition.  \n",
    "*The state of the qubits at the end of the operation does not matter.*\n",
    "\n",
    "<br/>\n",
    "<details closed>\n",
    "  <summary>Need a hint? Click here </summary>\n",
    "    Use two single-qubit measurements. \n",
    "</details>"
   ]
  },
  {
   "cell_type": "markdown",
   "metadata": {},
   "source": [
    "### Solution\n",
    "\n",
    "[Pauli measurements](https://docs.microsoft.com/en-us/quantum/concepts/pauli-measurements) can be used for joint measurements involving multiple qubits. For this task we apply the `PauliZ` matrix on both qubits.\n",
    "\n",
    "A joint measurement using `PauliZ` can be thought as projecting the measured state to one of the two eigen spaces of `PauliZ` with +1 and -1 as the corresponding eigen values. The measurement returns `Zero` if the measured state is projected to the space with an eigen value of +1 and a result of `One` if projected to the space with an eigen value of -1.\n",
    "\n",
    "To solidify this intution, let us assume that after measurement, the qubits collapse to $|00\\rangle$ state. The `PauliZ` matrix for two qubits is denoted by $Z \\otimes Z$. When this transformation is applied, to the measured state $|00\\rangle$, we get\n",
    "\n",
    "$$\\begin{bmatrix}\n",
    "    1 & 0 & 0 & 0 \\\\\n",
    "    0 & -1 & 0 & 0 \\\\\n",
    "    0 & 0 & -1 & 0 \\\\\n",
    "    0 & 0 & 0 & 1 \\\\\n",
    "\\end{bmatrix}\n",
    "\\begin{bmatrix} 1 \\\\ 0 \\\\ 0 \\\\ 0 \\\\ \\end{bmatrix} = \n",
    "\\begin{bmatrix} 1 \\\\ 0 \\\\ 0 \\\\ 0 \\\\ \\end{bmatrix}$$\n",
    "\n",
    "Comparing this to the characteristic equation for eigen vectors of $Z$ given by\n",
    "$ Z X = \\lambda X $\n",
    "it is easy to see that $|00\\rangle$ got projected to the +1 eigen space. Hence the measurement returns `Zero`.\n",
    "\n",
    "Similarly, it can easily be verified that $|11\\rangle$ also gets projected to +1 eigen space while $|01\\rangle$ and $|10\\rangle$ get projected to the -1 eigen space.\n",
    "\n",
    "Hence, based on the return value from `PauliZ` measurements, we can be assured of the initial superposition of states.\n",
    "\n",
    "In Q#, the operation [`Measure`](https://docs.microsoft.com/en-us/qsharp/api/qsharp/microsoft.quantum.intrinsic.measure) can be used to measure multiple qubits using an array of **Pauli matrices**."
   ]
  },
  {
   "cell_type": "code",
   "execution_count": null,
   "metadata": {},
   "outputs": [],
   "source": [
    "%kata T01_SingleQubitMeasurement_Test\n",
    "open Microsoft.Quantum.Measurement;\n",
    "\n",
    "operation SingleQubitMeasurement (qs : Qubit[]) : Int {\n",
    "    // ...\n",
    "    return Measure([PauliZ, PauliZ], qs) == Zero ? 0 | 1;\n",
    "}"
   ]
  },
  {
   "cell_type": "markdown",
   "metadata": {},
   "source": [
    "### Task 2. Parity measurement\n",
    "\n",
    "**Inputs**: Two qubits (stored in an array) which are guaranteed to be either in superposition of states $|00\\rangle$ and $|11\\rangle$ or in superposition of states $|01\\rangle$ and $|10\\rangle$.\n",
    "\n",
    "**Output**: 0 if qubits were in the first superposition, 1 if they were in the second superposition.  \n",
    "*The state of the qubits at the end of the operation should be the same as the starting state.*"
   ]
  },
  {
   "cell_type": "markdown",
   "metadata": {},
   "source": [
    "### Solution\n",
    "This task is the same as the previous task except that we are asked to revert back to the initial state after measurement. That is after applying a Z transformation, we need to change the basis back by applying Z\n",
    "\n",
    "Luckily in Q#, the operation [`Measure`](https://docs.microsoft.com/en-us/qsharp/api/qsharp/microsoft.quantum.intrinsic.measure) handles this task of reverting back to original states automatically! So the solution is the same as above."
   ]
  },
  {
   "cell_type": "code",
   "execution_count": null,
   "metadata": {},
   "outputs": [],
   "source": [
    "%kata T02_ParityMeasurement_Test\n",
    "open Microsoft.Quantum.Measurement;\n",
    "\n",
    "operation ParityMeasurement (qs : Qubit[]) : Int {\n",
    "    // ...\n",
    "    return Measure([PauliZ, PauliZ], qs) == Zero ? 0 | 1;\n",
    "}"
   ]
  },
  {
   "cell_type": "markdown",
   "metadata": {},
   "source": [
    "### Task 3. $|0000\\rangle + |1111\\rangle$ or $|0011\\rangle + |1100\\rangle$  ?\n",
    "**Inputs**: Four qubits (stored in an array) which are guaranteed to be either in superposition of states $|0000\\rangle$ and $|1111\\rangle$ or in superposition of states $|0011\\rangle$ and $|1100\\rangle$.\n",
    "\n",
    "**Output** : 0 if qubits were in the first superposition, 1 if they were in the second superposition.  \n",
    "*The state of the qubits at the end of the operation should be the same as the starting state.*"
   ]
  },
  {
   "cell_type": "markdown",
   "metadata": {},
   "source": [
    "### Solution\n",
    "For this task if we measure all the qubits with `PauliZ`, we get the same measurement of `Zero`. Notice however that the **2nd** and **3rd** qubits are the same in the first superposition $|00\\rangle$ or $|11\\rangle$ while they are differerent in  the second superposition $|01\\rangle$ and $|10\\rangle$.\n",
    "\n",
    "Hence, measuring these two qubits in `PauliZ` as before helps us distinguish between the two superpostions. Note that the operation [`Measure`](https://docs.microsoft.com/en-us/qsharp/api/qsharp/microsoft.quantum.intrinsic.measure) would handle the task of resetting the qubits automatically even if it is not applied to all qubits."
   ]
  },
  {
   "cell_type": "code",
   "execution_count": null,
   "metadata": {},
   "outputs": [],
   "source": [
    "%kata T03_GHZOrGHZWithX_Test \n",
    "\n",
    "operation GHZOrGHZWithX (qs : Qubit[]) : Int {\n",
    "    // ...\n",
    "    return Measure([PauliZ, PauliZ], qs[1 .. 2]) == Zero ? 0 | 1;\n",
    "}"
   ]
  },
  {
   "cell_type": "markdown",
   "metadata": {},
   "source": [
    "### Task 4. $|0..0\\rangle + |1..1\\rangle$ or W state ?\n",
    "\n",
    "**Inputs:** An even number of qubits (stored in an array) which are guaranteed to be either in a superposition of states |0..0$\\rangle$ and |1..1$\\rangle$ or in the [W state](https://en.wikipedia.org/wiki/W_state).\n",
    "\n",
    "**Output:** 0 if qubits were in the first superposition, 1 if they were in the second superposition. \n",
    "*The state of the qubits at the end of the operation should be the same as the starting state.*"
   ]
  },
  {
   "cell_type": "markdown",
   "metadata": {},
   "source": [
    "### Solution\n",
    "This is very similar to previous tasks except that there are an arbitrary **even** number of qubits. In Q#, the operation [MeasureAllZ](https://docs.microsoft.com/en-us/qsharp/api/qsharp/microsoft.quantum.measurement.measureallz) can be used to measure in `PauliZ` with all the qubits.\n",
    "\n",
    "Since it is given that there are **even** number of qubits, the first superposition is guaranteed to be preojected to the +1 eigen space returning `Zero`. The second superposition always has a single qubit correspending to $|1\\rangle$ and is guaranteeed to be projected to the -1 eigen space returning `One`."
   ]
  },
  {
   "cell_type": "code",
   "execution_count": null,
   "metadata": {},
   "outputs": [],
   "source": [
    "%kata T04_GHZOrWState_Test\n",
    "open Microsoft.Quantum.Measurement;\n",
    "\n",
    "operation GHZOrWState (qs : Qubit[]) : Int {\n",
    "    // ...\n",
    "    return MeasureAllZ(qs) == Zero ? 0 | 1;\n",
    "}"
   ]
  },
  {
   "cell_type": "markdown",
   "metadata": {},
   "source": [
    "### Task 5*. Parity measurement in different basis\n",
    "\n",
    "**Inputs:** Two qubits (stored in an array) which are guaranteed to be\n",
    "* either in superposition $\\alpha |00\\rangle + \\beta |01\\rangle + \\beta |10\\rangle + \\alpha |11\\rangle$\n",
    "* or in superposition $\\alpha |00\\rangle - \\beta |01\\rangle + \\beta |10\\rangle - \\alpha |11\\rangle$\n",
    "\n",
    "**Output:** 0 if qubits were in the first superposition, 1 if they were in the second superposition.  \n",
    "*The state of the qubits at the end of the operation should be the same as the starting state.*"
   ]
  },
  {
   "cell_type": "markdown",
   "metadata": {},
   "source": [
    "### Solution\n",
    "Consider the first superposition. It could be regrouped as\n",
    "\n",
    "$\\alpha (|00\\rangle + |11\\rangle) + \\beta (|01\\rangle + |10\\rangle)$\n",
    "\n",
    "The term $|00\\rangle + |11\\rangle$ could be written as $H^{\\otimes 2} |00\\rangle + H^{\\otimes 2}|11\\rangle$\n",
    "\n",
    "Similarly, the term $|01\\rangle + |10\\rangle$ can be written as $H^{\\otimes 2} |00\\rangle - H^{\\otimes 2}|11\\rangle$\n",
    "\n",
    "Where the term $H^{\\otimes 2} |00\\rangle$ implies applying the Hadamard operator to both qubits and is equivalent to $H |0\\rangle \\otimes H |0\\rangle$\n",
    "\n",
    "Therefore, we get\n",
    "\n",
    "$$ \\alpha (H^{\\otimes 2} |00\\rangle + H^{\\otimes 2}|11\\rangle) + \\beta (H^{\\otimes 2} |00\\rangle - H^{\\otimes 2}|11\\rangle) = (\\alpha + \\beta) H^{\\otimes 2} |00\\rangle + (\\alpha - \\beta) H^{\\otimes 2}|11\\rangle$$\n",
    "\n",
    "Similarly,\n",
    "\n",
    "$$\\alpha |00\\rangle - \\beta |01\\rangle + \\beta |10\\rangle - \\alpha |11\\rangle = (\\alpha + \\beta) H^{\\otimes 2} |01\\rangle + (\\alpha - \\beta) H^{\\otimes 2}|10\\rangle$$\n",
    "\n",
    "We now have a familiar format where the first superposition has a parity of 0 and the second superposition has a parity of 1.\n",
    "\n",
    "Since we have a Hadamard operator, we cannot directly measure using `PauliZ`. Instead, we need to measure in [PauliX](https://docs.microsoft.com/en-us/quantum/concepts/pauli-measurements) which is equivalent to $H^{\\dagger} Z H$."
   ]
  },
  {
   "cell_type": "code",
   "execution_count": null,
   "metadata": {},
   "outputs": [],
   "source": [
    "%kata T05_DifferentBasis_Test\n",
    "open Microsoft.Quantum.Measurement;\n",
    "\n",
    "operation DifferentBasis (qs : Qubit[]) : Int {\n",
    "    // ...\n",
    "    return Measure([PauliX, PauliX], qs) == Zero ? 0 | 1;\n",
    "}"
   ]
  },
  {
   "cell_type": "markdown",
   "metadata": {},
   "source": [
    "### Task 6*. Controlled X gate with $|0\\rangle$ target\n",
    "\n",
    "**Input:** Two unentangled qubits (stored in an array of length 2). The first qubit (`qs[0]`) will be in state $|\\psi\\rangle = \\alpha |0\\rangle + \\beta |1\\rangle$ , the second (`qs[1]`) - in state $|0\\rangle$ (this can be written as two-qubit state $\\big(\\alpha |0\\rangle + \\beta |1\\rangle\\big) \\otimes |0\\rangle$). \n",
    "\n",
    "**Output:** Change the two-qubit state to $\\alpha |00\\rangle + \\beta |11\\rangle$ using only single-qubit gates and joint measurements. Do not use two-qubit gates. You do not need to allocate extra qubits."
   ]
  },
  {
   "cell_type": "markdown",
   "metadata": {},
   "source": [
    "### Solution\n",
    "\n",
    "Lets apply $H$ to the second qubit. This results in\n",
    "\n",
    "$$\\big(\\alpha |0\\rangle + \\beta |1\\rangle\\big) \\otimes \\frac{(|0\\rangle + |1\\rangle)}{\\sqrt2}\\\\ $$\n",
    "\n",
    "A key point to note is that even at this point, the two qubits are **unentangled**. A joint measurement in `PauliZ` causes the qubits to become entangled and collapse into\n",
    "\n",
    "$$ \\alpha |00\\rangle +  \\beta |11\\rangle$$ or $$\\alpha |01\\rangle + \\beta |10\\rangle$$\n",
    "\n",
    "If the qubits end up in the second state (given by the value of the measurement), applying the $X$ gate on the second qubit produces the desired result."
   ]
  },
  {
   "cell_type": "code",
   "execution_count": null,
   "metadata": {},
   "outputs": [],
   "source": [
    "%kata T06_ControlledX_Test\n",
    "open Microsoft.Quantum.Measurement;\n",
    "\n",
    "operation ControlledX (qs : Qubit[]) : Unit {\n",
    "    // ...\n",
    "    H(qs[1]);\n",
    "    let m = Measure([PauliZ, PauliZ], qs);\n",
    "    \n",
    "    if (m == One) {\n",
    "        X(qs[1]);\n",
    "    }\n",
    "}"
   ]
  },
  {
   "cell_type": "markdown",
   "metadata": {},
   "source": [
    "### Task 7**. Controlled X gate with arbitrary target\n",
    "\n",
    "**Input:** Two qubits (stored in an array of length 2) in an arbitrary two-qubit state $\\alpha |00\\rangle + \\beta |01\\rangle + \\color{blue}\\gamma |10\\rangle  + \\color{blue}\\delta |11\\rangle$.\n",
    "\n",
    "**Goal:** Change the two-qubit state to $\\alpha |00\\rangle + \\beta |01\\rangle + \\color{red}\\delta |10\\rangle  + \\color{red}\\gamma |11\\rangle$ using only single-qubit gates and joint measurements.  Do not use two-qubit gates.\n",
    "\n",
    "> A general-case implementation of CNOT gate via joint measurements is described in [this paper](https://arxiv.org/pdf/1201.5734.pdf).\n",
    "\n",
    "<details>\n",
    "  <summary>Need a hint? Click here</summary>\n",
    "  You can use an extra qubit to perform this operation.\n",
    "</details>"
   ]
  },
  {
   "cell_type": "markdown",
   "metadata": {},
   "source": [
    "### Solution\n",
    "The implementation of the circuit in page 3 as presented in the paper mentioned above is fairly straightforward. The table in page 4 describes the actions to perform on the control and target qubit depending on the measurements $P_{1}$, $P_{2}$ and $M$. $P_{1}$ and $P_{2}$ are joint measurements in `PauliZ` and $M$ is a single qubit `PauliZ` measurement.\n",
    "\n",
    "For this task, it is necessary to allocate an ancillary qubit denoted by `anc`.\n",
    "\n",
    "Initially, the input qubits are in superposition and the ancillary qubit is unentangled with the input qubits. Applying a Hadamard gate on the ancillary qubit gives,\n",
    "$$\\alpha |00\\rangle + \\beta |01\\rangle + \\gamma |10\\rangle  + \\delta |11\\rangle \\otimes \\frac{(|0\\rangle + |1\\rangle)}{\\sqrt2} \\\\ $$\n",
    "Note that even at this point, the ancillary and input qubits are **unentangled**.\n",
    "\n",
    "Now the measurement $P_{1}$ is made. This causes the ancillary bit to become **entangled** with the input qubits.\n",
    "\n",
    "$$\\frac{\\alpha |\\color{red}00\\color{red}0\\rangle + \\alpha |\\color{blue}00\\color{blue}1\\rangle + \\beta |\\color{red}01\\color{red}0\\rangle + \\beta |\\color{blue}01\\color{blue}1\\rangle + \\gamma |\\color{blue}10\\color{blue}0\\rangle  + \\gamma |\\color{red}10\\color{red}1\\rangle + \\delta |\\color{blue}11\\color{blue}0\\rangle + \\delta |\\color{red}11\\color{red}1\\rangle}{\\sqrt2}$$\n",
    "\n",
    "After a joint measurement $P_{1}$ in `PauliZ` between **qubit 1** and the **ancillary qubit**, the above state is projected to one of the +1 and -1 eigen states.\n",
    "\n",
    "In the + 1 eigen state measured as `Zero`, the superposition is $\\alpha |\\color{red}00\\color{red}0\\rangle + \\beta |\\color{red}01\\color{red}0\\rangle + \\gamma |\\color{red}10\\color{red}1\\rangle + \\delta |\\color{red}11\\color{red}1\\rangle$\n",
    "\n",
    "In the - 1 eigen state measured as `One`, the superposition is $\\alpha |\\color{blue}00\\color{blue}1\\rangle + \\beta |\\color{blue}01\\color{blue}1\\rangle + \\gamma |\\color{blue}10\\color{blue}0\\rangle  + \\delta |\\color{blue}11\\color{blue}0\\rangle$\n",
    "\n",
    "Let us assume $P_{1}$ was measured as `Zero`.\n",
    "\n",
    "**Note:** The measurement in the paper follows a different convention. `Zero` would be `1` and `One` would be `0` in the paper.\n",
    "\n",
    "Now apply the Hadamard gate on the **second qubit** and the **ancillary qubit**. This yields the state,\n",
    "\n",
    "$$\\frac{\\alpha |0\\color{red}0\\color{red}0\\rangle + \\alpha |0\\color{blue}0\\color{blue}1\\rangle + \\alpha |0\\color{blue}1\\color{blue}0\\rangle + \\alpha |0\\color{red}1\\color{red}1\\rangle}{2} + \\\\\n",
    "\\frac{\\beta |0\\color{red}0\\color{red}0\\rangle + \\beta |0\\color{blue}0\\color{blue}1\\rangle - \\beta |0\\color{blue}1\\color{blue}0\\rangle - \\beta |0\\color{red}1\\color{red}1\\rangle}{2} + \\\\\n",
    "\\frac{\\gamma |1\\color{red}0\\color{red}0\\rangle - \\gamma |1\\color{blue}0\\color{blue}1\\rangle + \\gamma |1\\color{blue}1\\color{blue}0\\rangle - \\gamma |1\\color{red}1\\color{red}1\\rangle}{2} + \\\\\n",
    "\\frac{\\delta |1\\color{red}0\\color{red}0\\rangle - \\delta |1\\color{blue}0\\color{blue}1\\rangle - \\delta |1\\color{blue}1\\color{blue}0\\rangle + \\delta |1\\color{red}1\\color{red}1\\rangle}{2}$$\n",
    "\n",
    "Now a joint mesurement $P_{2}$ in `PauliZ` is applied between **qubit 2** and the **ancillary qubit**\n",
    "\n",
    "In the + 1 eigen state measured as `Zero`, the superposition is $[(\\alpha + \\beta) |0\\color{red}0\\color{red}0\\rangle + (\\alpha + \\beta) |0\\color{red}1\\color{red}1\\rangle] + [(\\delta + \\gamma) |1\\color{red}0\\color{red}0\\rangle + (\\delta - \\gamma) |1\\color{red}1\\color{red}1\\rangle]$\n",
    "\n",
    "In the - 1 eigen state measured as `One`, the superposition is $[(\\alpha + \\beta) |0\\color{blue}0\\color{blue}1\\rangle + (\\alpha + \\beta) |0\\color{blue}1\\color{blue}0\\rangle] - [(\\delta + \\gamma) |1\\color{blue}0\\color{blue}1\\rangle + (\\delta - \\gamma) |1\\color{blue}1\\color{blue}0\\rangle]$\n",
    "\n",
    "\n",
    "Let us assume $P_{2}$ was measured as `Zero`. After applying the Hadamard gate to **qubit 2** and the **ancillary qubit**, we get\n",
    "\n",
    "$$(\\alpha + \\beta) \\frac{|000\\rangle + |001\\rangle + |010\\rangle + |011\\rangle}{2} + \\\\\n",
    "(\\alpha - \\beta) \\frac{|000\\rangle - |001\\rangle - |010\\rangle + |011\\rangle}{2} + \\\\\n",
    "(\\delta + \\gamma)\\frac{|100\\rangle + |101\\rangle + |110\\rangle + |111\\rangle}{2} + \\\\\n",
    "(\\delta - \\gamma)\\frac{|100\\rangle - |101\\rangle - |110\\rangle + |111\\rangle}{2}$$\n",
    "\n",
    "After simplifying, it becomes\n",
    "\n",
    "$$[\\alpha|00\\color{red}0\\rangle + \\beta|01\\color{red}0\\rangle + \\delta|10\\color{red}0\\rangle + \\gamma|11\\color{red}0\\rangle] + [\\alpha|01\\color{blue}1\\rangle + \\beta|00\\color{blue}1\\rangle + \\delta|11\\color{blue}1\\rangle + \\gamma|10\\color{blue}1\\rangle]$$\n",
    "\n",
    "Finally, after measuring the **ancillary qubit** as $M$,\n",
    "\n",
    "If the measurement is `Zero`, we get $\\alpha|00\\color{red}0\\rangle + \\beta|01\\color{red}0\\rangle + \\delta|10\\color{red}0\\rangle + \\gamma|11\\color{red}0\\rangle$\n",
    "\n",
    "Hence if the three measured states are (`Zero`, `Zero`, `Zero`), we don't need to do anything further as the output is already in the desired state. Note that this would correspond to the first row (1, 1, 1) in the table in the paper.\n",
    "\n",
    "If the measurement is `One`, we get $\\alpha|01\\color{blue}1\\rangle + \\beta|00\\color{blue}1\\rangle + \\delta|11\\color{blue}1\\rangle + \\gamma|10\\color{blue}1\\rangle$\n",
    "\n",
    "Hence if the three measured states are (`Zero`, `Zero`, `One`), we don't need to do anything to the **first qubit** and apply the `X` gate to the **second** qubit to obtain the desired state. Note that this would correspond to the second row (1, 1, 0) in the table in the paper.\n",
    "\n",
    "The rest of the table can be filled by a similar procedure. Note that we need apply `Z` to the **first qubit** if $P_{2}$ is `One` and `X` to the **second qubit** if $P_{1}$ is not equal to $M$."
   ]
  },
  {
   "cell_type": "code",
   "execution_count": null,
   "metadata": {},
   "outputs": [],
   "source": [
    "%kata T07_ControlledX_General_Test\n",
    "open Microsoft.Quantum.Measurement;\n",
    "\n",
    "operation ControlledX_General (qs : Qubit[]) : Unit {\n",
    "    // ...\n",
    "    using (anc = Qubit()) {\n",
    "        H(anc);\n",
    "        \n",
    "        let c = qs[0];\n",
    "        let t = qs[1];\n",
    "        \n",
    "        let p1 = MeasureAllZ([c, anc]);\n",
    "        \n",
    "        H(anc);\n",
    "        H(t);\n",
    "        \n",
    "        let p2 = MeasureAllZ([anc, t]);\n",
    "        \n",
    "        H(anc);\n",
    "        H(t);\n",
    "        \n",
    "        let m = MResetZ(anc);\n",
    "        \n",
    "        if (p2 == One) {\n",
    "            Z(c);\n",
    "        }\n",
    "        \n",
    "        if (p1 != m) {\n",
    "            X(t);\n",
    "        }\n",
    "    }\n",
    "}"
   ]
  }
 ],
 "metadata": {
  "kernelspec": {
   "display_name": "Q#",
   "language": "qsharp",
   "name": "iqsharp"
  },
  "language_info": {
   "file_extension": ".qs",
   "mimetype": "text/x-qsharp",
   "name": "qsharp",
   "version": "0.10"
  }
 },
 "nbformat": 4,
 "nbformat_minor": 2
}
A