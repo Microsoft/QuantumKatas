{
 "cells": [
  {
   "cell_type": "markdown",
   "metadata": {},
   "source": [
    "# Superposition Kata Workbook\n",
    "\n",
    "**What is this workbook?**\n",
    "A workbook is a collection of problems, accompanied by solutions to them. \n",
    "The explanations focus on the logical steps required to solve a problem; they illustrate the concepts that need to be applied to come up with a solution to the problem, explaining the mathematical steps required. \n",
    "\n",
    "Note that a workbook should not be the primary source of knowledge on the subject matter; it assumes that you've already read a tutorial or a textbook and that you are now seeking to improve your problem-solving skills. You should attempt solving the tasks of the respective kata first, and turn to the workbook only if stuck. While a textbook emphasizes knowledge acquisition, a workbook emphasizes skill acquisition.\n",
    "\n",
    "This workbook describes the solutions to the problems offered in the [Superposition kata](./Superposition.ipynb). \n",
    "Since the tasks are offered as programming problems, the explanations also cover some elements of Q# that might be non-obvious for a first-time user.\n",
    "\n",
    "**What you should know for this workbook**\n",
    "\n",
    "You should be familiar with the following concepts before tackling the Superposition kata (and this workbook):\n",
    "1. Basic linear algebra\n",
    "2. The concept of qubit and multi-qubit systems\n",
    "3. Single-qubit and multi-qubit quantum gates"
   ]
  },
  {
   "cell_type": "markdown",
   "metadata": {},
   "source": [
    "To begin, first prepare this notebook for execution (if you skip this step, you'll get \"Syntax does not match any known patterns\" error when you try to execute Q# code in the next cells):"
   ]
  },
  {
   "cell_type": "code",
   "execution_count": null,
   "metadata": {},
   "outputs": [],
   "source": [
    "%package Microsoft.Quantum.Katas::0.9.1909.3002"
   ]
  },
  {
   "cell_type": "markdown",
   "metadata": {},
   "source": [
    "> The package versions in the output of the cell above should always match. If you are running the Notebooks locally and the versions do not match, please install the IQ# version that matches the version of the `Microsoft.Quantum.Katas` package.\n",
    "> <details>\n",
    "> <summary><u>How to install the right IQ# version</u></summary>\n",
    "> For example, if the version of `Microsoft.Quantum.Katas` package above is 0.1.2.3, the installation steps are as follows:\n",
    ">\n",
    "> 1. Stop the kernel.\n",
    "> 2. Uninstall the existing version of IQ#:\n",
    ">        dotnet tool uninstall microsoft.quantum.iqsharp -g\n",
    "> 3. Install the matching version:\n",
    ">        dotnet tool install microsoft.quantum.iqsharp -g --version 0.1.2.3\n",
    "> 4. Reinstall the kernel:\n",
    ">        dotnet iqsharp install\n",
    "> 5. Restart the Notebook.\n",
    "> </details>\n"
   ]
  },
  {
   "cell_type": "markdown",
   "metadata": {},
   "source": [
    "## <a name=\"plus-state\"></a> Task 1. Plus state.\n",
    "\n",
    "**Input:** A qubit in the $|0\\rangle$ state.\n",
    "\n",
    "**Goal:**  Change the state of the qubit to $|+\\rangle = \\frac{1}{\\sqrt{2}} \\big(|0\\rangle + |1\\rangle\\big)$."
   ]
  },
  {
   "cell_type": "markdown",
   "metadata": {},
   "source": [
    "### Solution\n",
    "\n",
    "Look up any list of quantum gates, for example, [Quantum logic gate @ Wikipedia](https://en.wikipedia.org/wiki/Quantum_gate). Typically one of the first gates described will be the [Hadamard gate](https://en.wikipedia.org/wiki/Quantum_logic_gate#Hadamard_(H)_gate): \n",
    "\n",
    "$$H = \\frac{1}{\\sqrt2} \\begin{bmatrix} 1 & 1 \\\\ 1 & -1 \\end{bmatrix}$$\n",
    "\n",
    "This gate converts $|0\\rangle$ into $|+\\rangle = \\frac{1}{\\sqrt{2}} \\big(|0\\rangle + |1\\rangle\\big)$ and $|1\\rangle$ into $|−\\rangle = \\frac{1}{\\sqrt{2}} \\big(|0\\rangle - |1\\rangle\\big)$.  The first of these transformations is exactly the one we're looking for!\n",
    "\n",
    "To implement this operation in Q#, look at the list of [intrinsic gates](https://docs.microsoft.com/qsharp/api/qsharp/microsoft.quantum.intrinsic) available in Q#. \n",
    "[Hadamard gate](https://docs.microsoft.com/en-us/qsharp/api/qsharp/microsoft.quantum.intrinsic.h) is one of them. \n",
    "`Microsoft.Quantum.Intrinsic` namespace is open in Notebooks by default, so you can use the gates in the code right away. "
   ]
  },
  {
   "cell_type": "code",
   "execution_count": null,
   "metadata": {},
   "outputs": [],
   "source": [
    "%kata T01_PlusState_Test \n",
    "\n",
    "operation PlusState (q : Qubit) : Unit {\n",
    "    H(q);\n",
    "}"
   ]
  },
  {
   "cell_type": "markdown",
   "metadata": {},
   "source": [
    "[Return to task 1 of the Superposition kata.](./Superposition.ipynb#plus-state)"
   ]
  },
  {
   "cell_type": "markdown",
   "metadata": {},
   "source": [
    "## <a name=\"minus-state\"></a> Task 2. Minus State.\n",
    "\n",
    "**Input:** A qubit in the $|0\\rangle$ state.\n",
    "\n",
    "**Goal:**  Change the state of the qubit to $|-\\rangle = \\frac{1}{\\sqrt{2}} \\big(|0\\rangle - |1\\rangle\\big)$."
   ]
  },
  {
   "cell_type": "markdown",
   "metadata": {},
   "source": [
    "### Solution\n",
    "\n",
    "As we've seen in the previous task, the Hadamard gate maps the basis state $|0\\rangle$ to $\\frac{1}{\\sqrt2}\\big(|0\\rangle + |1\\rangle\\big)$ and $|1\\rangle$ to $\\frac{1}{\\sqrt2}\\big(|0\\rangle - |1\\rangle\\big)$. \n",
    "If our qubit was already in the $|1\\rangle$ state, we would simply apply the Hadamard gate to prepare the required $|-\\rangle$ state. \n",
    "However, there is another operation we can use to change the state $|0\\rangle$ to $|1\\rangle$, namely the [X gate](https://en.wikipedia.org/wiki/Quantum_logic_gate#Pauli-X_gate):\n",
    "\n",
    "$$X = \\begin{bmatrix} 0 & 1 \\\\ 1 & 0 \\end{bmatrix}$$\n",
    "\n",
    "This gate transforms $|0\\rangle \\longmapsto |1\\rangle$ and $|1\\rangle \\longmapsto |0\\rangle$. \n",
    "\n",
    "Here is the sequence of the steps to arrive to the solution:\n",
    "\n",
    "<table style=\"background-color: white; border:1px solid; tr  { background-color:transparent; }\">\n",
    "    <col width=400>\n",
    "    <col width=300>\n",
    "    <col width=300>\n",
    "    <tr>\n",
    "        <th style=\"text-align:center; border:1px solid\">Description of operation</th>\n",
    "        <th style=\"text-align:center; border:1px solid\">Notation</th>\n",
    "        <th style=\"text-align:center; border:1px solid\">Circuit</th>\n",
    "    </tr>\n",
    "    <tr>\n",
    "        <td style=\"text-align:left; border:1px solid\">Apply the X gate to $|0\\rangle$ to get $|1\\rangle$</td>\n",
    "        <td style=\"text-align:center; border:1px solid\">$X|0\\rangle = |1\\rangle$</td>\n",
    "        <td style=\"text-align:center; border:1px solid\"><img src=\"./img/testcircuit.png\"/></td>    \n",
    "      </tr>\n",
    "    <tr>\n",
    "        <td style=\"text-align:left; border:1px solid\">Apply the Hadamard gate to $|1\\rangle$ to get $\\frac{1}{\\sqrt2}\\big(|0\\rangle - |1\\rangle\\big)$</td>\n",
    "        <td style=\"text-align:center; border:1px solid\">$H|1\\rangle = \\frac{1}{\\sqrt2}\\big(|0\\rangle - |1\\rangle\\big)$</td>\n",
    "        <td style=\"text-align:center; border:1px solid\"><img src=\"./img/singlehadamard.png\"/></td>       \n",
    "    </tr>   \n",
    "</table>\n",
    "\n",
    "In Q#, each gate is applied to the qubit sequentially, transforming its internal state. [X gate](https://docs.microsoft.com/en-us/qsharp/api/qsharp/microsoft.quantum.intrinsic.x) is another gate in the `Microsoft.Quantum.Intrinsic` namespace."
   ]
  },
  {
   "cell_type": "code",
   "execution_count": null,
   "metadata": {},
   "outputs": [],
   "source": [
    "%kata T02_MinusState_Test \n",
    "\n",
    "operation MinusState (q : Qubit) : Unit {\n",
    "    X(q);\n",
    "    H(q);\n",
    "}"
   ]
  },
  {
   "cell_type": "markdown",
   "metadata": {},
   "source": [
    "[Return to task 2 of the Superposition kata.](./Superposition.ipynb#minus-state)"
   ]
  },
  {
   "cell_type": "markdown",
   "metadata": {},
   "source": [
    "## <a name=\"unequal-superposition\"></a>  Task 3. Unequal superposition.\n",
    "\n",
    "**Input:** \n",
    "\n",
    "1. A qubit in the $|0\\rangle$ state.\n",
    "2. Angle $\\alpha$, in radians, represented as `Double`.\n",
    "\n",
    "**Goal:**  Change the state of the qubit to $\\cos\\alpha|0\\rangle$ + $\\sin\\alpha|1\\rangle$."
   ]
  },
  {
   "cell_type": "markdown",
   "metadata": {},
   "source": [
    "### Solution\n",
    "<table style=\"background-color: white; border:0 solid; tr  { background-color:white; }\">\n",
    "    <col width=130>\n",
    "    <col width=300>\n",
    "    <col width=130>\n",
    "    <col width=230>\n",
    "        <td style=\"text-align:center; font-bold; font-size: 14px; background-color:white; border:0\">We want to move from the starting state</td>\n",
    "        <td style=\"text-align:center; background-color:white; border:0\"><img src=\"./img/Task3UnitcircleStart.png\"/></td>\n",
    "        <td style=\"text-align:center; font-bold; font-size: 14px; background-color:white; border:0\">To the desired final state</td>\n",
    "        <td style=\"text-align:center; background-color:white; border:0\"><img src=\"./img/Task3UnitcircleFinal.png\"/></td>       \n",
    "       </tr>\n",
    " </table>\n",
    "In other words, we are looking for some kind of a rotation operation. There are three special gates that implement rotations around various axis of the Bloch Sphere: \n",
    "\n",
    "<table style=\"background-color: white; border:0 solid; tr  { background-color:white; }\">\n",
    "    <col width=300>\n",
    "    <col width=300>\n",
    "    <col width=250>\n",
    "    <tr>\n",
    "        <td style=\"text-align:left; font-size: 14px; background-color:white; border:0\">$R_x(\\theta) = \\begin{bmatrix} \\cos\\frac{\\theta}{2} & -i\\sin\\frac{\\theta}{2} \\\\ -i\\sin\\frac{\\theta}{2} & \\cos\\frac{\\theta}{2} \\end{bmatrix}$</td>\n",
    "        <td style=\"text-align:left; font-size: 14px; background-color:white; border:0\">$R_y(\\theta) = \\begin{bmatrix} \\cos\\frac{\\theta}{2} & -\\sin\\frac{\\theta}{2} \\\\ \\sin\\frac{\\theta}{2} & \\cos\\frac{\\theta}{2} \\end{bmatrix}$</td>\n",
    "        <td style=\"text-align:left; font-size: 14px; background-color:white; border:0\">$R_z(\\theta) = \\begin{bmatrix} e^{-i\\theta/2} & 0 \\\\ 0 & e^{i\\theta/2} \\end{bmatrix}$</td>\n",
    "      </tr>    \n",
    "</table>\n",
    "\n",
    "If we were to apply the $R_x$ gate to a qubit in the $|0\\rangle$ state, we would introduce complex coefficients to the amplitudes, which is clearly not what we're looking for. Similarly, the $R_z$ gate introduces only a global phase when applied to $|0\\rangle$ state, so we can rule it out as well. This leaves only the $R_y$ as a starting point for the solution.\n",
    "\n",
    "Applying the $R_y$ gate to the $|0\\rangle$ state, we get:\n",
    "$$R_y(\\theta) |0\\rangle = \\begin{bmatrix} \\cos\\frac{\\theta}{2} & -\\sin\\frac{\\theta}{2} \\\\ \\sin\\frac{\\theta}{2} & \\cos\\frac{\\theta}{2} \\end{bmatrix} \\begin{bmatrix} 1 \\\\ 0 \\end{bmatrix} = \\begin{bmatrix} \\cos\\frac{\\theta}{2} \\\\ \\sin\\frac{\\theta}{2} \\end{bmatrix} = \\cos\\frac{\\theta}{2}|0\\rangle + \\sin\\frac{\\theta}{2}|1\\rangle$$\n",
    "\n",
    "Therefore, applying the $R_y(2\\alpha$) gate to $|0\\rangle$ is the solution to our problem. "
   ]
  },
  {
   "cell_type": "markdown",
   "metadata": {},
   "source": [
    "> <table style=\"background-color: white; font-size: 14px; border:0 solid; tr  { background-color:white; }\">\n",
    "    <col width=600>\n",
    "    <col width=300>\n",
    "    <tr>\n",
    "        <td style=\"text-align:left; background-color:white; border:0\">\n",
    "Let us have a look at the Bloch sphere to obtain a geometrical interpretation of the operation.\n",
    "<br/><br/>\n",
    "The X-Z plane has no complex numbers, i.e. for qubit states that fall on it the amplitudes for both $|0\\rangle$ and $|1\\rangle$ basis states will always be real. We can see that the $R_y$ gate, which rotates the qubit state around the Y axis, keeps it within the X-Z plane. \n",
    "<br/><br/> \n",
    "Looking at the other two gates, $R_x$ gate rotates the qubit state around the X axis and thus takes the qubit state out of the X-Z plane, introducing complex coefficients. $R_z$ gate rotates the qubit state around the Z axis, so it doesn't modify the $|0\\rangle$ state which lies on the Z axis.\n",
    "<br/><br/> \n",
    "In case you are surprised to see the $|0\\rangle$ and $|1\\rangle$ vectors 180 degrees apart from each other, the Bloch sphere represents orthogonal vectors as opposite points on the sphere.  \n",
    "You can learn more about the bloch sphere from <a href=\"http://www.vcpc.univie.ac.at/~ian/hotlist/qc/talks/bloch-sphere.pdf\">this presentation</a></td>\n",
    "        <td style=\"text-align:center; font-size: 14px; background-color:white; border:0\"><img src=\"./img/blochsphere.png\"/></td> \n",
    "      </tr>    \n",
    "</table>"
   ]
  },
  {
   "cell_type": "markdown",
   "metadata": {},
   "source": [
    "In Q#, $R_y$ gate is represented as [Ry](https://docs.microsoft.com/en-us/qsharp/api/qsharp/microsoft.quantum.intrinsic.ry) operation. Note that you have to apply $R_y(2\\alpha)$, not $R_y(\\alpha)$; Q# does not have implicit type casing from `Int` to `Double`, so you have to calculate the angle parameter of the operation as `2.0 * alpha`, using a double constant 2.0 instead of an integer 2."
   ]
  },
  {
   "cell_type": "code",
   "execution_count": null,
   "metadata": {},
   "outputs": [],
   "source": [
    "%kata T03_UnequalSuperposition_Test \n",
    "\n",
    "operation UnequalSuperposition (q : Qubit, alpha : Double) : Unit {\n",
    "    Ry(2.0 * alpha, q);\n",
    "}"
   ]
  },
  {
   "cell_type": "markdown",
   "metadata": {},
   "source": [
    "[Return to task 3 of the Superposition kata.](./Superposition.ipynb#unequal-superposition)"
   ]
  },
  {
   "cell_type": "markdown",
   "metadata": {},
   "source": [
    "*Solutions to the rest of the tasks coming up soon...*"
   ]
  }
 ],
 "metadata": {
  "kernelspec": {
   "display_name": "Q#",
   "language": "qsharp",
   "name": "iqsharp"
  },
  "language_info": {
   "file_extension": ".qs",
   "mimetype": "text/x-qsharp",
   "name": "qsharp",
   "version": "0.4"
  }
 },
 "nbformat": 4,
 "nbformat_minor": 2
}
