{
 "cells": [
  {
   "cell_type": "markdown",
   "metadata": {},
   "source": [
    "# Superposition Kata Workbook, Part 2\n",
    "\n",
    "The [Superposition Kata Workbook, Part 1](./Workbook_Superposition.ipynb) includes the solutions of kata tasks 1 - 7.  Part 2 continues the explanations for the rest of the tasks."
   ]
  },
  {
   "cell_type": "markdown",
   "metadata": {},
   "source": [
    "To begin, first prepare this notebook for execution (if you skip this step, you'll get \"Syntax does not match any known patterns\" error when you try to execute Q# code in the next cells):"
   ]
  },
  {
   "cell_type": "code",
   "execution_count": null,
   "metadata": {
    "scrolled": true
   },
   "outputs": [],
   "source": [
    "%package Microsoft.Quantum.Katas::0.11.2003.3107"
   ]
  },
  {
   "cell_type": "markdown",
   "metadata": {},
   "source": [
    "> The package versions in the output of the cell above should always match. If you are running the Notebooks locally and the versions do not match, please install the IQ# version that matches the version of the `Microsoft.Quantum.Katas` package.\n",
    "> <details>\n",
    "> <summary><u>How to install the right IQ# version</u></summary>\n",
    "> For example, if the version of `Microsoft.Quantum.Katas` package above is 0.1.2.3, the installation steps are as follows:\n",
    ">\n",
    "> 1. Stop the kernel.\n",
    "> 2. Uninstall the existing version of IQ#:\n",
    ">        dotnet tool uninstall microsoft.quantum.iqsharp -g\n",
    "> 3. Install the matching version:\n",
    ">        dotnet tool install microsoft.quantum.iqsharp -g --version 0.1.2.3\n",
    "> 4. Reinstall the kernel:\n",
    ">        dotnet iqsharp install\n",
    "> 5. Restart the Notebook.\n",
    "> </details>\n"
   ]
  },
  {
   "cell_type": "markdown",
   "metadata": {},
   "source": [
    "## <a name=\"greenberger-horne-zeilinger\"></a> Task 8. Greenberger-Horne-Zellinger state.\n",
    "\n",
    "**Input:** $N$ ($N \\ge 1$) qubits in the $|0 \\dots 0\\rangle$ state (stored in an array of length $N$).\n",
    "\n",
    "**Goal:**  Change the state of the qubits to the GHZ state $\\frac{1}{\\sqrt{2}} \\big (|0\\dots0\\rangle + |1\\dots1\\rangle\\big)$."
   ]
  },
  {
   "cell_type": "markdown",
   "metadata": {},
   "source": [
    "### Solution\n",
    "\n",
    "The single-qubit GHZ state is the plus state $\\frac{1}{\\sqrt{2}} \\big (|0\\rangle + |1\\rangle\\big)$ that we've discussed in [task 1](./Workbook_Superposition.ipynb#plus-state). As a reminder, that state is prepared by applying a Hadamard gate.\n",
    "\n",
    "The 2-qubit GHZ state is the Bell state $\\frac{1}{\\sqrt{2}} \\big (|00\\rangle + |11\\rangle\\big)$ that we've discussed in [task 6](./Workbook_Superposition.ipynb#bell-state). That state can been prepared using the following circuit:\n",
    "\n",
    "<img src=\"./img/Task6HadamardCNOTCircuit.png\"/>\n",
    "\n",
    "The next one is the 3-qubit GHZ state:\n",
    "$$|GHZ\\rangle = \\frac{1}{\\sqrt{2}} \\big (|000\\rangle + |111\\rangle\\big)$$\n",
    "\n",
    "Let's use the 2-qubit circuit as a building block to construct the circuit for 3 qubits. First, let's add a third qubit to the above circuit:\n",
    "\n",
    "<img src=\"./img/Task8Hadamardand3rdqubitircuit.png\"/>\n",
    "\n",
    "Comparing the state prepared by this circuit with the desired end state, we see that they differ only in the third (rightmost) qubit:\n",
    "\n",
    "$$|\\Phi^+\\rangle |0\\rangle = \\frac{1}{\\sqrt{2}} \\big (|000\\rangle + |11\\color{red}0\\rangle\\big)$$\n",
    "$$|GHZ\\rangle = \\frac{1}{\\sqrt{2}} \\big (|000\\rangle + |11\\color{red}1\\rangle\\big)$$\n",
    "\n",
    "\n",
    "Applying a controlled NOT operation using the first (leftmost) qubit as the control bit and the third (rightmost) qubit as the target qubit allows us to fix this difference: \n",
    "\n",
    "<table style=\"background-color: white; border:0 solid; tr  { background-color:white; }\">\n",
    "    <col width=30%>\n",
    "    <col width=70%>\n",
    "        <td style=\"text-align:center; background-color:white; border:0\"><img src=\"./img/Task8HadamardAndCNOTCircuit.png\"/></td>\n",
    "        <td style=\"text-align:left; background-color:white; border:0\"><img src=\"./img/Task8CNOTFlip.png\"/></td>       \n",
    "</table>\n",
    "\n",
    "Similarly, the following circuit will prepare the GHZ state on four qubits $\\frac{1}{\\sqrt2} (|0000\\rangle + |1111\\rangle$:\n",
    "<img src=\"./img/Task84QubitCircuit.png\"/>\n",
    "\n",
    "Thus we can come to the general solution: apply Hadamard gate to the first qubit and do a series of CNOT gates with the first qubit as control and each of the other qubits as targets."
   ]
  },
  {
   "cell_type": "code",
   "execution_count": null,
   "metadata": {},
   "outputs": [],
   "source": [
    "%kata T08_GHZ_State_Test\n",
    "\n",
    "open Microsoft.Quantum.Arrays;\n",
    "\n",
    "operation GHZ_State (qs : Qubit[]) : Unit {\n",
    "    H(qs[0]);\n",
    "    \n",
    "    // Library function Rest returns all array elements except for the first one\n",
    "    for (q in Rest(qs)) {\n",
    "        CNOT(qs[0], q);\n",
    "    }\n",
    "}"
   ]
  },
  {
   "cell_type": "markdown",
   "metadata": {},
   "source": [
    "[Return to task 8 of the Superposition kata.](./Superposition.ipynb#greenberger-horne-zeilinger)"
   ]
  },
  {
   "cell_type": "markdown",
   "metadata": {},
   "source": [
    "## <a name=\"superposition-of-all-basis-vectors\"></a>  Task 9. Superposition of all basis vectors.\n",
    "\n",
    "**Input:** $N$ ($N \\ge 1$) qubits in the $|0 \\dots 0\\rangle$ state.\n",
    "\n",
    "**Goal:**  Change the state of the qubits to an equal superposition of all basis vectors $\\frac{1}{\\sqrt{2^N}} \\big (|0 \\dots 0\\rangle + \\dots + |1 \\dots 1\\rangle\\big)$. \n",
    "\n",
    "> For example, for $N = 2$ the final state should be  $\\frac{1}{\\sqrt{2}} \\big (|00\\rangle + |01\\rangle + |10\\rangle + |11\\rangle\\big)$."
   ]
  },
  {
   "cell_type": "markdown",
   "metadata": {},
   "source": [
    "### Solution\n",
    "\n",
    "As we've seen in [task 4](./Workbook_Superposition.ipynb#superposition-of-all-basis-vectors-on-two-qubits), to prepare a superposition of all basis vectors on 2 qubits we need to apply a Hadamard gate to each of the qubits.\n",
    "\n",
    "It seems that the solution for the general case might be to apply a Hadamard gate to every qubit as well. Let's check the first few examples:\n",
    "\n",
    "\\begin{align*}\n",
    "   H|0\\rangle &= \\frac{1}{\\sqrt2}\\big(|0\\rangle + |1\\rangle\\big)\\\\\n",
    "   H|0\\rangle \\otimes H|0\\rangle &= \\frac{1}{\\sqrt2} \\big(|0\\rangle + |1\\rangle\\big) \\otimes \\frac{1}{\\sqrt2} \\big(|0\\rangle + |1\\rangle\\big)\\\\   \n",
    "               &= \\frac{1}{\\sqrt{2^2}}\\big(|00\\rangle + |01\\rangle+ |10\\rangle+ |11\\rangle\\big)\\\\\n",
    "   H|0\\rangle \\otimes H|0\\rangle \\otimes H|0\\rangle &= \\frac{1}{\\sqrt{2^2}}\\big(|00\\rangle + |01\\rangle+ |10\\rangle+ |11\\rangle\\big) \\otimes \\frac{1}{\\sqrt2}\\big(|0\\rangle + |1\\rangle\\big)\\\\\n",
    "               &= \\frac{1}{\\sqrt{2^3}}\\big(|000\\rangle + |001\\rangle + |010\\rangle+ |100\\rangle+ |110\\rangle + |101\\rangle+ |011\\rangle+ |111\\rangle\\big)\\\\\n",
    "    \\underset{N}{\\underbrace{H|0\\rangle \\otimes \\dots \\otimes H|0\\rangle}} \n",
    "               &= \\frac{1}{\\sqrt{2^{N-1}}}  \\big( |\\underset{N-1}{\\underbrace{0 \\cdots 0}}\\rangle + \\cdots + |\\underset{N-1}{\\underbrace{1 \\cdots 1}}\\rangle \\big) \\otimes \\frac{1}{\\sqrt2}\\big(|0\\rangle + |1\\rangle\\big) = \\\\\n",
    "               &= \\frac{1}{\\sqrt{2^N}} \\big( |\\underset{N}{\\underbrace{0 \\cdots 0}}\\rangle + \\cdots + |\\underset{N}{\\underbrace{1 \\cdots 1}}\\rangle \\big)\\\\    \n",
    "\\end{align*}\n",
    "\n",
    "Thus, the solution requires us to iterate over the qubit array and to apply the Hadamard gate to each element as follows:"
   ]
  },
  {
   "cell_type": "code",
   "execution_count": null,
   "metadata": {},
   "outputs": [],
   "source": [
    "%kata T09_AllBasisVectorsSuperposition_Test\n",
    "\n",
    "operation AllBasisVectorsSuperposition (qs : Qubit[]) : Unit {\n",
    "    for (q in qs) {\n",
    "        H(q);\n",
    "    }\n",
    "}"
   ]
  },
  {
   "cell_type": "markdown",
   "metadata": {},
   "source": [
    "[Return to task 9 of the Superposition kata.](./Superposition.ipynb#superposition-of-all-basis-vectors)"
   ]
  },
  {
   "cell_type": "markdown",
   "metadata": {},
   "source": [
    "## <a name=\"superposition-of-all-even-or-all-odd-numbers\"></a>Task 10. Superposition of all even or all odd numbers.\n",
    "\n",
    "**Inputs:** \n",
    "\n",
    "1. $N$ ($N \\ge 1$) qubits in the $|0 \\dots 0\\rangle$ state (stored in an array of length $N$).\n",
    "2. A boolean `isEven`.\n",
    "\n",
    "**Goal:**  Prepare a superposition of all *even* numbers if `isEven` is `true`, or of all *odd* numbers if `isEven` is `false`.  \n",
    "A basis state encodes an integer number using [big-endian](https://en.wikipedia.org/wiki/Endianness) binary notation: state $|01\\rangle$ corresponds to the integer $1$, and state $|10 \\rangle$ - to the integer $2$.  \n",
    "\n",
    "> For example, for $N = 2$ and `isEven = false` you need to prepare superposition $\\frac{1}{\\sqrt{2}} \\big (|01\\rangle + |11\\rangle\\big )$,  \n",
    "and for $N = 2$ and `isEven = true` - superposition $\\frac{1}{\\sqrt{2}} \\big (|00\\rangle + |10\\rangle\\big )$.\n",
    "</details>"
   ]
  },
  {
   "cell_type": "markdown",
   "metadata": {},
   "source": [
    "### Solution\n",
    "\n",
    "Let’s look at some examples of basis states to illustrate the binary numbering system. \n",
    "\n",
    "The 4 basis states on $N = 2$ qubits can be split in two columns, where the left column represents the basis states that form the required superposition state for `isEven = false` and the right column - the basis states that form the required superposition state for `isEven = true`:\n",
    "\n",
    "<img src=\"./img/Task10_1.png\" width=\"400\">\n",
    " \n",
    "If we do the same basis state split for $N = 3$ qubits, the pattern becomes more obvious:\n",
    " \n",
    "<img src=\"./img/Task10_2.png\" width=\"400\">"
   ]
  },
  {
   "cell_type": "markdown",
   "metadata": {},
   "source": [
    "The two leftmost qubits go through all possible basis states for `isEven = false` and for `isEven = true`, and the rightmost qubit stays in the $|1\\rangle$ state for `isEven = false` and in the $|0\\rangle$ state for `isEven = true`. \n",
    "\n",
    "A quick sanity check for $N = 4$ qubits re-confirms the pattern:\n",
    " \n",
    "<img src=\"./img/Task10_3.png\" width=\"400\">\n",
    " \n",
    "Again, the three leftmost qubits go through all possible basis states in both columns, and the rightmost qubit stays in the same state in each column. \n",
    "\n",
    "The solution is to put all qubits except the rightmost one into an equal superposition (similar to what we did in Task 9) and to set the rightmost qubit to $|0\\rangle$ or $|1\\rangle$ depending on the `isEven` flag, using the X operator to convert $|0\\rangle$ to $|1\\rangle$ if `isEven = false`."
   ]
  },
  {
   "cell_type": "code",
   "execution_count": null,
   "metadata": {},
   "outputs": [],
   "source": [
    "%kata T10_EvenOddNumbersSuperposition_Test\n",
    "\n",
    "operation EvenOddNumbersSuperposition (qs : Qubit[], isEven : Bool) : Unit is Adj {\n",
    "    let N = Length(qs);\n",
    "    for (i in 0 .. N-2) {\n",
    "        H(qs[i]);\n",
    "    }\n",
    "    // for odd numbers, flip the last bit to 1\n",
    "    if (not isEven) {\n",
    "        X(qs[N-1]);\n",
    "    }\n",
    "}"
   ]
  },
  {
   "cell_type": "markdown",
   "metadata": {},
   "source": [
    "[Return to task 10 of the Superposition kata.](./Superposition.ipynb#superposition-of-all-even-or-all-odd-numbers)"
   ]
  },
  {
   "cell_type": "markdown",
   "metadata": {},
   "source": [
    "## <a name=\"hardy-state\"></a>Task 12*. Hardy state.\n",
    "\n",
    "**Input:** Two qubits in the |00$\\rangle$ state <br>\n",
    "**Goal:** Change the state of the qubits to $\\frac{1}{\\sqrt12} \\big(3|00\\rangle + |01\\rangle + |10\\rangle + |11\\rangle \\big)$."
   ]
  },
  {
   "cell_type": "markdown",
   "metadata": {},
   "source": [
    "### Solution\n",
    "\n",
    "The formula for inducing a weighted superposition in a single qubit with a specific probability of measuring to |0$\\rangle$ is to start with a |0$\\rangle$ state and rotate in the Y axis by 2 * $\\arccos$ ($\\sqrt(target probability of measuring |0\\rangle$ )).\n",
    "We will use this formula for specifying the weighted superposition of the Hardy state. To do this we need to know the target probabilities found in the Hardy state, which we find by squaring the normalized coefficients of the positions of the superposition:\n",
    "\n",
    "|00$\\rangle$ => $\\frac{9}{12}$ <br>\n",
    "|01$\\rangle$ => $\\frac{1}{12}$ <br>\n",
    "|10$\\rangle$ => $\\frac{1}{12}$ <br>\n",
    "|11$\\rangle$ => $\\frac{1}{12}$ <br>\n",
    "\n",
    "We will prepare the Hardy state one qubit at a time. Starting with the first qubit in the register, we see that we need a probability of it measuring to |0$\\rangle$ to be $\\frac{10}{12}$ in total. So we will write Q# code as shown below to rotate the qubit about the Y axis accordingly:\n",
    "\n",
    "*Ry(2.0*ArcCos(Sqrt(10.0/12.0)), qs[0]);\n",
    "\n",
    "The next qubit also needs a probability of $\\frac{10}{12}$ for zero, but if we induce the probability the same way, we will end up with combined probabilities: \n",
    "\n",
    "|00$\\rangle$ => $\\frac{100}{144}$ <br>\n",
    "|01$\\rangle$ => $\\frac{20}{144}$ <br>\n",
    "|10$\\rangle$ => $\\frac{20}{144}$ <br>\n",
    "|11$\\rangle$ => $\\frac{4}{144}$ <br>\n",
    "\n",
    "This is not what we want. We need to correlate the probabilities of the second qubit with the outcomes of the first qubit. If the first qubit measures to |0$\\rangle$, then the second qubit has a $\\frac{9}{10}$ probability of measuring to |0$\\rangle$. This can be implemented in Q# code by doing a controlled on zero rotation about the Y axis, with the first qubit being the control as shown below:\n",
    "\n",
    "*(ControlledOnInt(0, Ry))([qs[0]], (2.0 * ArcCos(Sqrt(9.0/10.0)), qs[1]));\n",
    "\n",
    "If the first qubit measures to |1$\\rangle$, then the second qubit has a $\\frac{1}{2}$ probability of measuring to |0$\\rangle$. Since this is a $\\frac{1}{2}$ probability, it will be an even superposition, so a Hadamard operation can be used instead of a $\\frac{\\pi}{2}$ rotation about the Y axis, and we can use the standard Controlled keyword since we are controlling on |1$\\rangle$:\n",
    "\n",
    "Controlled H([qs[0]], qs[1]);\n",
    "\n",
    "Having done this, the quantum register will have the desired probabilities and will be in the Hardy state."
   ]
  },
  {
   "cell_type": "code",
   "execution_count": null,
   "metadata": {},
   "outputs": [],
   "source": [
    "%kata T12_Hardy_State_Test\n",
    "\n",
    "operation Hardy_State (qs : Qubit[]) : Unit {\n",
    "    Ry(2.0*ArcCos(Sqrt(10.0/12.0)), qs[0]);\n",
    "    (ControlledOnInt(0, Ry))([qs[0]], (2.0 * ArcCos(Sqrt(9.0/10.0)), qs[1]));\n",
    "    Controlled H([qs[0]], qs[1]);\n",
    "}"
   ]
  },
  {
   "cell_type": "markdown",
   "metadata": {},
   "source": [
    "[Return to task 12 of the Superposition kata.](./Superposition.ipynb#hardy-state)"
   ]
  },
  {
   "cell_type": "markdown",
   "metadata": {},
   "source": [
    "## <a name=\"superposition-of-the-given-bit-string\"></a> Task 13. Superposition of $|0 \\dots 0\\rangle$ and the given bit string.\n",
    "\n",
    "**Inputs:** \n",
    "\n",
    "1. $N$ ($N \\ge 1$) qubits in the $|0 \\dots 0\\rangle$ state.\n",
    "2. A bit string of length $N$ represented as `Bool[]`. Bit values `false` and `true` correspond to $|0\\rangle$ and $|1\\rangle$ states. You are guaranteed that the first bit of the bit string is `true`.\n",
    "\n",
    "**Goal:**  Change the state of the qubits to an equal superposition of $|0 \\dots 0\\rangle$ and the basis state given by the bit string.\n",
    "\n",
    "> For example, for the bit string `[true, false]` the state required is $\\frac{1}{\\sqrt{2}}\\big(|00\\rangle + |10\\rangle\\big)$."
   ]
  },
  {
   "cell_type": "markdown",
   "metadata": {},
   "source": [
    "### Solution\n",
    "\n",
    "A common strategy for implementing a superposition in a qubit register is to use an ancilla qubit, or an extra qubit. This ancilla can be put into a superposition through the usual means of a Hadamard gate (or some rotation about the Y axis for an uneven superposition). Then the positions of the desired superposition are created based on this ancilla’s state by using it as the control qubit in a CNOT. One of the positions will be based on the $|0\\rangle$ part of the ancilla’s state, and the other will be based on the $|1\\rangle$ position of the ancilla’s state. Finally, you would have to uncompute the ancilla by using the position based on its $|1\\rangle$ state as the control in a CNOT on the ancilla. More details on uncomputing ancillae can be found in the solution to [superposition kata task 1.16](#superposition-wstate-on2k-qubits).\n",
    "\n",
    "In this task, the desired superposition is between the position with all zeroes and a specified other position, which is guaranteed to have a $|1\\rangle$ in the first qubit. We can apply the previously mentioned strategy to use an ancilla qubit to produce the desired superposition. We will make a significant adjustment, however. Instead of allocating a new qubit to use as the ancilla, we can use the first qubit in the register as the ancilla, because we are guaranteed to have that qubit be different between the two desired positions of the superposition. This saves us the need to allocate a new qubit and lets us skip the uncomputing step, as the qubit acting as the ancilla is part of the desired result.\n",
    "\n",
    "To follow through with this strategy, we will put the first qubit in the register into superposition with an H operation. We will then walk through the remaining qubits in the register, checking if the corresponding bit in the bit string is 1. If so, that qubit needs to be in superposition, so we use CNOT with the first qubit in the register as the control and the current qubit as the target. When we have finished walking through the register like this, the register will be in the desired superposition."
   ]
  },
  {
   "cell_type": "code",
   "execution_count": null,
   "metadata": {},
   "outputs": [],
   "source": [
    "%kata T13_ZeroAndBitstringSuperposition_Test\n",
    "\n",
    "operation ZeroAndBitstringSuperposition (qs : Qubit[], bits : Bool[]) : Unit {\n",
    "    // ...\n",
    "}"
   ]
  },
  {
   "cell_type": "markdown",
   "metadata": {},
   "source": [
    "[Return to task 13 of the Superposition kata.](./Superposition.ipynb#superposition-of-the-given-bit-string)"
   ]
  },
  {
   "cell_type": "markdown",
   "metadata": {},
   "source": [
    "### <a name=\"superposition-of-two-bit-strings\"></a> Task 14. Superposition of two bit strings.\n",
    "\n",
    "**Inputs:** \n",
    "\n",
    "1. $N$ ($N \\ge 1$) qubits in the $|0 \\dots 0\\rangle$ state.\n",
    "2. Two bit strings of length $N$ represented as `Bool[]`s. Bit values `false` and `true` correspond to $|0\\rangle$ and $|1\\rangle$ states. You are guaranteed that the two bit strings differ in at least one bit.\n",
    "\n",
    "**Goal:**  Change the state of the qubits to an equal superposition of the basis states given by the bit strings.\n",
    "\n",
    "> For example, for bit strings `[false, true, false]` and `[false, false, true]` the state required is $\\frac{1}{\\sqrt{2}}\\big(|010\\rangle + |001\\rangle\\big)$.\n",
    "\n",
    "> If you need to define any helper functions, you'll need to create an extra code cell for it and execute it before returning to this cell."
   ]
  },
  {
   "cell_type": "markdown",
   "metadata": {},
   "source": [
    "### Solution\n",
    "\n",
    "A common strategy for implementing a superposition in a qubit register is to use an ancilla qubit, or an extra qubit. This ancilla can be put into a superposition through the usual means of a Hadamard gate (or some rotation about the Y axis for an uneven superposition). Then the positions of the desired superposition are created based on this ancilla’s state by using it as the control qubit in a CNOT. One of the positions will be based on the $|0\\rangle$ part of the ancilla’s state, and the other will be based on the $|1\\rangle$ position of the ancilla’s state. Finally, you would have to uncompute the ancilla by using the position based on its $|1\\rangle$ state as the control in a CNOT on the ancilla. More details on uncomputing ancillae can be found in the solution to [superposition kata task 1.16](#superposition-wstate-on2k-qubits).\n",
    "\n",
    "This strategy can be applied to this task. First we will put the given register into the state dictated by the first bit string by walking through the register and the bit string together and performing an X on the current qubit when the current bit is 1. This will be the state based on the ancilla’s $|0\\rangle$ state. We then will ask for an ancilla and put it into superposition with H. The qubit register already has the state in it that we want based on the ancilla’s $|0\\rangle$ state, so we only need to add in the other position which will be based on the ancilla’s $|1\\rangle$ state. We will walk through the register and the bit strings together. When we come across an iteration where the bit strings have different values, we will use the CNOT with the ancilla as a control and the current qubit in the register as the target. This will, bit-by-bit, flip the appropriate bits to change from the state described by the first bit string to the state described by the second bit string, and all such flips will be entangled to the $|1\\rangle$ state of the ancilla and will therefore not produce individual positions each, but one position. Lastly what we will do is uncompute the ancilla by using ControlledOnBitString with the second bit string and the X operation as arguments, the quantum register as the control, and the ancilla as the target.\n",
    "\n",
    "It is possible in the task to avoid using an extra qubit and instead use one of the qubits in the register as we previously used with the ancilla. While walking through the register and bit strings, the first time the bit strings disagreed, the corresponding qubit would take on the role of the qubit, putting it in superposition with H and all subsequent bit flips would use that qubit as the control. This saves us the need to ask for an additional qubit and means we can skip the uncomputing step."
   ]
  },
  {
   "cell_type": "code",
   "execution_count": null,
   "metadata": {},
   "outputs": [],
   "source": [
    "%kata T14_TwoBitstringSuperposition_Test\n",
    "\n",
    "operation TwoBitstringSuperposition (qs : Qubit[], bits1 : Bool[], bits2 : Bool[]) : Unit {\n",
    "    // ...\n",
    "\n",
    "}"
   ]
  },
  {
   "cell_type": "markdown",
   "metadata": {},
   "source": [
    "[Return to task 14 of the Superposition kata.](./Superposition.ipynb#superposition-of-two-bit-strings)"
   ]
  },
  {
   "cell_type": "markdown",
   "metadata": {},
   "source": [
    "### <a name=\"superposition-of-four-bit-strings\"></a>Task 15*. Superposition of four bit strings.\n",
    "\n",
    "**Inputs:** \n",
    "\n",
    "1. $N$ ($N \\ge 1$) qubits in the $|0 \\dots 0\\rangle$ state.\n",
    "2. Four bit strings of length $N$, represented as `Bool[][]` `bits`. `bits` is an $4 \\times N$ which describes the bit strings as follows: `bits[i]` describes the `i`-th bit string and has $N$ elements. You are guaranteed that all four bit strings will be distinct.\n",
    "\n",
    "**Goal:**  Change the state of the qubits to an equal superposition of the four basis states given by the bit strings.\n",
    "\n",
    "> For example, for $N = 3$ and `bits = [[false, true, false], [true, false, false], [false, false, true], [true, true, false]]` the state required is $\\frac{1}{2}\\big(|010\\rangle + |100\\rangle + |001\\rangle + |110\\rangle\\big)$."
   ]
  },
  {
   "cell_type": "markdown",
   "metadata": {},
   "source": [
    "### Solution\n",
    "\n",
    "As we did in  [superposition kata task 1.14](#superposition-of-two-bit-strings), we are going to use ancillae to achieve our superposition. As there are four positions in the desired superposition, we are going to need two ancillae to have a unique basis for each of the positions. We can start by putting the ancillae into superposition by applying H to each of them. Then, for each of the four bit strings, walk through the bit string and apply a controlled X with the associated ancillae state as the control. Having done this, the desired superposition will be achieved, but now we must uncompute the ancillae. As we did in [superposition kata task 1.14](#superposition-of-two-bit-strings), we will use ControlledOnBitString with the corresponding bit string and the X operation as arguments, the quantum register as the control, and the appropriate ancilla and the target. We will uncompute each ancilla separately, so one ancilla will be uncomputed with the bit[1] and bit[3] strings, and the other will be uncomputed with the bit[2] and bit[3] strings. More details on uncomputing ancillae can be found in the solution to [superposition kata task 1.16](#superposition-wstate-on2k-qubits)."
   ]
  },
  {
   "cell_type": "code",
   "execution_count": null,
   "metadata": {},
   "outputs": [],
   "source": [
    "kata T15_FourBitstringSuperposition_Test\n",
    "\n",
    "operation FourBitstringSuperposition (qs : Qubit[], bits : Bool[][]) : Unit {\n",
    "    // ...\n",
    "}"
   ]
  },
  {
   "cell_type": "markdown",
   "metadata": {},
   "source": [
    "[Return to task 15 of the Superposition kata.](./Superposition.ipynb#superposition-of-two-bit-strings)"
   ]
  },
  {
   "cell_type": "markdown",
   "metadata": {},
   "source": [
    "### <a name=\"superposition-wstate-on2k-qubits\"></a>Task 16**. W state on $2^k$ qubits.\n",
    "\n",
    "**Input:** $N = 2^k$ qubits in the $|0 \\dots 0\\rangle$ state.\n",
    "\n",
    "**Goal:**  Change the state of the qubits to the [W state](https://en.wikipedia.org/wiki/W_state) - an equal superposition of $N$ basis states on $N$ qubits which have Hamming weight of 1.\n",
    "\n",
    "> For example, for $N = 4$ the required state is $\\frac{1}{2}\\big(|1000\\rangle + |0100\\rangle + |0010\\rangle + |0001\\rangle\\big)$."
   ]
  },
  {
   "cell_type": "markdown",
   "metadata": {},
   "source": [
    "### Solution\n",
    "\n",
    "A W state is an even superposition (where all the composite positions have equal coefficients) of all the positions with exactly one qubit in the $|1\\rangle$ state.  \n",
    "  \n",
    "If we start by Not-ing the first qubit to get $|100 \\dots 0\\rangle$, then what will need to be done is SWAP the $|1\\rangle$ state with each successive qubit, while creating superpositions of the states before and after the SWAP. That way you end up with ($|10\\rangle$ + $|01\\rangle$)/$\\sqrt{2}$ and not just $|01\\rangle$. This can be done by using a controlled SWAP with an ancilla, we just need to be sure the uncompute the ancilla when we are finished. \n",
    "  \n",
    "The problem may be more manageable if broken down into the simplest version of the problem. A single qubit is a bit uninteresting as there is only one qubit where the 1 can go, the state is simply $|1\\rangle$. Two qubits is a little more interesting though, we want to start with $|10\\rangle$ and do a controlled SWAP between the two qubits to get ($|10\\rangle$+$|01\\rangle$)/$\\sqrt{2}$ using an ancilla that has been prepared to the $|+\\rangle$ state with an H gate. Using an H gate on the ancilla means the two states before an after the SWAP will be in an even superposition. However, the ancilla is now entangled with the rest of the qubits, so we can't simply reset it without it affecting the superposition we have prepared with it. We will need to uncompute the ancilla by carefully considering what happened with it when we used it in the controlled SWAP. \n",
    "  \n",
    "The ancilla was in superposition between $|0\\rangle$ and $|1\\rangle$. We want to return the ancilla to the $|0\\rangle$ state. The part of its superposition that is in the $|1\\rangle$ state needs to be returned to the $|0\\rangle$ state. This same part of the superposition was used in the controlled SWAP; controlled operators do nothing on $|0\\rangle$. If we collect up the effects of the SWAP and act on them, we will be acting only on the part of the entangled system where the ancilla was treated as $|1\\rangle$, and will be able to perform a Not on it to bring it back to $|0\\rangle$, without performing the same Not on the $|0\\rangle$ part of the ancilla’s superposition. This translates to doing a controlled X on the ancilla with the effects of the SWAP as the control. For our 2-qubit example, the effect of a successful SWAP brings the register to $|01\\rangle$, so we can just use the second qubit as the control for our uncompute. \n",
    "  \n",
    "If we take this one step further, we have a register of 4-qubits (only powers of 2 are allowed for the size). We can see that this is a scaled up version of the 2-qubit example. If we assume the first two qubits are in the W state, we simply want to SWAP that W state forward into the next two qubits with an even superposition. We again use an ancilla in the $|+\\rangle$ state and use it for a controlled SWAP of each qubit in the first half with the corresponding qubit in the second half. Now all that's left is the uncompute. The results from a successful SWAP is that the latter two qubits went from $|00\\rangle$ to ($|10\\rangle$+$|01\\rangle$)/$\\sqrt{2}$. The result of the SWAP, and consequently the $|1\\rangle$ state from the ancilla, is spread out over the latter two qubits, so we will loop through those qubits and use them in individual CNOT operations against the ancilla. \n",
    "  \n",
    "This means that we can break this problem up with recursion, with our base case being the first qubit having a NOT gate applied from $|0\\rangle$ to $|1\\rangle$, which is its W state. All other interactions of the recursion will take require the the first half of the register being in its W state, and use an ancilla to control-SWAP that W state forward into its second half, then uncomputing the ancilla by applying a CNOT operation against the ancilla with each qubit from the second half of the register."
   ]
  },
  {
   "cell_type": "code",
   "execution_count": null,
   "metadata": {},
   "outputs": [],
   "source": [
    "%kata T16_WState_PowerOfTwo_Test\n",
    "\n",
    "operation WState_PowerOfTwo (qs : Qubit[]) : Unit {\n",
    "    // ...\n",
    "}"
   ]
  },
  {
   "cell_type": "markdown",
   "metadata": {},
   "source": [
    "[Return to task 16 of the Superposition kata.](./Superposition.ipynb#superposition-wstate-on2k-qubits)"
   ]
  },
  {
   "cell_type": "markdown",
   "metadata": {},
   "source": [
    "### <a name=\"superposition-wstate-onan-arbitray-numberofqubits\"></a>Task 17**. W state on an arbitrary number of qubits.\n",
    "\n",
    "**Input:** $N$ qubits in the $|0 \\dots 0\\rangle$ state ($N$ is not necessarily a power of 2).\n",
    "\n",
    "**Goal:**  Change the state of the qubits to the [W state](https://en.wikipedia.org/wiki/W_state) - an equal superposition of $N$ basis states on $N$ qubits which have Hamming weight of 1.\n",
    "\n",
    "> For example, for $N = 3$ the required state is $\\frac{1}{\\sqrt{3}}\\big(|100\\rangle + |010\\rangle + |001\\rangle\\big)$."
   ]
  },
  {
   "cell_type": "markdown",
   "metadata": {},
   "source": [
    "### Solution\n",
    "\n",
    "The formula for inducing a weighted superposition in a single qubit with a specific probability of measuring to |1> is to start with a |0> state and rotate in the Y axis by 2 * $\\arccos$ ($\\sqrt(target probability of measuring |1\\rangle$ )).\n",
    "\n",
    "Using this formula, we will induce weighted superpositions on each qubit in the register in order, weighing their superpositions according to the probability each qubit should have of measuring to |1>. If the register has N qubits, then the first qubit in the register has a 1:N chance of measuring to the single |1> found in the component positions of the W state. Given that the first qubit is measured to the |0> state, the next qubit should have a 1:(N-1) chance of measuring to the |1>, and given that the first two qubits don't measure to |1>, the next qubit should have a 1:(N-2) chance of measuring to the |1>, and so on.\n",
    "\n",
    "We can then write an operation, WeightedSuperposition, to use the formula to induce a weighted superposition on a single qubit that gives that qubit a given probability of measuring to |1>. We use that operation to induce a 1:N weighted superposition in the first qubit. Then for the remaining qubits we use the ControlledOnInt function, using the previous qubits as a control and zero as the activating value, to apply the operation on each subsequent qubit."
   ]
  },
  {
   "cell_type": "code",
   "execution_count": null,
   "metadata": {},
   "outputs": [],
   "source": [
    "%kata T17_WState_Arbitrary_Test\n",
    "\n",
    "operation WState_Arbitrary (qs : Qubit[]) : Unit {\n",
    "    WeightedSuperposition(qs[0], 1.0/(1.0 + IntAsDouble(N-1)));\n",
    "    for (i in 1..N-1) {\n",
    "        let prbOf1 = 1.0/(1.0 + IntAsDouble(N-1-i));\n",
    "        (ControlledOnInt(0, WeightedSuperposition))(qs[0..i-1], (qs[i], prbOf1));\n",
    "    }\n",
    "}"
   ]
  },
  {
   "cell_type": "markdown",
   "metadata": {},
   "source": [
    "[Return to task 17 of the Superposition kata.](./Superposition.ipynb#superposition-wstate-onan-arbitray-numberofqubits)"
   ]
  },
  {
   "cell_type": "markdown",
   "metadata": {},
   "source": [
    "*Solutions to the rest of the tasks coming up soon...*"
   ]
  }
 ],
 "metadata": {
  "kernelspec": {
   "display_name": "Q#",
   "language": "qsharp",
   "name": "iqsharp"
  },
  "language_info": {
   "file_extension": ".qs",
   "mimetype": "text/x-qsharp",
   "name": "qsharp",
   "version": "0.4"
  }
 },
 "nbformat": 4,
 "nbformat_minor": 2
}
