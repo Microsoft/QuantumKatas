{
 "cells": [
  {
   "cell_type": "markdown",
   "metadata": {},
   "source": [
    "# Superposition Kata Workbook, Part 2\n",
    "\n",
    "The [Superposition Kata Workbook, Part 1](./Workbook_Superposition.ipynb) includes the solutions of kata tasks 1 - 7.  Part 2 continues the explanations for the rest of the tasks."
   ]
  },
  {
   "cell_type": "markdown",
   "metadata": {},
   "source": [
    "To begin, first prepare this notebook for execution (if you skip this step, you'll get \"Syntax does not match any known patterns\" error when you try to execute Q# code in the next cells):"
   ]
  },
  {
   "cell_type": "code",
   "execution_count": null,
   "metadata": {
    "scrolled": true
   },
   "outputs": [],
   "source": [
    "%package Microsoft.Quantum.Katas::0.11.2003.3107"
   ]
  },
  {
   "cell_type": "markdown",
   "metadata": {},
   "source": [
    "> The package versions in the output of the cell above should always match. If you are running the Notebooks locally and the versions do not match, please install the IQ# version that matches the version of the `Microsoft.Quantum.Katas` package.\n",
    "> <details>\n",
    "> <summary><u>How to install the right IQ# version</u></summary>\n",
    "> For example, if the version of `Microsoft.Quantum.Katas` package above is 0.1.2.3, the installation steps are as follows:\n",
    ">\n",
    "> 1. Stop the kernel.\n",
    "> 2. Uninstall the existing version of IQ#:\n",
    ">        dotnet tool uninstall microsoft.quantum.iqsharp -g\n",
    "> 3. Install the matching version:\n",
    ">        dotnet tool install microsoft.quantum.iqsharp -g --version 0.1.2.3\n",
    "> 4. Reinstall the kernel:\n",
    ">        dotnet iqsharp install\n",
    "> 5. Restart the Notebook.\n",
    "> </details>\n"
   ]
  },
  {
   "cell_type": "markdown",
   "metadata": {},
   "source": [
    "## <a name=\"greenberger-horne-zeilinger\"></a> Task 8. Greenberger-Horne-Zellinger state.\n",
    "\n",
    "**Input:** $N$ ($N \\ge 1$) qubits in the $|0 \\dots 0\\rangle$ state (stored in an array of length $N$).\n",
    "\n",
    "**Goal:**  Change the state of the qubits to the GHZ state $\\frac{1}{\\sqrt{2}} \\big (|0\\dots0\\rangle + |1\\dots1\\rangle\\big)$."
   ]
  },
  {
   "cell_type": "markdown",
   "metadata": {},
   "source": [
    "### Solution\n",
    "\n",
    "The single-qubit GHZ state is the plus state $\\frac{1}{\\sqrt{2}} \\big (|0\\rangle + |1\\rangle\\big)$ that we've discussed in [task 1](./Workbook_Superposition.ipynb#plus-state). As a reminder, that state is prepared by applying a Hadamard gate.\n",
    "\n",
    "The 2-qubit GHZ state is the Bell state $\\frac{1}{\\sqrt{2}} \\big (|00\\rangle + |11\\rangle\\big)$ that we've discussed in [task 6](./Workbook_Superposition.ipynb#bell-state). That state can been prepared using the following circuit:\n",
    "\n",
    "<img src=\"./img/Task6HadamardCNOTCircuit.png\"/>\n",
    "\n",
    "The next one is the 3-qubit GHZ state:\n",
    "$$|GHZ\\rangle = \\frac{1}{\\sqrt{2}} \\big (|000\\rangle + |111\\rangle\\big)$$\n",
    "\n",
    "Let's use the 2-qubit circuit as a building block to construct the circuit for 3 qubits. First, let's add a third qubit to the above circuit:\n",
    "\n",
    "<img src=\"./img/Task8Hadamardand3rdqubitircuit.png\"/>\n",
    "\n",
    "Comparing the state prepared by this circuit with the desired end state, we see that they differ only in the third (rightmost) qubit:\n",
    "\n",
    "$$|\\Phi^+\\rangle |0\\rangle = \\frac{1}{\\sqrt{2}} \\big (|000\\rangle + |11\\color{red}0\\rangle\\big)$$\n",
    "$$|GHZ\\rangle = \\frac{1}{\\sqrt{2}} \\big (|000\\rangle + |11\\color{red}1\\rangle\\big)$$\n",
    "\n",
    "\n",
    "Applying a controlled NOT operation using the first (leftmost) qubit as the control bit and the third (rightmost) qubit as the target qubit allows us to fix this difference: \n",
    "\n",
    "<table style=\"background-color: white; border:0 solid; tr  { background-color:white; }\">\n",
    "    <col width=30%>\n",
    "    <col width=70%>\n",
    "        <td style=\"text-align:center; background-color:white; border:0\"><img src=\"./img/Task8HadamardAndCNOTCircuit.png\"/></td>\n",
    "        <td style=\"text-align:left; background-color:white; border:0\"><img src=\"./img/Task8CNOTFlip.png\"/></td>       \n",
    "</table>\n",
    "\n",
    "Similarly, the following circuit will prepare the GHZ state on four qubits $\\frac{1}{\\sqrt2} (|0000\\rangle + |1111\\rangle$:\n",
    "<img src=\"./img/Task84QubitCircuit.png\"/>\n",
    "\n",
    "Thus we can come to the general solution: apply Hadamard gate to the first qubit and do a series of CNOT gates with the first qubit as control and each of the other qubits as targets."
   ]
  },
  {
   "cell_type": "code",
   "execution_count": null,
   "metadata": {},
   "outputs": [],
   "source": [
    "%kata T08_GHZ_State_Test\n",
    "\n",
    "open Microsoft.Quantum.Arrays;\n",
    "\n",
    "operation GHZ_State (qs : Qubit[]) : Unit {\n",
    "    H(qs[0]);\n",
    "    \n",
    "    // Library function Rest returns all array elements except for the first one\n",
    "    for (q in Rest(qs)) {\n",
    "        CNOT(qs[0], q);\n",
    "    }\n",
    "}"
   ]
  },
  {
   "cell_type": "markdown",
   "metadata": {},
   "source": [
    "[Return to task 8 of the Superposition kata.](./Superposition.ipynb#greenberger-horne-zeilinger)"
   ]
  },
  {
   "cell_type": "markdown",
   "metadata": {},
   "source": [
    "## <a name=\"superposition-of-all-basis-vectors\"></a>  Task 9. Superposition of all basis vectors.\n",
    "\n",
    "**Input:** $N$ ($N \\ge 1$) qubits in the $|0 \\dots 0\\rangle$ state.\n",
    "\n",
    "**Goal:**  Change the state of the qubits to an equal superposition of all basis vectors $\\frac{1}{\\sqrt{2^N}} \\big (|0 \\dots 0\\rangle + \\dots + |1 \\dots 1\\rangle\\big)$. \n",
    "\n",
    "> For example, for $N = 2$ the final state should be  $\\frac{1}{\\sqrt{2}} \\big (|00\\rangle + |01\\rangle + |10\\rangle + |11\\rangle\\big)$."
   ]
  },
  {
   "cell_type": "markdown",
   "metadata": {},
   "source": [
    "### Solution\n",
    "\n",
    "As we've seen in [task 4](./Workbook_Superposition.ipynb#superposition-of-all-basis-vectors-on-two-qubits), to prepare a superposition of all basis vectors on 2 qubits we need to apply a Hadamard gate to each of the qubits.\n",
    "\n",
    "It seems that the solution for the general case might be to apply a Hadamard gate to every qubit as well. Let's check the first few examples:\n",
    "\n",
    "\\begin{align*}\n",
    "   H|0\\rangle &= \\frac{1}{\\sqrt2}\\big(|0\\rangle + |1\\rangle\\big)\\\\\n",
    "   H|0\\rangle \\otimes H|0\\rangle &= \\frac{1}{\\sqrt2} \\big(|0\\rangle + |1\\rangle\\big) \\otimes \\frac{1}{\\sqrt2} \\big(|0\\rangle + |1\\rangle\\big)\\\\   \n",
    "               &= \\frac{1}{\\sqrt{2^2}}\\big(|00\\rangle + |01\\rangle+ |10\\rangle+ |11\\rangle\\big)\\\\\n",
    "   H|0\\rangle \\otimes H|0\\rangle \\otimes H|0\\rangle &= \\frac{1}{\\sqrt{2^2}}\\big(|00\\rangle + |01\\rangle+ |10\\rangle+ |11\\rangle\\big) \\otimes \\frac{1}{\\sqrt2}\\big(|0\\rangle + |1\\rangle\\big)\\\\\n",
    "               &= \\frac{1}{\\sqrt{2^3}}\\big(|000\\rangle + |001\\rangle + |010\\rangle+ |100\\rangle+ |110\\rangle + |101\\rangle+ |011\\rangle+ |111\\rangle\\big)\\\\\n",
    "    \\underset{N}{\\underbrace{H|0\\rangle \\otimes \\dots \\otimes H|0\\rangle}} \n",
    "               &= \\frac{1}{\\sqrt{2^{N-1}}}  \\big( |\\underset{N-1}{\\underbrace{0 \\cdots 0}}\\rangle + \\cdots + |\\underset{N-1}{\\underbrace{1 \\cdots 1}}\\rangle \\big) \\otimes \\frac{1}{\\sqrt2}\\big(|0\\rangle + |1\\rangle\\big) = \\\\\n",
    "               &= \\frac{1}{\\sqrt{2^N}} \\big( |\\underset{N}{\\underbrace{0 \\cdots 0}}\\rangle + \\cdots + |\\underset{N}{\\underbrace{1 \\cdots 1}}\\rangle \\big)\\\\    \n",
    "\\end{align*}\n",
    "\n",
    "Thus, the solution requires us to iterate over the qubit array and to apply the Hadamard gate to each element as follows:"
   ]
  },
  {
   "cell_type": "code",
   "execution_count": null,
   "metadata": {},
   "outputs": [],
   "source": [
    "%kata T09_AllBasisVectorsSuperposition_Test\n",
    "\n",
    "operation AllBasisVectorsSuperposition (qs : Qubit[]) : Unit {\n",
    "    for (q in qs) {\n",
    "        H(q);\n",
    "    }\n",
    "}"
   ]
  },
  {
   "cell_type": "markdown",
   "metadata": {},
   "source": [
    "[Return to task 9 of the Superposition kata.](./Superposition.ipynb#superposition-of-all-basis-vectors)"
   ]
  },
  {
   "cell_type": "markdown",
   "metadata": {},
   "source": [
    "## <a name=\"superposition-of-all-even-or-all-odd-numbers\"></a>Task 10. Superposition of all even or all odd numbers.\n",
    "\n",
    "**Inputs:** \n",
    "\n",
    "1. $N$ ($N \\ge 1$) qubits in the $|0 \\dots 0\\rangle$ state (stored in an array of length $N$).\n",
    "2. A boolean `isEven`.\n",
    "\n",
    "**Goal:**  Prepare a superposition of all *even* numbers if `isEven` is `true`, or of all *odd* numbers if `isEven` is `false`.  \n",
    "A basis state encodes an integer number using [big-endian](https://en.wikipedia.org/wiki/Endianness) binary notation: state $|01\\rangle$ corresponds to the integer $1$, and state $|10 \\rangle$ - to the integer $2$.  \n",
    "\n",
    "> For example, for $N = 2$ and `isEven = false` you need to prepare superposition $\\frac{1}{\\sqrt{2}} \\big (|01\\rangle + |11\\rangle\\big )$,  \n",
    "and for $N = 2$ and `isEven = true` - superposition $\\frac{1}{\\sqrt{2}} \\big (|00\\rangle + |10\\rangle\\big )$.\n",
    "</details>"
   ]
  },
  {
   "cell_type": "markdown",
   "metadata": {},
   "source": [
    "### Solution\n",
    "\n",
    "Let’s look at some examples of basis states to illustrate the binary numbering system. \n",
    "\n",
    "The 4 basis states on $N = 2$ qubits can be split in two columns, where the left column represents the basis states that form the required superposition state for `isEven = false` and the right column - the basis states that form the required superposition state for `isEven = true`:\n",
    "\n",
    "<img src=\"./img/Task10_1.png\" width=\"400\">\n",
    " \n",
    "If we do the same basis state split for $N = 3$ qubits, the pattern becomes more obvious:\n",
    " \n",
    "<img src=\"./img/Task10_2.png\" width=\"400\">"
   ]
  },
  {
   "cell_type": "markdown",
   "metadata": {},
   "source": [
    "The two leftmost qubits go through all possible basis states for `isEven = false` and for `isEven = true`, and the rightmost qubit stays in the $|1\\rangle$ state for `isEven = false` and in the $|0\\rangle$ state for `isEven = true`. \n",
    "\n",
    "A quick sanity check for $N = 4$ qubits re-confirms the pattern:\n",
    " \n",
    "<img src=\"./img/Task10_3.png\" width=\"400\">\n",
    " \n",
    "Again, the three leftmost qubits go through all possible basis states in both columns, and the rightmost qubit stays in the same state in each column. \n",
    "\n",
    "The solution is to put all qubits except the rightmost one into an equal superposition (similar to what we did in Task 9) and to set the rightmost qubit to $|0\\rangle$ or $|1\\rangle$ depending on the `isEven` flag, using the X operator to convert $|0\\rangle$ to $|1\\rangle$ if `isEven = false`."
   ]
  },
  {
   "cell_type": "code",
   "execution_count": null,
   "metadata": {},
   "outputs": [],
   "source": [
    "%kata T10_EvenOddNumbersSuperposition_Test\n",
    "\n",
    "operation EvenOddNumbersSuperposition (qs : Qubit[], isEven : Bool) : Unit is Adj {\n",
    "    let N = Length(qs);\n",
    "    for (i in 0 .. N-2) {\n",
    "        H(qs[i]);\n",
    "    }\n",
    "    // for odd numbers, flip the last bit to 1\n",
    "    if (not isEven) {\n",
    "        X(qs[N-1]);\n",
    "    }\n",
    "}"
   ]
  },
  {
   "cell_type": "markdown",
   "metadata": {},
   "source": [
    "[Return to task 10 of the Superposition kata.](./Superposition.ipynb#superposition-of-all-even-or-all-odd-numbers)"
   ]
  },
  {
   "cell_type": "markdown",
   "metadata": {},
   "source": [
    "## <a name=\"threestates-twoqubits\"></a>Task 11*. $\\frac{1}{\\sqrt{3}} \\big(|00\\rangle + |01\\rangle + |10\\rangle\\big)$ state.\n",
    "\n",
    "**Input:** Two qubits in the $|00\\rangle$ state.\n",
    "\n",
    "**Goal:**  Change the state of the qubits to $\\frac{1}{\\sqrt{3}} \\big(|00\\rangle + |01\\rangle + |10\\rangle\\big)$."
   ]
  },
  {
   "cell_type": "markdown",
   "metadata": {},
   "source": [
    "### Solution\n",
    "\n",
    "*Coming up soon... Meanwhile, follow Niel's answer at https://quantumcomputing.stackexchange.com/a/2313/*"
   ]
  },
  {
   "cell_type": "code",
   "execution_count": null,
   "metadata": {},
   "outputs": [],
   "source": [
    "%kata T11_ThreeStates_TwoQubits_Test\n",
    "\n",
    "open Microsoft.Quantum.Math;\n",
    "\n",
    "operation ThreeStates_TwoQubits (qs : Qubit[]) : Unit {\n",
    "    // Rotate first qubit to (sqrt(2) |0⟩ + |1⟩) / sqrt(3) (task 1.4 from BasicGates kata)\n",
    "    let theta = ArcSin(1.0 / Sqrt(3.0));\n",
    "    Ry(2.0 * theta, qs[0]);\n",
    "\n",
    "    // Split the state sqrt(2) |0⟩ ⊗ |0⟩ into |00⟩ + |01⟩\n",
    "    (ControlledOnInt(0, H))([qs[0]], qs[1]);\n",
    "}"
   ]
  },
  {
   "cell_type": "markdown",
   "metadata": {},
   "source": [
    "[Return to task 11 of the Superposition kata.](./Superposition.ipynb#threestates-twoqubits)"
   ]
  },
  {
   "cell_type": "markdown",
   "metadata": {},
   "source": [
    "## <a name=\"hardy-state\"></a>Task 12*. Hardy state.\n",
    "\n",
    "**Input:** Two qubits in the $|00\\rangle$ state.\n",
    "\n",
    "**Goal:** Change the state of the qubits to $\\frac{1}{\\sqrt{12}} \\big(3|00\\rangle + |01\\rangle + |10\\rangle + |11\\rangle \\big)$."
   ]
  },
  {
   "cell_type": "markdown",
   "metadata": {},
   "source": [
    "### Solution\n",
    "\n",
    "*Coming up soon...*"
   ]
  },
  {
   "cell_type": "code",
   "execution_count": null,
   "metadata": {},
   "outputs": [],
   "source": [
    "%kata T12_Hardy_State_Test\n",
    "\n",
    "open Microsoft.Quantum.Math;\n",
    "\n",
    "operation Hardy_State (qs : Qubit[]) : Unit {\n",
    "    Ry(2.0 * ArcCos(Sqrt(10.0 / 12.0)), qs[0]);\n",
    "    (ControlledOnInt(0, Ry))([qs[0]], (2.0 * ArcCos(Sqrt(9.0 / 10.0)), qs[1]));\n",
    "    Controlled H([qs[0]], qs[1]);\n",
    "}"
   ]
  },
  {
   "cell_type": "markdown",
   "metadata": {},
   "source": [
    "[Return to task 12 of the Superposition kata.](./Superposition.ipynb#hardy-state)"
   ]
  },
  {
   "cell_type": "markdown",
   "metadata": {},
   "source": [
    "## <a name=\"superposition-of-zero-and-given-bit-string\"></a> Task 13. Superposition of $|0 \\dots 0\\rangle$ and the given bit string.\n",
    "\n",
    "**Inputs:** \n",
    "\n",
    "1. $N$ ($N \\ge 1$) qubits in the $|0 \\dots 0\\rangle$ state.\n",
    "2. A bit string of length $N$ represented as `Bool[]`. Bit values `false` and `true` correspond to $|0\\rangle$ and $|1\\rangle$ states. You are guaranteed that the first bit of the bit string is `true`.\n",
    "\n",
    "**Goal:**  Change the state of the qubits to an equal superposition of $|0 \\dots 0\\rangle$ and the basis state given by the bit string.\n",
    "\n",
    "> For example, for the bit string `[true, false]` the state required is $\\frac{1}{\\sqrt{2}}\\big(|00\\rangle + |10\\rangle\\big)$."
   ]
  },
  {
   "cell_type": "markdown",
   "metadata": {},
   "source": [
    "### Solution\n",
    "\n",
    "> A common strategy for preparing a superposition state in a qubit register is using an auxiliary qubit (or several, for more complicated states). The auxiliary qubit can be put into a superposition state through the usual means of applying a Hadamard gate (or a rotation about the Y axis for an uneven superposition). \n",
    "> Then the basis states of the desired superposition are prepared individually based on the auxiliary qubit state by using it as the control qubit for a CNOT gate. One of the basis states will be prepared controlled on the $|0\\rangle$ component of the auxiliary state, and the other - controlled on the $|1\\rangle$ component. \n",
    "> Finally, you have to return the auxiliary qubit to the $|0\\rangle$ state by uncomputing it, i.e., by using the basis state prepared from the $|1\\rangle$ component as the control qubits for a CNOT gate with the auxiliary qubit as the target. \n",
    ">\n",
    "> More details on using this approach can be found in the solution to tasks [15](#superposition-of-four-bit-strings) and [16](#wstate-on-2k-qubits). However, for this task we can come up with a simpler solution. \n",
    "> Instead of allocating a new qubit to use as the auxiliary, we can use the first qubit in the register for this purpose, because we are guaranteed that the first bit in the two basis vectors that comprise the required superposition is different.\n",
    "> This saves us the need to allocate a new qubit and lets us skip the uncomputing step, as the qubit acting as the control for the next preparation steps is part of the desired result.\n",
    "\n",
    "Consider the earlier tasks in this kata that asked to prepare Bell states and GHZ state; the structure of the superposition state in this task is a more general case of those scenarios: all of them ask to prepare an equal superposition of two different basis states.\n",
    "\n",
    "The first step of the solution is the same as in those tasks: put the first qubit in the register into an equal superposition of $|0\\rangle$ and $|1\\rangle$ using the H gate to get the following state:\n",
    "\n",
    "$$\\frac{1}{\\sqrt2} (|0\\rangle + |1\\rangle) \\otimes |0 \\dots 0\\rangle = \\frac{1}{\\sqrt2} (|00 \\dots 0\\rangle + |10 \\dots 0\\rangle)$$\n",
    "\n",
    "The first term of the superposition already matches the desired state, so we need to fix the second term.\n",
    "To do that, we will walk through the remaining qubits in the register, checking if the bit in the corresponding position of the bit string `bits` is `true`. \n",
    "If it is, that qubit's state needs to be adjusted from $0$ to $1$ in the second term of our superposition (and left unchanged in the first term). \n",
    "We can do this change using the CNOT gate with the first qubit as the control and the current qubit as the target.\n",
    "When we have finished walking through the register like this, the register will be in the desired superposition."
   ]
  },
  {
   "cell_type": "code",
   "execution_count": null,
   "metadata": {},
   "outputs": [],
   "source": [
    "%kata T13_ZeroAndBitstringSuperposition_Test\n",
    "\n",
    "operation ZeroAndBitstringSuperposition (qs : Qubit[], bits : Bool[]) : Unit {\n",
    "    H(qs[0]);\n",
    "\n",
    "    for (i in 1 .. Length(qs) - 1) {\n",
    "        if (bits[i]) {\n",
    "            CNOT(qs[0], qs[i]);\n",
    "        }\n",
    "    }\n",
    "}"
   ]
  },
  {
   "cell_type": "markdown",
   "metadata": {},
   "source": [
    "[Return to task 13 of the Superposition kata.](./Superposition.ipynb#superposition-of-zero-and-given-bit-string)"
   ]
  },
  {
   "cell_type": "markdown",
   "metadata": {},
   "source": [
    "### <a name=\"superposition-of-two-bit-strings\"></a> Task 14. Superposition of two bit strings.\n",
    "\n",
    "**Inputs:** \n",
    "\n",
    "1. $N$ ($N \\ge 1$) qubits in the $|0 \\dots 0\\rangle$ state.\n",
    "2. Two bit strings of length $N$ represented as `Bool[]`s. Bit values `false` and `true` correspond to $|0\\rangle$ and $|1\\rangle$ states. You are guaranteed that the two bit strings differ in at least one bit.\n",
    "\n",
    "**Goal:**  Change the state of the qubits to an equal superposition of the basis states given by the bit strings.\n",
    "\n",
    "> For example, for bit strings `[false, true, false]` and `[false, false, true]` the state required is $\\frac{1}{\\sqrt{2}}\\big(|010\\rangle + |001\\rangle\\big)$."
   ]
  },
  {
   "cell_type": "markdown",
   "metadata": {},
   "source": [
    "### Solution\n",
    "\n",
    "The strategy of using an auxiliary qubit to control the preparation process described in the previous task can be applied to this task as well. \n",
    "\n",
    "We will start by allocating an auxiliary qubit and preparing it in the $\\frac{1}{\\sqrt2} (|0\\rangle + |1\\rangle)$ state using the H gate. The overall state of the system will be \n",
    "\n",
    "$$\\frac{1}{\\sqrt2} (|0\\rangle + |1\\rangle)_a \\otimes |0 \\dots 0\\rangle_r = \\frac{1}{\\sqrt2} (|0\\rangle_a \\otimes |0 \\dots 0\\rangle_r + |1\\rangle_a \\otimes |0 \\dots 0\\rangle_r)$$\n",
    "\n",
    "At this point, we can prepare the two basis states of the target state separately, bit by bit, controlling the preparation of one of them on the $|0\\rangle$ state of the auxiliary qubit and the preparation of the other one - on the $|1\\rangle$ state. \n",
    "If a bit in one of the bit strings is `true`, we will apply a controlled X gate with the auxiliary qubit as control, the qubit in the corresponding position of the register as target, and control it on the $|0\\rangle$ or the $|1\\rangle$ state depending on which bit string we are considering at the moment. \n",
    "Such controlled gate can be implemented using [`ControlledOnInt`](https://docs.microsoft.com/qsharp/api/qsharp/microsoft.quantum.canon.controlledonint) library function.\n",
    "\n",
    "After this the state of the system will be \n",
    "$$\\frac{1}{\\sqrt2} (|0\\rangle_a \\otimes |bits_1\\rangle_r + |1\\rangle_a \\otimes |bits_2\\rangle_r)$$\n",
    "\n",
    "Finally, we will uncompute the auxiliary qubit by using [`ControlledOnBitString`](https://docs.microsoft.com/qsharp/api/qsharp/microsoft.quantum.canon.controlledonbitstring) library function with the second bit string and the `X` operation as arguments, the quantum register as the control, and the auxiliary qubit as the target. \n",
    "This will affect only the $|1\\rangle_a \\otimes |bits_2\\rangle_r$ term, flipping the state of the auxiliary qubit in it and bringing the system to its final state:\n",
    "\n",
    "$$|0\\rangle_a \\otimes \\frac{1}{\\sqrt2} (|bits_1\\rangle + |bits_2\\rangle)_r$$"
   ]
  },
  {
   "cell_type": "code",
   "execution_count": null,
   "metadata": {},
   "outputs": [],
   "source": [
    "%kata T14_TwoBitstringSuperposition_Test\n",
    "\n",
    "operation TwoBitstringSuperposition (qs : Qubit[], bits1 : Bool[], bits2 : Bool[]) : Unit {\n",
    "    using (q = Qubit()) {\n",
    "        H(q);\n",
    "        \n",
    "        for (i in 0 .. Length(qs) - 1) {\n",
    "            if (bits1[i]) {\n",
    "                (ControlledOnInt(0, X))([q], qs[i]);\n",
    "            }\n",
    "            if (bits2[i]) {\n",
    "                (ControlledOnInt(1, X))([q], qs[i]);\n",
    "            }\n",
    "        }\n",
    "        \n",
    "        // uncompute the auxiliary qubit to release it\n",
    "        (ControlledOnBitString(bits2, X))(qs, q);\n",
    "    }\n",
    "}"
   ]
  },
  {
   "cell_type": "markdown",
   "metadata": {},
   "source": [
    "It is also possible to solve the task without using an extra qubit, if instead we use one of the qubits in the register in this role. \n",
    "While walking through the register and bit strings, the first time the bit strings disagreed, the qubit in the corresponding position would take on the role of the auxiliary qubit; we would put it in superposition using the H gate and perform all subsequent bit flips using that qubit as the control. \n",
    "\n",
    "This saves us an additional qubit and allows to skip the uncomputing step, though the code becomes less elegant. \n",
    "We will move the classical logic of comparing two bit strings to find the first position in which they differ to a function `FindFirstDiff`; note that it has to be defined in a separate code cell."
   ]
  },
  {
   "cell_type": "code",
   "execution_count": null,
   "metadata": {},
   "outputs": [],
   "source": [
    "function FindFirstDiff (bits1 : Bool[], bits2 : Bool[]) : Int {\n",
    "    for (i in 0 .. Length(bits1) - 1) {\n",
    "        if (bits1[i] != bits2[i]) {\n",
    "            return i;\n",
    "        }\n",
    "    }\n",
    "    return -1;\n",
    "}"
   ]
  },
  {
   "cell_type": "code",
   "execution_count": null,
   "metadata": {},
   "outputs": [],
   "source": [
    "%kata T14_TwoBitstringSuperposition_Test\n",
    "\n",
    "operation TwoBitstringSuperposition (qs : Qubit[], bits1 : Bool[], bits2 : Bool[]) : Unit {\n",
    "    // find the index of the first bit at which the bit strings are different\n",
    "    let firstDiff = FindFirstDiff(bits1, bits2);\n",
    "\n",
    "    // Hadamard corresponding qubit to create superposition\n",
    "    H(qs[firstDiff]);\n",
    "\n",
    "    // iterate through the bit strings again setting the final state of qubits\n",
    "    for (i in 0 .. Length(qs) - 1) {\n",
    "        if (bits1[i] == bits2[i]) {\n",
    "            // if two bits are the same, apply X or nothing\n",
    "            if (bits1[i]) {\n",
    "                X(qs[i]);\n",
    "            }\n",
    "        } else {\n",
    "            // if two bits are different, set their difference using CNOT\n",
    "            if (i > firstDiff) {\n",
    "                CNOT(qs[firstDiff], qs[i]);\n",
    "                if (bits1[i] != bits1[firstDiff]) {\n",
    "                    X(qs[i]);\n",
    "                }\n",
    "            }\n",
    "        }\n",
    "    }\n",
    "}"
   ]
  },
  {
   "cell_type": "markdown",
   "metadata": {},
   "source": [
    "[Return to task 14 of the Superposition kata.](./Superposition.ipynb#superposition-of-two-bit-strings)"
   ]
  },
  {
   "cell_type": "markdown",
   "metadata": {},
   "source": [
    "### <a name=\"superposition-of-four-bit-strings\"></a>Task 15*. Superposition of four bit strings.\n",
    "\n",
    "**Inputs:** \n",
    "\n",
    "1. $N$ ($N \\ge 1$) qubits in the $|0 \\dots 0\\rangle$ state.\n",
    "2. Four bit strings of length $N$, represented as `Bool[][]` `bits`. `bits` is an $4 \\times N$ array which describes the bit strings as follows: `bits[i]` describes the `i`-th bit string and has $N$ elements. You are guaranteed that all four bit strings will be distinct.\n",
    "\n",
    "**Goal:**  Change the state of the qubits to an equal superposition of the four basis states given by the bit strings.\n",
    "\n",
    "> For example, for $N = 3$ and `bits = [[false, true, false], [true, false, false], [false, false, true], [true, true, false]]` the state required is $\\frac{1}{2}\\big(|010\\rangle + |100\\rangle + |001\\rangle + |110\\rangle\\big)$."
   ]
  },
  {
   "cell_type": "markdown",
   "metadata": {},
   "source": [
    "### Solution\n",
    "\n",
    "We are going to use the same trick of auxiliary qubits that we used in [the previous task](#superposition-of-two-bit-strings). \n",
    "Since the desired superposition has 4 basis states with equal amplitudes, we are going to need two qubits to define a unique basis to control preparation of each of the basis states in the superposition. \n",
    "\n",
    "We start by allocating two extra qubits and preparing an equal superposition of all 2-qubit states on them by applying an H gate to each of them:\n",
    "\n",
    "$$\\frac12 (|00\\rangle + |01\\rangle + |10\\rangle + |11\\rangle)_a \\otimes |0 \\dots 0\\rangle_r$$\n",
    "\n",
    "Then, for each of the four given bit strings, we walk through it and prepare the matching basis state on the main register of qubits, using controlled X gates with the corresponding basis state of the auxiliary qubits as control. \n",
    "For example, when preparing the bit string `bits[0]`, we apply X gates controlled on the basis state $|00\\rangle$; when preparing the bit string `bits[1]`, we apply X gates controlled on $|10\\rangle$, and so on.\n",
    "\n",
    "> We can choose an arbitrary matching of the 2-qubit basis states used as controls and the bit strings prepared on the main register. \n",
    "> Since all amplitudes are the same, the result does not depend on which state controlled which bit string preparation.\n",
    "> It can be convenient to use indices of the bit strings, converted to little-endian, to control preparation of the bit strings.\n",
    "> Q# library function [`ControlledOnInt`](https://docs.microsoft.com/qsharp/api/qsharp/microsoft.quantum.canon.controlledonint) does exactly that.\n",
    "\n",
    "After this the system will be in the state \n",
    "\n",
    "$$\\frac12 (|00\\rangle_a |bits_0\\rangle_r + |10\\rangle_a |bits_1\\rangle_r + |01\\rangle_a |bits_2\\rangle_r + |11\\rangle_a |bits_3\\rangle_r)$$\n",
    "\n",
    "As the last step, we must uncompute the auxiliary qubits, i.e., return them to the $|00\\rangle$ state to unentangle them from the main regiser. \n",
    "Same as we did in the previous task, we will use [`ControlledOnBitString`](https://docs.microsoft.com/qsharp/api/qsharp/microsoft.quantum.canon.controlledonbitstring) with the corresponding bit string and the X operation as arguments, the quantum register as the control, and the auxuliary qubits as the target. \n",
    "We will uncompute each of them separately, so one of the auxiliary qubits will be uncomputed with the `bits[1]` and `bits[3]` bit strings as controls, and the other - with the `bits[2]` and `bits[3]`."
   ]
  },
  {
   "cell_type": "code",
   "execution_count": null,
   "metadata": {},
   "outputs": [],
   "source": [
    "%kata T15_FourBitstringSuperposition_Test\n",
    "\n",
    "operation FourBitstringSuperposition (qs : Qubit[], bits : Bool[][]) : Unit {\n",
    "    using (anc = Qubit[2]) {\n",
    "        // Put two ancillas into equal superposition of 2-qubit basis states\n",
    "        ApplyToEachA(H, anc);\n",
    "\n",
    "        // Set up the right pattern on the main qubits with control on ancillas\n",
    "        for (i in 0 .. 3) {\n",
    "            for (j in 0 .. Length(qs) - 1) {\n",
    "                if (bits[i][j]) {\n",
    "                    (ControlledOnInt(i, X))(anc, qs[j]);\n",
    "                }\n",
    "            }\n",
    "        }\n",
    "\n",
    "        // Uncompute the ancillas, using patterns on main qubits as control\n",
    "        for (i in 0 .. 3) {\n",
    "            if (i % 2 == 1) {\n",
    "                (ControlledOnBitString(bits[i], X))(qs, anc[0]);\n",
    "            }\n",
    "            if (i / 2 == 1) {\n",
    "                (ControlledOnBitString(bits[i], X))(qs, anc[1]);\n",
    "            }\n",
    "        }\n",
    "    }\n",
    "}"
   ]
  },
  {
   "cell_type": "markdown",
   "metadata": {},
   "source": [
    "[Return to task 15 of the Superposition kata.](./Superposition.ipynb#superposition-of-two-bit-strings)"
   ]
  },
  {
   "cell_type": "markdown",
   "metadata": {},
   "source": [
    "### <a name=\"wstate-on-2k-qubits\"></a>Task 16**. W state on $2^k$ qubits.\n",
    "\n",
    "**Input:** $N = 2^k$ qubits in the $|0 \\dots 0\\rangle$ state.\n",
    "\n",
    "**Goal:**  Change the state of the qubits to the [W state](https://en.wikipedia.org/wiki/W_state) - an equal superposition of $N$ basis states on $N$ qubits which have Hamming weight of 1.\n",
    "\n",
    "> For example, for $N = 4$ the required state is $\\frac{1}{2}\\big(|1000\\rangle + |0100\\rangle + |0010\\rangle + |0001\\rangle\\big)$."
   ]
  },
  {
   "cell_type": "markdown",
   "metadata": {},
   "source": [
    "### Solution\n",
    "\n",
    "A W state is an even superposition (where all the composite positions have equal coefficients) of all the positions with exactly one qubit in the $|1\\rangle$ state.  \n",
    "  \n",
    "If we start by Not-ing the first qubit to get $|100 \\dots 0\\rangle$, then what will need to be done is SWAP the $|1\\rangle$ state with each successive qubit, while creating superpositions of the states before and after the SWAP. That way you end up with ($|10\\rangle$ + $|01\\rangle$)/$\\sqrt{2}$ and not just $|01\\rangle$. This can be done by using a controlled SWAP with an ancilla, we just need to be sure the uncompute the ancilla when we are finished. \n",
    "  \n",
    "The problem may be more manageable if broken down into the simplest version of the problem. A single qubit is a bit uninteresting as there is only one qubit where the 1 can go, the state is simply $|1\\rangle$. Two qubits is a little more interesting though, we want to start with $|10\\rangle$ and do a controlled SWAP between the two qubits to get ($|10\\rangle$+$|01\\rangle$)/$\\sqrt{2}$ using an ancilla that has been prepared to the $|+\\rangle$ state with an H gate. Using an H gate on the ancilla means the two states before an after the SWAP will be in an even superposition. However, the ancilla is now entangled with the rest of the qubits, so we can't simply reset it without it affecting the superposition we have prepared with it. We will need to uncompute the ancilla by carefully considering what happened with it when we used it in the controlled SWAP. \n",
    "  \n",
    "The ancilla was in superposition between $|0\\rangle$ and $|1\\rangle$. We want to return the ancilla to the $|0\\rangle$ state. The part of its superposition that is in the $|1\\rangle$ state needs to be returned to the $|0\\rangle$ state. This same part of the superposition was used in the controlled SWAP; controlled operators do nothing on $|0\\rangle$. If we collect up the effects of the SWAP and act on them, we will be acting only on the part of the entangled system where the ancilla was treated as $|1\\rangle$, and will be able to perform a Not on it to bring it back to $|0\\rangle$, without performing the same Not on the $|0\\rangle$ part of the ancilla’s superposition. This translates to doing a controlled X on the ancilla with the effects of the SWAP as the control. For our 2-qubit example, the effect of a successful SWAP brings the register to $|01\\rangle$, so we can just use the second qubit as the control for our uncompute. \n",
    "  \n",
    "If we take this one step further, we have a register of 4-qubits (only powers of 2 are allowed for the size). We can see that this is a scaled up version of the 2-qubit example. If we assume the first two qubits are in the W state, we simply want to SWAP that W state forward into the next two qubits with an even superposition. We again use an ancilla in the $|+\\rangle$ state and use it for a controlled SWAP of each qubit in the first half with the corresponding qubit in the second half. Now all that's left is the uncompute. The results from a successful SWAP is that the latter two qubits went from $|00\\rangle$ to ($|10\\rangle$+$|01\\rangle$)/$\\sqrt{2}$. The result of the SWAP, and consequently the $|1\\rangle$ state from the ancilla, is spread out over the latter two qubits, so we will loop through those qubits and use them in individual CNOT operations against the ancilla. \n",
    "  \n",
    "This means that we can break this problem up with recursion, with our base case being the first qubit having a NOT gate applied from $|0\\rangle$ to $|1\\rangle$, which is its W state. All other interactions of the recursion will take require the the first half of the register being in its W state, and use an ancilla to control-SWAP that W state forward into its second half, then uncomputing the ancilla by applying a CNOT operation against the ancilla with each qubit from the second half of the register."
   ]
  },
  {
   "cell_type": "code",
   "execution_count": null,
   "metadata": {},
   "outputs": [],
   "source": [
    "%kata T16_WState_PowerOfTwo_Test\n",
    "\n",
    "operation WState_PowerOfTwo (qs : Qubit[]) : Unit {\n",
    "    // ...\n",
    "}"
   ]
  },
  {
   "cell_type": "markdown",
   "metadata": {},
   "source": [
    "[Return to task 16 of the Superposition kata.](./Superposition.ipynb#wstate-on-2k-qubits)"
   ]
  },
  {
   "cell_type": "markdown",
   "metadata": {},
   "source": [
    "### <a name=\"wstate-on-arbitray-number-of-qubits\"></a>Task 17**. W state on an arbitrary number of qubits.\n",
    "\n",
    "**Input:** $N$ qubits in the $|0 \\dots 0\\rangle$ state ($N$ is not necessarily a power of 2).\n",
    "\n",
    "**Goal:**  Change the state of the qubits to the [W state](https://en.wikipedia.org/wiki/W_state) - an equal superposition of $N$ basis states on $N$ qubits which have Hamming weight of 1.\n",
    "\n",
    "> For example, for $N = 3$ the required state is $\\frac{1}{\\sqrt{3}}\\big(|100\\rangle + |010\\rangle + |001\\rangle\\big)$."
   ]
  },
  {
   "cell_type": "markdown",
   "metadata": {},
   "source": [
    "### Solution\n",
    "\n",
    "The formula for inducing a weighted superposition in a single qubit with a specific probability of measuring to |1> is to start with a |0> state and rotate in the Y axis by 2 * $\\arccos$ ($\\sqrt(target probability of measuring |1\\rangle$ )).\n",
    "\n",
    "Using this formula, we will induce weighted superpositions on each qubit in the register in order, weighing their superpositions according to the probability each qubit should have of measuring to |1>. If the register has N qubits, then the first qubit in the register has a 1:N chance of measuring to the single |1> found in the component positions of the W state. Given that the first qubit is measured to the |0> state, the next qubit should have a 1:(N-1) chance of measuring to the |1>, and given that the first two qubits don't measure to |1>, the next qubit should have a 1:(N-2) chance of measuring to the |1>, and so on.\n",
    "\n",
    "We can then write an operation, WeightedSuperposition, to use the formula to induce a weighted superposition on a single qubit that gives that qubit a given probability of measuring to |1>. We use that operation to induce a 1:N weighted superposition in the first qubit. Then for the remaining qubits we use the ControlledOnInt function, using the previous qubits as a control and zero as the activating value, to apply the operation on each subsequent qubit."
   ]
  },
  {
   "cell_type": "code",
   "execution_count": null,
   "metadata": {},
   "outputs": [],
   "source": [
    "%kata T17_WState_Arbitrary_Test\n",
    "\n",
    "operation WState_Arbitrary (qs : Qubit[]) : Unit {\n",
    "    WeightedSuperposition(qs[0], 1.0/(1.0 + IntAsDouble(N-1)));\n",
    "    for (i in 1..N-1) {\n",
    "        let prbOf1 = 1.0/(1.0 + IntAsDouble(N-1-i));\n",
    "        (ControlledOnInt(0, WeightedSuperposition))(qs[0..i-1], (qs[i], prbOf1));\n",
    "    }\n",
    "}"
   ]
  },
  {
   "cell_type": "markdown",
   "metadata": {},
   "source": [
    "[Return to task 17 of the Superposition kata.](./Superposition.ipynb#wstate-on-arbitray-number-of-qubits)"
   ]
  }
 ],
 "metadata": {
  "kernelspec": {
   "display_name": "Q#",
   "language": "qsharp",
   "name": "iqsharp"
  },
  "language_info": {
   "file_extension": ".qs",
   "mimetype": "text/x-qsharp",
   "name": "qsharp",
   "version": "0.10"
  }
 },
 "nbformat": 4,
 "nbformat_minor": 2
}
