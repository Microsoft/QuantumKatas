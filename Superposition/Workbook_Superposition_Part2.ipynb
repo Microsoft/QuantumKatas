{
 "cells": [
  {
   "cell_type": "markdown",
   "metadata": {},
   "source": [
    "# Superposition Kata Workbook, Part 2\n",
    "\n",
    "The [Superposition Kata Workbook, Part 1](./Workbook_Superposition.ipynb) includes the solutions of kata tasks 1 - 7.  Part 2 continues the explanations for the rest of the tasks."
   ]
  },
  {
   "cell_type": "markdown",
   "metadata": {},
   "source": [
    "To begin, first prepare this notebook for execution (if you skip this step, you'll get \"Syntax does not match any known patterns\" error when you try to execute Q# code in the next cells):"
   ]
  },
  {
   "cell_type": "code",
   "execution_count": null,
   "metadata": {
    "scrolled": true
   },
   "outputs": [],
   "source": [
    "%package Microsoft.Quantum.Katas::0.10.2002.2610"
   ]
  },
  {
   "cell_type": "markdown",
   "metadata": {},
   "source": [
    "> The package versions in the output of the cell above should always match. If you are running the Notebooks locally and the versions do not match, please install the IQ# version that matches the version of the `Microsoft.Quantum.Katas` package.\n",
    "> <details>\n",
    "> <summary><u>How to install the right IQ# version</u></summary>\n",
    "> For example, if the version of `Microsoft.Quantum.Katas` package above is 0.1.2.3, the installation steps are as follows:\n",
    ">\n",
    "> 1. Stop the kernel.\n",
    "> 2. Uninstall the existing version of IQ#:\n",
    ">        dotnet tool uninstall microsoft.quantum.iqsharp -g\n",
    "> 3. Install the matching version:\n",
    ">        dotnet tool install microsoft.quantum.iqsharp -g --version 0.1.2.3\n",
    "> 4. Reinstall the kernel:\n",
    ">        dotnet iqsharp install\n",
    "> 5. Restart the Notebook.\n",
    "> </details>\n"
   ]
  },
  {
   "cell_type": "markdown",
   "metadata": {},
   "source": [
    "## <a name=\"greenberger-horne-zeilinger\"></a> Task 8. Greenberger-Horne-Zellinger state.\n",
    "\n",
    "**Input:** $N$ ($N \\ge 1$) qubits in the $|0 \\dots 0\\rangle$ state (stored in an array of length $N$).\n",
    "\n",
    "**Goal:**  Change the state of the qubits to the GHZ state $\\frac{1}{\\sqrt{2}} \\big (|0\\dots0\\rangle + |1\\dots1\\rangle\\big)$."
   ]
  },
  {
   "cell_type": "markdown",
   "metadata": {},
   "source": [
    "### Solution\n",
    "\n",
    "The single-qubit GHZ state is the plus state $\\frac{1}{\\sqrt{2}} \\big (|0\\rangle + |1\\rangle\\big)$ that we've discussed in [task 1](./Workbook_Superposition.ipynb#plus-state). As a reminder, that state is prepared by applying a Hadamard gate.\n",
    "\n",
    "The 2-qubit GHZ state is the Bell state $\\frac{1}{\\sqrt{2}} \\big (|00\\rangle + |11\\rangle\\big)$ that we've discussed in [task 6](./Workbook_Superposition.ipynb#bell-state). That state can been prepared using the following circuit:\n",
    "\n",
    "<img src=\"./img/Task6HadamardCNOTCircuit.png\"/>\n",
    "\n",
    "The next one is the 3-qubit GHZ state:\n",
    "$$|GHZ\\rangle = \\frac{1}{\\sqrt{2}} \\big (|000\\rangle + |111\\rangle\\big)$$\n",
    "\n",
    "Let's use the 2-qubit circuit as a building block to construct the circuit for 3 qubits. First, let's add a third qubit to the above circuit:\n",
    "\n",
    "<img src=\"./img/Task8Hadamardand3rdqubitircuit.png\"/>\n",
    "\n",
    "Comparing the state prepared by this circuit with the desired end state, we see that they differ only in the third (rightmost) qubit:\n",
    "\n",
    "$$|\\Phi^+\\rangle |0\\rangle = \\frac{1}{\\sqrt{2}} \\big (|000\\rangle + |11\\color{red}0\\rangle\\big)$$\n",
    "$$|GHZ\\rangle = \\frac{1}{\\sqrt{2}} \\big (|000\\rangle + |11\\color{red}1\\rangle\\big)$$\n",
    "\n",
    "\n",
    "Applying a controlled NOT operation using the first (leftmost) qubit as the control bit and the third (rightmost) qubit as the target qubit allows us to fix this difference: \n",
    "\n",
    "<table style=\"background-color: white; border:0 solid; tr  { background-color:white; }\">\n",
    "    <col width=30%>\n",
    "    <col width=70%>\n",
    "        <td style=\"text-align:center; background-color:white; border:0\"><img src=\"./img/Task8HadamardAndCNOTCircuit.png\"/></td>\n",
    "        <td style=\"text-align:left; background-color:white; border:0\"><img src=\"./img/Task8CNOTFlip.png\"/></td>       \n",
    "</table>\n",
    "\n",
    "Similarly, the following circuit will prepare the GHZ state on four qubits $\\frac{1}{\\sqrt2} (|0000\\rangle + |1111\\rangle$:\n",
    "<img src=\"./img/Task84QubitCircuit.png\"/>\n",
    "\n",
    "Thus we can come to the general solution: apply Hadamard gate to the first qubit and do a series of CNOT gates with the first qubit as control and each of the other qubits as targets."
   ]
  },
  {
   "cell_type": "code",
   "execution_count": null,
   "metadata": {},
   "outputs": [],
   "source": [
    "%kata T08_GHZ_State_Test\n",
    "\n",
    "open Microsoft.Quantum.Arrays;\n",
    "\n",
    "operation GHZ_State (qs : Qubit[]) : Unit {\n",
    "    H(qs[0]);\n",
    "    \n",
    "    // Library function Rest returns all array elements except for the first one\n",
    "    for (q in Rest(qs)) {\n",
    "        CNOT(qs[0], q);\n",
    "    }\n",
    "}"
   ]
  },
  {
   "cell_type": "markdown",
   "metadata": {},
   "source": [
    "[Return to task 8 of the Superposition kata.](./Superposition.ipynb#greenberger-horne-zeilinger)"
   ]
  },
  {
   "cell_type": "markdown",
   "metadata": {},
   "source": [
    "## <a name=\"superposition-of-all-basis-vectors\"></a>  Task 9. Superposition of all basis vectors.\n",
    "\n",
    "**Input:** $N$ ($N \\ge 1$) qubits in the $|0 \\dots 0\\rangle$ state.\n",
    "\n",
    "**Goal:**  Change the state of the qubits to an equal superposition of all basis vectors $\\frac{1}{\\sqrt{2^N}} \\big (|0 \\dots 0\\rangle + \\dots + |1 \\dots 1\\rangle\\big)$. \n",
    "\n",
    "> For example, for $N = 2$ the final state should be  $\\frac{1}{\\sqrt{2}} \\big (|00\\rangle + |01\\rangle + |10\\rangle + |11\\rangle\\big)$."
   ]
  },
  {
   "cell_type": "markdown",
   "metadata": {},
   "source": [
    "### Solution\n",
    "\n",
    "As we've seen in [task 4](./Workbook_Superposition.ipynb#superposition-of-all-basis-vectors-on-two-qubits), to prepare a superposition of all basis vectors on 2 qubits we need to apply a Hadamard gate to each of the qubits.\n",
    "\n",
    "It seems that the solution for the general case might be to apply a Hadamard gate to every qubit as well. Let's check the first few examples:\n",
    "\n",
    "\\begin{align*}\n",
    "   H|0\\rangle &= \\frac{1}{\\sqrt2}\\big(|0\\rangle + |1\\rangle\\big)\\\\\n",
    "   H|0\\rangle \\otimes H|0\\rangle &= \\frac{1}{\\sqrt2} \\big(|0\\rangle + |1\\rangle\\big) \\otimes \\frac{1}{\\sqrt2} \\big(|0\\rangle + |1\\rangle\\big)\\\\   \n",
    "               &= \\frac{1}{\\sqrt{2^2}}\\big(|00\\rangle + |01\\rangle+ |10\\rangle+ |11\\rangle\\big)\\\\\n",
    "   H|0\\rangle \\otimes H|0\\rangle \\otimes H|0\\rangle &= \\frac{1}{\\sqrt{2^2}}\\big(|00\\rangle + |01\\rangle+ |10\\rangle+ |11\\rangle\\big) \\otimes \\frac{1}{\\sqrt2}\\big(|0\\rangle + |1\\rangle\\big)\\\\\n",
    "               &= \\frac{1}{\\sqrt{2^3}}\\big(|000\\rangle + |001\\rangle + |010\\rangle+ |100\\rangle+ |110\\rangle + |101\\rangle+ |011\\rangle+ |111\\rangle\\big)\\\\\n",
    "    \\underset{N}{\\underbrace{H|0\\rangle \\otimes \\dots \\otimes H|0\\rangle}} \n",
    "               &= \\frac{1}{\\sqrt{2^{N-1}}}  \\big( |\\underset{N-1}{\\underbrace{0 \\cdots 0}}\\rangle + \\cdots + |\\underset{N-1}{\\underbrace{1 \\cdots 1}}\\rangle \\big) \\otimes \\frac{1}{\\sqrt2}\\big(|0\\rangle + |1\\rangle\\big) = \\\\\n",
    "               &= \\frac{1}{\\sqrt{2^N}} \\big( |\\underset{N}{\\underbrace{0 \\cdots 0}}\\rangle + \\cdots + |\\underset{N}{\\underbrace{1 \\cdots 1}}\\rangle \\big)\\\\    \n",
    "\\end{align*}\n",
    "\n",
    "Thus, the solution requires us to iterate over the qubit array and to apply the Hadamard gate to each element as follows:"
   ]
  },
  {
   "cell_type": "code",
   "execution_count": null,
   "metadata": {},
   "outputs": [],
   "source": [
    "%kata T09_AllBasisVectorsSuperposition_Test\n",
    "\n",
    "operation AllBasisVectorsSuperposition (qs : Qubit[]) : Unit {\n",
    "    for (q in qs) {\n",
    "        H(q);\n",
    "    }\n",
    "}"
   ]
  },
  {
   "cell_type": "markdown",
   "metadata": {},
   "source": [
    "[Return to task 9 of the Superposition kata.](./Superposition.ipynb#superposition-of-all-basis-vectors)"
   ]
  },
  {
   "cell_type": "markdown",
   "metadata": {},
   "source": [
    "## <a name=\"superposition-of-all-even-or-all-odd-numbers\"></a>Task 10. Superposition of all even or all odd numbers.\n",
    "\n",
    "**Inputs:** \n",
    "\n",
    "1. $N$ ($N \\ge 1$) qubits in the $|0 \\dots 0\\rangle$ state (stored in an array of length $N$).\n",
    "2. A boolean `isEven`.\n",
    "\n",
    "**Goal:**  Prepare a superposition of all *even* numbers if `isEven` is `true`, or of all *odd* numbers if `isEven` is `false`.  \n",
    "A basis state encodes an integer number using [big-endian](https://en.wikipedia.org/wiki/Endianness) binary notation: state $|01\\rangle$ corresponds to the integer $1$, and state $|10 \\rangle$ - to the integer $2$.  \n",
    "\n",
    "> For example, for $N = 2$ and `isEven = false` you need to prepare superposition $\\frac{1}{\\sqrt{2}} \\big (|01\\rangle + |11\\rangle\\big )$,  \n",
    "and for $N = 2$ and `isEven = true` - superposition $\\frac{1}{\\sqrt{2}} \\big (|00\\rangle + |10\\rangle\\big )$.\n",
    "</details>"
   ]
  },
  {
   "cell_type": "markdown",
   "metadata": {},
   "source": [
    "### Solution\n",
    "\n",
    "Let’s look at some examples of basis states to illustrate the binary numbering system. \n",
    "\n",
    "The 4 basis states on $N = 2$ qubits can be split in two columns, where the left column represents the basis states that form the required superposition state for `isEven = false` and the right column - the basis states that form the required superposition state for `isEven = true`:\n",
    "\n",
    "<img src=\"./img/Task10_1.png\" width=\"400\">\n",
    " \n",
    "If we do the same basis state split for $N = 3$ qubits, the pattern becomes more obvious:\n",
    " \n",
    "<img src=\"./img/Task10_2.png\" width=\"400\">"
   ]
  },
  {
   "cell_type": "markdown",
   "metadata": {},
   "source": [
    "The two leftmost qubits go through all possible basis states for `isEven = false` and for `isEven = true`, and the rightmost qubit stays in the $|1\\rangle$ state for `isEven = false` and in the $|0\\rangle$ state for `isEven = true`. \n",
    "\n",
    "A quick sanity check for $N = 4$ qubits re-confirms the pattern:\n",
    " \n",
    "<img src=\"./img/Task10_3.png\" width=\"400\">\n",
    " \n",
    "Again, the three leftmost qubits go through all possible basis states in both columns, and the rightmost qubit stays in the same state in each column. \n",
    "\n",
    "The solution is to put all qubits except the rightmost one into an equal superposition (similar to what we did in Task 9) and to set the rightmost qubit to $|0\\rangle$ or $|1\\rangle$ depending on the `isEven` flag, using the X operator to convert $|0\\rangle$ to $|1\\rangle$ if `isEven = false`."
   ]
  },
  {
   "cell_type": "code",
   "execution_count": null,
   "metadata": {},
   "outputs": [],
   "source": [
    "%kata T10_EvenOddNumbersSuperposition_Test\n",
    "\n",
    "operation EvenOddNumbersSuperposition (qs : Qubit[], isEven : Bool) : Unit is Adj {\n",
    "    let N = Length(qs);\n",
    "    for (i in 0 .. N-2) {\n",
    "        H(qs[i]);\n",
    "    }\n",
    "    // for odd numbers, flip the last bit to 1\n",
    "    if (not isEven) {\n",
    "        X(qs[N-1]);\n",
    "    }\n",
    "}"
   ]
  },
  {
   "cell_type": "markdown",
   "metadata": {},
   "source": [
    "[Return to task 10 of the Superposition kata.](./Superposition.ipynb#superposition-of-all-even-or-all-odd-numbers)"
   ]
  },
  {
   "cell_type": "markdown",
   "metadata": {},
   "source": [
    "## <a name=\"hardy-state\"></a>Task 12. Hardy State.\n",
    "\n",
    "**Inputs:** \n",
    "\n",
    "1. 2 qubits in the $|00\\rangle$ state.\n",
    "\n",
    "**Goal:**  Prepare a superposition $\\frac{1}{\\sqrt{12}} \\big (3|00\\rangle+|01\\rangle+|10\\rangle+|11\\rangle\\big )$<br>\n",
    "Follow Mariia's answer at https://quantumcomputing.stackexchange.com/questions/6836/how-to-create-quantum-circuits-from-scratch\n"
   ]
  },
  {
   "cell_type": "markdown",
   "metadata": {},
   "source": [
    "### Solution\n",
    "**Step 0:** Start with the |00⟩ state<br>\n",
    "**Step 1:** Start by putting the first qubit \"in the right state\"<br>\n",
    "which is a state (α|0⟩+β|1⟩)⊗|0⟩, where α and β are the relative weights of all basis states which start with 0 and with 1, respectively. <br>\n",
    "Two basis states start with 0:      $\\frac{1}{\\sqrt{12}} \\big (3|00\\rangle + |01\\rangle\\big )$ and <br>\n",
    "two basis states start with 1:      $\\frac{1}{\\sqrt{12}} \\big (|10\\rangle + |11\\rangle\\big )$;<br>\n",
    "their relative weights are just the sums of squares of their amplitudes: 9/12+1/12=10/12 and 1/12+1/12=2/12, respectively. So you'll need to put the first qubit in the state $\\sqrt{\\frac{10}{12}}|0⟩ + \\sqrt{\\frac{2}{12}}|1⟩$ using Ry gate.<br>\n",
    "\n",
    "> $|00\\rangle \\overset{Ry_1}\\rightarrow \\big (\\sqrt{\\frac{10}{12}}|0⟩ + \\sqrt{\\frac{2}{12}}|1⟩ \\big ) \\otimes |0\\rangle =: |\\psi_1\\rangle$"
   ]
  },
  {
   "cell_type": "markdown",
   "metadata": {},
   "source": [
    "$\\begin{equation}Ry_1 := \\big ( Ry(\\theta) \\otimes I^{2})\\big) = \\begin{bmatrix} cos(\\frac{\\theta}{2}) & 0 & -sin(\\frac{\\theta}{2}) & 0 \\\\ 0 & cos(\\frac{\\theta}{2}) & 0 & -sin(\\frac{\\theta}{2}) \\\\ sin(\\frac{\\theta}{2}) & 0 & cos(\\frac{\\theta}{2}) & 0 \\\\ 0 & sin(\\frac{\\theta}{2}) & 0 & cos(\\frac{\\theta}{2})  \\end{bmatrix} \\text{ with } cos(\\frac{\\theta}{2})=\\sqrt{\\frac{10}{12}} \\text{ and } sin(\\frac{\\theta}{2})=\\sqrt{\\frac{2}{12}}\\end{equation}$<br>\n",
    "$\\begin{equation}Ry_1|00\\rangle = \\frac{1}{\\sqrt{12}} \\begin{bmatrix} \\sqrt{10} & 0 & -\\sqrt{2} & 0 \\\\ 0 & \\sqrt{10} & 0 & -\\sqrt{2} \\\\ \\sqrt{2} & 0 & \\sqrt{10} & 0 \\\\ 0 & \\sqrt{2} & 0 & \\sqrt{10} \\end{bmatrix} \\begin{bmatrix} 1 \\\\ 0 \\\\ 0 \\\\ 0 \\end{bmatrix}=\\frac{1}{\\sqrt{12}}\\begin{bmatrix} \\sqrt{10} \\\\ 0 \\\\ \\sqrt{2} \\\\ 0 \\end{bmatrix}=\\big (\\sqrt{\\frac{10}{12}}|0⟩ + \\sqrt{\\frac{2}{12}}|1⟩ \\big ) \\otimes |0\\rangle =: |\\psi_1\\rangle\\end{equation}$"
   ]
  },
  {
   "cell_type": "markdown",
   "metadata": {},
   "source": [
    "**Step 2:** Continue by putting the second qubit in the right state, applying controlled Ry gates with the first qubit as the control. To get the first two terms right, you need to convert the terms<br>(2.a) $$\\big (\\sqrt{\\frac{10}{12}}|0⟩) \\otimes |0\\rangle \\overset{Ry_2}\\rightarrow \\sqrt{\\frac{1}{12}} \\big (3|00⟩+|01⟩)$$ and<br>(2.b) $$\\big (\\sqrt{\\frac{2}{12}}|1⟩) \\otimes |0\\rangle \\overset{Ry_3}\\rightarrow \\sqrt{\\frac{1}{12}} \\big (|10⟩+|11⟩)$$"
   ]
  },
  {
   "cell_type": "markdown",
   "metadata": {},
   "source": [
    "**Step 2.a:** Converting $$\\big (\\sqrt{\\frac{10}{12}}|0⟩) \\otimes |0\\rangle \\overset{Ry_2}\\rightarrow \\sqrt{\\frac{1}{12}} \\big (3|00⟩+|01⟩)$$ is equivalent with (multiply both sides with $(\\sqrt{\\frac{12}{10}})$) $$|0⟩) \\otimes |0\\rangle \\overset{Ry_2}\\rightarrow \\sqrt{\\frac{1}{10}} \\big (3|00⟩+|01⟩)$$\n",
    "This rotation should only be applied if first qubit is $|0⟩$, i.e. we need a conditional-on-zero rotation. A regular conditional-on-one rotation (controlled rotation or CRy) is defined by $$C_1Ry:=CRy=\\begin{bmatrix}1 & 0 & 0 & 0 \\\\ 0 & 1 & 0 & 0 \\\\ 0 & 0 & cos(\\frac{\\theta}{2}) & -sin(\\frac{\\theta}{2}) \\\\ 0 & 0 & sin(\\frac{\\theta}{2}) & cos(\\frac{\\theta}{2})\\end{bmatrix} \\text{ where } cos(\\frac{\\theta}{2}) = \\frac{3}{\\sqrt{10}} \\text{ and } sin(\\frac{\\theta}{2})= \\frac{1}{\\sqrt{10}}$$\n",
    "A conditional-on-zero rotation we have to use an $X$ gate on the first qubit to transform $|0\\rangle\\rightarrow|1\\rangle$, do the rotation $CRy$ and do another $X$ to undo the first $X$ operation.\n",
    "$$C_0Ry:=\\big (X\\otimes I_2 \\big )CRy\\big (X\\otimes I_2 \\big )=\\begin{bmatrix} 0 & 0 & 1 & 0 \\\\ 0 & 0 & 0 & 1 \\\\ 1 & 0 & 0 & 0 \\\\ 0 & 1 & 0 & 0\\end{bmatrix} \\begin{bmatrix} 1 & 0 & 0 & 0 \\\\ 0 & 1 & 0 & 0 \\\\ 0 & 0 & cos(\\frac{\\theta}{2}) & -sin(\\frac{\\theta}{2}) \\\\ 0 & 0 & sin(\\frac{\\theta}{2}) & cos(\\frac{\\theta}{2})\\end{bmatrix} \\begin{bmatrix} 0 & 0 & 1 & 0 \\\\ 0 & 0 & 0 & 1 \\\\ 1 & 0 & 0 & 0 \\\\ 0 & 1 & 0 & 0\\end{bmatrix}=\\begin{bmatrix} 0 & 0 & cos(\\frac{\\theta}{2}) & -sin(\\frac{\\theta}{2}) \\\\ 0 & 0 & sin(\\frac{\\theta}{2}) & cos(\\frac{\\theta}{2}) \\\\ 1 & 0 & 0 & 0 \\\\ 0 & 1 & 0 & 0 \\end{bmatrix} \\begin{bmatrix} 0 & 0 & 1 & 0 \\\\ 0 & 0 & 0 & 1 \\\\ 1 & 0 & 0 & 0 \\\\ 0 & 1 & 0 & 0\\end{bmatrix} = \\begin{bmatrix} cos(\\frac{\\theta}{2}) & -sin(\\frac{\\theta}{2}) & 0 & 0 \\\\ sin(\\frac{\\theta}{2}) & cos(\\frac{\\theta}{2}) & 0 & 0 \\\\ 0 & 0 & 1 & 0 \\\\ 0 & 0 & 0 & 1 \\end{bmatrix}$$"
   ]
  },
  {
   "cell_type": "markdown",
   "metadata": {},
   "source": [
    "\n",
    "Operating $C_0Ry_2$ on $|\\psi_1\\rangle$: $$|\\psi_2\\rangle:=C_0Ry_2 |\\psi_1\\rangle = \\begin{bmatrix} cos(\\frac{\\theta}{2}) & -sin(\\frac{\\theta}{2}) & 0 & 0 \\\\ sin(\\frac{\\theta}{2}) & cos(\\frac{\\theta}{2}) & 0 & 0 \\\\ 0 & 0 & 1 & 0 \\\\ 0 & 0 & 0 & 1 \\end{bmatrix}\\frac{1}{\\sqrt{12}}\\begin{bmatrix} \\sqrt{10} \\\\ 0 \\\\ \\sqrt{2} \\\\ 0 \\end{bmatrix}=\\begin{bmatrix} \\frac{3}{\\sqrt{10}} & -\\frac{1}{\\sqrt{10}} & 0 & 0 \\\\ \\frac{1}{\\sqrt{10}} & \\frac{3}{\\sqrt{10}} & 0 & 0 \\\\ 0 & 0 & 1 & 0 \\\\ 0 & 0 & 0 & 1 \\end{bmatrix}\\frac{1}{\\sqrt{12}}\\begin{bmatrix} \\sqrt{10} \\\\ 0 \\\\ \\sqrt{2} \\\\ 0 \\end{bmatrix}=\\frac{1}{\\sqrt{12}}\\begin{bmatrix} 3 \\\\ 1 \\\\ \\sqrt{2} \\\\ 0 \\end{bmatrix}$$ with $cos(\\frac{\\theta}{2})=\\frac{3}{\\sqrt{10}}$ and $sin(\\frac{\\theta}{2})=\\frac{1}{\\sqrt{10}}$"
   ]
  },
  {
   "cell_type": "markdown",
   "metadata": {},
   "source": [
    "**Step 2.b:** Converting $$\\big (\\sqrt{\\frac{2}{12}}|1⟩) \\otimes |0\\rangle \\overset{Ry_3}\\rightarrow \\sqrt{\\frac{1}{12}} \\big (|10⟩+|11⟩)$$ can be done by a controlled rotation if first qubit is $|1\\rangle$, i.e. we need a conditional-on-one rotation (Controlled-Ry or CRy).\n",
    "This leads to $$\\frac{1}{\\sqrt{12}}\\begin{bmatrix} 0 \\\\ 0 \\\\ \\sqrt{2} \\\\ 0 \\end{bmatrix} \\overset{CRy_3}\\rightarrow \\frac{1}{\\sqrt{12}}\\begin{bmatrix} 0 \\\\ 0 \\\\ 1 \\\\ 1 \\end{bmatrix}.$$"
   ]
  },
  {
   "cell_type": "markdown",
   "metadata": {},
   "source": [
    "To solve the equation $$\\frac{1}{\\sqrt{12}}\\begin{bmatrix}1 & 0 & 0 & 0 \\\\ 0 & 1 & 0 & 0 \\\\ 0 & 0 & cos(\\frac{\\theta}{2}) & -sin(\\frac{\\theta}{2}) \\\\ 0 & 0 & sin(\\frac{\\theta}{2}) & cos(\\frac{\\theta}{2})\\end{bmatrix} \\begin{bmatrix} 0 \\\\ 0 \\\\ \\sqrt{2} \\\\ 0 \\end{bmatrix}=\\frac{1}{\\sqrt{12}}\\begin{bmatrix} 0 \\\\ 0 \\\\ 1 \\\\ 1 \\end{bmatrix}$$ \n",
    "we need to solve \n",
    "$cos(\\frac{\\theta}{2})\\sqrt{2}=sin(\\frac{\\theta}{2})\\sqrt{2}=1 => cos(\\frac{\\theta}{2})=\\frac{1}{\\sqrt{2}} => \\theta = 2*arccos(\\frac{1}{\\sqrt{2}})=2\\frac{\\pi}{4}=\\frac{\\pi}{2}$"
   ]
  },
  {
   "cell_type": "markdown",
   "metadata": {},
   "source": [
    "Thus $Ry_3 := Ry(\\frac{\\pi}{2})=\\begin{bmatrix} cos(\\frac{\\pi}{4}) & -sin(\\frac{\\pi}{4}) \\\\ sin(\\frac{\\pi}{4}) & cos(\\frac{\\pi}{4})\\end{bmatrix}=\\begin{bmatrix} \\frac{1}{\\sqrt{2}} & -\\frac{1}{\\sqrt{2}} \\\\ \\frac{1}{\\sqrt{2}} & \\frac{1}{\\sqrt{2}}\\end{bmatrix}$ and $$|\\psi_3\\rangle := CRy_3|\\psi_2\\rangle=\\begin{bmatrix} 1 & 0 & 0 & 0 \\\\ 0 & 1 & 0 & 0 \\\\ 0 & 0 & \\frac{1}{\\sqrt{2}} & -\\frac{1}{\\sqrt{2}} \\\\ 0 & 0 & \\frac{1}{\\sqrt{2}} & \\frac{1}{\\sqrt{2}}\\end{bmatrix}\\frac{1}{\\sqrt{12}} \\begin{bmatrix} 3 \\\\ 1 \\\\ \\sqrt{2} \\\\ 0 \\end{bmatrix}=\\frac{1}{\\sqrt{12}}\\begin{bmatrix} 3 \\\\ 1 \\\\ 1 \\\\ 1 \\end{bmatrix}=\\frac{1}{\\sqrt{12}} \\big (3|00\\rangle+|01\\rangle+|10\\rangle+|11\\rangle\\big )$$"
   ]
  },
  {
   "cell_type": "code",
   "execution_count": null,
   "metadata": {},
   "outputs": [],
   "source": [
    "        // Rotate first qubit to (Sqrt(10.0/12.0) |0⟩ + Sqrt(2.0/12.0) |1⟩)\n",
    "        let theta = ArcCos(Sqrt(10.0/12.0));\n",
    "        Ry(2.0 * theta, qs[0]);\n",
    "\n",
    "        (ControlledOnInt(0, Ry))([qs[0]], (2.0 * ArcCos(3.0/Sqrt(10.0)) , qs[1]));\n",
    "        (ControlledOnInt(1, Ry))([qs[0]], (2.0 * PI()/4.0 , qs[1]));\n"
   ]
  },
  {
   "cell_type": "markdown",
   "metadata": {},
   "source": [
    "*Solutions to the rest of the tasks coming up soon...*"
   ]
  }
 ],
 "metadata": {
  "kernelspec": {
   "display_name": "Q#",
   "language": "qsharp",
   "name": "iqsharp"
  },
  "language_info": {
   "file_extension": ".qs",
   "mimetype": "text/x-qsharp",
   "name": "qsharp",
   "version": "0.4"
  }
 },
 "nbformat": 4,
 "nbformat_minor": 2
}
