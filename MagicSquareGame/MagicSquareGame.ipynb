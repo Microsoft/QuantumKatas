{
 "cells": [
  {
   "cell_type": "markdown",
   "metadata": {},
   "source": [
    "# Magic Square Game\n",
    "\n",
    "The **Magic Square Game** quantum kata is a series of exercises designed\n",
    "to get you familiar with the Mermin-Peres magic square game.\n",
    "\n",
    "In it two players (Alice and Bob) try to win the game in which they\n",
    "have to fill one row and one column of a 3x3 table with plus and minus signs.\n",
    "\n",
    "Alice is given an index of a _row_ and has to fill that row\n",
    "so that it has an _even_ number of minus signs.\n",
    "Bob is given an index of a _column_ and has to fill that column\n",
    "so that it has an _odd_ number of minus signs.\n",
    "The sign in the cell that belongs to the intersection of Alice's row and Bob's column\n",
    "has to match in both Alice's and Bob's answers.\n",
    "The trick is, the players can not communicate during the game.\n",
    "\n",
    "Each task is wrapped in one operation preceded by the description of the task.\n",
    "Your goal is to fill in the blanks (marked with the `// ...` comments)\n",
    "with some Q# code to make the failing tests pass.  To verify your answer, run the cell with Ctrl/⌘+Enter.\n",
    "\n",
    "Within each section, tasks are given in approximate order of increasing difficulty;\n",
    "harder ones are marked with asterisks."
   ]
  },
  {
   "cell_type": "markdown",
   "metadata": {},
   "source": [
    "To begin, first prepare this notebook for execution (if you skip this step, you'll get \"Syntax does not match any known patterns\" error when you try to execute Q# code in the next cells):"
   ]
  },
  {
   "cell_type": "code",
   "execution_count": null,
   "metadata": {},
   "outputs": [],
   "source": [
    "%package Microsoft.Quantum.Katas::0.7.1905.3109"
   ]
  },
  {
   "cell_type": "markdown",
   "metadata": {},
   "source": [
    "> The package versions in the output of the cell above should always match. If you are running the Notebooks locally and the versions do not match, please install the IQ# version that matches the version of the `Microsoft.Quantum.Katas` package.\n",
    "> <details>\n",
    "> <summary><u>How to install the right IQ# version</u></summary>\n",
    "> For example, if the version of `Microsoft.Quantum.Katas` package above is 0.1.2.3, the installation steps are as follows:\n",
    ">\n",
    "> 1. Stop the kernel.\n",
    "> 2. Uninstall the existing version of IQ#:\n",
    ">        dotnet tool uninstall microsoft.quantum.iqsharp -g\n",
    "> 3. Install the matching version:\n",
    ">        dotnet tool install microsoft.quantum.iqsharp -g --version 0.1.2.3\n",
    "> 4. Reinstall the kernel:\n",
    ">        dotnet iqsharp install\n",
    "> 5. Restart the Notebook.\n",
    "> </details>\n"
   ]
  },
  {
   "cell_type": "markdown",
   "metadata": {},
   "source": [
    "## Part I. Classical Magic Square Game\n"
   ]
  },
  {
   "cell_type": "markdown",
   "metadata": {},
   "source": [
    "### Task 1.1. Validate Alice and Bob's moves\n",
    "\n",
    "In this task you have to implement two functions, one for validating Alice's move and one for validating Bob's move.\n",
    "Note that they are covered by one test, so you have to implement both before attempting the test.\n",
    "\n",
    "**Input:** \n",
    "\n",
    "  The signs Alice chose for each cell in her row,\n",
    "  represented as an Int array of length 3.\n",
    "\n",
    "**Output:**\n",
    "\n",
    "  True if Alice's move is valid (every cell is either +1 or -1 and\n",
    "  the array has an even number of minus signs), and false otherwise."
   ]
  },
  {
   "cell_type": "code",
   "execution_count": null,
   "metadata": {},
   "outputs": [],
   "source": [
    "%kata T11_Oracle_AllOnes_Test \n",
    "\n",
    "operation Oracle_AllOnes (queryRegister : Qubit[], target : Qubit) : Unit is Adj {\n",
    "    // ...\n",
    "}"
   ]
  },
  {
   "cell_type": "markdown",
   "metadata": {},
   "source": [
    "### Task 1.2. Win condition\n",
    "\n",
    "**Inputs:**\n",
    "\n",
    "  1. The row and column indices Alice and Bob were assigned. Each index will be between 0 and 2, inclusive.\n",
    "\n",
    "  2. Alice and Bob's moves, represented as Int arrays of length 3.\n",
    "\n",
    "**Output:**\n",
    "\n",
    "  True if Alice and Bob won the game (that is, if both their moves are valid and\n",
    "  they chose the same sign in the cell on the intersection of Alice's row and Bob's column),\n",
    "  and false otherwise."
   ]
  },
  {
   "cell_type": "code",
   "execution_count": null,
   "metadata": {},
   "outputs": [],
   "source": [
    "%kata T12_Oracle_AlternatingBits_Test \n",
    "\n",
    "operation Oracle_AlternatingBits (queryRegister : Qubit[], target : Qubit) : Unit is Adj {\n",
    "    // ...\n",
    "}"
   ]
  },
  {
   "cell_type": "markdown",
   "metadata": {},
   "source": [
    "### Task 1.3. Alice and Bob's classical strategy\n",
    "\n",
    "In this task you have to implement two functions, one for Alice's classical strategy and one for Bob's.\n",
    "Note that they are covered by one test, so you have to implement both before attempting the test.\n",
    "The classical strategy should win about 89% of the time.\n",
    "\n",
    "**Inputs:**\n",
    "\n",
    "  The index of Alice's row. (Alice Classical)\n",
    "\n",
    "  The index of Bob's column. (Bob Classical)\n",
    "\n",
    "**Outputs:**\n",
    "\n",
    "  The signs Alice should place in her row (as an Int array of length 3).\n",
    "  +1 indicates plus sign, -1 - minus sign. (Alice Classical)\n",
    "\n",
    "  The signs Bob should place in his column (as an Int array of length 3).\n",
    "  +1 indicates plus sign, -1 - minus sign."
   ]
  },
  {
   "cell_type": "code",
   "execution_count": null,
   "metadata": {},
   "outputs": [],
   "source": [
    "%kata T13_Oracle_ArbitraryPattern_Test \n",
    "\n",
    "operation Oracle_ArbitraryPattern (queryRegister : Qubit[], target : Qubit, pattern : Bool[]) : Unit is Adj {\n",
    "    // ...\n",
    "}"
   ]
  },
  {
   "cell_type": "markdown",
   "metadata": {},
   "source": [
    "## Part II. Quantum Magic Square Game\n",
    "\n",
    "In the quantum version of the game, the players still can not\n",
    "communicate during the game, but they are allowed to share \n",
    "qubits from two entangled pairs before the start of the game.\n"
   ]
  },
  {
   "cell_type": "markdown",
   "metadata": {},
   "source": [
    "### Task 2.1. Entangled state\n",
    "\n",
    "**Input:**\n",
    "\n",
    "  An array of 4 qubits in the $|0000\\rangle$ state.\n",
    "\n",
    "**Goal:**\n",
    "\n",
    "  Create the entangled state\n",
    "$|\\varphi\\rangle = \\frac{|+\\rangle_0 \\oplus |+\\rangle_2 + |-\\rangle_0 \\oplus |-\\rangle_2}{\\sqrt{2}} \\oplus \\frac{|+\\rangle_1 \\oplus |+\\rangle_3 + |-\\rangle_1 \\oplus |-\\rangle_3}{\\sqrt{2}}$\n",
    "\n",
    "where $|\\psi\\rangle_0 and |\\psi\\rangle_1 are Alice's qubits and |\\psi\\rangle_2 and |\\psi\\rangle_3 are Bob's qubits."
   ]
  },
  {
   "cell_type": "code",
   "execution_count": null,
   "metadata": {},
   "outputs": [],
   "source": [
    "%kata T21_HadamardTransform_Test \n",
    "\n",
    "operation HadamardTransform (register : Qubit[]) : Unit is Adj {\n",
    "    // ...\n",
    "}"
   ]
  },
  {
   "cell_type": "markdown",
   "metadata": {},
   "source": [
    "### Task 2.2. Magic square observables\n",
    "\n",
    "**Input:**\n",
    "\n",
    "  A row and column indices corresponding to a cell in a magic square.\n",
    "**Output:**\n",
    "\n",
    "A tuple that represents the given cell of a magic square.\n",
    "The first element of the tuple is an Int denoting the sign of the observable (+1 for plus, -1 for minus),\n",
    "the second - an array of 2 observables of type Pauli.\n",
    "\n",
    "The square should satisfy the following properties:\n",
    "\n",
    "  1. The observables in each row and column mutually commute,\n",
    "  2. The product of observables in each row is i,\n",
    "  3. The product of observables in each column is -i.\n",
    "\n",
    "Note that different sources that describe Mermin-Peres game give different magic squares.\n",
    "We recommend you to pick one source and follow it throughout the rest of the tasks in this kata."
   ]
  },
  {
   "cell_type": "code",
   "execution_count": null,
   "metadata": {},
   "outputs": [],
   "source": [
    "%kata T22_ConditionalPhaseFlip_Test \n",
    "\n",
    "operation ConditionalPhaseFlip (register : Qubit[]) : Unit is Adj {\n",
    "    // ...\n",
    "}"
   ]
  },
  {
   "cell_type": "markdown",
   "metadata": {},
   "source": [
    "### Task 2.3. Apply magic square observables\n",
    "\n",
    "**Inputs:**\n",
    "\n",
    "  1. A tuple representing an observable in a cell of a magic square, in the same format as in task 2.2.\n",
    "\n",
    "  2. An array of 2 qubits.\n",
    "\n",
    "**Goal:** \n",
    "\n",
    "  Apply the observable described by this tuple to the given array of qubits.\n",
    "\n",
    "For example, if the given tuple is (-1, [PauliX, PauliY]), you have to \n",
    "apply X to the first qubit, Y to the second qubit, and a global phase of -1 to the two-qubit state."
   ]
  },
  {
   "cell_type": "code",
   "execution_count": null,
   "metadata": {},
   "outputs": [],
   "source": [
    "%kata T23_GroverIteration_Test \n",
    "\n",
    "operation GroverIteration (register : Qubit[], oracle : (Qubit[] => Unit is Adj)) : Unit is Adj {\n",
    "    // ...\n",
    "}"
   ]
  },
  {
   "cell_type": "markdown",
   "metadata": {},
   "source": [
    "### Task 2.4. Measure observables using joint measurement\n",
    "\n",
    "**Inputs:**\n",
    "\n",
    "  1. A tuple representing an observable in a cell of a magic square, in the same format as in task 2.2.\n",
    "\n",
    "  2. A 2-qubit register to measure the observable on.\n",
    "\n",
    "The register is guaranteed to be in one of the eigenstates of the observable.\n",
    "\n",
    "**Output:** \n",
    "\n",
    "  The result of measuring the observable on the given register:\n",
    "\n",
    "Zero if eigenvalue +1 has been measured, One if eigenvalue -1 has been measured.\n",
    "\n",
    "The state of the qubits at the end of the operation does not matter."
   ]
  },
  {
   "cell_type": "code",
   "execution_count": null,
   "metadata": {},
   "outputs": [],
   "source": [
    "%kata T24_GroverIteration_Test \n",
    "\n",
    "operation GroverIteration (register : Qubit[], oracle : (Qubit[] => Unit is Adj)) : Unit is Adj {\n",
    "    // ...\n",
    "}"
   ]
  },
  {
   "cell_type": "markdown",
   "metadata": {},
   "source": [
    "### Task 2.5. Measure an operator\n",
    "\n",
    "**Inputs:**\n",
    "\n",
    "  1. An operator which acts on 2 qubits, has eigenvalues +1 and -1 and has a controlled variant.\n",
    "\n",
    "  2. A 2-qubit register to measure the operator on.\n",
    "\n",
    "The register is guaranteed to be in one of the eigenstates of the operator.\n",
    "\n",
    "**Output:** \n",
    "\n",
    "  The result of measuring the operator on the given register: \n",
    "\n",
    "  Zero if eigenvalue +1 has been measured, One if eigenvalue -1 has been measured.\n",
    "\n",
    "The state of the qubits at the end of the operation does not matter."
   ]
  },
  {
   "cell_type": "code",
   "execution_count": null,
   "metadata": {},
   "outputs": [],
   "source": [
    "%kata T25_GroverIteration_Test \n",
    "\n",
    "operation GroverIteration (register : Qubit[], oracle : (Qubit[] => Unit is Adj)) : Unit is Adj {\n",
    "    // ...\n",
    "}"
   ]
  },
  {
   "cell_type": "markdown",
   "metadata": {},
   "source": [
    "### Task 2.6. Alice and Bob's quantum strategy\n",
    "\n",
    "In this task you have to implement two functions, one for Alice's quantum strategy and one for Bob's.\n",
    "Note that they are covered by one test, so you have to implement both before attempting the test.\n",
    "The best quantum strategy can win every time.\n",
    "\n",
    "**Inputs:**\n",
    "\n",
    "  1. The index of Alice's row.\n",
    "\n",
    "  2. Alice's share of the entangled qubits, stored as an array of length 2.\n",
    "\n",
    "**Output:**\n",
    "\n",
    "  The signs Alice should place in her row (as an Int array of length 3).\n",
    "  +1 indicates plus sign, -1 - minus sign."
   ]
  },
  {
   "cell_type": "code",
   "execution_count": null,
   "metadata": {},
   "outputs": [],
   "source": [
    "%kata T26_GroverIteration_Test \n",
    "\n",
    "operation GroverIteration (register : Qubit[], oracle : (Qubit[] => Unit is Adj)) : Unit is Adj {\n",
    "    // ...\n",
    "}"
   ]
  },
  {
   "cell_type": "markdown",
   "metadata": {},
   "source": [
    "### Task 2.7. Play the magic square game using the quantum strategy\n",
    "\n",
    "**Inputs:**\n",
    "\n",
    "  Operations that return Alice and Bob's moves based on their quantum\n",
    "strategies and given their respective qubits from the entangled state.\n",
    "Alice and Bob have already been told their row and column indices.\n",
    "\n",
    "**Goal:** \n",
    "\n",
    "  Return Alice and Bob's moves.\n",
    "\n",
    "Note that this task uses strategies AliceQuantum and BobQuantum \n",
    "which you've implemented in task 2.6."
   ]
  },
  {
   "cell_type": "code",
   "execution_count": null,
   "metadata": {},
   "outputs": [],
   "source": [
    "%kata T27_GroverIteration_Test \n",
    "\n",
    "operation GroverIteration (register : Qubit[], oracle : (Qubit[] => Unit is Adj)) : Unit is Adj {\n",
    "    // ...\n",
    "}"
   ]
  },
  {
   "cell_type": "markdown",
   "metadata": {},
   "source": [
    "## Part III. Experimenting with the Magic Square"
   ]
  },
  {
   "cell_type": "markdown",
   "metadata": {},
   "source": [
    "### Task 3.1. Testing magic square strategies\n",
    "\n",
    "**Goal:**\n",
    "\n",
    "  Use your classical and quantum magic square strategies from tasks 1.3 and 2.6 to\n",
    "verify their probabilities of winning. Can you make the classical strategy lose?\n",
    "\n",
    "<br/>\n",
    "<details>\n",
    "  <summary>Need a hint? Click here</summary>\n",
    "    You will need to use partial application to use your quantum strategies from task\n",
    "2.6 with PlayQuantumMagicSquare from task 2.7.\n",
    "</details>\n",
    "<br/>\n",
    "<details>\n",
    "  <summary>Need another hint? Click here </summary>\n",
    "    Use WinCondition function from task 1.2 to check that Alice and Bob won the game.\n",
    "</details>\n",
    "<br/>\n",
    "<details>\n",
    "  <summary>Need another hint? Click here </summary>\n",
    "    Use the DrawMagicSquare function in Tests.qs to see what the magic square looks\n",
    " like after Alice and Bob make their moves.\n",
    "</details>\n",
    "\n",
    "MagicSquare_Test appears in the list of unit tests for the solution; run it to verify\n",
    "your code."
   ]
  },
  {
   "cell_type": "code",
   "execution_count": null,
   "metadata": {},
   "outputs": [],
   "source": [
    "%kata T31_GroversSearch_Test \n",
    "\n",
    "operation GroversSearch (register : Qubit[], oracle : ((Qubit[], Qubit) => Unit is Adj), iterations : Int) : Unit {\n",
    "    // ...\n",
    "}"
   ]
  }
 ],
 "metadata": {
  "kernelspec": {
   "display_name": "Q#",
   "language": "qsharp",
   "name": "iqsharp"
  },
  "language_info": {
   "file_extension": ".qs",
   "mimetype": "text/x-qsharp",
   "name": "qsharp",
   "version": "0.4"
  }
 },
 "nbformat": 4,
 "nbformat_minor": 2
}
