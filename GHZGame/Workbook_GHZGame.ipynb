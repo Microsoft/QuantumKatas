{
 "cells": [
  {
   "cell_type": "markdown",
   "metadata": {},
   "source": [
    "# GHZ Game\n",
    "\n",
    "The **GHZ Game** quantum kata is a series of exercises designed\n",
    "to get you familiar with the GHZ game.\n",
    "\n",
    "In it three players (Alice, Bob and Charlie) try to win the following game:\n",
    "\n",
    "Each of them is given a bit (r, s and t respectively), and\n",
    "they have to return new bits (a, b and c respectively) so\n",
    "that  r ∨ s ∨ t = a ⊕ b ⊕ c.* The input bits will have\n",
    "zero or two bits set to true and three or one bits set to false.\n",
    "The trick is, the players can not communicate during the game.\n",
    "\n",
    "```\n",
    "* '∨' is the standard bitwise OR operator.\n",
    "* '⊕' is the exclusive or, or XOR operator, so 'P ⊕ Q' is true if exactly one of P and Q is true.\n",
    "```\n",
    "\n",
    "* You can read more about the GHZ game in the [lecture notes](https://cs.uwaterloo.ca/~watrous/CPSC519/LectureNotes/20.pdf) by John Watrous. \n",
    "* Another description can be found in the [lecture notes](https://staff.fnwi.uva.nl/m.walter/physics491/lecture1.pdf) by Michael Walter.\n",
    "\n",
    "Each task is wrapped in one operation preceded by the description of the task.\n",
    "Your goal is to fill in the blank (marked with the `// ...` comments)\n",
    "with some Q# code that solves the task. To verify your answer, run the cell using Ctrl/⌘+Enter.\n"
   ]
  },
  {
   "cell_type": "markdown",
   "metadata": {},
   "source": [
    "To begin, first prepare this notebook for execution (if you skip this step, you'll get \"Syntax does not match any known patterns\" error when you try to execute Q# code in the next cells):"
   ]
  },
  {
   "cell_type": "code",
   "execution_count": 1,
   "metadata": {},
   "outputs": [
    {
     "data": {
      "application/json": "{\"LastUpdated\":\"2020-07-28T12:15:39.9277417-07:00\",\"IsCompleted\":true,\"Description\":\"Adding package Microsoft.Quantum.Katas::0.12.20072031\",\"Subtask\":\"done\"}",
      "text/plain": [
       "Adding package Microsoft.Quantum.Katas::0.12.20072031: done!"
      ]
     },
     "metadata": {},
     "output_type": "display_data"
    },
    {
     "data": {
      "application/json": "[\"Microsoft.Quantum.Standard::0.12.20072031\",\"Microsoft.Quantum.Katas::0.12.20072031\"]",
      "text/html": [
       "<ul><li>Microsoft.Quantum.Standard::0.12.20072031</li><li>Microsoft.Quantum.Katas::0.12.20072031</li></ul>"
      ],
      "text/plain": [
       "Microsoft.Quantum.Standard::0.12.20072031, Microsoft.Quantum.Katas::0.12.20072031"
      ]
     },
     "execution_count": 1,
     "metadata": {},
     "output_type": "execute_result"
    }
   ],
   "source": [
    "%package Microsoft.Quantum.Katas::0.12.20072031"
   ]
  },
  {
   "cell_type": "markdown",
   "metadata": {},
   "source": [
    "> The package versions in the output of the cell above should always match. If you are running the Notebooks locally and the versions do not match, please install the IQ# version that matches the version of the `Microsoft.Quantum.Katas` package.\n",
    "> <details>\n",
    "> <summary><u>How to install the right IQ# version</u></summary>\n",
    "> For example, if the version of `Microsoft.Quantum.Katas` package above is 0.1.2.3, the installation steps are as follows:\n",
    ">\n",
    "> 1. Stop the kernel.\n",
    "> 2. Uninstall the existing version of IQ#:\n",
    ">        dotnet tool uninstall microsoft.quantum.iqsharp -g\n",
    "> 3. Install the matching version:\n",
    ">        dotnet tool install microsoft.quantum.iqsharp -g --version 0.1.2.3\n",
    "> 4. Reinstall the kernel:\n",
    ">        dotnet iqsharp install\n",
    "> 5. Restart the Notebook.\n",
    "> </details>\n"
   ]
  },
  {
   "cell_type": "markdown",
   "metadata": {},
   "source": [
    "## Part I. Classical GHZ\n"
   ]
  },
  {
   "cell_type": "markdown",
   "metadata": {},
   "source": [
    "### Task 1.1. Win Condition\n",
    "**Inputs:** \n",
    "\n",
    "  1. Alice, Bob and Charlie's input bits (r, s and t), stored as an array of length 3,\n",
    "\n",
    "  2. Alice, Bob and Charlie's output bits (a, b and c), stored as an array of length 3.\n",
    "\n",
    "The input bits will have zero or two bits set to true.\n",
    "\n",
    "**Output:** \n",
    "True if Alice, Bob and Charlie won the GHZ game, that is, if r ∨ s ∨ t = a ⊕ b ⊕ c, and false otherwise."
   ]
  },
  {
   "cell_type": "code",
   "execution_count": 2,
   "metadata": {},
   "outputs": [
    {
     "data": {
      "application/json": "\"Success!\"",
      "text/plain": [
       "Success!"
      ]
     },
     "execution_count": 2,
     "metadata": {},
     "output_type": "execute_result"
    }
   ],
   "source": [
    "%kata T11_WinCondition_Test \n",
    "\n",
    "open Microsoft.Quantum.Logical;\n",
    "\n",
    "function WinCondition (rst : Bool[], abc : Bool[]) : Bool {\n",
    "    // There are four inputs possible, (0,0,0), (0,1,1), (1,0,1), and (1,1,0), each with 25% probability.\n",
    "    // Therefore, in order to win, the sum of the output bits has to be even if the input is (0,0,0) and odd otherwise.\n",
    "    \n",
    "    let p = Or(rst[0], Or(rst[1], rst[2])); \n",
    "    let u = Xor(abc[0], Xor(abc[1], abc[2]));\n",
    "    return (p == u);\n",
    "}"
   ]
  },
  {
   "cell_type": "markdown",
   "metadata": {},
   "source": [
    "### Task 1.2. Random classical strategy\n",
    "\n",
    "**Input:** The input bit for one of the players (r, s or t).\n",
    "\n",
    "**Output:** A random bit that this player will output (a, b or c).\n",
    "\n",
    "If all players use this strategy, they will win about 50% of the time."
   ]
  },
  {
   "cell_type": "code",
   "execution_count": 3,
   "metadata": {},
   "outputs": [
    {
     "data": {
      "application/json": "\"Success!\"",
      "text/plain": [
       "Success!"
      ]
     },
     "execution_count": 3,
     "metadata": {},
     "output_type": "execute_result"
    }
   ],
   "source": [
    "%kata T12_RandomClassical_Test \n",
    "\n",
    "operation RandomClassicalStrategy (input : Bool) : Bool {\n",
    "    let coin = Random([0.5, 0.5]);\n",
    "    return (coin == 1);\n",
    "}"
   ]
  },
  {
   "cell_type": "markdown",
   "metadata": {},
   "source": [
    "### Task 1.3. Best classical strategy\n",
    "\n",
    "**Input:** The input bit for one of the players (r, s or t).\n",
    "\n",
    "**Output:** A bit that this player will output (a, b or c) to maximize their chance of winning.\n",
    "\n",
    "All players will use the same strategy.\n",
    "The best classical strategy should win about 75% of the time."
   ]
  },
  {
   "cell_type": "code",
   "execution_count": 4,
   "metadata": {},
   "outputs": [
    {
     "data": {
      "application/json": "\"Success!\"",
      "text/plain": [
       "Success!"
      ]
     },
     "execution_count": 4,
     "metadata": {},
     "output_type": "execute_result"
    }
   ],
   "source": [
    "%kata T13_BestClassical_Test \n",
    "\n",
    "operation BestClassicalStrategy (input : Bool) : Bool {\n",
    "    // If all three players return TRUE, then a ⊕ b ⊕ c = TRUE by necessity (since the sum of their bits is odd).\n",
    "    // This will win against inputs of |011>, |101>, and |110> and lose against |000>.\n",
    "    // Since the four above inputs have equal probability and represent all possible inputs,\n",
    "    // this strategy wins with 75% probability.\n",
    "    return true;\n",
    "}"
   ]
  },
  {
   "cell_type": "markdown",
   "metadata": {},
   "source": [
    "### Task 1.4. Referee classical GHZ game\n",
    "\n",
    "**Inputs:** \n",
    "\n",
    "  1. An operation which implements a classical strategy (i.e., takes an input bit and produces an output bit),\n",
    "\n",
    "  2. An array of 3 input bits that should be passed to the players.\n",
    "\n",
    "**Output:** \n",
    "An array of 3 bits that will be produced if each player uses this strategy."
   ]
  },
  {
   "cell_type": "code",
   "execution_count": 5,
   "metadata": {},
   "outputs": [
    {
     "data": {
      "application/json": "\"Success!\"",
      "text/plain": [
       "Success!"
      ]
     },
     "execution_count": 5,
     "metadata": {},
     "output_type": "execute_result"
    }
   ],
   "source": [
    "%kata T14_PlayClassicalGHZ_Test \n",
    "\n",
    "operation PlayClassicalGHZ (strategy : (Bool => Bool), inputs : Bool[]) : Bool[] {\n",
    "    // Input bits and strategy are given, so simply convert them to the output bits.\n",
    "    let r = inputs[0];\n",
    "    let s = inputs[1];\n",
    "    let t = inputs[2];\n",
    "    let a = strategy(r);\n",
    "    let b = strategy(s);\n",
    "    let c = strategy(t);\n",
    "    return [a, b, c];\n",
    "}"
   ]
  },
  {
   "cell_type": "markdown",
   "metadata": {},
   "source": [
    "## Part II. Quantum GHZ\n",
    "\n",
    "In the quantum version of the game, the players still can not\n",
    "communicate during the game, but they are allowed to share \n",
    "qubits from an entangled triple before the start of the game.\n"
   ]
  },
  {
   "cell_type": "markdown",
   "metadata": {},
   "source": [
    "### Task 2.1. Entangled triple\n",
    "\n",
    "**Input:** An array of three qubits in the $|000\\rangle$ state.\n",
    "\n",
    "**Goal:** Create the entangled state $|\\Phi\\rangle = \\frac{1}{2} \\big(|000\\rangle - |011\\rangle - |101\\rangle - |110\\rangle \\big)$ on these qubits."
   ]
  },
  {
   "cell_type": "code",
   "execution_count": 6,
   "metadata": {},
   "outputs": [
    {
     "data": {
      "application/json": "\"Success!\"",
      "text/plain": [
       "Success!"
      ]
     },
     "execution_count": 6,
     "metadata": {},
     "output_type": "execute_result"
    }
   ],
   "source": [
    "%kata T21_CreateEntangledTriple_Test \n",
    "\n",
    "operation CreateEntangledTriple (qs : Qubit[]) : Unit {\n",
    "    X(qs[0]);\n",
    "    X(qs[1]);\n",
    "    // X ⊗ X is a matrix with 1's on the top-right to bottom-left diagonal and zero otherwise,\n",
    "    // so the above leads to |110>.\n",
    "    // An alternative way to look at this is simply as a pair of NOT operations on the first two qubits.\n",
    "\n",
    "    H(qs[0]);\n",
    "    H(qs[1]);\n",
    "    // As the right-hand column of H ⊗ H goes [+1/2, -1/2, -1/2, +1/2],\n",
    "    // the above leads to 1/2 (|000> - |010> - |100> + |110>).\n",
    "    // See:  https://en.wikipedia.org/wiki/Hadamard_transform  for more info.\n",
    "\n",
    "    CZ(qs[0], qs[1]);\n",
    "    // CZ (controlled Z) is a 4x4 matrix with +1, +1, +1, -1 along the diagonal and otherwise zero,\n",
    "    // so the above leads to 1/2 (|000> - |010> - |100> - |110>).\n",
    "\n",
    "    (ControlledOnBitString([false, true], X))([qs[0], qs[1]], qs[2]);\n",
    "    (ControlledOnBitString([true, false], X))([qs[0], qs[1]], qs[2]);\n",
    "    // Applies a NOT gate to qubit 3 if and only if first two qubits match the given bit mask,\n",
    "    // so now we have our desired state: 1/2 (|000> - |011> - |101> - |110>).\n",
    "}"
   ]
  },
  {
   "cell_type": "markdown",
   "metadata": {},
   "source": [
    "### Task 2.2. Quantum strategy\n",
    "\n",
    "**Inputs:**\n",
    "\n",
    "  1. The input bit for one of the players (r, s or t),\n",
    "\n",
    "  2. That player's qubit of the entangled triple shared between the players.\n",
    "\n",
    "**Goal:** Measure the qubit in the Z basis if the bit is 0 (false), or the X basis if the bit is 1 (true), and return the result.\n",
    "\n",
    "The state of the qubit after the operation does not matter."
   ]
  },
  {
   "cell_type": "code",
   "execution_count": 7,
   "metadata": {},
   "outputs": [
    {
     "data": {
      "application/json": "\"Success!\"",
      "text/plain": [
       "Success!"
      ]
     },
     "execution_count": 7,
     "metadata": {},
     "output_type": "execute_result"
    }
   ],
   "source": [
    "%kata T22_QuantumStrategy_Test \n",
    "\n",
    "open Microsoft.Quantum.Measurement;\n",
    "\n",
    "operation QuantumStrategy (input : Bool, qubit : Qubit) : Bool {\n",
    "    if (input) {\n",
    "        let q = MResetX(qubit);\n",
    "        return (q == One);\n",
    "    }\n",
    "    else {\n",
    "        let q = MResetZ(qubit);\n",
    "        return (q == One);\n",
    "    }\n",
    "}"
   ]
  },
  {
   "cell_type": "markdown",
   "metadata": {},
   "source": [
    "### Why the above strategy has a 100% win rate\n",
    "\n",
    "Recall the formula for the win condition:\n",
    "* The sum of the answer bits must be even if the question bits are (0,0,0)\n",
    "* The sum of the answer bits must be odd if the question bits are (1,1,0), (1,0,1) or (0,1,1).\n",
    "\n",
    "Now, in standard tensor expansion, the probability \"wavefunction\" for three qubits is given by the following vector of length 8:\n",
    "\n",
    "$\n",
    "\\begin{bmatrix}\n",
    "\\psi_{000}\\\\\n",
    "\\psi_{001}\\\\\n",
    "\\psi_{010}\\\\\n",
    "\\psi_{011}\\\\\n",
    "\\psi_{100}\\\\\n",
    "\\psi_{101}\\\\\n",
    "\\psi_{110}\\\\\n",
    "\\psi_{111}\n",
    "\\end{bmatrix}\n",
    "$\n",
    "\n",
    "where $\\psi$ represents the \"wavefunction\" amplitude for the three-qubit combination.  $\\psi^2$ gives the probability of observing that combination upon measurement.\n",
    "\n",
    "Now, for the entangled state $|\\Phi\\rangle$ that Alice, Bob and Charlie have agreed to use, this vector has the values\n",
    "\n",
    "$\n",
    "\\begin{bmatrix}\n",
    "+1/2\\\\\n",
    " 0\\\\\n",
    " 0\\\\\n",
    "-1/2\\\\\n",
    " 0\\\\\n",
    "-1/2\\\\\n",
    "-1/2\\\\\n",
    " 0\n",
    "\\end{bmatrix}\n",
    "$\n",
    "\n",
    "To win, their answers must (but need only) match the odd-even parity in the event of three zeroes and be opposite otherwise.  So for three zeros, it suffices for all three players to take a standard Z basis measurement, all of which return one of the four original combinations from the entangled state, which sum to an even number and the team wins.  Another way to see this is the form of the $Z \\otimes Z \\otimes Z$ tensor product\n",
    "\n",
    "$\n",
    "Z \\otimes Z \\otimes Z = \\begin{bmatrix}\n",
    "1 & 0 & 0 & 0 & 0 & 0 & 0 & 0\\\\\n",
    "0 & -1 & 0 & 0 & 0 & 0 & 0 & 0\\\\\n",
    "0 & 0 & -1 & 0 & 0 & 0 & 0 & 0\\\\\n",
    "0 & 0 & 0 & 1 & 0 & 0 & 0 & 0\\\\\n",
    "0 & 0 & 0 & 0 & -1 & 0 & 0 & 0\\\\\n",
    "0 & 0 & 0 & 0 & 0 & 1 & 0 & 0\\\\\n",
    "0 & 0 & 0 & 0 & 0 & 0 & 1 & 0\\\\\n",
    "0 & 0 & 0 & 0 & 0 & 0 & 0 & -1\n",
    "\\end{bmatrix}:  \n",
    "$\n",
    "converts $(+a, +b, +c, +d, +e, +f, +g, +h)$ to $(+a, -b, -c, +d, -e, +f, +g, -h)$.\n",
    "\n",
    "As $a$, $d$, $f$ and $g$ are the only terms with any amplitude, the parity is preserved and the team wins.\n",
    "\n",
    "Now, suppose the team got $|110\\rangle$.  Charlie, looking at a zero, takes a Z basis measurement as before, while Alice and Bob each take X basis measurements.  (An X basis measurement is also equivalent to performing a Hadamard transform followed by a standard Z basis measurement, as the X basis runs along the $| + \\rangle$ / $| - \\rangle$ axis and a Hadamard transform rotates the $| 0 \\rangle$ / $| 1 \\rangle$ polarity to $| + \\rangle$ / $| - \\rangle$.)  One of three tensor products with a Z and two X units will be utilized, all with the same effect:\n",
    "\n",
    "$\n",
    "X \\otimes X \\otimes Z = \\begin{bmatrix}\n",
    "0 & 0 & 0 & 0 & 0 & 0 & 1 & 0\\\\\n",
    "0 & 0 & 0 & 0 & 0 & 0 & 0 & -1\\\\\n",
    "0 & 0 & 0 & 0 & 1 & 0 & 0 & 0\\\\\n",
    "0 & 0 & 0 & 0 & 0 & -1 & 0 & 0\\\\\n",
    "0 & 0 & 1 & 0 & 0 & 0 & 0 & 0\\\\\n",
    "0 & 0 & 0 & -1 & 0 & 0 & 0 & 0\\\\\n",
    "1 & 0 & 0 & 0 & 0 & 0 & 0 & 0\\\\\n",
    "0 & -1 & 0 & 0 & 0 & 0 & 0 & 0\n",
    "\\end{bmatrix}:\n",
    "$\n",
    "converts $(+a, +b, +c, +d, +e, +f, +g, +h)$ to $(+g, -h, +e, -f, +c, -d, +a, -b)$.\n",
    "\n",
    "$\n",
    "X \\otimes Z \\otimes X = \\begin{bmatrix}\n",
    "0 & 0 & 0 & 0 & 0 & 1 & 0 & 0\\\\\n",
    "0 & 0 & 0 & 0 & 1 & 0 & 0 & 0\\\\\n",
    "0 & 0 & 0 & 0 & 0 & 0 & 0 & -1\\\\\n",
    "0 & 0 & 0 & 0 & 0 & 0 & -1 & 0\\\\\n",
    "0 & 1 & 0 & 0 & 0 & 0 & 0 & 0\\\\\n",
    "1 & 0 & 0 & 0 & 0 & 0 & 0 & 0\\\\\n",
    "0 & 0 & 0 & -1 & 0 & 0 & 0 & 0\\\\\n",
    "0 & 0 & -1 & 0 & 0 & 0 & 0 & 0\n",
    "\\end{bmatrix}:\n",
    "$\n",
    "converts $(+a, +b, +c, +d, +e, +f, +g, +h)$ to $(+f, +e, -h, -g, +b, +a, -d, -c)$.\n",
    "\n",
    "$\n",
    "Z \\otimes X \\otimes X = \\begin{bmatrix}\n",
    "0 & 0 & 0 & 1 & 0 & 0 & 0 & 0\\\\\n",
    "0 & 0 & 1 & 0 & 0 & 0 & 0 & 0\\\\\n",
    "0 & 1 & 0 & 0 & 0 & 0 & 0 & 0\\\\\n",
    "1 & 0 & 0 & 0 & 0 & 0 & 0 & 0\\\\\n",
    "0 & 0 & 0 & 0 & 0 & 0 & 0 & -1\\\\\n",
    "0 & 0 & 0 & 0 & 0 & 0 & -1 & 0\\\\\n",
    "0 & 0 & 0 & 0 & 0 & -1 & 0 & 0\\\\\n",
    "0 & 0 & 0 & 0 & -1 & 0 & 0 & 0\n",
    "\\end{bmatrix}:\n",
    "$\n",
    "converts $(+a, +b, +c, +d, +e, +f, +g, +h)$ to $(+d, +c, +b, +a, -h, -g, -f, -e)$.\n",
    "\n",
    "Again, the only terms that matter are $a$, $d$, $f$ and $g$.  All three of the above $8 \\times 8$ tensor products swap $a$ (which always has a $+1/2$ value) with one of $d$, $f$, or $g$ (all having a $-1/2$ value), while the other two are replaced by each other's additive inverses (as both are $-1/2$, this has the effect of changing both to $+1/2$).  The upshot of this is that the two Hadamard transforms multiply the original $\\psi$ vector by $-1$, essentially reversing the parity of the team's entangled state and giving them their win.\n",
    "\n",
    "Another way to look at it is that two Hadamard transforms (one performed by each player holding a 1 bit) will convert the original entangled state into one where the combinations are $|001\\rangle$, $|010\\rangle$, $|100\\rangle$, and $|111\\rangle$ with equal probability and the team will always win.  The entanglement of the qubits makes the maneuver work."
   ]
  },
  {
   "cell_type": "markdown",
   "metadata": {},
   "source": [
    "### Task 2.3. Play the GHZ game using the quantum strategy\n",
    "\n",
    "**Input:** Operations that return Alice, Bob and Charlie's output bits (a, b and c) based on\n",
    "their quantum strategies and given their respective qubits from the entangled triple.\n",
    "The players have already been told what their starting bits (r, s and t) are.\n",
    "\n",
    "**Goal:** Return an array of players' output bits (a, b and c)."
   ]
  },
  {
   "cell_type": "code",
   "execution_count": 8,
   "metadata": {},
   "outputs": [
    {
     "data": {
      "application/json": "\"Success!\"",
      "text/plain": [
       "Success!"
      ]
     },
     "execution_count": 8,
     "metadata": {},
     "output_type": "execute_result"
    }
   ],
   "source": [
    "%kata T23_PlayQuantumGHZ_Test \n",
    "\n",
    "operation PlayQuantumGHZ (strategies : (Qubit => Bool)[]) : Bool[] {\n",
    "    using (ghz = Qubit[3]) {\n",
    "        CreateEntangledTriple(ghz);\n",
    "\n",
    "        let a = strategies[0](ghz[0]);\n",
    "        let b = strategies[1](ghz[1]);\n",
    "        let c = strategies[2](ghz[2]);\n",
    "\n",
    "        return [a, b, c];\n",
    "    }\n",
    "}"
   ]
  },
  {
   "cell_type": "code",
   "execution_count": null,
   "metadata": {},
   "outputs": [],
   "source": []
  }
 ],
 "metadata": {
  "kernelspec": {
   "display_name": "Q#",
   "language": "qsharp",
   "name": "iqsharp"
  },
  "language_info": {
   "file_extension": ".qs",
   "mimetype": "text/x-qsharp",
   "name": "qsharp",
   "version": "0.12"
  }
 },
 "nbformat": 4,
 "nbformat_minor": 2
}
