{
 "cells": [
  {
   "cell_type": "markdown",
   "metadata": {},
   "source": [
    "# Grover's Algorithm\n",
    "\n",
    "The **Grover's Search** quantum kata is a series of exercises designed\n",
    "to get you familiar with Grover's search algorithm.\n",
    "\n",
    "It covers the following topics:\n",
    "\n",
    "* Writing oracles for Grover's search\n",
    "* Performing steps of the algorithm\n",
    "* Putting it all together: Grover's search algorithm.\n",
    "\n",
    "Each task is wrapped in one operation preceded by the description of the task.\n",
    "Each task has a unit test associated with it, which initially fails.\n",
    "Your goal is to fill in the blank (marked with the `// ...` comments)\n",
    "with some Q# code to make the failing test pass.\n",
    "\n",
    "Within each section, tasks are given in approximate order of increasing difficulty;\n",
    "harder ones are marked with asterisks.\n"
   ]
  },
  {
   "cell_type": "markdown",
   "metadata": {},
   "source": [
    "To begin, first prepare this notebook for execution (if you skip this step, you'll get \"Syntax does not match any known patterns\" error when you try to execute Q# code in the next cells):"
   ]
  },
  {
   "cell_type": "code",
   "execution_count": null,
   "metadata": {},
   "outputs": [],
   "source": [
    "%package Microsoft.Quantum.Katas::0.7.1905.3109"
   ]
  },
  {
   "cell_type": "markdown",
   "metadata": {},
   "source": [
    "> The package versions in the output of the cell above should always match. If you are running the Notebooks locally and the versions do not match, please install the IQ# version that matches the version of the `Microsoft.Quantum.Katas` package.\n",
    "> <details>\n",
    "> <summary><u>How to install the right IQ# version</u></summary>\n",
    "> For example, if the version of `Microsoft.Quantum.Katas` package above is 0.1.2.3, the installation steps are as follows:\n",
    ">\n",
    "> 1. Stop the kernel.\n",
    "> 2. Uninstall the existing version of IQ#:\n",
    ">        dotnet tool uninstall microsoft.quantum.iqsharp -g\n",
    "> 3. Install the matching version:\n",
    ">        dotnet tool install microsoft.quantum.iqsharp -g --version 0.1.2.3\n",
    "> 4. Reinstall the kernel:\n",
    ">        dotnet iqsharp install\n",
    "> 5. Restart the Notebook.\n",
    "> </details>\n"
   ]
  },
  {
   "cell_type": "markdown",
   "metadata": {},
   "source": [
    "## Part I. Oracles for Grover's Search\n"
   ]
  },
  {
   "cell_type": "markdown",
   "metadata": {},
   "source": [
    "### Task 1.1. The $|11...1\\rangle$ Oracle\n",
    "**Inputs:** \n",
    "\n",
    "  1. N qubits in an arbitrary state $|x\\rangle$ (input/query register)\n",
    "\n",
    "  2. A qubit in an arbitrary state $|y\\rangle$ (target qubit)\n",
    "\n",
    "**Goal:** Flip the state of the target qubit (i.e., apply an X gate to it)\n",
    "if the query register is in the $|11...1\\rangle$ state\n",
    "and leave it unchanged if the query register is in any other state.\n",
    "Leave the query register in the same state it started in.\n",
    "\n",
    "**Example:**\n",
    "If the query register is in state $|00...0\\rangle$, leave the target qubit unchanged.\n",
    "\n",
    "If the query register is in state $|10...0\\rangle$, leave the target qubit unchanged.\n",
    "\n",
    "If the query register is in state $|11...1\\rangle$, flip the target qubit.\n",
    "\n",
    "If the query register is in state $\\frac{|00...0\\rangle + |11...1\\rangle}{\\sqrt{2}}$, and the target is in state $|0\\rangle$,\n",
    "the joint state of the query register and the target qubit should be $\\frac{|00...00\\rangle + |11...11\\rangle}{\\sqrt{2}}$"
   ]
  },
  {
   "cell_type": "code",
   "execution_count": null,
   "metadata": {},
   "outputs": [],
   "source": [
    "%kata T11_Oracle_AllOnes_Test \n",
    "\n",
    "operation Oracle_AllOnes_Reference (queryRegister : Qubit[], target : Qubit) : Unit\n",
    "is Adj {\n",
    "    Controlled X(queryRegister, target);\n",
    "    fail \"Task 1.1 not implemented yet\";\n",
    "}"
   ]
  },
  {
   "cell_type": "markdown",
   "metadata": {},
   "source": [
    "### Task 1.2. The $|1010...\\rangle$ Oracle\n",
    "\n",
    "**Inputs:**\n",
    "\n",
    "  1. N qubits in an arbitrary state $|x\\rangle$ (input/query register)\n",
    "\n",
    "  2. A qubit in an arbitrary state $|y\\rangle$ (target qubit)\n",
    "\n",
    "**Goal:**\n",
    "  Flip the state of the target qubit if the query register is in the $|1010...\\rangle$ state;\n",
    "that is, the state with alternating 1 and 0 values, with any number of qubits in the register.\n",
    "Leave the state of the target qubit unchanged if the query register is in any other state.\n",
    "Leave the query register in the same state it started in.\n",
    "\n",
    "**Example:**\n",
    "\n",
    "  If the register is in state $|0000000\\rangle$, leave the target qubit unchanged.\n",
    "  If the register is in state $|10101\\rangle$, flip the target qubit."
   ]
  },
  {
   "cell_type": "code",
   "execution_count": null,
   "metadata": {},
   "outputs": [],
   "source": [
    "%kata T12_Oracle_AlternatingBits_Test \n",
    "\n",
    "operation Oracle_AlternatingBits_Reference (queryRegister : Qubit[], target : Qubit) : Unit\n",
    "is Adj {\n",
    "    // flip the bits in odd (0-based positions)\n",
    "    // so that the condition for flipping the state of the target qubit is 'query register is in 1...1 state'\n",
    "    fail \"Task 1.2 not implemented yet\";\n",
    "}"
   ]
  },
  {
   "cell_type": "markdown",
   "metadata": {},
   "source": [
    "### Task 1.3. Arbitrary Bit Pattern Oracle\n",
    "\n",
    "**Inputs:**\n",
    "\n",
    "  1. N qubits in an arbitrary state $|x\\rangle$ (input/query register)\n",
    "\n",
    "  2. A qubit in an arbitrary state $|y\\rangle$ (target qubit)\n",
    "\n",
    "  3. A bit pattern of length N represented as Bool[]\n",
    "\n",
    "**Goal:**\n",
    "\n",
    "Flip the state of the target qubit if the query register is in the state described by the given bit pattern\n",
    "(true represents qubit state One, and false represents Zero).\n",
    "Leave the state of the target qubit unchanged if the query register is in any other state.\n",
    "Leave the query register in the same state it started in.\n",
    "\n",
    "**Example:**\n",
    "\n",
    "  If the bit patterns is [true, false], you need to flip the target qubit if and only if the qubits are in the $|10\\rangle$ state."
   ]
  },
  {
   "cell_type": "code",
   "execution_count": null,
   "metadata": {},
   "outputs": [],
   "source": [
    "%kata T13_Oracle_ArbitraryPattern_Test \n",
    "\n",
    "operation BestClassicalStrategy (input : Bool) : Bool {\n",
    "    // ...\n",
    "    fail \"Task 1.3 not implemented yet\";\n",
    "}"
   ]
  },
  {
   "cell_type": "markdown",
   "metadata": {},
   "source": [
    "### Task 1.4. Oracle Converter\n",
    "\n",
    "**Input:**\n",
    "\n",
    "A marking oracle: an oracle that takes a register and a target qubit and\n",
    "flips the target qubit if the register satisfies a certain condition\n",
    "\n",
    "**Output:**\n",
    "\n",
    "A phase-flipping oracle: an oracle that takes a register and\n",
    "flips the phase of the register if it satisfies this condition.\n",
    "\n",
    "**Note:** Grover's algorithm relies on the search condition implemented as a phase-flipping oracle,\n",
    "but it is often easier to write a marking oracle for a given condition. This transformation\n",
    "allows to convert one type of oracle into the other. The transformation is described at\n",
    "https://en.wikipedia.org/wiki/Grover%27s_algorithm, in the 'Description of $\\emph{U_{w}}$' section."
   ]
  },
  {
   "cell_type": "code",
   "execution_count": null,
   "metadata": {},
   "outputs": [],
   "source": [
    "%kata T14_OracleConverter_Test \n",
    "\n",
    "operation PlayClassicalGHZ (strategy : (Bool => Bool), inputs : Bool[]) : Bool[] {\n",
    "    // ...\n",
    "    fail \"Task 1.4 not implemented yet\";\n",
    "}"
   ]
  },
  {
   "cell_type": "markdown",
   "metadata": {},
   "source": [
    "## Part II. The Grover Iteration"
   ]
  },
  {
   "cell_type": "markdown",
   "metadata": {},
   "source": [
    "### Task 2.1. The Hadamard Transform\n",
    "\n",
    "**Input:**\n",
    "\n",
    "  A register of N qubits in an arbitrary state\n",
    "**Goal:**\n",
    "\n",
    "  Apply the Hadamard transform to each of the qubits in the register.\n",
    "\n",
    "**Note:**\n",
    "\n",
    "  If the register started in the $|0...0\\rangle$ state, this operation\n",
    "will prepare an equal superposition of all $2^{N}$ basis states."
   ]
  },
  {
   "cell_type": "code",
   "execution_count": null,
   "metadata": {},
   "outputs": [],
   "source": [
    "%kata T21_HadamardTransform_Test \n",
    "\n",
    "operation CreateEntangledTriple (qs : Qubit[]) : Unit {\n",
    "    // ...\n",
    "    fail \"Task 2.1 not implemented yet\";\n",
    "}"
   ]
  },
  {
   "cell_type": "markdown",
   "metadata": {},
   "source": [
    "### Task 2.2. Conditional Phase Flip\n",
    "\n",
    "**Input:**\n",
    "\n",
    "  A register of N qubits in an arbitrary state.\n",
    "\n",
    "**Goal:**\n",
    "\n",
    "  Flip the sign of the state of the register if it is not in the $|0...0\\rangle$ state.\n",
    "**Example:**\n",
    "\n",
    "  If the register is in state $|0...0\\rangle$, leave it unchanged.\n",
    "\n",
    "  If the register is in any other basis state, multiply its phase by -1.\n",
    "\n",
    "**Note:** This operation implements operator 2$|0...0\\rangle\\langle0...0|$ - i"
   ]
  },
  {
   "cell_type": "code",
   "execution_count": null,
   "metadata": {},
   "outputs": [],
   "source": [
    "%kata T22_ConditionalPhaseFlip_Test \n",
    "\n",
    "operation QuantumStrategy (input : Bool, qubit : Qubit) : Bool {\n",
    "    // ...\n",
    "    fail \"Task 2.2 not implemented yet\";\n",
    "}"
   ]
  },
  {
   "cell_type": "markdown",
   "metadata": {},
   "source": [
    "### Task 2.3. The Grover Iteration\n",
    "\n",
    "**Inputs:**\n",
    "\n",
    "  1. N qubits in an arbitrary state $|x\\rangle$ (input/query register)\n",
    "\n",
    "  2. A phase-flipping oracle that takes an N-qubit register and flips\n",
    "\n",
    "     the phase of the state if the register is in the desired state.\n",
    "**Goal:**\n",
    "\n",
    "  Perform one Grover iteration."
   ]
  },
  {
   "cell_type": "code",
   "execution_count": null,
   "metadata": {},
   "outputs": [],
   "source": [
    "%kata T23_GroverIteration_Test \n",
    "\n",
    "operation PlayQuantumGHZ (strategies : (Qubit => Bool)[]) : Bool[] {\n",
    "    // ...\n",
    "    fail \"Task 2.3 not implemented yet\";\n",
    "}"
   ]
  },
  {
   "cell_type": "markdown",
   "metadata": {},
   "source": [
    "## Part III. Putting It All Together: Grover's Search Algorithm"
   ]
  },
  {
   "cell_type": "markdown",
   "metadata": {},
   "source": [
    "### Task 3.1. Grover's Search\n",
    "\n",
    "**Inputs:**\n",
    "\n",
    "  1. N qubits in the $|0...0\\rangle$ state\n",
    "\n",
    "  2. A marking oracle\n",
    "\n",
    "  3. The number of Grover iterations to perform.\n",
    "\n",
    "**Goal:**\n",
    "\n",
    "Use Grover's algorithm to leave the register in the state that is marked by the oracle as the answer (with high probability).\n",
    "\n",
    "**Note:**:\n",
    "The number of iterations is passed as a parameter because it is defined by the nature of the problem\n",
    "and is easier to configure/calculate outside the search algorithm itself (for example, in the driver)."
   ]
  },
  {
   "cell_type": "code",
   "execution_count": null,
   "metadata": {},
   "outputs": [],
   "source": [
    "%kata T31_GroversSearch_Test \n",
    "\n",
    "operation PlayQuantumGHZ (strategies : (Qubit => Bool)[]) : Bool[] {\n",
    "    // ...\n",
    "    fail \"Task 2.3 not implemented yet\";\n",
    "}"
   ]
  },
  {
   "cell_type": "markdown",
   "metadata": {},
   "source": [
    "### Task 3.2. Using Grover's Search\n",
    "\n",
    "**Goal:**\n",
    "\n",
    "  Use your implementation of Grover's Algorithm from Task 3.1 and the oracles from part 1\n",
    "  to find the marked elements of the search space. This task is not covered by a test and allows you to experiment with running the algorithm.\n"
   ]
  }
 ],
 "metadata": {
  "kernelspec": {
   "display_name": "Q#",
   "language": "qsharp",
   "name": "iqsharp"
  },
  "language_info": {
   "file_extension": ".qs",
   "mimetype": "text/x-qsharp",
   "name": "qsharp",
   "version": "0.4"
  }
 },
 "nbformat": 4,
 "nbformat_minor": 2
}
