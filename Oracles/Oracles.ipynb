{
 "cells": [
  {
   "cell_type": "markdown",
   "metadata": {},
   "source": [
    "# Quantum Oracles Tutorial\n",
    "\n",
    "1) Motivation of the tutorial\n",
    "\n",
    "2) Outline of the tutorial and what it sets out to accomplish\n",
    "\n",
    "    Definitions of Quantum Oracles, including types of oracles\n",
    "    \n",
    "    Mathematical properties of Quantum Oracles\n",
    "    \n",
    "    Demos of different quantum oracles\n",
    "    \n",
    "    Exercises to implement your own quantum oracles\n",
    "    \n",
    "    Final exercise to implement a more complex oracle as well as write tests for that oracle\n",
    "    \n",
    "3) Suggested tutorials or topics to be completed or familiar with before this tutorial – The Qubit (Tutorial), Linear Algebra (Tutorial), Basic Quantum Computing Gates (Tutorial), Superposition\n"
   ]
  },
  {
   "cell_type": "markdown",
   "metadata": {},
   "source": [
    "# Part I - Introduction to Quantum Oracles\n",
    "\n",
    "## Classical Oracles\n",
    "In classical computing, the idea of white box versus black box testing is leveraged.  In white box testing, the implementation of the function, say to factor a number, is visable to the tester.  Thus the tester can test specific expectaions such as runtime or memory complexity.  However, in black box testing, the tester can only test the functionality and expected behavior of the function - the implementation has been abstracted away.\n",
    "\n",
    "Generally, most functions and data structures that we use while programming are a black box in our eyes - we are not worried with how an linked list is implemented, we only care about the functionality that it provides.  \n",
    "\n",
    "Suppose I provided you the following function:\n",
    "the function takes two parameters as input, two lists, where these lists represent the availability during the week of two different employees at a company.  The function returns if true if there is a day (Monday, Tuesday, Wednesday, Thursday, or Friday) for which they are both free and could schedule a meeting, if no such date exists then the function returns false.\n",
    "\n",
    "The previous proposition is an example of a **classical oracle** because when interacting with this function, you are not worried with *how* the function determines the answer, you only care about *what* the answer is when provided a specific input.\n",
    "\n",
    "Formally, a **classical oracle** is a function for which when provided some input, it produces a specific *deterministic* output.  Hence the same input *always* results in the same output.\n",
    "\n",
    "#### <span style=\"color:blue\">Exercise 1</span>: Implement a classical oracle\n",
    "Implement the following classical oracle:\n",
    "* f(x) = 1 (True) if x = 7\n",
    "* f(x) = 0 (False) otherwise\n",
    "* provided that x is a binary string. Note, $x = 0101 = 5$, $x = 0110 = 6$, $x = 10001 = 17$"
   ]
  },
  {
   "cell_type": "code",
   "execution_count": 3,
   "metadata": {},
   "outputs": [
    {
     "data": {
      "application/json": "[\"Is_Seven\"]",
      "text/html": [
       "<ul><li>Is_Seven</li></ul>"
      ],
      "text/plain": [
       "Is_Seven"
      ]
     },
     "execution_count": 3,
     "metadata": {},
     "output_type": "execute_result"
    }
   ],
   "source": [
    "//%kata E1_ClassicalOracle\n",
    "\n",
    "function Is_Seven(x : String) : Bool {\n",
    "    Message(\"Implement me!\");\n",
    "    return false;\n",
    "}"
   ]
  },
  {
   "cell_type": "markdown",
   "metadata": {},
   "source": [
    "## Quantum Oracles\n",
    "\n",
    "An oracle in the quantum world is a black box operation that is utilized during an algorithm.  These **quantum oracles** are passed as input to quantum algorithms and they themselves require inputs to operate on.  A quantum oracle implements some function $f: \\{0,1\\}^n \\rightarrow \\{0,1\\}^m$ where $x$ is the input state of the form $|x\\rangle = |x_0\\rangle \\otimes |x_1\\rangle \\otimes ... \\otimes |x_{n-1}\\rangle$ There are two types of quantum oracles: phase oracles and marking oracles.  Each of these types oracles are defined based on their operations on their basis states, where these basis states are always $|0\\rangle$ and $|1\\rangle$.  Oracles must be unitary as well as not change the input if that input is a basis state of the oracle.\n",
    "\n",
    "### Phase Oracles\n",
    "A phase oracle $U_{phase}$ is an oracle that when provided some state $|x\\rangle$ it flips the sign of that state if $f(x)=1$.  Thus:\n",
    "\n",
    "$$U_{phase} |x\\rangle = (-1)^{f(|x\\rangle)}|x\\rangle$$\n",
    "\n",
    "#### <span style=\"color:blue\">Demo 1</span>: Simple phase quantum oracle - the AND oracle!\n",
    "Consider the following phase oracle $U_{phase}^1$:\n",
    "* $U_{1,phase} |x\\rangle = (-1)^{f(x)}|x\\rangle$\n",
    "* $f(x) = 1$ if $|x\\rangle = |111\\rangle$\n",
    "* $f(x) = 0$ otherwise\n",
    "* $|x\\rangle$ is composed of 3 qubits\n"
   ]
  },
  {
   "cell_type": "code",
   "execution_count": 4,
   "metadata": {},
   "outputs": [
    {
     "name": "stderr",
     "output_type": "stream",
     "text": [
      "C:\\snippet_.qs(8,9): error QS3035: Unexpected code fragment.\r\n"
     ]
    }
   ],
   "source": [
    "operation SimplePhaseOracle (x : Qubit[]) : Unit \n",
    "is Adj {\n",
    "    // flip the phase of q if we were provided all 1's\n",
    "    Controlled Z(x[0:n-1], x[n])\n",
    "}\n",
    "\n",
    "// focus is on the result -- check the qubit tutorial have the user\n",
    "// just trust the implementation for now and in the next exercise they\n",
    "// will convince themselves that it is correct"
   ]
  },
  {
   "cell_type": "markdown",
   "metadata": {},
   "source": [
    "Now you will implement the same classical oracle that you implemented in <span style=\"color:blue\">Exercise 1</span> as a quantum phase oracle.\n",
    "\n",
    "#### <span style=\"color:blue\">Exercise 2</span>: Implement a phase quantum oracle\n",
    "Implement the following quantum oracle $U_{phase}^7$:\n",
    "* $U_{phase}^7 |x\\rangle = (-1)^{f(x)}|x\\rangle$\n",
    "* $f(x) = 1$ if $x = 7$\n",
    "* $f(x) = 0$ otherwise\n",
    "* $|x\\rangle$ is a state composted of $3$ qubits\n",
    "\n",
    "<br/>\n",
    "<details>\n",
    "  <summary><b>Need a hint? Click here</b></summary>\n",
    "  What internal state can you prepare such that $X|\\psi\\rangle = -|\\psi\\rangle$ or $Z|\\psi\\rangle = -|\\psi\\rangle$?  Finally use this internal state to flip the sign of the input state $|x\\rangle$.\n",
    "</details>"
   ]
  },
  {
   "cell_type": "code",
   "execution_count": 5,
   "metadata": {},
   "outputs": [
    {
     "name": "stderr",
     "output_type": "stream",
     "text": [
      "C:\\snippet_.qs(1,1): error QS3001: Syntax does not match any known patterns.\n",
      "C:\\snippet_.qs(7,29): error QS2003: Expecting semicolon.\n"
     ]
    }
   ],
   "source": [
    "%kata E2_PhaseQuantumOracle \n",
    "\n",
    "operation PhaseOracle_7 (x : Qubit[]) : Unit \n",
    "is Adj {\n",
    "    // do a control z here on the first bit\n",
    "    // Controlled Z(x, x[0])\n",
    "    Message(\"Implement me!\")\n",
    "}"
   ]
  },
  {
   "cell_type": "markdown",
   "metadata": {},
   "source": [
    "#### Mathematical properties\n",
    "\n",
    "Consider how the oracle from <span style=\"color:blue\">Exercise 2</span> acts on its basis states:\n",
    "$$U_{phase}^7 |0111\\rangle = -|0111\\rangle$$\n",
    "$$U_{phase}^7 |0110\\rangle = |0110\\rangle$$\n",
    "\n",
    "This follows the requirement that a $U_{phase}^7$ does not change the input if it's a basis state as well as the fact that $U_{phase}^7$ does not change the norm of the state ($U_{phase}^7$ is unitary).  However, consider if we were provided a state in superposition instead, what might that look like?\n",
    "\n",
    "Suppose that $|\\beta\\rangle$ is an equal super position of the $7$ and $6$ state: \n",
    "$$|\\beta\\rangle = \\frac{1}{\\sqrt{2}} (|0110\\rangle + |0111\\rangle) = |011\\rangle \\otimes \\frac{1}{\\sqrt{2}} (|0\\rangle + |1\\rangle) = |011\\rangle \\otimes |+\\rangle = |011+\\rangle$$\n",
    "\n",
    "Lets consider how our operator acts on this new state:\n",
    "$$U_{phase}^7 |\\beta\\rangle = U_{phase}^7 (\\frac{1}{\\sqrt{2}} (|0110\\rangle + |0111\\rangle)) = \\frac{1}{\\sqrt{2}} (U_{phase}^7 |0110\\rangle + U_{phase}^7 |0111\\rangle) = \\frac{1}{\\sqrt{2}} (|0110\\rangle - |0111\\rangle) := |\\gamma\\rangle$$\n",
    "\n",
    "Now the question is if our input state was modified during this operation, lets simplify $|\\gamma\\rangle$:\n",
    "$$|\\gamma\\rangle = \\frac{1}{\\sqrt{2}} (|0110\\rangle - |0111\\rangle) = |011\\rangle \\otimes \\frac{1}{\\sqrt{2}} (|0\\rangle - |1\\rangle) = |011\\rangle \\otimes |-\\rangle = |011-\\rangle \\neq |\\beta\\rangle$$\n",
    "\n",
    "Here we see that the oracle modifies the input.  This is conditioned on the input state being a *superposition* of the basis states of the oracle as a phase oracle will only modify the sign of its basis states.  This phenomena is refered to as **phase kickback** which will be discusses more later in this tutorial.\n",
    "\n",
    "> It is also worth noting that while the oracle modified the input when provided a superposition state, it did *not* modify the norm of that state.  As an exercise, you can verify this yourself by taking the norm of $|\\beta\\rangle$ and $|\\gamma\\rangle$, which both will result in a value of $1$.\n",
    ">\n",
    ">\n",
    "> As another exercise, consider how you could distinguish between the input and output state programatrically?  Is there an operation that you could apply to $|\\beta\\rangle$ and $|\\gamma\\rangle$ to show that the two states are not equivalent?\n"
   ]
  },
  {
   "cell_type": "markdown",
   "metadata": {},
   "source": [
    "### Marking Oracles\n",
    "\n",
    "A marking oracle $U_{mark}$ is an oracle that when provided some state $|x\\rangle$ and some qubit $y$ preforms addition modulo 2 between $f(x)$ and $y$.  Hence $U_{mark}$ is an operator that preforms the following operation:\n",
    "\n",
    "$$U_{mark}|x\\rangle |y\\rangle = U_{mark}(|x\\rangle \\otimes |y\\rangle) = |x\\rangle \\otimes |y \\oplus f(x)\\rangle = |x\\rangle |y \\oplus f(x)\\rangle$$\n",
    "\n",
    "#### <span style=\"color:blue\">Demo 2</span>: Simple marking quantum oracle - the AND oracle!\n",
    "Consider the following marking oracle $U_{mark}^{AND}$:\n",
    "* $U_{mark}^{AND} |x\\rangle|y\\rangle = |x\\rangle|y\\oplus f(x)\\rangle$\n",
    "* $f(x) = 1$ if $x = |11...1\\rangle$\n",
    "* $f(x) = 0$ otherwise\n",
    "* $|x\\rangle$ is a state composted of $n$ qubits\n",
    "* $|y\\rangle$ is a single qubit\n"
   ]
  },
  {
   "cell_type": "code",
   "execution_count": 6,
   "metadata": {},
   "outputs": [
    {
     "name": "stderr",
     "output_type": "stream",
     "text": [
      "C:\\snippet_.qs(1,1): error QS3001: Syntax does not match any known patterns.\r\n"
     ]
    }
   ],
   "source": [
    "%kata E3_MarkingQuantumOracle\n",
    "\n",
    "operation MarkingOracle_And(x: Qubit[], y: Qubit) : Unit \n",
    "is Adj {\n",
    "    // we would only like to preform addition mod 2 on y if \n",
    "    // x is the all 1 state.  Thus we can preform a controlled\n",
    "    // operation with the x state as our control state\n",
    "    Controlled X(x, y);\n",
    "}"
   ]
  },
  {
   "cell_type": "markdown",
   "metadata": {},
   "source": [
    "Now you will implement the same quantum oracle that you implemented in <span style=\"color:blue\">Exercise 2</span> but this time as a marking oracle instead.\n",
    "\n",
    "#### <span style=\"color:blue\">Exercise 3</span>: Implement a marking quantum oracle\n",
    "Implement the following quantum oracle $U_{mark}^7$:\n",
    "* $U_{mark}^7 |x\\rangle |y\\rangle = |x\\rangle |y \\oplus f(x)\\rangle$\n",
    "* $f(x) = 1$ if $x = 7$\n",
    "* $f(x) = 0$ otherwise\n",
    "* $|x\\rangle$ is a state composted of $n$ qubits"
   ]
  },
  {
   "cell_type": "code",
   "execution_count": 7,
   "metadata": {},
   "outputs": [
    {
     "name": "stderr",
     "output_type": "stream",
     "text": [
      "C:\\snippet_.qs(3,29): error QS2003: Expecting semicolon.\r\n"
     ]
    }
   ],
   "source": [
    "operation MarkingOracle_7(x: Qubit[], y: Qubit) : Unit\n",
    "is Adj {\n",
    "    Message(\"Implement me!\")\n",
    "}"
   ]
  },
  {
   "cell_type": "markdown",
   "metadata": {},
   "source": [
    "#### Mathematical Properties\n",
    "\n",
    "Again, let us consider how the marking oracle that you just implemented in <span style=\"color:blue\">Exercise 3</span> affects the input when the input is the oracles basis states opposed to a superposition state.\n",
    "$$U_{mark}^7 |0111\\rangle |0\\rangle = |0111\\rangle |0 \\oplus f(0111)\\rangle = |0111\\rangle |0 \\oplus 1\\rangle = |0111\\rangle |1\\rangle$$\n",
    "$$U_{mark}^7 |0111\\rangle |1\\rangle = |0111\\rangle |1 \\oplus f(0111)\\rangle = |0111\\rangle |1 \\oplus 1\\rangle = |0111\\rangle |0\\rangle$$\n",
    "\n",
    "$$U_{mark}^7 |0110\\rangle |0\\rangle = |0110\\rangle |0 \\oplus f(0110)\\rangle = |0110\\rangle |0 \\oplus 0\\rangle = |0110\\rangle |0\\rangle$$\n",
    "$$U_{mark}^7 |0110\\rangle |1\\rangle = |0110\\rangle |1 \\oplus f(0110)\\rangle = |0110\\rangle |1 \\oplus 0\\rangle = |0110\\rangle |1\\rangle$$\n",
    "\n",
    "In the previous examples, all of the input $|x\\rangle$ and $|y\\rangle$ are in basis states of the oracle $U_{mark}^7$, however we see that even when providing input states, if $f(x)=1$ we will change the value of our input $|y\\rangle$.  However, if $f(x)=0$ then neither the input $|x\\rangle$ or $|y\\rangle$ will be modified by the oracle.  **If the function value is 1 then the state y is flipped otherwise it is not this is by def this is how the state y is subject to be modified**\n",
    "\n",
    "Now let us define a state $|\\alpha\\rangle$ such that $|x\\rangle$ is a superposition of the $7$ and $6$ basis states:\n",
    "$$|\\alpha\\rangle = \\frac{1}{\\sqrt{2}}(|0110\\rangle |0\\rangle + |0111\\rangle |0\\rangle) = |011\\rangle \\otimes \\frac{1}{\\sqrt{2}} (|0\\rangle + |1\\rangle) \\otimes |0\\rangle = |011+\\rangle |0\\rangle$$\n",
    "\n",
    "How does our marking oracle $U_{mark}^7$ act on our state $|\\alpha\\rangle$ (Recall that Umark is a lienar op, introduce the idea of linear operators in the intro - remind them of the property im using)?\n",
    "$$U_{mark}^7 |\\alpha\\rangle = \\frac{1}{\\sqrt{2}} (U_{mark}^7|0110\\rangle |0\\rangle + U_{mark}^7|0111\\rangle |0\\rangle) = \\frac{1}{\\sqrt{2}} (|0110\\rangle |0\\rangle + |0111\\rangle |1\\rangle) := |\\epsilon\\rangle$$\n",
    "\n",
    "Now we would like to observe how our input state $|\\alpha\\rangle$ was modified by the oracle.  Let's simplify the resulting state from the oracle, $|\\epsilon\\rangle$:\n",
    "$$|\\epsilon\\rangle = \\frac{1}{\\sqrt{2}} (|0110\\rangle |0\\rangle + |0111\\rangle |1\\rangle) = |011\\rangle \\otimes \\frac{1}{\\sqrt{2}} (|0\\rangle |0\\rangle + |1\\rangle |1\\rangle) = |011\\rangle \\otimes \\frac{1}{\\sqrt{2}} (|00\\rangle + |11\\rangle) = |011\\rangle \\otimes |\\Phi^+\\rangle = |011\\Phi^+\\rangle$$\n",
    "\n",
    "Here we see that we have now entangled our input states $|x\\rangle$ and $|y\\rangle$!  This is a common occurance for marking oracles when the input is a superposition of basis states: after applying the oracle, the input $|x\\rangle$ will become entangled with $|y\\rangle$.  Here we see that the result is the bell state $|\\Phi^+\\rangle$.\n",
    "\n",
    ">As an exercise, what entangled state would we get in the previous example if $|y\\rangle = |1\\rangle$ instead of $|y\\rangle = |0\\rangle$?\n",
    ">\n",
    "> <br/>\n",
    "> <details>\n",
    ">   <summary><b>Click here for the answer!</b></summary>\n",
    ">   The entangled state that is produced would be $|\\Psi^+\\rangle = \\frac{1}{\\sqrt{2}}(|01\\rangle + |10\\rangle)$.  Overall, we would get the following: $U_{mark}^7 |011+\\rangle |1\\rangle = |011\\rangle |\\Psi^+\\rangle$\n",
    "> </details>\n",
    "\n",
    "**phase kicks back from the y input to the x input after applying the operator. - provide an example with the target bit in the minus state with x in a 7 and 6 superposition.  we need the phase kickback to be obversable whcih requires superposition.**"
   ]
  },
  {
   "cell_type": "markdown",
   "metadata": {},
   "source": [
    "# Part II: Phase Kickback"
   ]
  },
  {
   "cell_type": "code",
   "execution_count": null,
   "metadata": {},
   "outputs": [],
   "source": [
    "// grover oracle converter which uses a minus state to facilitate phase kickback"
   ]
  },
  {
   "cell_type": "code",
   "execution_count": null,
   "metadata": {},
   "outputs": [],
   "source": []
  },
  {
   "cell_type": "markdown",
   "metadata": {},
   "source": [
    "# Part III: Implementing Quantum Oracles\n",
    "\n",
    "teach them to undo changes done on input bits"
   ]
  },
  {
   "cell_type": "code",
   "execution_count": null,
   "metadata": {},
   "outputs": [],
   "source": [
    "// implement a marking oracle where f(x) = 1 iff x is alternating, ending with either a zero or a one"
   ]
  },
  {
   "cell_type": "code",
   "execution_count": null,
   "metadata": {},
   "outputs": [],
   "source": [
    "// implement a phase oracle from the ExploringDeutschJozsaAlgorithm (f(x) = 1 iff the kth bit of x is a 1) \n",
    "        // (f(x) = 1 iff x is alternating, ending with either a zero or a one)"
   ]
  },
  {
   "cell_type": "code",
   "execution_count": null,
   "metadata": {},
   "outputs": [],
   "source": [
    "// implement a phase oracle that flips the phase of the input state as per the OR operation"
   ]
  },
  {
   "cell_type": "markdown",
   "metadata": {},
   "source": [
    "# Part IV: More Oracles!  Implementation and Testing\n",
    "\n",
    "teach them to allocate aux qubits for computation"
   ]
  },
  {
   "cell_type": "code",
   "execution_count": null,
   "metadata": {},
   "outputs": [],
   "source": [
    "// exercise to determine if two people can meet during the week for a meeting (SAT oracle)"
   ]
  },
  {
   "cell_type": "code",
   "execution_count": null,
   "metadata": {},
   "outputs": [],
   "source": [
    "// exercise to generalize previous result to see if m people can meet during a 2 week timeframe"
   ]
  },
  {
   "cell_type": "code",
   "execution_count": null,
   "metadata": {},
   "outputs": [],
   "source": [
    "// 1.3 from the GroversAlgorithm kata "
   ]
  },
  {
   "cell_type": "markdown",
   "metadata": {},
   "source": [
    "# Part V: What's next?"
   ]
  },
  {
   "cell_type": "code",
   "execution_count": null,
   "metadata": {},
   "outputs": [],
   "source": []
  },
  {
   "cell_type": "code",
   "execution_count": null,
   "metadata": {},
   "outputs": [],
   "source": []
  },
  {
   "cell_type": "code",
   "execution_count": null,
   "metadata": {},
   "outputs": [],
   "source": []
  },
  {
   "cell_type": "code",
   "execution_count": null,
   "metadata": {},
   "outputs": [],
   "source": []
  },
  {
   "cell_type": "code",
   "execution_count": null,
   "metadata": {},
   "outputs": [],
   "source": []
  }
 ],
 "metadata": {
  "kernelspec": {
   "display_name": "Q#",
   "language": "qsharp",
   "name": "iqsharp"
  },
  "language_info": {
   "file_extension": ".qs",
   "mimetype": "text/x-qsharp",
   "name": "qsharp",
   "version": "0.12"
  }
 },
 "nbformat": 4,
 "nbformat_minor": 4
}
