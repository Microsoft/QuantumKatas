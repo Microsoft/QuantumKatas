{
 "cells": [
  {
   "cell_type": "markdown",
   "metadata": {},
   "source": [
    "# Measurement Kata Workbook\n",
    "\n",
    "**What is this workbook?**\n",
    "A workbook is a collection of problems, accompanied by solutions to them. \n",
    "The explanations focus on the logical steps required to solve a problem; they illustrate the concepts that need to be applied to come up with a solution to the problem, explaining the mathematical steps required. \n",
    "\n",
    "Note that a workbook should not be the primary source of knowledge on the subject matter; it assumes that you've already read a tutorial or a textbook and that you are now seeking to improve your problem-solving skills. You should attempt solving the tasks of the respective kata first, and turn to the workbook only if stuck. While a textbook emphasizes knowledge acquisition, a workbook emphasizes skill acquisition.\n",
    "\n",
    "This workbook describes the solutions to the problems offered in the [Measurement kata](./Measurements.ipynb). Since the tasks are offered as programming problems, the explanations also cover some elements of Q# that might be non-obvious for a first-time user.\n",
    "\n",
    "**What you should know for this workbook**\n",
    "\n",
    "You should be familiar with the following concepts before tackling the Measurements kata (and this workbook):\n",
    "\n",
    "1.\tBasic linear algebra\n",
    "2.\tThe concept of qubit and multi-qubit systems\n",
    "3.\tSingle-qubit and multi-qubit quantum gates and using them to manipulate the state of the system"
   ]
  },
  {
   "cell_type": "markdown",
   "metadata": {},
   "source": [
    "To begin, first prepare this notebook for execution (if you skip the first step, you'll get \"Syntax does not match any known patterns\" error when you try to execute Q# code in the next cells; if you skip the second step, you'll get \"Invalid test name\" error):"
   ]
  },
  {
   "cell_type": "code",
   "execution_count": null,
   "metadata": {},
   "outputs": [],
   "source": [
    "%package Microsoft.Quantum.Katas::0.11.2003.3107"
   ]
  },
  {
   "cell_type": "code",
   "execution_count": null,
   "metadata": {},
   "outputs": [],
   "source": [
    "%workspace reload"
   ]
  },
  {
   "cell_type": "markdown",
   "metadata": {},
   "source": [
    "## Part I. Discriminating Orthogonal States"
   ]
  },
  {
   "cell_type": "markdown",
   "metadata": {},
   "source": [
    "### Task 1.1. $|0\\rangle$ or $|1\\rangle$?\n",
    "\n",
    "**Input:** A qubit which is guaranteed to be in either the $|0\\rangle$ or the $|1\\rangle$ state.\n",
    "\n",
    "**Output:**  `true` if the qubit was in the $|1\\rangle$ state, or `false` if it was in the $|0\\rangle$ state. The state of the qubit at the end of the operation does not matter."
   ]
  },
  {
   "cell_type": "markdown",
   "metadata": {},
   "source": [
    "### Solution\n",
    "\n",
    "When a qubit is measured its superposition state collapses, meaning that the superposition state (a linear combination of basis vectors) collapses to just one of the basis vectors. Since in this task the original state of the qubit is already one of the basis vectors, we know measurement would identify that state exactly. \n",
    "[M](https://docs.microsoft.com/en-us/qsharp/api/qsharp/microsoft.quantum.primitive.m) is the measurement gate, it returns true if the qubit is in state 1 and false if the qubit is in state 0.\n",
    "Here we evaluate M(q) and test if it is equal to 1. "
   ]
  },
  {
   "cell_type": "code",
   "execution_count": null,
   "metadata": {},
   "outputs": [],
   "source": [
    "%kata T101_IsQubitOne_Test \n",
    "\n",
    "operation IsQubitOne (q : Qubit) : Bool {\n",
    "    return M(q) == One;\n",
    "}"
   ]
  },
  {
   "cell_type": "markdown",
   "metadata": {},
   "source": [
    "### Task 1.2. Set the qubit to the $|0\\rangle$ state.\n",
    "\n",
    "**Input:** A qubit in an arbitrary state.\n",
    "\n",
    "**Goal:**  Change the state of the qubit to $|0\\rangle$."
   ]
  },
  {
   "cell_type": "markdown",
   "metadata": {},
   "source": [
    "### Solution\n",
    "\n",
    "Here we want a method that always returns a qubit in state $|0\\rangle$. \n",
    "\n",
    "Regardless of the original qubit state, after we measure the qubit, it will end up in 0 or 1 state, which we then need to convert to the 0 state. Therefore this solution has two possibilities:\n",
    "1.\tThe qubit is in state $|0\\rangle$, we don’t need to change anything\n",
    "2.\tThe qubit is in state $|1\\rangle$, we need to inverse the state of the qubit\n",
    "\n",
    "Therefore, if the qubit is in state $|1\\rangle$ we apply the X gate (more information on the X gate in the [BasicGates kata](../BasicGates/BasicGates.ipynb)) to change its state to state $|0\\rangle$."
   ]
  },
  {
   "cell_type": "code",
   "execution_count": null,
   "metadata": {},
   "outputs": [],
   "source": [
    "%kata T102_InitializeQubit_Test \n",
    "\n",
    "operation InitializeQubit (q : Qubit) : Unit {\n",
    "    if (M(q) == One) {\n",
    "        X(q);\n",
    "    }\n",
    "}"
   ]
  },
  {
   "cell_type": "markdown",
   "metadata": {},
   "source": [
    "### Task 1.3. $|+\\rangle$ or $|-\\rangle$?\n",
    "\n",
    "**Input:** A qubit which is guaranteed to be in either the $|+\\rangle$ or the $|-\\rangle$ state. As a reminder, $|+\\rangle = \\frac{1}{\\sqrt{2}} \\big(|0\\rangle + |1\\rangle\\big)$, $|-\\rangle = \\frac{1}{\\sqrt{2}} \\big(|0\\rangle - |1\\rangle\\big)$.\n",
    "\n",
    "**Output:** `true` if the qubit was in the $|+\\rangle$ state, or `false` if it was in the $|-\\rangle$ state. The state of the qubit at the end of the operation does not matter."
   ]
  },
  {
   "cell_type": "markdown",
   "metadata": {},
   "source": [
    "### Solution\n",
    "\n",
    "The Hadamard gate is used to put the input qubit q in the basis state of the qubit (in other words it puts the qubit in a superposition state), more details on the H gate is explained in the [BasicGates kata](../BasicGates/BasicGates.ipynb). The Hadamard gate converts $|0\\rangle \\longmapsto |+\\rangle$  and $|1\\rangle \\longmapsto |-\\rangle$. Once we have done that the solution is similar to task 1.\n",
    "\n",
    "When we apply the measurement gate M() to a qubit in its basis state it collapses to its corresponding basis vector. \n",
    "Since the qubit can be either $|+\\rangle$ (or $H|0\\rangle$) or $|-\\rangle$ (or $H|1\\rangle$) we have two possibilities: \n",
    "1. The qubit is $|-\\rangle$, $M(|-\\rangle) = |1\\rangle$, we return `false`.\n",
    "2. The qubit is $|+\\rangle$, $M(|+\\rangle) = |0\\rangle$ we return `true`."
   ]
  },
  {
   "cell_type": "code",
   "execution_count": null,
   "metadata": {},
   "outputs": [],
   "source": [
    "%kata T103_IsQubitPlus_Test \n",
    "\n",
    "operation IsQubitPlus (q : Qubit) : Bool {\n",
    "    H(q);\n",
    "    return M(q) == Zero;\n",
    "}"
   ]
  },
  {
   "cell_type": "markdown",
   "metadata": {},
   "source": [
    "#### Solution 2\n",
    "\n",
    "Pauli measurements allow us to perform a measurement directly in Hadamard basis (meaning that we do not need to perform H(q) before measuring). "
   ]
  },
  {
   "cell_type": "code",
   "execution_count": null,
   "metadata": {},
   "outputs": [],
   "source": [
    "%kata T103_IsQubitPlus_Test \n",
    "\n",
    "operation IsQubitPlus (q : Qubit) : Bool {\n",
    "   return Measure([PauliX], [q]) == Zero;\n",
    "}"
   ]
  },
  {
   "cell_type": "markdown",
   "metadata": {},
   "source": [
    "Pauli measurement is convenient for this task but in general Q# allows only a limited set of measurements so converting to computational basis (as in the first solution) is more universal. However, measurement in terms of Pauli operators can be especially helpful, for example, it is commonly used in the subfield of quantum error correction.\n",
    "You can read more on Pauli Measurements here: https://docs.microsoft.com/en-us/quantum/concepts/pauli-measurements?view=qsharp-preview. \n",
    "\n",
    "The following code is equivalent to `(Measure([PauliX], [q]]) == Zero)`. It uses `within ... apply` to automatically handle the transformation back to the computational basis. "
   ]
  },
  {
   "cell_type": "code",
   "execution_count": null,
   "metadata": {},
   "outputs": [],
   "source": [
    "operation MeasureX (q : Qubit) : Result {\n",
    "    mutable result = Zero;\n",
    "    within {\n",
    "        H(q);\n",
    "    } apply {\n",
    "        set result = M(q);\n",
    "    }\n",
    "    return result;\n",
    "}"
   ]
  },
  {
   "cell_type": "markdown",
   "metadata": {},
   "source": [
    "### Task 1.4. $|A\\rangle$ or $|B\\rangle$?\n",
    "\n",
    "**Inputs:** \n",
    "\n",
    "1. Angle $\\alpha$, in radians, represented as a `Double`.\n",
    "2. A qubit which is guaranteed to be in either the $|A\\rangle$ or the $|B\\rangle$ state, where $|A\\rangle = \\cos \\alpha |0\\rangle + \\sin \\alpha |1\\rangle$ and $|B\\rangle = - \\sin \\alpha |0\\rangle + \\cos \\alpha |1\\rangle$.\n",
    "\n",
    "**Output:** `true` if the qubit was in the $|A\\rangle$ state, or `false` if it was in the $|B\\rangle$ state. The state of the qubit at the end of the operation does not matter."
   ]
  },
  {
   "cell_type": "markdown",
   "metadata": {},
   "source": [
    "### Solution\n",
    "\n",
    "The [Ry](https://docs.microsoft.com/en-us/qsharp/api/qsharp/microsoft.quantum.primitive.ry) gate rotates a single qubit q through an angle $\\alpha$ around the y-axis.\n",
    "\n",
    "$$R_y = \\begin{bmatrix} cos(\\frac{\\theta}{2}) & - sin(\\frac{\\theta}{2}) \\\\ sin(\\frac{\\theta}{2}) & cos(\\frac{\\theta}{2}) \\end{bmatrix}$$\n",
    "\n",
    "In this method we first rotate the qubit q through an angle of $\\alpha$ using the Ry operation.\n",
    "\n",
    "Follows two possibilities:\n",
    "1. The qubit is measured as $|1\\rangle$, the qubit is in state $|B\\rangle$, we return `false`.\n",
    "2. The qubit is measured as $|0\\rangle$, the qubit is in state $|A\\rangle$, we return `true`."
   ]
  },
  {
   "cell_type": "code",
   "execution_count": null,
   "metadata": {},
   "outputs": [],
   "source": [
    "%kata T104_IsQubitA_Test\n",
    "\n",
    "operation IsQubitA (alpha : Double, q : Qubit) : Bool {\n",
    "    Ry(-2.0 * alpha, q);\n",
    "    return M(q) == Zero;\n",
    "}"
   ]
  },
  {
   "cell_type": "markdown",
   "metadata": {},
   "source": [
    "### Task 1.5. $|00\\rangle$ or $|11\\rangle$?\n",
    "\n",
    "**Input:** Two qubits (stored in an array of length 2) which are guaranteed to be in either the $|00\\rangle$ or the $|11\\rangle$ state.\n",
    "\n",
    "**Output:** 0 if the qubits were in the $|00\\rangle$ state, or 1 if they were in the $|11\\rangle$ state. The state of the qubits at the end of the operation does not matter."
   ]
  },
  {
   "cell_type": "markdown",
   "metadata": {},
   "source": [
    "### Solution\n",
    "\n",
    "Both of the qubits stored in the qs array are in the same state ( for $|00\\rangle$ each individual qubit is in state $|0\\rangle$, for $|11\\rangle$ each individual qubit is in state $|1\\rangle$).Therefore, if we measure one qubit we will know the state of the other.\n",
    "In other words, if M(qs[0]) measures the first qubit as 1 we know that the qubits in qs are in state $|11\\rangle$ and M(qs[0]) measures the first qubit as 0 we know that the qubits in qs are in state $|00\\rangle$."
   ]
  },
  {
   "cell_type": "code",
   "execution_count": null,
   "metadata": {},
   "outputs": [],
   "source": [
    "%kata T105_ZeroZeroOrOneOne_Test\n",
    "\n",
    "operation ZeroZeroOrOneOne (qs : Qubit[]) : Int {\n",
    "    return M(qs[0]) == One ? 1 | 0;\n",
    "}"
   ]
  },
  {
   "cell_type": "markdown",
   "metadata": {},
   "source": [
    "### Task 1.6. Distinguish four basis states.\n",
    "\n",
    "**Input:** Two qubits (stored in an array of length 2) which are guaranteed to be in one of the four basis states ($|00\\rangle$, $|01\\rangle$, $|10\\rangle$, or $|11\\rangle$).\n",
    "\n",
    "**Output:**\n",
    "\n",
    "* 0 if the qubits were in the $|00\\rangle$ state,\n",
    "* 1 if they were in the $|01\\rangle$ state, \n",
    "* 2 if they were in the $|10\\rangle$ state, \n",
    "* 3 if they were in the $|11\\rangle$ state.\n",
    "\n",
    "In this task and the subsequent ones the order of qubit states in task description matches the order of qubits in the array (i.e., $|10\\rangle$ state corresponds to `qs[0]` in state $|1\\rangle$ and `qs[1]` in state $|0\\rangle$).\n",
    "\n",
    "The state of the qubits at the end of the operation does not matter."
   ]
  },
  {
   "cell_type": "markdown",
   "metadata": {},
   "source": [
    "### Solution\n",
    "\n",
    "In task 1.5 wrote an operation to measure for the states $|00\\rangle$ and $|11\\rangle$, in this task we need to account for the mix-states $|01\\rangle$ and $|10\\rangle$. This time measuring the first qubit won't give use any information on the second qubit, so we need to measure both qubits. \n",
    "m1 store the state of the first qubit and m2 store the state of the second qubit. \n",
    "\n",
    "Follow 4 possible outputs: \n",
    "- m1 is $|0\\rangle$ and m2 is $|0\\rangle$, we return 0*2+0 = 0\n",
    "- m1 is $|0\\rangle$ and m2 is $|1\\rangle$, we return 0*2+1 = 1\n",
    "- m1 is $|1\\rangle$ and m2 is $|0\\rangle$, we return 1*2+0 = 2\n",
    "- m1 is $|1\\rangle$ and m2 is $|1\\rangle$, we return 1*2+1 = 3"
   ]
  },
  {
   "cell_type": "code",
   "execution_count": null,
   "metadata": {},
   "outputs": [],
   "source": [
    "%kata T106_BasisStateMeasurement_Test\n",
    "\n",
    "operation BasisStateMeasurement (qs : Qubit[]) : Int {\n",
    "    // Measurement on the first qubit gives the higher bit of the answer, on the second - the lower\n",
    "    let m1 = M(qs[0]) == Zero ? 0 | 1;\n",
    "    let m2 = M(qs[1]) == Zero ? 0 | 1;\n",
    "    return m1 * 2 + m2;\n",
    "}"
   ]
  },
  {
   "cell_type": "markdown",
   "metadata": {},
   "source": [
    "### Task 1.7. Distinguish two basis states given by bit strings\n",
    "\n",
    "**Inputs:** \n",
    "\n",
    "1. $N$ qubits (stored in an array of length $N$) which are guaranteed to be in one of the two basis states described by the given bit strings.\n",
    "2. Two bit strings represented as `Bool[]`s.\n",
    "\n",
    "**Output:** \n",
    "\n",
    "* 0 if the qubits were in the basis state described by the first bit string,\n",
    "* 1 if they were in the basis state described by the second bit string.\n",
    "\n",
    "Bit values `false` and `true` correspond to $|0\\rangle$ and $|1\\rangle$ states. You are guaranteed that both bit strings have the same length as the qubit array, and that the bit strings differ in at least one bit.\n",
    "\n",
    "You can use exactly one measurement. The state of the qubits at the end of the operation does not matter.\n",
    "\n",
    "> Example:  for bit strings `[false, true, false]` and `[false, false, true]` return 0 corresponds to state $|010\\rangle$, and return 1 corresponds to state $|001\\rangle$."
   ]
  },
  {
   "cell_type": "markdown",
   "metadata": {},
   "source": [
    "### Solution\n",
    "\n",
    "Step one is to find first bit strings that differs between bit1 and bit2. For that we use the FindFirstDiff method which loops through booth arrays and return the first value which differs. "
   ]
  },
  {
   "cell_type": "code",
   "execution_count": null,
   "metadata": {},
   "outputs": [],
   "source": [
    "function FindFirstDiff_Reference (bits1 : Bool[], bits2 : Bool[]) : Int {\n",
    "    for (i in 0 .. Length(bits1) - 1) {\n",
    "        if (bits1[i] != bits2[i]) {\n",
    "            return i;\n",
    "        }\n",
    "    }\n",
    "    return -1;\n",
    "}"
   ]
  },
  {
   "cell_type": "markdown",
   "metadata": {},
   "source": [
    "Step 2 is the method TwoBitstringsMeasurement, once we have found the first different bit string we check if it is in state $|0\\rangle$ or $|1\\rangle$. If it is in state $|0\\rangle$ `res` takes the value false, if it is in state $|1\\rangle$ it takes the value true. \n",
    "`res == bits1[firstDiff] ? 0 | 1` checks if the qubits are in the basis state described by the first or by the second bit string. \n",
    "The two possible outcomes are: \n",
    "1. The qubits are in the state described by the first bit string; then `res` will be equal to `bits1[firstDiff]` and the method will return 0. \n",
    "2. The qubits are in the state described by the second bit string; then `res` will be not equal to `bits1[firstDiff]` and the method will return 1. "
   ]
  },
  {
   "cell_type": "code",
   "execution_count": null,
   "metadata": {},
   "outputs": [],
   "source": [
    "%kata T107_TwoBitstringsMeasurement_Test\n",
    "\n",
    "operation TwoBitstringsMeasurement (qs : Qubit[], bits1 : Bool[], bits2 : Bool[]) : Int {\n",
    "    // find the first index at which the bit strings are different and measure it\n",
    "    let firstDiff = FindFirstDiff_Reference(bits1, bits2);\n",
    "    let res = M(qs[firstDiff]) == One;\n",
    "\n",
    "    return res == bits1[firstDiff] ? 0 | 1;\n",
    "}"
   ]
  },
  {
   "cell_type": "markdown",
   "metadata": {},
   "source": [
    "*To be continued...*"
   ]
  }
 ],
 "metadata": {
  "kernelspec": {
   "display_name": "Q#",
   "language": "qsharp",
   "name": "iqsharp"
  },
  "language_info": {
   "file_extension": ".qs",
   "mimetype": "text/x-qsharp",
   "name": "qsharp",
   "version": "0.10"
  }
 },
 "nbformat": 4,
 "nbformat_minor": 2
}
