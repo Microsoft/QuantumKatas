{
 "cells": [
  {
   "cell_type": "markdown",
   "metadata": {},
   "source": [
    "# Measurements Kata Workbook, Part 2\n",
    "\n",
    "The [Measurements Kata Workbook, Part 1](./Workbook_Measurements.ipynb) is still in progress and will include the solutions of kata Part I. This workbook continues the explanations for the rest of the tasks in Part II."
   ]
  },
  {
   "cell_type": "markdown",
   "metadata": {},
   "source": [
    "To begin, first prepare this notebook for execution (if you skip this step, you'll get \"Syntax does not match any known patterns\" error when you try to execute Q# code in the next cells):"
   ]
  },
  {
   "cell_type": "code",
   "execution_count": null,
   "metadata": {
    "scrolled": true
   },
   "outputs": [],
   "source": [
    "%package Microsoft.Quantum.Katas::0.10.2002.2610"
   ]
  },
  {
   "cell_type": "markdown",
   "metadata": {},
   "source": [
    "> The package versions in the output of the cell above should always match. If you are running the Notebooks locally and the versions do not match, please install the IQ# version that matches the version of the `Microsoft.Quantum.Katas` package.\n",
    "> <details>\n",
    "> <summary><u>How to install the right IQ# version</u></summary>\n",
    "> For example, if the version of `Microsoft.Quantum.Katas` package above is 0.1.2.3, the installation steps are as follows:\n",
    ">\n",
    "> 1. Stop the kernel.\n",
    "> 2. Uninstall the existing version of IQ#:\n",
    ">        dotnet tool uninstall microsoft.quantum.iqsharp -g\n",
    "> 3. Install the matching version:\n",
    ">        dotnet tool install microsoft.quantum.iqsharp -g --version 0.1.2.3\n",
    "> 4. Reinstall the kernel:\n",
    ">        dotnet iqsharp install\n",
    "> 5. Restart the Notebook.\n",
    "> </details>\n"
   ]
  },
  {
   "cell_type": "markdown",
   "metadata": {},
   "source": [
    "## Part II*. Discriminating Nonorthogonal States\n",
    "\n",
    "Variations of quantum state discrimination tasks are covered in the paper [\"Quantum State Discrimination\"](https://arxiv.org/pdf/quant-ph/0010114.pdf).\n",
    "* Task 2.1 is an example of hypothesis testing for two pure states.\n",
    "* Task 2.2 is an example of unambiguous state discrimination. See also the paper [\"Unambiguous quantum measurement of nonorthogonal states\"](https://www.researchgate.net/publication/13375059_Unambiguous_quantum_measurement_of_nonorthogonal_states)\n",
    "  for further information and hints about how to implement the unambiguous measurements required for this task. \n",
    "* Task 2.3 is the so-called Wootters/Peres game. See the following three references for more information and in particular\n",
    "  the book [3, p. 287] for a nice description of the optimal POVM. \n",
    "\n",
    "  [1] A. Holevo, “Information-theoretical aspects of quantum measurement,” Problems of Information Transmission, vol. 9, no. 2, pp. 110–118 (1973)\n",
    "\n",
    "  [2] A. Peres and W. K. Wootters, “Optimal detection of quantum information,” Phys. Rev. Lett., vol. 66, pp. 1119-1122, Mar. 1991.\n",
    "\n",
    "  [3] A. Peres, “Quantum Theory: Concepts and Methods,” Kluwer Academic Publishers, 2002."
   ]
  },
  {
   "cell_type": "markdown",
   "metadata": {},
   "source": [
    "### <a name=\"task-21\"></a>Task 2.1*. $|0\\rangle$ or $|+\\rangle$?\n",
    "\n",
    "**Input:** A qubit which is guaranteed to be in either the $|0\\rangle$ or the $|+\\rangle$ state.\n",
    "\n",
    "**Output:**  `true` if the qubit was in the $|0\\rangle$ state, or `false` if it was in the $|+\\rangle$ state. The state of the qubit at the end of the operation does not matter.\n",
    "\n",
    "In this task your solution will be called multiple times, with one of the states picked with equal probability every time. You have to get overall accuracy of at least 80%.\n",
    "\n",
    "This task is an example of quantum hypothesis testing, or state discrimination with minimum error."
   ]
  },
  {
   "cell_type": "markdown",
   "metadata": {},
   "source": [
    "#### Solution\n",
    "\n",
    "Let ${|E_a⟩, |E_b⟩}$ be a measurement with two outcomes $a$ and $b$, which we identify with the answers, i.e., \"a\" = \"state was |0⟩\" and \"b = state was |+⟩\". Then we define\n",
    "<li>\n",
    "<ul>$P(a|0)$ = probability to observe first outcome given that the state was $|0⟩$</ul>\n",
    "<ul>$P(b|0)$ = probability to observe second outcome given that the state was $|0⟩$</ul>\n",
    "<ul>$P(a|+)$ = probability to observe first outcome given that the state was $|+⟩$</ul>\n",
    "<ul>$P(b|+)$ = probability to observe second outcome given that the state was $|+⟩$</ul>\n",
    "</li>\n",
    "The task is to maximize the probability to be correct on a single shot experiment, which is the same as to minimize the probability to be wrong (on a single shot). Assuming uniform prior, i.e., $P(+) = P(0) = \\frac{1}{2}$, we get<br>\n",
    "$P_{correct} = P(0) P(a|0) + P(+) P(b|+) = \\frac{1}{2} (P(a|0) + P(b|+))$\n",
    "\n",
    "Assuming a von Neumann measurement of the form\n",
    "<li>\n",
    "<ul>$E_a = R_y(2\\alpha) \\begin{bmatrix} 1\\\\0\\end{bmatrix} = \\begin{bmatrix}\\cos(\\alpha) \\\\ \\sin(\\alpha)\\end{bmatrix}$ and</ul>\n",
    "<ul>$E_b = R_y(2\\alpha) \\begin{bmatrix} 0\\\\1\\end{bmatrix} = \\begin{bmatrix}-\\sin(\\alpha) \\\\ \\cos(\\alpha)\\end{bmatrix}$, we get</ul>\n",
    "<ul>$P(a|0) = |⟨E_a|0⟩|² = \\cos^2(\\alpha)$,</ul>\n",
    "<ul>$P(b|+) = |⟨E_b|+⟩|² = \\frac{1}{2} - \\cos(\\alpha) \\sin(\\alpha)$, and</ul>\n",
    "<ul>$P_{correct} = \\frac{1}{2} (\\frac{1}{2} + \\cos^2(\\alpha) - \\cos(\\alpha) \\sin(\\alpha))$.</ul>\n",
    "</li>\n",
    "Maximizing this for $\\alpha$, we get max $P_{success} = \\frac{1}{2} (1 + \\frac{1}{\\sqrt{2}}) = 0.8535...$, which is attained for alpha = $-π/8$.\n",
    "This means, $|E_a⟩$ is rotated by $-π/8$ compared to $0⟩$(analog $|E_b⟩$ and $1$). If we rotate the system by $-\\alpha=π/8$ we will get $|E_a⟩=|0⟩$ and $|E_b⟩=|1⟩$ and a measurement in the computational basis will get the correct result with a probability of 85%.\n",
    "\n",
    "![Task201_Rotation.png](./img/Task201_Rotation.png)\n",
    "\n",
    "Note: Rotate the input state by $π/8$ means to apply $Ry$ with angle $2π/8$.\n",
    " "
   ]
  },
  {
   "cell_type": "code",
   "execution_count": 2,
   "metadata": {},
   "outputs": [
    {
     "name": "stderr",
     "output_type": "stream",
     "text": [
      "C:/snippet_.qs(1,85): error QS3001: Syntax does not match any known patterns.\n",
      "C:/snippet_.qs(3,1): error QS6307: Not all code paths return a value.\n"
     ]
    }
   ],
   "source": [
    "%kata T201_IsQubitZeroOrPlus\n",
    "\n",
    "operation IsQubitPlusOrZero (q : Qubit) : Bool {\n",
    "    \n",
    "    // Rotate the input state by π/8 means to apply Ry with angle 2π/8.\n",
    "    Ry(0.25 * PI(), q);\n",
    "    return M(q) == Zero;\n",
    "}"
   ]
  },
  {
   "cell_type": "markdown",
   "metadata": {},
   "source": [
    "[Return to task 2.1 of the Measurements kata.](./Measurements.ipynb#task-21)"
   ]
  },
  {
   "cell_type": "markdown",
   "metadata": {},
   "source": [
    "### <a name=\"task-22\"></a>Task 2.2**. $|0\\rangle$, $|+\\rangle$ or inconclusive?\n",
    "\n",
    "**Input:** A qubit which is guaranteed to be in either the $|0\\rangle$ or the $|+\\rangle$ state.\n",
    "\n",
    "**Output:** \n",
    "\n",
    "* 0 if the qubit was in the $|0\\rangle$ state, \n",
    "* 1 if it was in the $|+\\rangle$ state,\n",
    "* -1 if you can't decide, i.e., an \"inconclusive\" result. \n",
    "\n",
    "Your solution:\n",
    "\n",
    "* should never give 0 or 1 answer incorrectly (i.e., identify $|0\\rangle$ as 1 or $|+\\rangle$ as 0),\n",
    "* will be called multiple times, with one of the states picked with equal probability every time,\n",
    "* may give an inconclusive (-1) answer in at most 80% of all the cases,\n",
    "* must correctly identify the $|0\\rangle$ state as 0 in at least 10% of all the cases,\n",
    "* must correctly identify the $|1\\rangle$ state as 1 in at least 10% of all the cases.\n",
    "\n",
    "The state of the qubit at the end of the operation does not matter.\n",
    "\n",
    "This task is an example of unambiguous state discrimination.\n"
   ]
  },
  {
   "cell_type": "markdown",
   "metadata": {},
   "source": [
    "#### Solution\n",
    "A simple strategy that gives an inconclusive result with probability 0.75 and never errs in case it yields a conclusive result can be obtained from randomizing the choice of measurement basis between the computational basis (std) and the Hadamard basis (had). <br>\n",
    "Observe that when measured in the standard basis, the state $|0⟩$ will always lead to the outcome \"0\", whereas the state $|+⟩$ will lead to outcomes \"0\" respectively \"1\" with probability 1/2. This means that upon measuring \"1\" we can with certainty conclude that the state was $|+⟩$. <br>\n",
    "A similar argument applies to the scenario where we measure in the Hadamard basis, where $|0⟩$ can lead to both outcomes, whereas $|+⟩$ always leads to \"0\". <br>\n",
    "Then upon measuring \"1\" we can with certainty conclude that the state was $|0⟩$.<br>\n",
    "<br>\n",
    "This leads to the following scenarios (shown are the conditional probabilities\n",
    "of the above scenarios and resulting answers).\n",
    "\n",
    "\n",
    "state | basis | output 0 | output 1 | output -1\n",
    "------|-------|----------|----------|----------\n",
    "  |0⟩ |   std |     0    |     0    |     1\n",
    "  |+⟩ |   std |     0    |    1/2   |    1/2\n",
    "  |0⟩ |   had |    1/2   |     0    |    1/2\n",
    "  |+⟩ |   had |     0    |     0    |     1\n"
   ]
  },
  {
   "cell_type": "code",
   "execution_count": 3,
   "metadata": {},
   "outputs": [
    {
     "name": "stderr",
     "output_type": "stream",
     "text": [
      "C:/snippet_.qs(1,85): error QS3001: Syntax does not match any known patterns.\n",
      "C:/snippet_.qs(5,17): error QS5022: No identifier with the name \"RandomInt\" exists.\n"
     ]
    }
   ],
   "source": [
    "%kata T202_IsQubitZeroOrPlusSimpleUSD\n",
    "\n",
    "operation IsQubitPlusZeroOrInconclusiveSimpleUSD (q : Qubit) : Int {\n",
    "\n",
    "    let basis = RandomInt(2);\n",
    "\n",
    "    // randomize over std and had\n",
    "    if (basis == 0) {\n",
    "        \n",
    "        // use standard basis\n",
    "        let result = M(q);\n",
    "        // result is One only if the state was |+⟩\n",
    "        return result == One ? 1 | -1;\n",
    "    }\n",
    "    else {\n",
    "        // use Hadamard basis\n",
    "        H(q);\n",
    "        let result = M(q);\n",
    "        // result is One only if the state was |0⟩\n",
    "        return result == One ? 0 | -1;\n",
    "    }\n",
    "}"
   ]
  },
  {
   "cell_type": "markdown",
   "metadata": {},
   "source": [
    "[Return to task 2.2 of the Measurements kata.](./Measurements.ipynb#task-22)"
   ]
  },
  {
   "cell_type": "markdown",
   "metadata": {},
   "source": [
    "### <a name=\"peter-wooters-game\"></a>Task 2.3**.  Peres/Wooters game\n",
    "\n",
    "**Input:** A qubit which is guaranteed to be in one of the three states:\n",
    "\n",
    "* $|A\\rangle = \\frac{1}{\\sqrt{2}} \\big( |0\\rangle + |1\\rangle \\big)$,\n",
    "* $|B\\rangle = \\frac{1}{\\sqrt{2}} \\big( |0\\rangle + \\omega |1\\rangle \\big)$,\n",
    "* $|C\\rangle = \\frac{1}{\\sqrt{2}} \\big( |0\\rangle + \\omega^2 |1\\rangle \\big)$,\n",
    "\n",
    "Here $\\omega = e^{2i \\pi/ 3}$.\n",
    "\n",
    "**Output:** \n",
    "\n",
    "* 1 or 2 if the qubit was in the $|A\\rangle$ state, \n",
    "* 0 or 2 if the qubit was in the $|B\\rangle$ state, \n",
    "* 0 or 1 if the qubit was in the $|C\\rangle$ state.\n",
    "\n",
    "You are never allowed to give an incorrect answer. Your solution will be called multiple times, with one of the states picked with equal probability every time.\n",
    "\n",
    "The state of the qubit at the end of the operation does not matter. "
   ]
  },
  {
   "cell_type": "markdown",
   "metadata": {},
   "source": [
    "#### Solution\n",
    "The key is the observation that the POVM with rank one elements ${E_0, E_1, E_2}$ will do the job, where $E_k = |psi_k\\rangle\\langle psi_k|$ and $|psi_k\\rangle = 1/sqrt{2}(|0\\rangle-ω^k |1\\rangle)$ and where $k = 0, 1, 2$.<br> \n",
    "The remaining task will be to find a von Neumann measurement (on a qubit system) that implements said POVM by means of a quantum circuit. To obtain such a quantum circuit, we observe that all we need is a unitary extension of the matrix formed by $A = (psi_0, psi_1, psi_2)$. In general, such a unitary extension can be found using a Singular Value Decomposition of the matrix.<br>\n",
    "Here we can apply a short cut:<br>\n",
    "The matrix A can be extended (up to a +1/-1 diagonal) to a 3x3 Discrete Fourier Transform.<br>\n",
    "Padded with 1 extra dimension (i.e., a 1x1 block in which we have phase freedom), we obtain a 4x4 unitary. Using the \"Rader trick\" we can now block decompose the 3x3 DFT and obtain two 2x2 blocks which we can then implement using controlled single qubit gates. We present the final resulting circuit without additional commentary.\n"
   ]
  },
  {
   "cell_type": "code",
   "execution_count": null,
   "metadata": {},
   "outputs": [],
   "source": [
    "%kata T203_IsQubitNotInABC\n",
    "\n",
    "operation IsQubitNotInABC (q : Qubit) : Int {\n",
    "        \n",
    "    let alpha = ArcCos(Sqrt(2.0 / 3.0));\n",
    "\n",
    "    using (a = Qubit()) {\n",
    "        Z(q);\n",
    "        CNOT(a, q);\n",
    "        Controlled H([q], a);\n",
    "        S(a);\n",
    "        X(q);\n",
    "\n",
    "        (ControlledOnInt(0, Ry))([a], (-2.0 * alpha, q));\n",
    "        CNOT(a, q);\n",
    "        Controlled H([q], a);\n",
    "        CNOT(a, q);\n",
    "\n",
    "        // finally, measure in the standard basis\n",
    "        let res0 = MResetZ(a);\n",
    "        let res1 = M(q);\n",
    "\n",
    "        // dispatch on the cases\n",
    "        if (res0 == Zero and res1 == Zero) {\n",
    "            return 0;\n",
    "        }\n",
    "        elif (res0 == One and res1 == Zero) {\n",
    "            return 1;\n",
    "        }\n",
    "        elif (res0 == Zero and res1 == One) {\n",
    "            return 2;\n",
    "        }\n",
    "        else {\n",
    "            // this should never occur\n",
    "            return 3;\n",
    "        }\n",
    "    }\n",
    "}"
   ]
  },
  {
   "cell_type": "markdown",
   "metadata": {},
   "source": [
    "[Return to task 2.3 of the Measurements kata.](./Measurements.ipynb#peter-wooters-game)"
   ]
  }
 ],
 "metadata": {
  "kernelspec": {
   "display_name": "Q#",
   "language": "qsharp",
   "name": "iqsharp"
  },
  "language_info": {
   "file_extension": ".qs",
   "mimetype": "text/x-qsharp",
   "name": "qsharp",
   "version": "0.4"
  }
 },
 "nbformat": 4,
 "nbformat_minor": 2
}
