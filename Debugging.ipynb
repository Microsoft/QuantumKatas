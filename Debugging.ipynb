{
 "cells": [
  {
   "cell_type": "markdown",
   "metadata": {},
   "source": [
    "### <span style=\"color:blue\">Quantum States: DumpMachine</span>"
   ]
  },
  {
   "cell_type": "code",
   "execution_count": null,
   "metadata": {},
   "outputs": [],
   "source": [
    "// Run this cell using Ctrl+Enter (⌘+Enter on Mac)\n",
    "// Then run the next cell to see the output\n",
    "\n",
    "open Microsoft.Quantum.Diagnostics;\n",
    "open Microsoft.Quantum.Math;\n",
    "\n",
    "// Let's use some random gates in Task13 and see what effect they have on the |0⟩ state.\n",
    "// To try another solution, change the gates and re-run both cells\n",
    "operation Task13 (q : Qubit) : Unit is Adj+Ctl {\n",
    "    H(q);\n",
    "    Rx(1.234, q);\n",
    "}\n",
    "\n",
    "operation DumpMachineDemo () : Unit {\n",
    "    // Allocate a qubit - it will start in the |0⟩ state\n",
    "    use q = Qubit();\n",
    "    // Apply our operation - it will prepare a state that should be ((1+i)|0⟩ + (1-i)|1⟩) / 2\n",
    "    Task13(q);\n",
    "    // Print the current state of the system\n",
    "    DumpMachine();\n",
    "    // Return the qubit to the |0⟩ state before releasing\n",
    "    Reset(q);\n",
    "}"
   ]
  },
  {
   "cell_type": "code",
   "execution_count": null,
   "metadata": {
    "scrolled": true
   },
   "outputs": [],
   "source": [
    "%simulate DumpMachineDemo"
   ]
  },
  {
   "cell_type": "markdown",
   "metadata": {},
   "source": [
    "### <span style=\"color:blue\">Quantum Operations: DumpOperation</span>"
   ]
  },
  {
   "cell_type": "code",
   "execution_count": null,
   "metadata": {},
   "outputs": [],
   "source": [
    "// Run this cell using Ctrl+Enter (⌘+Enter on Mac)\n",
    "// Then run the next cell to see the output\n",
    "\n",
    "open Microsoft.Quantum.Diagnostics;\n",
    "\n",
    "operation SingleQubitGateArrayWrapper (qs : Qubit[]) : Unit is Adj+Ctl {\n",
    "    Task13(qs[0]);\n",
    "}\n",
    "\n",
    "operation DumpOperationDemo () : Unit {\n",
    "    // Let's look at the matrix representation of the gate we implemented\n",
    "    DumpOperation(1, SingleQubitGateArrayWrapper);\n",
    "}"
   ]
  },
  {
   "cell_type": "code",
   "execution_count": null,
   "metadata": {},
   "outputs": [],
   "source": [
    "%simulate DumpOperationDemo"
   ]
  },
  {
   "cell_type": "markdown",
   "metadata": {},
   "source": [
    "### <span style=\"color:blue\">Circuit visualization: %trace</span>\n",
    "The algorithm shown here is called Deutsch-Jozsa algorithm; we'll look at this algorithm later in the course."
   ]
  },
  {
   "cell_type": "code",
   "execution_count": null,
   "metadata": {
    "scrolled": true
   },
   "outputs": [],
   "source": [
    "open Microsoft.Quantum.Measurement;\n",
    "open Microsoft.Quantum.Intrinsic;\n",
    "open Microsoft.Quantum.Canon;\n",
    "\n",
    "// Phase oracle implementing a constant function f(x) = 0\n",
    "operation PhaseOracleZero (inputRegister : Qubit[]) : Unit {\n",
    "    // Do nothing!\n",
    "}\n",
    "\n",
    "// Marking oracle implementing a balanced function f(x) = xₖ (the value of k-th bit)\n",
    "operation MarkingOracleKthBit (inputRegister : Qubit[], target : Qubit, k : Int) : Unit {\n",
    "    Controlled X([inputRegister[k]], target);\n",
    "}\n",
    "\n",
    "operation ApplyMarkingOracleAsPhaseOracle (markingOracle : ((Qubit[], Qubit) => Unit), inputRegister : Qubit[]) : Unit {\n",
    "    use target = Qubit();\n",
    "    within {\n",
    "        // Put the target into the |-⟩ state\n",
    "        X(target);\n",
    "        H(target);\n",
    "    } apply {\n",
    "        // Apply the marking oracle; since the target is in the |-⟩ state,\n",
    "        // flipping the target if the register satisfies the oracle condition will apply a -1 factor to the state\n",
    "        markingOracle(inputRegister, target);\n",
    "    }\n",
    "}\n",
    "\n",
    "operation IsFunctionConstant (nQubits : Int, phaseOracle : (Qubit[] => Unit)) : Bool {\n",
    "    mutable isConstant = true;\n",
    "    use qubits = Qubit[nQubits];\n",
    "    // Apply the H gates, the oracle and the H gates again\n",
    "    within {\n",
    "        ApplyToEachA(H, qubits);\n",
    "    } apply {\n",
    "        phaseOracle(qubits);\n",
    "    }\n",
    "    // Measure all qubits\n",
    "    let measurementResults = MultiM(qubits);\n",
    "    // If any of measurement results are 1, the function is balanced\n",
    "    for m in measurementResults {\n",
    "        if (m == One) {\n",
    "            set isConstant = false;\n",
    "        }\n",
    "    }\n",
    "    return isConstant;\n",
    "}\n",
    "\n",
    "function ConstantOrBalanced (value : Bool) : String {\n",
    "    return value ? \"constant\" | \"balanced\";\n",
    "}\n",
    "\n",
    "operation RunDeutschJozsaAlgorithm (nQubit : Int) : Unit {\n",
    "    // for balanced function\n",
    "    let phaseOracleKthBit = ApplyMarkingOracleAsPhaseOracle(MarkingOracleKthBit(_, _, 1), _);\n",
    "    let isKthBitConstant = IsFunctionConstant(nQubit, phaseOracleKthBit);\n",
    "    Message($\"f(x) = xk classified as {ConstantOrBalanced(isKthBitConstant)}\");\n",
    "}"
   ]
  },
  {
   "cell_type": "code",
   "execution_count": null,
   "metadata": {},
   "outputs": [],
   "source": [
    "%simulate RunDeutschJozsaAlgorithm nQubit=2"
   ]
  },
  {
   "cell_type": "code",
   "execution_count": null,
   "metadata": {},
   "outputs": [],
   "source": [
    "%trace RunDeutschJozsaAlgorithm nQubit=2"
   ]
  },
  {
   "cell_type": "code",
   "execution_count": null,
   "metadata": {},
   "outputs": [],
   "source": [
    "%debug RunDeutschJozsaAlgorithm nQubit=2"
   ]
  },
  {
   "cell_type": "code",
   "execution_count": null,
   "metadata": {},
   "outputs": [],
   "source": [
    "%estimate RunDeutschJozsaAlgorithm nQubit=3"
   ]
  },
  {
   "cell_type": "code",
   "execution_count": null,
   "metadata": {},
   "outputs": [],
   "source": [
    "%version"
   ]
  },
  {
   "cell_type": "code",
   "execution_count": null,
   "metadata": {},
   "outputs": [],
   "source": [
    "open Microsoft.Quantum.Arithmetic;\n",
    "open Microsoft.Quantum.Math;\n",
    "open Microsoft.Quantum.Synthesis;\n",
    "open Microsoft.Quantum.Diagnostics;\n",
    "\n",
    "operation ApplyH (register : LittleEndian) : Unit is Adj + Ctl {\n",
    "    let matrix = [[Complex(Sqrt(0.5), 0.0), Complex(Sqrt(0.5), 0.0)],\n",
    "                  [Complex(Sqrt(0.5), 0.0), Complex(-Sqrt(0.5), 0.0)]];\n",
    "    ApplyUnitary(matrix, register);\n",
    "}\n",
    "\n",
    "operation ShowDump () : Unit {\n",
    "    use q = Qubit();\n",
    "    X(q);\n",
    "    ApplyH(LittleEndian([q]));\n",
    "    DumpMachine();\n",
    "}"
   ]
  },
  {
   "cell_type": "code",
   "execution_count": null,
   "metadata": {},
   "outputs": [],
   "source": [
    "%simulate ShowDump"
   ]
  }
 ],
 "metadata": {
  "kernelspec": {
   "display_name": "Q#",
   "language": "qsharp",
   "name": "iqsharp"
  },
  "language_info": {
   "file_extension": ".qs",
   "mimetype": "text/x-qsharp",
   "name": "qsharp",
   "version": "0.14"
  }
 },
 "nbformat": 4,
 "nbformat_minor": 2
}
